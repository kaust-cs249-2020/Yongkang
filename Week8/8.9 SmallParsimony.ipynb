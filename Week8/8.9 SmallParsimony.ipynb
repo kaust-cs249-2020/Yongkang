{
 "cells": [
  {
   "cell_type": "code",
   "execution_count": 105,
   "metadata": {},
   "outputs": [],
   "source": [
    "def SmallParsimony(Tree,Parent, Nodes,Character,n,Text):\n",
    "    \n",
    "    #Text = {node:'' for node in Nodes}\n",
    "    #for each node v in tree T\n",
    "    ####Initilize \n",
    "    #Text = {node:'' for node in Nodes}\n",
    "    s = dict()\n",
    "    for k in alphabet:\n",
    "        s[k] = {node:float('inf') for node in Nodes}\n",
    "    \n",
    "    Tag = dict()\n",
    "    for node in Nodes:\n",
    "        Tag[node] = 0\n",
    "    Ripe=dict()\n",
    "    for parent,children in Tree.items():\n",
    "        for child in children:\n",
    "            if parent in Ripe.keys():\n",
    "                Ripe[parent] += 1-Tag[child]\n",
    "            else:\n",
    "                Ripe[parent] = 1-Tag[child]\n",
    "    \n",
    "    \n",
    "    for v in Nodes:\n",
    "        #Tag[v] = 0\n",
    "        #if v is a leaf\n",
    "        if v < n:\n",
    "            Tag[v] = 1\n",
    "            #####The parent node -1, 0 for ripe\n",
    "            Ripe[Parent[v]] -= 1\n",
    "            #for each symbol k in the alphabet\n",
    "            for k in alphabet:\n",
    "                if Character[v] == k:\n",
    "                    s[k][v] = 0\n",
    "    \n",
    "    #while there exist ripe nodes in T\n",
    "    ripeNodes = [key for key,val in Ripe.items() if val==0]\n",
    "    while(ripeNodes):\n",
    "        #v ← a ripe node in T\n",
    "        for v in ripeNodes:\n",
    "            Tag[v] =  1\n",
    "            #Nodes.remove(v)\n",
    "            if v in Parent.keys():\n",
    "                Ripe[Parent[v]] -= 1\n",
    "            del Ripe[v]\n",
    "            #for each symbol k in the alphabet\n",
    "            Daughter,Son = Tree[v]\n",
    "            for k in alphabet:\n",
    "                #sk(v) ← minimumall symbols i {si(Daughter(v))+αi,k} + minimumall symbols j {sj(Son(v))+αj,k}\n",
    "                Dau_score,Dau_car = minimumall(Daughter,k,s)\n",
    "                Son_score,Son_car = minimumall(Son,k,s)\n",
    "                s[k][v] = Dau_score+Son_score\n",
    "        ripeNodes = [key for key,val in Ripe.items() if val==0]\n",
    "    \n",
    "    minScore = float('inf')\n",
    "    minSymbol = ''\n",
    "    for k in alphabet:\n",
    "        if(minScore>s[k][v]):\n",
    "            minScore= s[k][v]\n",
    "            minSymbol = k\n",
    "    Text[v] += minSymbol\n",
    "    for node in Tree[v]:\n",
    "        minimumOver(minSymbol,node,s,Text)\n",
    "        \n",
    "    #return minimum over all symbols k {sk(v)}\n",
    "    return s,Text\n",
    "    "
   ]
  },
  {
   "cell_type": "code",
   "execution_count": 106,
   "metadata": {},
   "outputs": [],
   "source": [
    "def minimumOver(k,v, s,Text):\n",
    "    if (v<n):\n",
    "        Text[v] += Character[v]\n",
    "        return None\n",
    "        \n",
    "    minScore = float('inf')\n",
    "    minSymbol = ''\n",
    "    for i,val in s.items():\n",
    "        alpha = 1\n",
    "        if (i==k):\n",
    "            alpha=0\n",
    "        score = val[v]+alpha\n",
    "        if(minScore>score):\n",
    "            minSymbol = i\n",
    "            minScore=score\n",
    "    Text[v] += minSymbol\n",
    "    for node in Tree[v]:\n",
    "        minimumOver(minSymbol,node,s,Text)\n",
    "    return None\n",
    "    "
   ]
  },
  {
   "cell_type": "code",
   "execution_count": 107,
   "metadata": {},
   "outputs": [],
   "source": [
    "def minimumall(child,k,s):\n",
    "    minSymbol = ''\n",
    "    minScore = float('inf')\n",
    "    for i,val in s.items():\n",
    "        alpha = 1\n",
    "        if (i==k):\n",
    "            alpha=0\n",
    "            \n",
    "        score = val[child]+alpha\n",
    "        if(minScore>score):\n",
    "            minScore = score\n",
    "            minSymbol = i\n",
    "    return minScore,minSymbol\n",
    "    "
   ]
  },
  {
   "cell_type": "code",
   "execution_count": 111,
   "metadata": {},
   "outputs": [],
   "source": [
    "alphabet = ['A','T','C','G']\n",
    "edges = [(4,0),(4,1),(5,2),(5,3),(6,4),(6,5)]\n",
    "labels = ['CAAATCCC', 'ATTGCGAC', 'CTGCGCTG', 'ATGGACGA']\n",
    "# compute tree and reverse-tree from edges\n",
    "Tree = {}\n",
    "Parent = {}\n",
    "Nodes = set()\n",
    "n =4\n",
    "\n",
    "for edge in edges:\n",
    "    node = edge[0]\n",
    "    child = edge[1]\n",
    "    Nodes.add(node)\n",
    "    Nodes.add(child)\n",
    "    Tree.setdefault(node,[]).append(child)\n",
    "    Parent[child] = node\n",
    "\n",
    "Text = {node:'' for node in Nodes}"
   ]
  },
  {
   "cell_type": "code",
   "execution_count": 109,
   "metadata": {},
   "outputs": [],
   "source": [
    "for i in range(len(labels[0])):\n",
    "    Character = dict()\n",
    "    for idx,label in enumerate(labels):\n",
    "        Character[idx] = label[i]\n",
    "    s,Text = SmallParsimony(Tree,Parent, Nodes,Character,n,Text)"
   ]
  },
  {
   "cell_type": "code",
   "execution_count": 110,
   "metadata": {},
   "outputs": [
    {
     "data": {
      "text/plain": [
       "{0: 'CAAATCCC',\n",
       " 1: 'ATTGCGAC',\n",
       " 2: 'CTGCGCTG',\n",
       " 3: 'ATGGACGA',\n",
       " 4: 'ATAGACAC',\n",
       " 5: 'ATGGACAA',\n",
       " 6: 'ATAGACAA'}"
      ]
     },
     "execution_count": 110,
     "metadata": {},
     "output_type": "execute_result"
    }
   ],
   "source": [
    "Text"
   ]
  },
  {
   "cell_type": "code",
   "execution_count": 97,
   "metadata": {},
   "outputs": [],
   "source": [
    "def hamming(s1,s2):\n",
    "    assert len(s1) == len(s2)\n",
    "    d = 0\n",
    "    for i in range(len(s1)):\n",
    "        if s1[i]!=s2[i]:\n",
    "            d+=1\n",
    "    return d"
   ]
  },
  {
   "cell_type": "code",
   "execution_count": 104,
   "metadata": {},
   "outputs": [
    {
     "name": "stdout",
     "output_type": "stream",
     "text": [
      "ATAGACAC->CAAATCCC:5\n",
      "CAAATCCC->ATAGACAC:5\n",
      "ATAGACAC->ATTGCGAC:3\n",
      "ATTGCGAC->ATAGACAC:3\n",
      "ATGGACAA->CTGCGCTG:5\n",
      "CTGCGCTG->ATGGACAA:5\n",
      "ATGGACAA->ATGGACGA:1\n",
      "ATGGACGA->ATGGACAA:1\n",
      "ATAGACAA->ATAGACAC:1\n",
      "ATAGACAC->ATAGACAA:1\n",
      "ATAGACAA->ATGGACAA:1\n",
      "ATGGACAA->ATAGACAA:1\n",
      "16\n"
     ]
    }
   ],
   "source": [
    "score = 0\n",
    "for parent,children in Tree.items():\n",
    "    for child in children:\n",
    "        par = Text[parent]\n",
    "        chi = Text[child]\n",
    "        dist = hamming(par,chi)\n",
    "        print('%s->%s:%d'%(par,chi,dist))\n",
    "        print('%s->%s:%d'%(chi,par,dist))\n",
    "        score += dist\n",
    "print(score)"
   ]
  },
  {
   "cell_type": "code",
   "execution_count": null,
   "metadata": {},
   "outputs": [],
   "source": [
    "n = 0\n",
    "distanceMatrix = []\n",
    "file = open('dataset_369355_10.txt', 'r') \n",
    "#file = open('out', 'r') \n",
    "for i, line in enumerate(file):\n",
    "    line=line.strip()\n",
    "    #line=line[:-1]\n",
    "    if(i==0):\n",
    "        n = int(line)\n",
    "    else:\n",
    "        distanceMatrix.append(line.split(' '))\n",
    "distanceMatrix = np.array(distanceMatrix).astype(int)"
   ]
  }
 ],
 "metadata": {
  "kernelspec": {
   "display_name": "Python 3",
   "language": "python",
   "name": "python3"
  },
  "language_info": {
   "codemirror_mode": {
    "name": "ipython",
    "version": 3
   },
   "file_extension": ".py",
   "mimetype": "text/x-python",
   "name": "python",
   "nbconvert_exporter": "python",
   "pygments_lexer": "ipython3",
   "version": "3.7.3"
  }
 },
 "nbformat": 4,
 "nbformat_minor": 4
}
