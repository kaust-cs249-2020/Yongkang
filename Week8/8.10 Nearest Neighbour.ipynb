{
 "cells": [
  {
   "cell_type": "code",
   "execution_count": 44,
   "metadata": {},
   "outputs": [],
   "source": [
    "def edge2tree(edges):\n",
    "    tree = {}\n",
    "    for e in edges:\n",
    "        node = e[0]\n",
    "        child = e[1]\n",
    "        tree.setdefault(node,[]).append(child)\n",
    "    return tree\n",
    "    \n",
    "def tree2edge(tree):\n",
    "    edges = []\n",
    "    for node,children in tree.items():\n",
    "        for child in children:\n",
    "            edges.append((node,child))\n",
    "    return edges\n",
    "\n",
    "def tree_nearest_neighbors(e,utree,a,b):\n",
    "\n",
    "    utree1 = copy.deepcopy(utree)\n",
    "    utree2 = copy.deepcopy(utree)\n",
    "\n",
    "    \n",
    "    leaves_a = utree[a]\n",
    "    leaves_b = utree[b]\n",
    "    leaves_a1 = copy.deepcopy(leaves_a)\n",
    "    leaves_b1 = copy.deepcopy(leaves_b)\n",
    "    leaves_a2 = copy.deepcopy(leaves_a)\n",
    "    leaves_b2 = copy.deepcopy(leaves_b)\n",
    "    \n",
    "    leaves_a.remove(b)\n",
    "    leaves_b.remove(a)\n",
    "    \n",
    "    \n",
    "    w1,w2 = random.sample(leaves_a,2)\n",
    "    z1,z2 = random.sample(leaves_b,2)\n",
    "    \n",
    "   \n",
    "     # neighbor utree1 \n",
    "    leaves_a1.remove(w1)\n",
    "    leaves_a1.append(z1)\n",
    "    leaves_b1.remove(z1)\n",
    "    leaves_b1.append(w1)\n",
    "    utree1[a] = leaves_a1\n",
    "    utree1[b] = leaves_b1\n",
    "    utree1[w1] = [b]\n",
    "    utree1[z1] = [a]\n",
    "    \n",
    "    \n",
    "    \n",
    "    # neighbor utree2\n",
    "    leaves_a2.remove(w2)\n",
    "    leaves_a2.append(z2)\n",
    "    leaves_b2.remove(z2)\n",
    "    leaves_b2.append(w2)\n",
    "    utree2[a] = leaves_a2\n",
    "    utree2[b] = leaves_b2\n",
    "    utree2[w1] = [b]\n",
    "    utree2[z1] = [a]\n",
    "    \n",
    "    \n",
    "    \n",
    "    return (utree1,utree2)"
   ]
  },
  {
   "cell_type": "code",
   "execution_count": 45,
   "metadata": {},
   "outputs": [],
   "source": [
    "import random\n",
    "import copy\n",
    "a=4\n",
    "b=5\n",
    "e = [(4,0),(0,4),(4,1),(1,4),(5,2),(5,3),(2,5),(3,5),(4,5),(5,4)]\n",
    "tree = edge2tree(e)"
   ]
  },
  {
   "cell_type": "code",
   "execution_count": 46,
   "metadata": {},
   "outputs": [
    {
     "data": {
      "text/plain": [
       "[(4, 1),\n",
       " (4, 5),\n",
       " (4, 2),\n",
       " (0, 5),\n",
       " (1, 4),\n",
       " (5, 3),\n",
       " (5, 4),\n",
       " (5, 0),\n",
       " (2, 4),\n",
       " (3, 5)]"
      ]
     },
     "execution_count": 46,
     "metadata": {},
     "output_type": "execute_result"
    }
   ],
   "source": [
    "utree1,utree2 = tree_nearest_neighbors(e,tree,a,b)\n",
    "tree2edge(utree1)"
   ]
  },
  {
   "cell_type": "code",
   "execution_count": 47,
   "metadata": {},
   "outputs": [
    {
     "data": {
      "text/plain": [
       "[(4, 0),\n",
       " (4, 5),\n",
       " (4, 3),\n",
       " (0, 5),\n",
       " (1, 4),\n",
       " (5, 2),\n",
       " (5, 4),\n",
       " (5, 1),\n",
       " (2, 4),\n",
       " (3, 5)]"
      ]
     },
     "execution_count": 47,
     "metadata": {},
     "output_type": "execute_result"
    }
   ],
   "source": [
    "tree2edge(utree2)"
   ]
  },
  {
   "cell_type": "raw",
   "metadata": {},
   "source": [
    " Sample Input:\n",
    "\n",
    "5 4\n",
    "0->4\n",
    "4->0\n",
    "1->4\n",
    "4->1\n",
    "2->5\n",
    "5->2\n",
    "3->5\n",
    "5->3\n",
    "4->5\n",
    "5->4\n",
    "\n",
    "Sample Output:\n",
    "\n",
    "1->4\n",
    "0->5\n",
    "3->4\n",
    "2->5\n",
    "5->2\n",
    "5->4\n",
    "5->0\n",
    "4->1\n",
    "4->5\n",
    "4->3\n",
    "\n",
    "1->5\n",
    "0->4\n",
    "3->4\n",
    "2->5\n",
    "5->2\n",
    "5->4\n",
    "5->1\n",
    "4->0\n",
    "4->5\n",
    "4->3"
   ]
  }
 ],
 "metadata": {
  "kernelspec": {
   "display_name": "Python 3",
   "language": "python",
   "name": "python3"
  },
  "language_info": {
   "codemirror_mode": {
    "name": "ipython",
    "version": 3
   },
   "file_extension": ".py",
   "mimetype": "text/x-python",
   "name": "python",
   "nbconvert_exporter": "python",
   "pygments_lexer": "ipython3",
   "version": "3.7.3"
  }
 },
 "nbformat": 4,
 "nbformat_minor": 4
}
