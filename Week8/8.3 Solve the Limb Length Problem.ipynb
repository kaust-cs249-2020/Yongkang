{
 "cells": [
  {
   "cell_type": "raw",
   "metadata": {},
   "source": [
    " Sample Input:\n",
    "\n",
    "4\n",
    "1\n",
    "0\t13\t21\t22\n",
    "13\t0\t12\t13\n",
    "21\t12\t0\t13\n",
    "22\t13\t13\t0\n",
    "\n",
    "Sample Output:\n",
    "\n",
    "2"
   ]
  },
  {
   "cell_type": "code",
   "execution_count": 1,
   "metadata": {},
   "outputs": [],
   "source": [
    "import numpy as np"
   ]
  },
  {
   "cell_type": "code",
   "execution_count": 2,
   "metadata": {},
   "outputs": [],
   "source": [
    "n=4\n",
    "j=1\n",
    "distanceMatrix = [\n",
    "[0,13,21,22],\n",
    "[13,0,12,13],\n",
    "[21,12,0,13],\n",
    "[22,13,13,0]     \n",
    "]"
   ]
  },
  {
   "cell_type": "code",
   "execution_count": 3,
   "metadata": {},
   "outputs": [],
   "source": [
    "def calculateLimbLength(n, j, distanceMatrix):\n",
    "    limbLength = 10000000000\n",
    "    i = j-1\n",
    "    if j==0:\n",
    "        i = j + 1\n",
    "    for k in range(n):\n",
    "        if i != k and k != j:\n",
    "            currLength = (distanceMatrix[i][j] + distanceMatrix[j][k] - distanceMatrix[i][k])//2\n",
    "            if currLength < limbLength:\n",
    "                limbLength = currLength\n",
    "    return limbLength"
   ]
  },
  {
   "cell_type": "code",
   "execution_count": 4,
   "metadata": {},
   "outputs": [
    {
     "data": {
      "text/plain": [
       "2"
      ]
     },
     "execution_count": 4,
     "metadata": {},
     "output_type": "execute_result"
    }
   ],
   "source": [
    "calculateLimbLength(n, j, distanceMatrix)"
   ]
  },
  {
   "cell_type": "code",
   "execution_count": 6,
   "metadata": {},
   "outputs": [],
   "source": [
    "n = 0\n",
    "j = 0\n",
    "distanceMatrix = []\n",
    "file = open('dataset_369349_11.txt', 'r') \n",
    "for i, line in enumerate(file):\n",
    "    line=line.rstrip('\\n')\n",
    "    if(i==0):\n",
    "        n = int(line)\n",
    "    elif(i==1):\n",
    "        j = int(line)\n",
    "    else:\n",
    "        distanceMatrix.append(line.split(' '))\n",
    "        #distanceMatrix = np.array(distanceMatrix).astype(int)"
   ]
  },
  {
   "cell_type": "code",
   "execution_count": 7,
   "metadata": {},
   "outputs": [],
   "source": [
    "distanceMatrix = np.array(distanceMatrix).astype(int)"
   ]
  },
  {
   "cell_type": "code",
   "execution_count": 8,
   "metadata": {},
   "outputs": [
    {
     "data": {
      "text/plain": [
       "101"
      ]
     },
     "execution_count": 8,
     "metadata": {},
     "output_type": "execute_result"
    }
   ],
   "source": [
    "calculateLimbLength(n, j, distanceMatrix)"
   ]
  },
  {
   "cell_type": "code",
   "execution_count": null,
   "metadata": {},
   "outputs": [],
   "source": []
  }
 ],
 "metadata": {
  "kernelspec": {
   "display_name": "Python 3",
   "language": "python",
   "name": "python3"
  },
  "language_info": {
   "codemirror_mode": {
    "name": "ipython",
    "version": 3
   },
   "file_extension": ".py",
   "mimetype": "text/x-python",
   "name": "python",
   "nbconvert_exporter": "python",
   "pygments_lexer": "ipython3",
   "version": "3.7.3"
  }
 },
 "nbformat": 4,
 "nbformat_minor": 4
}
