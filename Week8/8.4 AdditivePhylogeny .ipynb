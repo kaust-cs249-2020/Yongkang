{
 "cells": [
  {
   "cell_type": "code",
   "execution_count": 11,
   "metadata": {},
   "outputs": [],
   "source": [
    "import queue"
   ]
  },
  {
   "cell_type": "code",
   "execution_count": 16,
   "metadata": {},
   "outputs": [],
   "source": [
    "def limbLength(n, j, distanceMatrix):\n",
    "    limbLength = 10000000000\n",
    "    #####Fix i because it is symmmatric, we just need to go through k from 0 to n. \n",
    "    i = j-1\n",
    "    indexi = -1\n",
    "    indexk = -1\n",
    "    if j==0:\n",
    "        i = j + 1\n",
    "    for k in range(n):\n",
    "        if i != k and k != j:\n",
    "            currLength = (distanceMatrix[i][j] + distanceMatrix[j][k] - distanceMatrix[i][k])//2\n",
    "            ####Min\n",
    "            if currLength < limbLength:\n",
    "                limbLength = currLength\n",
    "                indexi = i\n",
    "                indexk = k\n",
    "    return indexi,indexk,limbLength"
   ]
  },
  {
   "cell_type": "code",
   "execution_count": 6,
   "metadata": {},
   "outputs": [
    {
     "ename": "SyntaxError",
     "evalue": "invalid character in identifier (<ipython-input-6-26a0492c119a>, line 15)",
     "output_type": "error",
     "traceback": [
      "\u001b[0;36m  File \u001b[0;32m\"<ipython-input-6-26a0492c119a>\"\u001b[0;36m, line \u001b[0;32m15\u001b[0m\n\u001b[0;31m    v ← the (potentially new) node in T at distance x from i on the path between i and k\u001b[0m\n\u001b[0m      ^\u001b[0m\n\u001b[0;31mSyntaxError\u001b[0m\u001b[0;31m:\u001b[0m invalid character in identifier\n"
     ]
    }
   ],
   "source": [
    "def AdditivePhylogeny(distanceMatrix):\n",
    "    n = len(distanceMatrix)\n",
    "    T = {}\n",
    "    if n == 2:\n",
    "        return {0:[(1,distanceMatrix[0,1])],1:[(0,distanceMatrix[0,1])]}\n",
    "    #(i, k) ← two leaves such that distanceMatrixi,k = distanceMatrixi,n + distanceMatrixn,k\n",
    "    i,k,limbLength = calculateLimbLength(n,n-1,distanceMatrix)\n",
    "    for j in range(n-1):\n",
    "        distanceMatrix[j][n-1] = distanceMatrix[j][n-1] - limbLength\n",
    "        distanceMatrix[n-1][j] = distanceMatrix[j][n-1]\n",
    "    \n",
    "    x = distanceMatrix[i][n-1]\n",
    "    distanceMatrix = [a[:n-1]  for a in distanceMatrix[:n-1]]\n",
    "    T = AdditivePhylogeny(distanceMatrix)\n",
    "    #v ← the (potentially new) node in T at distance x from i on the path between i and k\n",
    "    add leaf n back to T by creating a limb (v, n) of length limbLength\n",
    "    return T"
   ]
  },
  {
   "cell_type": "code",
   "execution_count": 17,
   "metadata": {},
   "outputs": [],
   "source": [
    "def additivePhylogeny(matrix, n, inner_n):\n",
    "    \"\"\"\n",
    "    finds the simple tree fitting an n x n \n",
    "    additive distance matrix D. \n",
    "    Tree: Edge(u, v) as [... u-th[v, ...]..]\n",
    "    Weight(u, v) as {(u, v): w}\n",
    "    inner_n, count the index of inner node\n",
    "    \"\"\"\n",
    "    if n == 2:\n",
    "        edge = {}\n",
    "        edge[0] = [1]\n",
    "        edge[1] = [0]\n",
    "        weight = {}\n",
    "        weight[(0, 1)] = matrix[0, 1]\n",
    "        weight[(1, 0)] = matrix[0, 1]\n",
    "        return (edge, weight, inner_n)\n",
    "\n",
    "    limb = limbLength(matrix, n-1)\n",
    "    matrix[:-1,-1] -= limb\n",
    "    matrix[-1,:-1] -= limb\n",
    "    #i, n, k three leaves such that Di,k = Di,n + Dn,k\n",
    "    i, k = find(matrix)\n",
    "    x = matrix[i, -1]\n",
    "    # remove row n and column n from D\n",
    "    edge, weight, inner_n = additivePhylogeny(matrix[:-1, :-1], n-1, inner_n)\n",
    "    # the (potentially new) node in T at distance x from i on the path between i and k\n",
    "    \n",
    "     # find the insert node\n",
    "    i_near, k_near, i_x, n_x = nearest(edge, weight, x, i, k)\n",
    "    new_node = i_near\n",
    "\n",
    "    # check if need to creat new node\n",
    "    if i_x != 0:\n",
    "        new_node = inner_n\n",
    "        inner_n += 1\n",
    "        # insert between i, k\n",
    "        edge[i_near].remove(k_near)\n",
    "        edge[k_near].remove(i_near)\n",
    "        edge[i_near].append(new_node)\n",
    "        edge[k_near].append(new_node)\n",
    "        edge[new_node] = [i_near, k_near]\n",
    "\n",
    "        weight[(new_node, i_near)] = i_x\n",
    "        weight[(i_near, new_node)] = i_x\n",
    "        weight[(new_node, k_near)] = n_x\n",
    "        weight[(k_near, new_node)] = n_x\n",
    "        del weight[(i_near, k_near)]\n",
    "        del weight[(k_near, i_near)]\n",
    "    # add leaf n back to T by creating a limb (v, n) of length limbLength\n",
    "    edge[new_node].append(n-1)\n",
    "    edge[n-1] = [new_node]\n",
    "    weight[(n-1, new_node)] = limb\n",
    "    weight[(new_node, n-1)] = limb\n",
    "    return (edge, weight, inner_n)"
   ]
  },
  {
   "cell_type": "raw",
   "metadata": {},
   "source": [
    " Sample Input:\n",
    "\n",
    "4\n",
    "0\t13\t21\t22\n",
    "13\t0\t12\t13\n",
    "21\t12\t0\t13\n",
    "22\t13\t13\t0\n",
    "\n",
    "Sample Output:\n",
    "\n",
    "0->4:11\n",
    "1->4:2\n",
    "2->5:6\n",
    "3->5:7\n",
    "4->0:11\n",
    "4->1:2\n",
    "4->5:4\n",
    "5->4:4\n",
    "5->3:7\n",
    "5->2:6\n",
    "\n"
   ]
  },
  {
   "cell_type": "code",
   "execution_count": 14,
   "metadata": {},
   "outputs": [],
   "source": [
    "n =4\n",
    "distanceMatrix = [\n",
    "[0,13,21,22],\n",
    "[13,0,12,13],\n",
    "[21,12,0,13],\n",
    "[22,13,13,0]     \n",
    "]"
   ]
  },
  {
   "cell_type": "code",
   "execution_count": 8,
   "metadata": {},
   "outputs": [
    {
     "ename": "NameError",
     "evalue": "name 'aditivePhylogeny' is not defined",
     "output_type": "error",
     "traceback": [
      "\u001b[0;31m---------------------------------------------------------------------------\u001b[0m",
      "\u001b[0;31mNameError\u001b[0m                                 Traceback (most recent call last)",
      "\u001b[0;32m<ipython-input-8-1e4c33ef4f59>\u001b[0m in \u001b[0;36m<module>\u001b[0;34m\u001b[0m\n\u001b[0;32m----> 1\u001b[0;31m \u001b[0maditivePhylogeny\u001b[0m\u001b[0;34m(\u001b[0m\u001b[0mdistanceMatrix\u001b[0m\u001b[0;34m,\u001b[0m \u001b[0mn\u001b[0m\u001b[0;34m)\u001b[0m\u001b[0;34m\u001b[0m\u001b[0;34m\u001b[0m\u001b[0m\n\u001b[0m",
      "\u001b[0;31mNameError\u001b[0m: name 'aditivePhylogeny' is not defined"
     ]
    }
   ],
   "source": [
    "a(distanceMatrix, n)"
   ]
  },
  {
   "cell_type": "code",
   "execution_count": 18,
   "metadata": {},
   "outputs": [
    {
     "ename": "TypeError",
     "evalue": "limbLength() missing 1 required positional argument: 'distanceMatrix'",
     "output_type": "error",
     "traceback": [
      "\u001b[0;31m---------------------------------------------------------------------------\u001b[0m",
      "\u001b[0;31mTypeError\u001b[0m                                 Traceback (most recent call last)",
      "\u001b[0;32m<ipython-input-18-3f01a3770c48>\u001b[0m in \u001b[0;36m<module>\u001b[0;34m\u001b[0m\n\u001b[0;32m----> 1\u001b[0;31m \u001b[0madditivePhylogeny\u001b[0m\u001b[0;34m(\u001b[0m\u001b[0mdistanceMatrix\u001b[0m\u001b[0;34m,\u001b[0m \u001b[0mn\u001b[0m\u001b[0;34m,\u001b[0m \u001b[0mn\u001b[0m\u001b[0;34m)\u001b[0m\u001b[0;34m\u001b[0m\u001b[0;34m\u001b[0m\u001b[0m\n\u001b[0m",
      "\u001b[0;32m<ipython-input-17-bdb5bebd39f9>\u001b[0m in \u001b[0;36madditivePhylogeny\u001b[0;34m(matrix, n, inner_n)\u001b[0m\n\u001b[1;32m     16\u001b[0m         \u001b[0;32mreturn\u001b[0m \u001b[0;34m(\u001b[0m\u001b[0medge\u001b[0m\u001b[0;34m,\u001b[0m \u001b[0mweight\u001b[0m\u001b[0;34m,\u001b[0m \u001b[0minner_n\u001b[0m\u001b[0;34m)\u001b[0m\u001b[0;34m\u001b[0m\u001b[0;34m\u001b[0m\u001b[0m\n\u001b[1;32m     17\u001b[0m \u001b[0;34m\u001b[0m\u001b[0m\n\u001b[0;32m---> 18\u001b[0;31m     \u001b[0mlimb\u001b[0m \u001b[0;34m=\u001b[0m \u001b[0mlimbLength\u001b[0m\u001b[0;34m(\u001b[0m\u001b[0mmatrix\u001b[0m\u001b[0;34m,\u001b[0m \u001b[0mn\u001b[0m\u001b[0;34m-\u001b[0m\u001b[0;36m1\u001b[0m\u001b[0;34m)\u001b[0m\u001b[0;34m\u001b[0m\u001b[0;34m\u001b[0m\u001b[0m\n\u001b[0m\u001b[1;32m     19\u001b[0m     \u001b[0mmatrix\u001b[0m\u001b[0;34m[\u001b[0m\u001b[0;34m:\u001b[0m\u001b[0;34m-\u001b[0m\u001b[0;36m1\u001b[0m\u001b[0;34m,\u001b[0m\u001b[0;34m-\u001b[0m\u001b[0;36m1\u001b[0m\u001b[0;34m]\u001b[0m \u001b[0;34m-=\u001b[0m \u001b[0mlimb\u001b[0m\u001b[0;34m\u001b[0m\u001b[0;34m\u001b[0m\u001b[0m\n\u001b[1;32m     20\u001b[0m     \u001b[0mmatrix\u001b[0m\u001b[0;34m[\u001b[0m\u001b[0;34m-\u001b[0m\u001b[0;36m1\u001b[0m\u001b[0;34m,\u001b[0m\u001b[0;34m:\u001b[0m\u001b[0;34m-\u001b[0m\u001b[0;36m1\u001b[0m\u001b[0;34m]\u001b[0m \u001b[0;34m-=\u001b[0m \u001b[0mlimb\u001b[0m\u001b[0;34m\u001b[0m\u001b[0;34m\u001b[0m\u001b[0m\n",
      "\u001b[0;31mTypeError\u001b[0m: limbLength() missing 1 required positional argument: 'distanceMatrix'"
     ]
    }
   ],
   "source": [
    "additivePhylogeny(distanceMatrix, n, n)"
   ]
  }
 ],
 "metadata": {
  "kernelspec": {
   "display_name": "Python 3",
   "language": "python",
   "name": "python3"
  },
  "language_info": {
   "codemirror_mode": {
    "name": "ipython",
    "version": 3
   },
   "file_extension": ".py",
   "mimetype": "text/x-python",
   "name": "python",
   "nbconvert_exporter": "python",
   "pygments_lexer": "ipython3",
   "version": "3.7.3"
  }
 },
 "nbformat": 4,
 "nbformat_minor": 4
}
