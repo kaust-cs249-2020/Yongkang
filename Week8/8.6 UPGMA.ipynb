{
 "cells": [
  {
   "cell_type": "code",
   "execution_count": 68,
   "metadata": {},
   "outputs": [],
   "source": [
    "import numpy as np"
   ]
  },
  {
   "cell_type": "code",
   "execution_count": 172,
   "metadata": {},
   "outputs": [],
   "source": [
    "def UPGMA(D, n):\n",
    "    #Clusters ← n single-element clusters labeled 1, ... , n\n",
    "    distanceMatrix = D.copy()\n",
    "    D =  np.array(D)\n",
    "    Cluster = [tuple([i]) for i in range(n)]\n",
    "    #construct a graph T with n isolated nodes labeled by single elements 1, ... , n\n",
    "    T = dict()\n",
    "    Label = {tuple([i]):i for i in range(n)}\n",
    "    Age = {tuple([i]):0 for i in range(n)}\n",
    "    #while there is more than one cluster\n",
    "    while(len(Cluster)>1):\n",
    "        #find the two closest clusters Ci and Cj ",
    " \n",
    "        i,j = findTwoClosetClusters(D)\n",
    "        Ci = Cluster[i]\n",
    "        Cj = Cluster[j]\n",
    "        #merge Ci and Cj into a new cluster Cnew with |Ci| + |Cj| elements\n",
    "        Cnew = Ci+Cj\n",
    "        #add a new node labeled by cluster Cnew to T\n",
    "        Label[Cnew] = len(Label)\n",
    "        #add a new node labeled by cluster Cnew to T\n",
    "        #connect node Cnew to Ci and Cj by directed edges ",
    " \n",
    "        \n",
    "        Age[Cnew] =  D[i][j] / 2\n",
    "        T = AddNewNode(T,Cnew,Ci,Cj,Label,Age)\n",
    "        \n",
    "        \n",
    "        #remove the rows and columns of D corresponding to Ci and Cj ",
    "\n",
    "        D = np.delete(D,[i,j],0)\n",
    "        D = np.delete(D,[i,j],1)\n",
    "        #remove Ci and Cj from Clusters ",
    "\n",
    "        Cluster.remove(Ci)\n",
    "        Cluster.remove(Cj)\n",
    "        \n",
    "        #add a row/column to D for Cnew by computing D(Cnew, C) for each C in Clusters\n",
    "        D = AddRowColumn(D,distanceMatrix,Cnew,Cluster)\n",
    "        #add Cnew to Clusters\n",
    "        Cluster.append(Cnew)\n",
    "    #root ← the node in T corresponding to the remaining cluster\n",
    "    #for each edge (v, w) in T\n",
    "    #    length of (v, w) ← Age(v) - Age(w)\n",
    "    return T"
   ]
  },
  {
   "cell_type": "code",
   "execution_count": 144,
   "metadata": {},
   "outputs": [],
   "source": [
    "def AddRowColumn(D,distanceMatrix,Cnew,Cluster):\n",
    "    distSum = 0\n",
    "    count = 0\n",
    "    DistRow = []\n",
    "    for C in Cluster:\n",
    "        for i in C:\n",
    "            for j in Cnew:\n",
    "                distSum += distanceMatrix[i][j]\n",
    "                count += 1\n",
    "        DistRow.append(distSum/count)\n",
    "    D = np.append(D,[DistRow],axis=0)\n",
    "    DistCol  = [[i] for i in DistRow]\n",
    "    DistCol.append([0])\n",
    "    D = np.append(D,DistCol,axis=1)\n",
    "    return D\n",
    "    "
   ]
  },
  {
   "cell_type": "code",
   "execution_count": 58,
   "metadata": {},
   "outputs": [],
   "source": [
    "def AddNewNode(T,Cnew,Ci,Cj,Label,Age):\n",
    "    i = Label[Ci]\n",
    "    j = Label[Cj]\n",
    "    k = Label[Cnew]\n",
    "    Weight_ik = Age[Cnew]-Age[Ci]\n",
    "    Weight_jk = Age[Cnew]-Age[Cj]\n",
    "    if(i in T.keys()):\n",
    "        T[i].append((k,Weight_ik))\n",
    "    else:\n",
    "        T[i] = [(k,Weight_ik)]\n",
    "    if(j in T.keys()):\n",
    "        T[j].append((k,Weight_jk))\n",
    "    else:\n",
    "        T[j] = [(k,Weight_jk)]  \n",
    "    \n",
    "    if(k in T.keys()):\n",
    "        T[k].append((i,Weight_ik))\n",
    "        T[k].append((j,Weight_jk))\n",
    "    else:\n",
    "        T[k] = [(i,Weight_ik),(j,Weight_jk)]    \n",
    "    return T"
   ]
  },
  {
   "cell_type": "code",
   "execution_count": 171,
   "metadata": {},
   "outputs": [],
   "source": [
    "def findTwoClosetClusters(D):\n",
    "    n = len(D)\n",
    "    Ci = -1\n",
    "    Cj = -1\n",
    "    minDist = 10000000000\n",
    "    for i in range(n):\n",
    "        for j in range(i+1,n):\n",
    "            if(D[i][j]<minDist):\n",
    "                minDist = D[i][j]\n",
    "                Ci = i\n",
    "                Cj = j\n",
    "    return Ci,Cj\n",
    "            "
   ]
  },
  {
   "cell_type": "raw",
   "metadata": {},
   "source": [
    " Sample Input:\n",
    "\n",
    "4\n",
    "0\t20\t17\t11\n",
    "20\t0\t20\t13\n",
    "17\t20\t0\t10\n",
    "11\t13\t10\t0\n",
    "\n",
    "Sample Output:\n",
    "\n",
    "0->5:7.000\n",
    "1->6:8.833\n",
    "2->4:5.000\n",
    "3->4:5.000\n",
    "4->2:5.000\n",
    "4->3:5.000\n",
    "4->5:2.000\n",
    "5->0:7.000\n",
    "5->4:2.000\n",
    "5->6:1.833\n",
    "6->5:1.833\n",
    "6->1:8.833"
   ]
  },
  {
   "cell_type": "code",
   "execution_count": 173,
   "metadata": {},
   "outputs": [],
   "source": [
    "n =4\n",
    "distanceMatrix = [\n",
    "[0,20,17,11],\n",
    "[20,0,20,13],\n",
    "[17,20,0,10],\n",
    "[11,13,10,0]     \n",
    "]"
   ]
  },
  {
   "cell_type": "code",
   "execution_count": 60,
   "metadata": {},
   "outputs": [],
   "source": [
    "Cluster = [tuple([i]) for i in range(n)]"
   ]
  },
  {
   "cell_type": "code",
   "execution_count": 61,
   "metadata": {},
   "outputs": [],
   "source": [
    "Label = {tuple([i]):i for i in range(n)}\n",
    "Age = {tuple([i]):0 for i in range(n)}"
   ]
  },
  {
   "cell_type": "code",
   "execution_count": 62,
   "metadata": {},
   "outputs": [],
   "source": [
    "T = dict()\n",
    "D = distanceMatrix\n",
    "i,j = findTwoClosetClusters(D)\n",
    "Ci = Cluster[i]\n",
    "Cj = Cluster[j]\n",
    "Cnew = Ci+Cj\n",
    "Label[Cnew] = len(Label)\n",
    "Age[Cnew] =  D[i][j] / 2"
   ]
  },
  {
   "cell_type": "code",
   "execution_count": 63,
   "metadata": {},
   "outputs": [],
   "source": [
    "T = AddNewNode(T,Cnew,Ci,Cj,Label,Age)"
   ]
  },
  {
   "cell_type": "code",
   "execution_count": 175,
   "metadata": {},
   "outputs": [],
   "source": [
    "T = UPGMA(distanceMatrix, n)"
   ]
  },
  {
   "cell_type": "code",
   "execution_count": 178,
   "metadata": {},
   "outputs": [
    {
     "name": "stdout",
     "output_type": "stream",
     "text": [
      "0->5:7.000\n",
      "1->6:8.833\n",
      "2->4:5.000\n",
      "3->4:5.000\n",
      "4->2:5.000\n",
      "4->3:5.000\n",
      "4->5:2.000\n",
      "5->0:7.000\n",
      "5->4:2.000\n",
      "5->6:1.833\n",
      "6->1:8.833\n",
      "6->5:1.833\n"
     ]
    }
   ],
   "source": [
    "for i in sorted (T.keys()):\n",
    "    for leaf in T[i]:\n",
    "        node,weight = leaf\n",
    "        print(\"%d->%d:%.3f\"%(i,node,weight))"
   ]
  },
  {
   "cell_type": "code",
   "execution_count": 233,
   "metadata": {},
   "outputs": [],
   "source": [
    "n = 0\n",
    "distanceMatrix = []\n",
    "file = open('dataset_369352_8.txt', 'r') \n",
    "#file = open('out', 'r') \n",
    "for i, line in enumerate(file):\n",
    "    line=line.strip()\n",
    "    #line=line[:-1]\n",
    "    if(i==0):\n",
    "        n = int(line)\n",
    "    else:\n",
    "        distanceMatrix.append(line.split(' '))\n",
    "distanceMatrix = np.array(distanceMatrix).astype(int)"
   ]
  },
  {
   "cell_type": "code",
   "execution_count": 236,
   "metadata": {},
   "outputs": [
    {
     "name": "stdout",
     "output_type": "stream",
     "text": [
      "55\n"
     ]
    }
   ],
   "source": [
    "T = UPGMA(distanceMatrix, len(distanceMatrix))\n",
    "print(len(T))"
   ]
  },
  {
   "cell_type": "code",
   "execution_count": 235,
   "metadata": {},
   "outputs": [
    {
     "name": "stdout",
     "output_type": "stream",
     "text": [
      "0->29:394.000\n",
      "1->29:394.000\n",
      "2->36:417.500\n",
      "3->39:461.000\n",
      "4->34:408.500\n",
      "5->34:408.500\n",
      "6->38:441.000\n",
      "7->40:464.000\n",
      "8->30:394.500\n",
      "9->42:544.833\n",
      "10->32:397.500\n",
      "11->43:558.075\n",
      "12->32:397.500\n",
      "13->38:441.000\n",
      "14->41:525.854\n",
      "15->33:400.000\n",
      "16->30:394.500\n",
      "17->40:464.000\n",
      "18->31:396.500\n",
      "19->33:400.000\n",
      "20->31:396.500\n",
      "21->35:416.500\n",
      "22->37:438.500\n",
      "23->28:392.500\n",
      "24->37:438.500\n",
      "25->28:392.500\n",
      "26->36:417.500\n",
      "27->35:416.500\n",
      "28->23:392.500\n",
      "28->25:392.500\n",
      "28->47:189.500\n",
      "29->0:394.000\n",
      "29->1:394.000\n",
      "29->43:164.075\n",
      "30->8:394.500\n",
      "30->16:394.500\n",
      "30->41:131.354\n",
      "31->18:396.500\n",
      "31->20:396.500\n",
      "31->44:145.625\n",
      "32->10:397.500\n",
      "32->12:397.500\n",
      "32->45:171.764\n",
      "33->15:400.000\n",
      "33->19:400.000\n",
      "33->46:178.186\n",
      "34->4:408.500\n",
      "34->5:408.500\n",
      "34->48:171.786\n",
      "35->21:416.500\n",
      "35->27:416.500\n",
      "35->52:205.500\n",
      "36->2:417.500\n",
      "36->26:417.500\n",
      "36->39:43.500\n",
      "37->22:438.500\n",
      "37->24:438.500\n",
      "37->51:169.763\n",
      "38->6:441.000\n",
      "38->13:441.000\n",
      "38->53:187.098\n",
      "39->3:461.000\n",
      "39->36:43.500\n",
      "39->46:117.186\n",
      "40->7:464.000\n",
      "40->17:464.000\n",
      "40->53:164.098\n",
      "41->14:525.854\n",
      "41->30:131.354\n",
      "41->42:18.979\n",
      "42->9:544.833\n",
      "42->41:18.979\n",
      "42->45:24.431\n",
      "43->11:558.075\n",
      "43->29:164.075\n",
      "43->44:-15.950\n",
      "44->31:145.625\n",
      "44->43:-15.950\n",
      "44->47:39.875\n",
      "45->32:171.764\n",
      "45->42:24.431\n",
      "45->49:21.110\n",
      "46->33:178.186\n",
      "46->39:117.186\n",
      "46->49:12.188\n",
      "47->28:189.500\n",
      "47->44:39.875\n",
      "47->48:-1.714\n",
      "48->34:171.786\n",
      "48->47:-1.714\n",
      "48->50:23.888\n",
      "49->45:21.110\n",
      "49->46:12.188\n",
      "49->50:13.800\n",
      "50->48:23.888\n",
      "50->49:13.800\n",
      "50->51:4.089\n",
      "51->37:169.763\n",
      "51->50:4.089\n",
      "51->52:13.737\n",
      "52->35:205.500\n",
      "52->51:13.737\n",
      "52->54:8.219\n",
      "53->38:187.098\n",
      "53->40:164.098\n",
      "53->54:2.121\n",
      "54->52:8.219\n",
      "54->53:2.121\n"
     ]
    }
   ],
   "source": [
    "for i in sorted (T.keys()):\n",
    "    for leaf in T[i]:\n",
    "        node,weight = leaf\n",
    "        print(\"%d->%d:%.3f\"%(i,node,weight))"
   ]
  }
 ],
 "metadata": {
  "kernelspec": {
   "display_name": "Python 3",
   "language": "python",
   "name": "python3"
  },
  "language_info": {
   "codemirror_mode": {
    "name": "ipython",
    "version": 3
   },
   "file_extension": ".py",
   "mimetype": "text/x-python",
   "name": "python",
   "nbconvert_exporter": "python",
   "pygments_lexer": "ipython3",
   "version": "3.7.3"
  }
 },
 "nbformat": 4,
 "nbformat_minor": 4
}
