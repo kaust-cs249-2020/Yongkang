{
 "cells": [
  {
   "cell_type": "code",
   "execution_count": 56,
   "metadata": {},
   "outputs": [],
   "source": [
    "from collections import defaultdict"
   ]
  },
  {
   "cell_type": "code",
   "execution_count": 57,
   "metadata": {},
   "outputs": [],
   "source": [
    "def ModifiedSuffixTrieConstruction(Text):\n",
    "    #Trie ← a graph consisting of a single node root\n",
    "    Trie = dict()  #(node1,symbol)->(node2,position)\n",
    "    Label = dict() #(node1,symbol)->(label)\n",
    "    BranchNode = defaultdict(set) #node1->(symbol1,symbol2) More than 1 symbol means branch node\n",
    "    #Position = dict()\n",
    "    endingNode = 0\n",
    "    n = len(Text)\n",
    "    #for i ← 0 to |Text| - 1\n",
    "    for i in range(n):\n",
    "        #currentNode ← root\n",
    "        currentNode = 0\n",
    "        currentSymbol = ''\n",
    "        #for j ← i to |Text| - 1\n",
    "        for j in range(i,n):\n",
    "            #currentSymbol ← j-th symbol of Text\n",
    "            currentSymbol = Text[j]\n",
    "            #if there is an outgoing edge from currentNode labeled by currentSymbol\n",
    "            if (currentNode,currentSymbol) in Trie.keys():\n",
    "                #currentNode ← ending node of this edge\n",
    "                currentNode,_ = Trie[(currentNode,currentSymbol)]\n",
    "            else:\n",
    "                #add a new node newNode to Trie\n",
    "                endingNode  += 1\n",
    "                newNode = endingNode\n",
    "                #add an edge newEdge connecting currentNode to newNode in Trie\n",
    "                #Symbol(newEdge) ← currentSymbol\n",
    "                #Position(newEdge) ← j\n",
    "                Trie[(currentNode,currentSymbol)] = (newNode,j)\n",
    "                BranchNode[currentNode].add(currentSymbol)\n",
    "                #currentNode ← newNode\n",
    "                currentNode = newNode\n",
    "        #if currentNode is a leaf in Trie\n",
    "        if currentSymbol == '$':\n",
    "            #assign label i to this leaf\n",
    "            Label[(currentNode,currentSymbol)] = i\n",
    "    return Trie,Label,BranchNode"
   ]
  },
  {
   "cell_type": "code",
   "execution_count": 58,
   "metadata": {},
   "outputs": [],
   "source": [
    "def ModifiedSuffixTreeConstruction(node1,length,root,position):\n",
    "    Symbols = BranchNode[node1]\n",
    "    #####Branch Node\n",
    "    if(len(Symbols)>1 and node1 !=0):\n",
    "        SuffixTree[(root,position-length+1)] = (node1,position)\n",
    "        ###We do not initail for longest path problem\n",
    "        #####Initial the root node and substring length\n",
    "        #length = 0\n",
    "        #root = node1\n",
    "        \n",
    "    for symbol in Symbols:\n",
    "        newlength = length\n",
    "        node2,position = Trie[(node1,symbol)]\n",
    "        if(symbol == \"$\"):\n",
    "            ######Termial\n",
    "            final_length = length+1\n",
    "            ####Do not need for longest path problem\n",
    "            #SuffixTree[(root,position-final_length+1)] = (node2,position)\n",
    "        else:\n",
    "            ######Continue\n",
    "            newlength += 1\n",
    "            ModifiedSuffixTreeConstruction(node2,newlength,root,position)"
   ]
  },
  {
   "cell_type": "raw",
   "metadata": {},
   "source": [
    "Sample Input:\n",
    "\n",
    "CCAAGCTGCTAGAGG\n",
    "CATGCTGGGCTGGCT\n",
    "\n",
    "Sample Output:\n",
    "\n",
    "AA\n"
   ]
  },
  {
   "cell_type": "code",
   "execution_count": 61,
   "metadata": {},
   "outputs": [],
   "source": [
    "Text1 = 'CCAAGCTGCTAGAGG'\n",
    "Text2 = 'CAATGCTGGGCTGGCT'\n",
    "Text1 = 'GAGCGATGTGTAAAGACGGGCCTAGTGTGTTATTGGTGAGGATCCGCAAATTCCGCTTTAACATCGCTCAACCGTCCACGAGCAGCTCGCGGCTTGTTTGATTTTGCTCACCCGGAACTAAGCCTTCAATAATTGCGGGACACTTCTACTTTCCATGTATTAAAACCTTATAATTCCGAGAGACTGACATTTTAACCCAGGGATTCTCGGGGCTTGTAGGTCACTGGCGTTAGCTCTGCCAATGTTCTTCATCGCCGAAATTAAACTCGTGACCTTGCCCTACGGTTTGAAACGTTGGATTCCTAGCATTCGGTGCAACGGGAGTTCCATACCAGCAGTTAAGGACCGGGTTGCCCCGTCCCACTACGAGCAGCCGTTAGAAAACAGTTCTACCGGAGGCTATCCCGCACCACGGGTTTTCTTAGTGAAAGGGACTGCGCAGCCATCGAAGAGTAGGGGGAGTCAGAGAGAGGCAGGCTTGTTGGGCTGATACATCTAGTTTACTAAATAGCCTTAATGGCGTCCCCCTCTTCGTTGATGCGCGTGGCCTGTGAAATTAGGCAGGGCCCAATGAGCAAGGCTGATTACTATCTAATTGCAGAGCGCAATGCTCTCATATATTATTATCCATGAATCTCATTTCACTAATCAGAAACGTG'\n",
    "#Text2 = 'CACCTCGTCAATACAACAAAAGGCGGCTCGCTTAAAGGGCGCAGCTAGTTCCTCCCCCTCTCATTGGGACATAGTCAACCTGCTAATCCGGATTCGAATGGATTATTCCGTAATTGAACGGTAATTTAGTGAGCTTCGCAGTAAACGATAGATGCGAGCTCTAGCAGGCCACTGACTATATAAACGCCAACACTAGTGCCGTGCATGGACGACTCGATGTACTATAGATTTGCACAGGTATGACCGGAGGAGCGGGACTGCCTAGGCTATAGGGAACGGGGAGTATTGGGAGCCTTTTAGGCCCTCGTCATATCCCTTAACGTTCCCGCGCAGCTAAATTGTGGAACCGGAAAACAATGGATCTGCTTATTTTTGTAGGCTTGGTTAAGCGAAACGGATCAAAATAAACAAAGAATTAATCAATGAACTAACCAACGAAGTAAGCAAGGATATACATAGATTTATTCATTGATCTATCCATCGATGTATGCATGGACACAGACTTACTCACTGACCTACCCACCGACGTACGCACGGAGAGTTAGTCAGTGAGCTAGCCAGCGAGGTAGGCAGGGTTTTCTTTGTTCCTTCGTTGCTTGGTCTCTGTCCCTCCGTCGCTCGGTGTGCCTGCGTGGCTGGGCCCCGCCGGCGCGGGGAAA'\n",
    "#Text1 = \"banama\"\n",
    "#Text2 = \"bananas\"\n",
    "Text1+='#'\n",
    "Text2+='$'\n",
    "\n",
    "\n",
    "#Text='ATATCGTTTTATCGTT$'\n",
    "Text = Text1+Text2\n",
    "#print(Text)\n",
    "Trie,Label,BranchNode = ModifiedSuffixTrieConstruction(Text)\n",
    "SuffixTree = {}\n",
    "ModifiedSuffixTreeConstruction(0,0,0,0)###node1,length,root,position,maxLength"
   ]
  },
  {
   "cell_type": "code",
   "execution_count": 62,
   "metadata": {},
   "outputs": [
    {
     "name": "stdout",
     "output_type": "stream",
     "text": [
      "GGGCC\n",
      "GGGG\n",
      "GGGG\n"
     ]
    }
   ],
   "source": [
    "ShorestNonShare = ''\n",
    "minLength = float('inf')\n",
    "n = len(Text1)\n",
    "m = len(Text2)\n",
    "for key,val in SuffixTree.items():\n",
    "    #print (key,val)\n",
    "    node1,pos1 = key\n",
    "    node2,pos2 = val\n",
    "    pos2 += 1\n",
    "    Symbols = BranchNode[node2]\n",
    "    Green = 0\n",
    "    Red   = 0\n",
    "    newnode = 0\n",
    "    newposition = 0\n",
    "    for symbol in Symbols:\n",
    "        node3,position = Trie[(node2,symbol)]\n",
    "        if(position>=n):\n",
    "            Red = 1\n",
    "        else:\n",
    "            Green = 1\n",
    "            newnode = node3\n",
    "            newposition = position\n",
    "    length = newposition-pos1\n",
    "    if(minLength>length and Green==1 and Red==0):\n",
    "    #if(Green==1 and Red==0):\n",
    "        minLength = length\n",
    "        ShorestNonShare = Text[pos1:newposition]\n",
    "        print(ShorestNonShare)\n",
    "\n",
    "print(ShorestNonShare)"
   ]
  },
  {
   "cell_type": "code",
   "execution_count": 67,
   "metadata": {},
   "outputs": [],
   "source": [
    "Text1=''\n",
    "Text2=''\n",
    "file = open('dataset_369391_7.txt', 'r') \n",
    "#file = open('out', 'r') \n",
    "for i, line in enumerate(file):\n",
    "    line=line.strip()\n",
    "    if i==0:\n",
    "        Text1 = line\n",
    "    else:\n",
    "        Text2 = line"
   ]
  },
  {
   "cell_type": "code",
   "execution_count": 68,
   "metadata": {},
   "outputs": [],
   "source": [
    "Text1+='#'\n",
    "Text2+='$'\n",
    "Text = Text1+Text2"
   ]
  },
  {
   "cell_type": "code",
   "execution_count": 69,
   "metadata": {},
   "outputs": [],
   "source": [
    "\n",
    "Trie,Label,BranchNode = ModifiedSuffixTrieConstruction(Text)\n",
    "SuffixTree = {}\n",
    "\n",
    "ModifiedSuffixTreeConstruction(0,0,0,0)###node1,length,root,position,maxLength"
   ]
  },
  {
   "cell_type": "code",
   "execution_count": 70,
   "metadata": {},
   "outputs": [
    {
     "name": "stdout",
     "output_type": "stream",
     "text": [
      "GAAGTCCTTGCGGTAGAACACATCAACTTTTGGTGCGGGGAGCCAACGTGAGAACCATTTAATGGTGTCATCACAGCGGACAAGGCGAAGTC\n",
      "GAACAC\n",
      "GTCTA\n",
      "GTCTA\n"
     ]
    }
   ],
   "source": [
    "ShorestNonShare = ''\n",
    "minLength = float('inf')\n",
    "n = len(Text1)\n",
    "m = len(Text2)\n",
    "for key,val in SuffixTree.items():\n",
    "    #print (key,val)\n",
    "    node1,pos1 = key\n",
    "    node2,pos2 = val\n",
    "    pos2 += 1\n",
    "    Symbols = BranchNode[node2]\n",
    "    Green = 0\n",
    "    Red   = 0\n",
    "    newnode = 0\n",
    "    newposition = 0\n",
    "    for symbol in Symbols:\n",
    "        node3,position = Trie[(node2,symbol)]\n",
    "        if(position>=n):\n",
    "            Red = 1\n",
    "        else:\n",
    "            Green = 1\n",
    "            newnode = node3\n",
    "            newposition = position\n",
    "    length = newposition-pos1\n",
    "    if(minLength>length and Green==1 and Red==0):\n",
    "    #if(Green==1 and Red==0):\n",
    "        minLength = length\n",
    "        ShorestNonShare = Text[pos1:newposition]\n",
    "        print(ShorestNonShare)\n",
    "\n",
    "print(ShorestNonShare)"
   ]
  },
  {
   "cell_type": "code",
   "execution_count": null,
   "metadata": {},
   "outputs": [],
   "source": []
  }
 ],
 "metadata": {
  "kernelspec": {
   "display_name": "Python 3",
   "language": "python",
   "name": "python3"
  },
  "language_info": {
   "codemirror_mode": {
    "name": "ipython",
    "version": 3
   },
   "file_extension": ".py",
   "mimetype": "text/x-python",
   "name": "python",
   "nbconvert_exporter": "python",
   "pygments_lexer": "ipython3",
   "version": "3.7.3"
  }
 },
 "nbformat": 4,
 "nbformat_minor": 4
}
