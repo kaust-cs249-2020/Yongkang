{
 "cells": [
  {
   "cell_type": "code",
   "execution_count": 42,
   "metadata": {},
   "outputs": [],
   "source": [
    "def TrieConstruction(Patterns):\n",
    "    #Trie ← a graph consisting of a single node root\n",
    "    Trie = dict()\n",
    "    #for each string Pattern in Patterns\n",
    "    endingNode = 0\n",
    "    for Pattern in Patterns:\n",
    "        currentNode = 0\n",
    "        for i in range(len(Pattern)):\n",
    "            currentSymbol = Pattern[i]\n",
    "            #if there is an outgoing edge from currentNode with label currentSymbol\n",
    "            if (currentNode,currentSymbol) in Trie.keys():\n",
    "                #currentNode = ending node of this edge\n",
    "                currentNode = Trie[(currentNode,currentSymbol)]\n",
    "            else:\n",
    "                #add a new node newNode to Trie\n",
    "                #add a new edge from currentNode to newNode with label currentSymbol\n",
    "                endingNode  += 1\n",
    "                newNode = endingNode\n",
    "                Trie[(currentNode,currentSymbol)] = newNode\n",
    "                currentNode = newNode\n",
    "               \n",
    "    return Trie"
   ]
  },
  {
   "cell_type": "code",
   "execution_count": 43,
   "metadata": {},
   "outputs": [],
   "source": [
    "def printer(Trie):\n",
    "    for (parent,symbol),child in Trie.items():\n",
    "        print(\"%d->%d:%s\"%(parent,child,symbol))"
   ]
  },
  {
   "cell_type": "raw",
   "metadata": {},
   "source": [
    "Sample Input:\n",
    "\n",
    "ATAGA\n",
    "ATC\n",
    "GAT\n",
    "\n",
    "Sample Output:\n",
    "\n",
    "0->1:A\n",
    "1->2:T\n",
    "2->3:A\n",
    "3->4:G\n",
    "4->5:A\n",
    "2->6:C\n",
    "0->7:G\n",
    "7->8:A\n",
    "8->9:T\n",
    "\n"
   ]
  },
  {
   "cell_type": "code",
   "execution_count": 44,
   "metadata": {},
   "outputs": [
    {
     "name": "stdout",
     "output_type": "stream",
     "text": [
      "Yes\n"
     ]
    }
   ],
   "source": [
    "Trie = {(0,'A'):1}\n",
    "if (0,'A') in Trie.keys():\n",
    "    print('Yes')"
   ]
  },
  {
   "cell_type": "code",
   "execution_count": 46,
   "metadata": {},
   "outputs": [],
   "source": [
    "Patterns = ['ATAGA',\n",
    "'ATC',\n",
    "'GAT']"
   ]
  },
  {
   "cell_type": "code",
   "execution_count": 47,
   "metadata": {},
   "outputs": [
    {
     "name": "stdout",
     "output_type": "stream",
     "text": [
      "0->1:A\n",
      "1->2:T\n",
      "2->3:A\n",
      "3->4:G\n",
      "4->5:A\n",
      "2->6:C\n",
      "0->7:G\n",
      "7->8:A\n",
      "8->9:T\n"
     ]
    }
   ],
   "source": [
    "Trie = TrieConstruction(Patterns)\n",
    "printer(Trie)"
   ]
  },
  {
   "cell_type": "code",
   "execution_count": 54,
   "metadata": {},
   "outputs": [],
   "source": [
    "Patterns= []\n",
    "file = open('dataset_369389_4.txt', 'r') \n",
    "#file = open('out', 'r') \n",
    "for i, line in enumerate(file):\n",
    "    line=line.strip()\n",
    "    #line=line[:-1]\n",
    "    Patterns.append(line)"
   ]
  },
  {
   "cell_type": "code",
   "execution_count": 55,
   "metadata": {},
   "outputs": [],
   "source": [
    "Trie = TrieConstruction(Patterns)\n",
    "out = open('Trie.txt', 'w') \n",
    "for (parent,symbol),child in Trie.items():\n",
    "    out.write(\"%d->%d:%s\\n\"%(parent,child,symbol))"
   ]
  },
  {
   "cell_type": "code",
   "execution_count": null,
   "metadata": {},
   "outputs": [],
   "source": []
  }
 ],
 "metadata": {
  "kernelspec": {
   "display_name": "Python 3",
   "language": "python",
   "name": "python3"
  },
  "language_info": {
   "codemirror_mode": {
    "name": "ipython",
    "version": 3
   },
   "file_extension": ".py",
   "mimetype": "text/x-python",
   "name": "python",
   "nbconvert_exporter": "python",
   "pygments_lexer": "ipython3",
   "version": "3.7.3"
  }
 },
 "nbformat": 4,
 "nbformat_minor": 4
}
