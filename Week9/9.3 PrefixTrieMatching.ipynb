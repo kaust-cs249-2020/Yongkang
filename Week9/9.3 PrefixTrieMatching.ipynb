{
 "cells": [
  {
   "cell_type": "code",
   "execution_count": 1,
   "metadata": {},
   "outputs": [],
   "source": [
    "def TrieConstruction(Patterns):\n",
    "    #Trie ← a graph consisting of a single node root\n",
    "    Trie = dict()\n",
    "    #for each string Pattern in Patterns\n",
    "    endingNode = 0\n",
    "    for Pattern in Patterns:\n",
    "        currentNode = 0\n",
    "        for i in range(len(Pattern)):\n",
    "            currentSymbol = Pattern[i]\n",
    "            #if there is an outgoing edge from currentNode with label currentSymbol\n",
    "            if (currentNode,currentSymbol) in Trie.keys():\n",
    "                #currentNode = ending node of this edge\n",
    "                currentNode = Trie[(currentNode,currentSymbol)]\n",
    "            else:\n",
    "                #add a new node newNode to Trie\n",
    "                #add a new edge from currentNode to newNode with label currentSymbol\n",
    "                endingNode  += 1\n",
    "                newNode = endingNode\n",
    "                Trie[(currentNode,currentSymbol)] = newNode\n",
    "                currentNode = newNode\n",
    "               \n",
    "    return Trie"
   ]
  },
  {
   "cell_type": "code",
   "execution_count": 2,
   "metadata": {},
   "outputs": [],
   "source": [
    "def CheckLeaf(Trie,v):\n",
    "    if (v,'A') not in Trie.keys() and (v,'T') not in Trie.keys()\\\n",
    "        and (v,'C') not in Trie.keys() and (v,'G') not in Trie.keys():\n",
    "        return True\n",
    "    else:\n",
    "        return False"
   ]
  },
  {
   "cell_type": "code",
   "execution_count": 13,
   "metadata": {},
   "outputs": [],
   "source": [
    "def PrefixTrieMatching(Text, Trie,i):\n",
    "    symbol = Text[i]\n",
    "    v = 0\n",
    "    n = len(Text)\n",
    "    pattern_length = 0\n",
    "    while i<n:\n",
    "        #else if there is an edge (v, w) in Trie labeled by symbol\n",
    "        if (v,symbol) in Trie.keys():\n",
    "            #symbol ← next letter of Text\n",
    "            v = Trie[(v,symbol)]\n",
    "            pattern_length += 1\n",
    "            if(i<n-1):\n",
    "                symbol = Text[i+1]\n",
    "            elif CheckLeaf(Trie,v):\n",
    "                print(i+1-pattern_length)\n",
    "                break\n",
    "        #elif v is a leaf in Trie\n",
    "        elif CheckLeaf(Trie,v):\n",
    "            #output the pattern spelled by the path from the root to v\n",
    "            print(i-pattern_length)\n",
    "            break\n",
    "        i += 1"
   ]
  },
  {
   "cell_type": "code",
   "execution_count": 14,
   "metadata": {},
   "outputs": [],
   "source": [
    "def TrieMatching(Text, Trie):\n",
    "    i=0\n",
    "    while i < len(Text):\n",
    "        PrefixTrieMatching(Text, Trie,i)\n",
    "        #remove first symbol from Text\n",
    "        i +=1\n",
    "        #Text = Text[1:]"
   ]
  },
  {
   "cell_type": "raw",
   "metadata": {},
   "source": [
    "Sample Input:\n",
    "\n",
    "AATCGGGTTCAATCGGGGT\n",
    "ATCG\n",
    "GGGT\n",
    "\n",
    "Sample Output:\n",
    "\n",
    "1 4 11 15"
   ]
  },
  {
   "cell_type": "code",
   "execution_count": 15,
   "metadata": {},
   "outputs": [],
   "source": [
    "Text = 'AATCGGGTTCAATCGGGGT'\n",
    "Patterns = ['ATCG',\n",
    "'GGGT']"
   ]
  },
  {
   "cell_type": "code",
   "execution_count": 16,
   "metadata": {},
   "outputs": [],
   "source": [
    "Trie = TrieConstruction(Patterns)"
   ]
  },
  {
   "cell_type": "code",
   "execution_count": 17,
   "metadata": {},
   "outputs": [
    {
     "name": "stdout",
     "output_type": "stream",
     "text": [
      "1\n",
      "4\n",
      "11\n",
      "15\n"
     ]
    }
   ],
   "source": [
    "TrieMatching(Text, Trie)"
   ]
  },
  {
   "cell_type": "code",
   "execution_count": 18,
   "metadata": {},
   "outputs": [],
   "source": [
    "Text=''\n",
    "Patterns= []\n",
    "file = open('dataset_369389_8.txt', 'r') \n",
    "#file = open('out', 'r') \n",
    "for i, line in enumerate(file):\n",
    "    line=line.strip()\n",
    "    #line=line[:-1]\n",
    "    if i==0:\n",
    "        Text = line\n",
    "    else:\n",
    "        Patterns.append(line)"
   ]
  },
  {
   "cell_type": "code",
   "execution_count": 19,
   "metadata": {},
   "outputs": [
    {
     "name": "stdout",
     "output_type": "stream",
     "text": [
      "328\n",
      "475\n",
      "482\n",
      "501\n",
      "794\n",
      "1164\n",
      "1171\n",
      "1193\n",
      "1420\n",
      "1673\n",
      "2124\n",
      "2131\n",
      "2723\n",
      "3174\n",
      "3181\n",
      "3781\n",
      "3788\n",
      "3933\n",
      "4687\n",
      "4714\n",
      "4722\n",
      "4729\n",
      "5181\n",
      "5263\n",
      "5270\n",
      "5328\n",
      "5410\n",
      "5417\n",
      "5633\n",
      "5655\n",
      "5662\n",
      "5924\n",
      "5931\n",
      "6181\n",
      "6199\n",
      "6206\n",
      "7027\n",
      "7034\n",
      "7163\n",
      "7170\n",
      "7270\n",
      "7546\n",
      "9359\n",
      "9363\n",
      "9370\n",
      "9788\n"
     ]
    }
   ],
   "source": [
    "Trie = TrieConstruction(Patterns)\n",
    "TrieMatching(Text, Trie)"
   ]
  },
  {
   "cell_type": "code",
   "execution_count": null,
   "metadata": {},
   "outputs": [],
   "source": []
  }
 ],
 "metadata": {
  "kernelspec": {
   "display_name": "Python 3",
   "language": "python",
   "name": "python3"
  },
  "language_info": {
   "codemirror_mode": {
    "name": "ipython",
    "version": 3
   },
   "file_extension": ".py",
   "mimetype": "text/x-python",
   "name": "python",
   "nbconvert_exporter": "python",
   "pygments_lexer": "ipython3",
   "version": "3.7.3"
  }
 },
 "nbformat": 4,
 "nbformat_minor": 4
}
