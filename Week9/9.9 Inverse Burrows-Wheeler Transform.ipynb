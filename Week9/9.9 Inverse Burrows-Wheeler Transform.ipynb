{
 "cells": [
  {
   "cell_type": "raw",
   "metadata": {},
   "source": [
    "# Sample Input:\n",
    "TTCCTAACG$A\n",
    "Sample Output:\n",
    "TACATCACGT$"
   ]
  },
  {
   "cell_type": "code",
   "execution_count": 17,
   "metadata": {},
   "outputs": [],
   "source": [
    "def OrderText(Text):\n",
    "    n = len(Text)\n",
    "    TextCount = dict()\n",
    "    TextOrder= []\n",
    "    for i in range(n):\n",
    "        base = Text[i]\n",
    "        if base in TextCount.keys():\n",
    "            TextCount[base] += 1\n",
    "            TextOrder.append((base,TextCount[base]))\n",
    "        else:\n",
    "            TextCount[base]  = 0\n",
    "            TextOrder.append((base,TextCount[base]))\n",
    "    return TextOrder,TextCount"
   ]
  },
  {
   "cell_type": "code",
   "execution_count": 33,
   "metadata": {},
   "outputs": [],
   "source": [
    "def Sorted(TextCount):\n",
    "    FirstColumn = []\n",
    "    for key in sorted(TextCount.keys()):\n",
    "        val  = TextCount[key]\n",
    "        for i in range(val+1):\n",
    "            FirstColumn.append((key,i))\n",
    "    return FirstColumn\n",
    "                "
   ]
  },
  {
   "cell_type": "code",
   "execution_count": 60,
   "metadata": {},
   "outputs": [],
   "source": [
    "def Inverse_BWT(Text):\n",
    "    LastColumn,TextCount = OrderText(Text)\n",
    "    FirstColumn = Sorted(TextCount)\n",
    "    index= 0\n",
    "    NewText = ''\n",
    "    j = 0\n",
    "    for j in range(len(Text)):\n",
    "        char,i = FirstColumn[index]\n",
    "        char2,i2 = LastColumn[index]\n",
    "        index = FirstColumn.index((char2,i2))\n",
    "        NewText = char+NewText\n",
    "        \n",
    "    return NewText\n",
    "     "
   ]
  },
  {
   "cell_type": "code",
   "execution_count": 57,
   "metadata": {},
   "outputs": [
    {
     "name": "stdout",
     "output_type": "stream",
     "text": [
      "TACATCACGT$\n"
     ]
    }
   ],
   "source": [
    "Text='TTCCTAACG$A'\n",
    "Inverse_BWT(Text)"
   ]
  },
  {
   "cell_type": "code",
   "execution_count": 67,
   "metadata": {},
   "outputs": [
    {
     "data": {
      "text/plain": [
       "'CATTCGACCGCACGGCCGTCCAGAG$'"
      ]
     },
     "execution_count": 67,
     "metadata": {},
     "output_type": "execute_result"
    }
   ],
   "source": []
  },
  {
   "cell_type": "code",
   "execution_count": 61,
   "metadata": {},
   "outputs": [],
   "source": [
    "Text='TGTTGGAGGTTAAGTTGTCCGTGGTCCGGACCCATAAGTAGTACTGGCTCGCATCACCTTCCGTAAGGTTTATGGCAATATGGAAGTATACCCTAACTCTTTTAGTCAATCTTGGACAGATTAGCTCCTCGTTGATGCACCCCTTGAGCGCTCAGCTCCGCACGCGGGACCCGCTCTGCCTGTGTTCCTCCGACAAAGAAAAGGCACTGGAGCGATACAATGCGCTGTTTCCACGTCGGACTCCATGCGCAGCAGCATCAAGAATCTAGCGACGAGAACGGTGACCCAATCGTAGCGAACTTTGATTCGTTGAGGAACCCTCCATCGTCTGGTATTTGATGATTGTTGGCTGTCTTCGTCCACCAGGGACGTATTCGTACTGATGATGAGAGGTTATACAATCCAGTGAGTTGTCTGACCGGTTGATAGGATTTAGGTTAACTCTCAAAAACAATGCTGACGAAACTGTGCATTATAAGCAAGGTTCGGTAGGAG$ACAAGAGTGAGGGGGCAGTATTTATCCGTTCGCCCGTCCTCACGCTAGCCGGAGCAACCCCGTGTAGGATAAAGTAGTCGGGCTCTGAACGGCGGTGACTGATAACTTCGGCGTCCGAAACCTGGGTGCTATTTAGAGGGAGGATTTTACCACAGTACCTTTTTTACCGGCGTGGCTGCCCTCCGCTGTCTTCAATTCTGTACATAAAGACAGACGAGGCCATTCCTGCGATTATTAGTCCACCGCTTCCGGGCGACTGCTCATGTGCTCAGACGCAGAAAACACAAAGTAAGAGAAGGGTCTGGCTTCCATTTAGTTAACGGTCTCGGCTACTCCCTAACAGCAGCTGTATACCAATGCACCGCCCTGGAAACATATGAAGATGTATTATGGGCGCGAAGTACTCTCGCGTTCTCCACTCCGAGTAGAA'\n",
    "NewText = Inverse_BWT(Text)"
   ]
  },
  {
   "cell_type": "code",
   "execution_count": 65,
   "metadata": {},
   "outputs": [
    {
     "data": {
      "text/plain": [
       "'CTTTAGTATAGGACCTGATTGCACCGATGGTCCTTAGGACTGACCAAGAGGCCCCCCCTGCCATACTGACGGCCCTCTCCACCCTACGGGTGCACAGGCCAGTTGGCCGCGCGTTGAGTCCCGTTTGACACGAGTATGGATCCCTAGAGCGGTCATATGAACCCGCGCCCAACTATCTCGATCAAGCTGAGGCTTGAACATGAGCCCTTGAAACAATCATGGTACGTTCCACAGTTAAGATTAGAATGGGGTATGGGAGTCGCAAACATTGCCGGGTAGTCTGATCGCTTCGTCCGCCGCGTCATACTACTGCGGAGAACCTATCATTCCGATCAGATAATTTATCAGGATTGCGGCCCCCGTTTTTAACAAAGTAAGTTACCTGGCTCAAGTGCGTTGTACCCTAGTTAGTACGGTATGCCCACCAAAAGTTATAACCATTGATGTAAGAGAACTCATTTCTCGAGCGTATTTTTGAGCGACGGCCATTCTGTTATAAGCCGTAGATAACACACACAGGAGAACTCCGAGTGGGTCCGCTCCAGTTGCTGCTGCCTCCTTGTAGTGAGAATACGGCTTTTGGTTCCGTTCGATGGTCCAGTGAACTATTCAGTACGCAAAGGCGTAGCCCTTGCGTTATTTGAGGGTGACAATGGGAGCCAGTCCTCTACGATTGGATGGCGTTTAGGTTGTGCAGAACTATCATTGCTCTAGGCGTTTGAGCCTTGTTGATTTGCATGTTTACCGCATCACAAGACGCGCCGCGCGTACCCGGATCATACGGTATTCCGATGGATGTGACAATT$'"
      ]
     },
     "execution_count": 65,
     "metadata": {},
     "output_type": "execute_result"
    }
   ],
   "source": [
    "Text='TCGCCCATATGATGGGCGGGCTCTTCAACTAGCCGCTACAGGACCGCCCAACGAATCTCTAGTCTTGGGTTTTTTAAAAAGTTGCGGGTAATATCAGGTAGGGGATTCCCGATGGTACTTGGCGTCTAGCATACCGTTGACCCTCGCGTGATTGGTTCTTGGATACGGGGCAGTCTCCGCGCGACTGTCGGACACTTAAATAAAGCCCGAGTATATCCACCTTCTGATGTCCATTACATCTGTTGGGAGGGCGCCCAATCATAGCGGTTTAATCGGGTCGGTCCCCCAGTCACATCCTGGTACTCCTCATACGGCCACCGCGCTGCAGAACAAAGGCGGGTGACGGGCGCTCACTCCAAAGATGACTTCGCAAGTCCGAGCTCGCGCCC$GTTTAATAAAATTTTGACTGGAGTGTTTACATTCTGCAACCGGTCGCCTGATGCTCCTTTCTAGTGCTGGGAACGCTATAACCCCTTACGACTCTGGGCTATTCGGAACAGGCTTTAACACCTATATACTTTCGTACTGCGCCTGTGGTATACTAAGCCGTAGAGGCCGGACGAGAAAGTAGTAAAAAATCCGCCTAACGTCCCCTTAAGTAGAGGTTCGACGAGAACTCGGATCTTTGGCTTGTCCCAGGGCGTGACAAATAGGAAACTCGCGACTTGGTGGCCCTGATCCCTAGTTTAGGGTCCGATTCTTCTCTGTGTCATCCTTGTCTATATACAAAGAAATATTATCTAATGTGACTGTGGTGAGAAGGCTACCTTTTGAGATAACAGAGTGCGCTGGCAAGGTAATTTCGA'\n",
    "Inverse_BWT(Text)"
   ]
  },
  {
   "cell_type": "code",
   "execution_count": 66,
   "metadata": {},
   "outputs": [
    {
     "data": {
      "text/plain": [
       "'twelveplusone$'"
      ]
     },
     "execution_count": 66,
     "metadata": {},
     "output_type": "execute_result"
    }
   ],
   "source": [
    "Text='enwvpeoseu$llt'\n",
    "Inverse_BWT(Text)"
   ]
  },
  {
   "cell_type": "code",
   "execution_count": null,
   "metadata": {},
   "outputs": [],
   "source": []
  }
 ],
 "metadata": {
  "kernelspec": {
   "display_name": "Python 3",
   "language": "python",
   "name": "python3"
  },
  "language_info": {
   "codemirror_mode": {
    "name": "ipython",
    "version": 3
   },
   "file_extension": ".py",
   "mimetype": "text/x-python",
   "name": "python",
   "nbconvert_exporter": "python",
   "pygments_lexer": "ipython3",
   "version": "3.7.3"
  }
 },
 "nbformat": 4,
 "nbformat_minor": 4
}
