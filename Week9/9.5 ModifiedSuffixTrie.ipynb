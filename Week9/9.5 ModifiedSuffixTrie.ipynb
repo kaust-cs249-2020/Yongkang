{
 "cells": [
  {
   "cell_type": "code",
   "execution_count": 5,
   "metadata": {},
   "outputs": [],
   "source": [
    "from collections import defaultdict"
   ]
  },
  {
   "cell_type": "code",
   "execution_count": 9,
   "metadata": {},
   "outputs": [],
   "source": [
    "def ModifiedSuffixTrieConstruction(Text):\n",
    "    #Trie ← a graph consisting of a single node root\n",
    "    Trie = dict()  #(node1,symbol)->(node2,position)\n",
    "    Label = dict() #(node1,symbol)->(label)\n",
    "    BranchNode = defaultdict(set) #node1->(symbol1,symbol2) More than 1 symbol means branch node\n",
    "    #Position = dict()\n",
    "    endingNode = 0\n",
    "    n = len(Text)\n",
    "    #for i ← 0 to |Text| - 1\n",
    "    for i in range(n):\n",
    "        #currentNode ← root\n",
    "        currentNode = 0\n",
    "        currentSymbol = ''\n",
    "        #for j ← i to |Text| - 1\n",
    "        for j in range(i,n):\n",
    "            #currentSymbol ← j-th symbol of Text\n",
    "            currentSymbol = Text[j]\n",
    "            #if there is an outgoing edge from currentNode labeled by currentSymbol\n",
    "            if (currentNode,currentSymbol) in Trie.keys():\n",
    "                #currentNode ← ending node of this edge\n",
    "                currentNode,_ = Trie[(currentNode,currentSymbol)]\n",
    "            else:\n",
    "                #add a new node newNode to Trie\n",
    "                endingNode  += 1\n",
    "                newNode = endingNode\n",
    "                #add an edge newEdge connecting currentNode to newNode in Trie\n",
    "                #Symbol(newEdge) ← currentSymbol\n",
    "                #Position(newEdge) ← j\n",
    "                Trie[(currentNode,currentSymbol)] = (newNode,j)\n",
    "                BranchNode[currentNode].add(currentSymbol)\n",
    "                #currentNode ← newNode\n",
    "                currentNode = newNode\n",
    "        #if currentNode is a leaf in Trie\n",
    "        if currentSymbol == '$':\n",
    "            #assign label i to this leaf\n",
    "            Label[(currentNode,currentSymbol)] = i\n",
    "    return Trie,Label,BranchNode"
   ]
  },
  {
   "cell_type": "code",
   "execution_count": 56,
   "metadata": {},
   "outputs": [],
   "source": [
    "def ModifiedSuffixTreeConstruction(node1,path):\n",
    "    #Trie ← ModifiedSuffixTrieConstruction\n",
    "    #for each non-branching path Path in Trie\n",
    "    Symbols = BranchNode[node1]\n",
    "    #####Branch Node\n",
    "    if(len(Symbols)>1 and node1 !=0):\n",
    "        #print(path)\n",
    "        Edge_Label.append(path)\n",
    "        path = ''\n",
    "    for symbol in Symbols:\n",
    "        newpath = path\n",
    "        node2,position = Trie[(node1,symbol)]\n",
    "        if(symbol == \"$\"):\n",
    "            final_path = path+symbol\n",
    "            #print(final_path)\n",
    "            Edge_Label.append(final_path)\n",
    "        else:\n",
    "            newpath += symbol\n",
    "            ModifiedSuffixTreeConstruction(node2,newpath)"
   ]
  },
  {
   "cell_type": "raw",
   "metadata": {},
   "source": [
    "Sample Input:\n",
    "ATAAATG$\n",
    "Sample Output:\n",
    "AAATG$\n",
    "G$\n",
    "T\n",
    "ATG$\n",
    "TG$\n",
    "A\n",
    "A\n",
    "AAATG$\n",
    "G$\n",
    "T\n",
    "G$\n",
    "$"
   ]
  },
  {
   "cell_type": "code",
   "execution_count": 76,
   "metadata": {},
   "outputs": [],
   "source": [
    "Text='ATCAA#ATCGAA$'\n",
    "Edge_Label = []\n",
    "Trie,Label,BranchNode = ModifiedSuffixTrieConstruction(Text)"
   ]
  },
  {
   "cell_type": "code",
   "execution_count": 77,
   "metadata": {},
   "outputs": [],
   "source": [
    "ModifiedSuffixTreeConstruction(0,'')   ####root Node,intial Text, BranchNode Indicator"
   ]
  },
  {
   "cell_type": "code",
   "execution_count": 78,
   "metadata": {},
   "outputs": [
    {
     "name": "stdout",
     "output_type": "stream",
     "text": [
      "A\n",
      "#ATCGAA$\n",
      "A\n",
      "$\n",
      "#ATCGAA$\n",
      "TC\n",
      "AA#ATCGAA$\n",
      "GAA$\n",
      "$\n",
      "C\n",
      "AA#ATCGAA$\n",
      "GAA$\n",
      "$\n",
      "#ATCGAA$\n",
      "TC\n",
      "AA#ATCGAA$\n",
      "GAA$\n",
      "GAA$\n"
     ]
    }
   ],
   "source": [
    "for edge in Edge_Label:\n",
    "    print(edge)"
   ]
  },
  {
   "cell_type": "code",
   "execution_count": 59,
   "metadata": {},
   "outputs": [],
   "source": [
    "Text=''\n",
    "file = open('dataset_369391_4.txt', 'r') \n",
    "#file = open('out', 'r') \n",
    "for i, line in enumerate(file):\n",
    "    line=line.strip()\n",
    "    if i==0:\n",
    "        Text = line"
   ]
  },
  {
   "cell_type": "code",
   "execution_count": 60,
   "metadata": {},
   "outputs": [],
   "source": [
    "Edge_Label = []\n",
    "Trie,Label,BranchNode = ModifiedSuffixTrieConstruction(Text)\n",
    "ModifiedSuffixTreeConstruction(0,'') "
   ]
  },
  {
   "cell_type": "code",
   "execution_count": 62,
   "metadata": {},
   "outputs": [],
   "source": [
    "out = open('out.txt', 'w')\n",
    "for edge in Edge_Label:\n",
    "    out.write(edge+'\\n')"
   ]
  },
  {
   "cell_type": "code",
   "execution_count": 49,
   "metadata": {},
   "outputs": [],
   "source": [
    "Text = 'ATCTACCAGCAGTGAACATGGGAGGACCAGTAAGGAAGGCTTACCCTCGATGTGTTACAGACTCGTTCGTAGGGTGTATAACGCCGCCGCTGG$'"
   ]
  },
  {
   "cell_type": "code",
   "execution_count": 57,
   "metadata": {},
   "outputs": [],
   "source": [
    "Edge_Label = []\n",
    "Trie,Label,BranchNode = ModifiedSuffixTrieConstruction(Text)\n",
    "ModifiedSuffixTreeConstruction(0,'') "
   ]
  },
  {
   "cell_type": "code",
   "execution_count": 52,
   "metadata": {},
   "outputs": [],
   "source": [
    "Extra = []\n",
    "file = open('extra_output.txt', 'r') \n",
    "#file = open('out', 'r') \n",
    "for i, line in enumerate(file):\n",
    "    line=line.strip()\n",
    "    Extra.append(line)"
   ]
  },
  {
   "cell_type": "code",
   "execution_count": 58,
   "metadata": {},
   "outputs": [],
   "source": [
    "for e in Extra:\n",
    "    if e not in Edge_Label:\n",
    "        print(e)"
   ]
  },
  {
   "cell_type": "code",
   "execution_count": null,
   "metadata": {},
   "outputs": [],
   "source": []
  }
 ],
 "metadata": {
  "kernelspec": {
   "display_name": "Python 3",
   "language": "python",
   "name": "python3"
  },
  "language_info": {
   "codemirror_mode": {
    "name": "ipython",
    "version": 3
   },
   "file_extension": ".py",
   "mimetype": "text/x-python",
   "name": "python",
   "nbconvert_exporter": "python",
   "pygments_lexer": "ipython3",
   "version": "3.7.3"
  }
 },
 "nbformat": 4,
 "nbformat_minor": 4
}
