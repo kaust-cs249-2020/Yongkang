{
 "cells": [
  {
   "cell_type": "raw",
   "metadata": {},
   "source": [
    "Sample Input:\n",
    "GCGTGCCTGGTCA$\n",
    "Sample Output:\n",
    "ACTGGCT$TGCGGC\n"
   ]
  },
  {
   "cell_type": "code",
   "execution_count": 1,
   "metadata": {},
   "outputs": [],
   "source": [
    "def Construction(Text):\n",
    "    n = len(Text)\n",
    "    SuffixArray = dict()\n",
    "    for i in range(n):\n",
    "        SuffixArray[Text[i:]] = Text[i-1]\n",
    "        \n",
    "    return SuffixArray\n",
    "        "
   ]
  },
  {
   "cell_type": "code",
   "execution_count": 8,
   "metadata": {},
   "outputs": [],
   "source": [
    "Text='GCGTGCCTGGTCA$'\n",
    "SuffixArray  = Construction(Text)"
   ]
  },
  {
   "cell_type": "code",
   "execution_count": 9,
   "metadata": {},
   "outputs": [
    {
     "data": {
      "text/plain": [
       "{'GCGTGCCTGGTCA$': '$',\n",
       " 'CGTGCCTGGTCA$': 'G',\n",
       " 'GTGCCTGGTCA$': 'C',\n",
       " 'TGCCTGGTCA$': 'G',\n",
       " 'GCCTGGTCA$': 'T',\n",
       " 'CCTGGTCA$': 'G',\n",
       " 'CTGGTCA$': 'C',\n",
       " 'TGGTCA$': 'C',\n",
       " 'GGTCA$': 'T',\n",
       " 'GTCA$': 'G',\n",
       " 'TCA$': 'G',\n",
       " 'CA$': 'T',\n",
       " 'A$': 'C',\n",
       " '$': 'A'}"
      ]
     },
     "execution_count": 9,
     "metadata": {},
     "output_type": "execute_result"
    }
   ],
   "source": [
    "SuffixArray"
   ]
  },
  {
   "cell_type": "code",
   "execution_count": 11,
   "metadata": {},
   "outputs": [
    {
     "name": "stdout",
     "output_type": "stream",
     "text": [
      "ACTGGCT$TGCGGC"
     ]
    }
   ],
   "source": [
    "for key in sorted(SuffixArray.keys()):\n",
    "    print(SuffixArray[key],end='')"
   ]
  },
  {
   "cell_type": "code",
   "execution_count": 12,
   "metadata": {},
   "outputs": [],
   "source": [
    "Text='GACAGTAAAGGTGGTGCATTAGTACTAGCGGCGTTCTAGCCACCGCAACAATGGTAAAGCTTTTCTGGTTCGGATTCGACTCGAAACACCACCGCGTCTAATATGTTGATCCGTACTAGTTCTACCACTCTGAGCACAAACGCGGCCAAAGCTCTTCAGGCATCATATCACTCATGCCAATCGATTAGCTTACCCGGCGTACTGATGCTCCTGCTACCCAAACCTACTGGGTTTACACACTTTGGACCGCGGTTGTCACGTGGCTGGGCCGAAACATCCTCCTCAGTTGGACCCTTTCAGCGGCCAGTGAGTGCTTAACTGTCGCGTTATTTCAAGAATTTTAACGTGCGCCCGAACCCAGTAAAAAAAGATATCTTCTTCGACTAAGGGCAGGATCGAATTTAACGAGAGCTCTCACCGTGACCAATATACACTGACCTTTAGGATTACAGCTAGCCGGCGTACAATTTAATACTGCGGTGTGATAGTGAACATACGAGAAGCGGCTGCCCTCCGGAACCATGTAAGCTCGGCCGTAGGAATGTCCCTCGCGACTACGTTACACTACGAGTCAGTCAAGACTTCCTTACGATATTCTCAGAGTGCGCGTATACGGTCACGCCGATCAGCGAACAACAGAACGGCGCCAATCGTCAGAGTCCGTTGCCTCTTCGCGTATCTTTCTCCAAAAGAAAAGGGCCGTGTCACCGGGCATTCAAGAGCAAGTACCTAAGGAGAGACGCTCCATCCCTCCAATAGAGCACGTAAATCTATACAGCAATTGGCATAACCCGAGGCCCGTTGGCCCGTTTTTCCTAGCCATTCCCTTTTATATGCTAGTAGACCTTTCACAATCCCAGGCCCTGAGCTAAGACAATAAAACAAAGCGTACGGCTACTGAGACAGATTATAGTCTTTTAGCCCGCAAATTATCCCCCATTCCTCCTAGAGTTGGTA$'\n",
    "SuffixArray  = Construction(Text)"
   ]
  },
  {
   "cell_type": "code",
   "execution_count": 13,
   "metadata": {},
   "outputs": [
    {
     "name": "stdout",
     "output_type": "stream",
     "text": [
      "ATTAATCAGAGGCCAACCTATTCAGCACGAGGTATAGTTACTCCAGATAATTAACCTCCTCCCACGACGCGCAAGCATTATTCAGTTGAAGCTATAATGCGCCCTAGGTATTCAGATTCACTGCGTTCGCCTTTTAGCACGAAGTGAGATGCCTACGCGGTTTTCCTAAGCAGATATACTCGCAAACCATTCGGTTCGGTCGACTTCTAATGACGTAGTGCATCGCGAAATTCTGACATGGCGACCCGTAAATACCAACGGATTTGACCACCAGAGTAACCTTTGTATCAAATTAATTAGTCCATCTGATGCATCGGCCTCGTAGGGAACCGTAGCATACCTGAGAGGTGTGATGCCGCAAATGCATGAGTCCAATTTCCTTCGCTTAACCTCGCTTGTAACAACTCCGGATACGTCTACTGGTACCGAGCAGGAGGCGCGGTGCAACAGGCCCGCATTGAAGCCTCGAGATTTCATCGCCCGACGGAGCAATCAGACGATAGGCTATTTCCCTATCGACCCTGCAAGCAAA$TGGTAACCCACTAGCATATACCAATATACCTGTGCAGCCAAAAGGGTGGTCAGACAGGTGGCAGGTACGTTCAAATCGAGCCCCGATGATCTAAAGGTAACATTAAACGTAGCCATAGCGCCCCCCTACTATTTCTACTCGGAGACTCACACCACCCATGTCATATCAACATGCAACGCGCCGACTCACAGGCGGAGGGATTTCGCCTCGTTAATCCTGACTGACGGCGACGACCCTCCTGTTCAACACGTTATAGAAATTGTTGCGGAGCATTGCACCCCAAAGTCAGCTCTACTCATTACTGTCAGTTACTTCTCTCAAGGGCCCCGGTCGACTGGCCAAGTTTTGCCTAGCAGTACGATTCTTGACCTATAATAGTATTCATACCACGGGATTCGGGTAGGGATAGTCTACCTCTCACCTCG"
     ]
    }
   ],
   "source": [
    "for key in sorted(SuffixArray.keys()):\n",
    "    print(SuffixArray[key],end='')"
   ]
  },
  {
   "cell_type": "code",
   "execution_count": null,
   "metadata": {},
   "outputs": [],
   "source": []
  }
 ],
 "metadata": {
  "kernelspec": {
   "display_name": "Python 3",
   "language": "python",
   "name": "python3"
  },
  "language_info": {
   "codemirror_mode": {
    "name": "ipython",
    "version": 3
   },
   "file_extension": ".py",
   "mimetype": "text/x-python",
   "name": "python",
   "nbconvert_exporter": "python",
   "pygments_lexer": "ipython3",
   "version": "3.7.3"
  }
 },
 "nbformat": 4,
 "nbformat_minor": 4
}
