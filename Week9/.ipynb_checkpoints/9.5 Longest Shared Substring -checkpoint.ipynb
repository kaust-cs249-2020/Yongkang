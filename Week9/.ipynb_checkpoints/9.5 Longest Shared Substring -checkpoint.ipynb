{
 "cells": [
  {
   "cell_type": "code",
   "execution_count": 1,
   "metadata": {},
   "outputs": [],
   "source": [
    "from collections import defaultdict"
   ]
  },
  {
   "cell_type": "code",
   "execution_count": 2,
   "metadata": {},
   "outputs": [],
   "source": [
    "def ModifiedSuffixTrieConstruction(Text):\n",
    "    #Trie ← a graph consisting of a single node root\n",
    "    Trie = dict()  #(node1,symbol)->(node2,position)\n",
    "    Label = dict() #(node1,symbol)->(label)\n",
    "    BranchNode = defaultdict(set) #node1->(symbol1,symbol2) More than 1 symbol means branch node\n",
    "    #Position = dict()\n",
    "    endingNode = 0\n",
    "    n = len(Text)\n",
    "    #for i ← 0 to |Text| - 1\n",
    "    for i in range(n):\n",
    "        #currentNode ← root\n",
    "        currentNode = 0\n",
    "        currentSymbol = ''\n",
    "        #for j ← i to |Text| - 1\n",
    "        for j in range(i,n):\n",
    "            #currentSymbol ← j-th symbol of Text\n",
    "            currentSymbol = Text[j]\n",
    "            #if there is an outgoing edge from currentNode labeled by currentSymbol\n",
    "            if (currentNode,currentSymbol) in Trie.keys():\n",
    "                #currentNode ← ending node of this edge\n",
    "                currentNode,_ = Trie[(currentNode,currentSymbol)]\n",
    "            else:\n",
    "                #add a new node newNode to Trie\n",
    "                endingNode  += 1\n",
    "                newNode = endingNode\n",
    "                #add an edge newEdge connecting currentNode to newNode in Trie\n",
    "                #Symbol(newEdge) ← currentSymbol\n",
    "                #Position(newEdge) ← j\n",
    "                Trie[(currentNode,currentSymbol)] = (newNode,j)\n",
    "                BranchNode[currentNode].add(currentSymbol)\n",
    "                #currentNode ← newNode\n",
    "                currentNode = newNode\n",
    "        #if currentNode is a leaf in Trie\n",
    "        if currentSymbol == '$':\n",
    "            #assign label i to this leaf\n",
    "            Label[(currentNode,currentSymbol)] = i\n",
    "    return Trie,Label,BranchNode"
   ]
  },
  {
   "cell_type": "code",
   "execution_count": 48,
   "metadata": {},
   "outputs": [],
   "source": [
    "def ModifiedSuffixTreeConstruction(node1,length,root,position):\n",
    "    Symbols = BranchNode[node1]\n",
    "    #####Branch Node\n",
    "    if(len(Symbols)>1 and node1 !=0):\n",
    "        SuffixTree[(root,position-length+1)] = (node1,position)\n",
    "            \n",
    "        ###We do not initail for longest path problem\n",
    "        #####Initial the root node and substring length\n",
    "        #length = 0\n",
    "        #root = node1\n",
    "        \n",
    "    for symbol in Symbols:\n",
    "        newlength = length\n",
    "        node2,position = Trie[(node1,symbol)]\n",
    "        if(symbol == \"$\"):\n",
    "            ######Termial\n",
    "            final_length = length+1\n",
    "            ####Do not need for longest path problem\n",
    "            #SuffixTree[(root,position-final_length+1)] = (node2,position)\n",
    "        else:\n",
    "            ######Continue\n",
    "            newlength += 1\n",
    "            ModifiedSuffixTreeConstruction(node2,newlength,root,position)"
   ]
  },
  {
   "cell_type": "code",
   "execution_count": 49,
   "metadata": {},
   "outputs": [],
   "source": [
    "Text='ATATCGTTTTATCGTT$'\n",
    "#Text = 'ATAAATG$'\n",
    "\n",
    "Trie,Label,BranchNode = ModifiedSuffixTrieConstruction(Text)\n",
    "SuffixTree = {}\n",
    "\n",
    "ModifiedSuffixTreeConstruction(0,0,0,0)###node1,length,root,position,maxLength"
   ]
  },
  {
   "cell_type": "raw",
   "metadata": {},
   "source": [
    "Sample Input:\n",
    "\n",
    "ATATCGTTTTATCGTT\n",
    "\n",
    "Sample Output:\n",
    "\n",
    "TATCGTT"
   ]
  },
  {
   "cell_type": "code",
   "execution_count": 51,
   "metadata": {},
   "outputs": [
    {
     "name": "stdout",
     "output_type": "stream",
     "text": [
      "TATCGTT\n"
     ]
    }
   ],
   "source": [
    "LongestRepeat = ''\n",
    "maxLength = 0\n",
    "for key,val in SuffixTree.items():\n",
    "    #print (key,val)\n",
    "    pos1 = key[1]\n",
    "    pos2 = val[1]+1\n",
    "    length = pos2-pos1\n",
    "    #print(Text[key[1]:val[1]+1])\n",
    "    if(maxLength<length):\n",
    "        maxLength = length\n",
    "        LongestRepeat = Text[key[1]:val[1]+1]\n",
    "\n",
    "print(LongestRepeat)\n",
    "    "
   ]
  },
  {
   "cell_type": "code",
   "execution_count": 54,
   "metadata": {},
   "outputs": [],
   "source": [
    "Text=''\n",
    "file = open('dataset_369391_5.txt', 'r') \n",
    "#file = open('out', 'r') \n",
    "for i, line in enumerate(file):\n",
    "    line=line.strip()\n",
    "    if i==0:\n",
    "        Text = line"
   ]
  },
  {
   "cell_type": "code",
   "execution_count": 52,
   "metadata": {},
   "outputs": [],
   "source": [
    "#out = open('out.txt', 'w')\n",
    "#for edge in Edge_Label:\n",
    " #   out.write(edge+'\\n')"
   ]
  },
  {
   "cell_type": "code",
   "execution_count": 55,
   "metadata": {},
   "outputs": [],
   "source": [
    "\n",
    "Trie,Label,BranchNode = ModifiedSuffixTrieConstruction(Text)\n",
    "SuffixTree = {}\n",
    "\n",
    "ModifiedSuffixTreeConstruction(0,0,0,0)###node1,length,root,position,maxLength"
   ]
  },
  {
   "cell_type": "code",
   "execution_count": 56,
   "metadata": {},
   "outputs": [
    {
     "name": "stdout",
     "output_type": "stream",
     "text": [
      "CGAACCAAGATGGCAATGTCGCGTGATCTTCGCATGACTAAAACTCGTTATCGCAGAGCTGGCCAAAATTAACCAAGCACTAACTGAGAGCAAG\n"
     ]
    }
   ],
   "source": [
    "LongestRepeat = ''\n",
    "maxLength = 0\n",
    "for key,val in SuffixTree.items():\n",
    "    #print (key,val)\n",
    "    pos1 = key[1]\n",
    "    pos2 = val[1]+1\n",
    "    length = pos2-pos1\n",
    "    #print(Text[key[1]:val[1]+1])\n",
    "    if(maxLength<length):\n",
    "        maxLength = length\n",
    "        LongestRepeat = Text[key[1]:val[1]+1]\n",
    "\n",
    "print(LongestRepeat)\n",
    "    "
   ]
  },
  {
   "cell_type": "code",
   "execution_count": null,
   "metadata": {},
   "outputs": [],
   "source": []
  }
 ],
 "metadata": {
  "kernelspec": {
   "display_name": "Python 3",
   "language": "python",
   "name": "python3"
  },
  "language_info": {
   "codemirror_mode": {
    "name": "ipython",
    "version": 3
   },
   "file_extension": ".py",
   "mimetype": "text/x-python",
   "name": "python",
   "nbconvert_exporter": "python",
   "pygments_lexer": "ipython3",
   "version": "3.7.3"
  }
 },
 "nbformat": 4,
 "nbformat_minor": 4
}
