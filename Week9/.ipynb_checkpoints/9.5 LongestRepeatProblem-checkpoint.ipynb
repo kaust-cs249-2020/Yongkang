{
 "cells": [
  {
   "cell_type": "code",
   "execution_count": 1,
   "metadata": {},
   "outputs": [],
   "source": [
    "from collections import defaultdict"
   ]
  },
  {
   "cell_type": "code",
   "execution_count": 2,
   "metadata": {},
   "outputs": [],
   "source": [
    "def ModifiedSuffixTrieConstruction(Text):\n",
    "    #Trie ← a graph consisting of a single node root\n",
    "    Trie = dict()  #(node1,symbol)->(node2,position)\n",
    "    Label = dict() #(node1,symbol)->(label)\n",
    "    BranchNode = defaultdict(set) #node1->(symbol1,symbol2) More than 1 symbol means branch node\n",
    "    #Position = dict()\n",
    "    endingNode = 0\n",
    "    n = len(Text)\n",
    "    #for i ← 0 to |Text| - 1\n",
    "    for i in range(n):\n",
    "        #currentNode ← root\n",
    "        currentNode = 0\n",
    "        currentSymbol = ''\n",
    "        #for j ← i to |Text| - 1\n",
    "        for j in range(i,n):\n",
    "            #currentSymbol ← j-th symbol of Text\n",
    "            currentSymbol = Text[j]\n",
    "            #if there is an outgoing edge from currentNode labeled by currentSymbol\n",
    "            if (currentNode,currentSymbol) in Trie.keys():\n",
    "                #currentNode ← ending node of this edge\n",
    "                currentNode,_ = Trie[(currentNode,currentSymbol)]\n",
    "            else:\n",
    "                #add a new node newNode to Trie\n",
    "                endingNode  += 1\n",
    "                newNode = endingNode\n",
    "                #add an edge newEdge connecting currentNode to newNode in Trie\n",
    "                #Symbol(newEdge) ← currentSymbol\n",
    "                #Position(newEdge) ← j\n",
    "                Trie[(currentNode,currentSymbol)] = (newNode,j)\n",
    "                BranchNode[currentNode].add(currentSymbol)\n",
    "                #currentNode ← newNode\n",
    "                currentNode = newNode\n",
    "        #if currentNode is a leaf in Trie\n",
    "        if currentSymbol == '$':\n",
    "            #assign label i to this leaf\n",
    "            Label[(currentNode,currentSymbol)] = i\n",
    "    return Trie,Label,BranchNode"
   ]
  },
  {
   "cell_type": "code",
   "execution_count": 3,
   "metadata": {},
   "outputs": [],
   "source": [
    "def ModifiedSuffixTreeConstruction(node1,length,root,position):\n",
    "    Symbols = BranchNode[node1]\n",
    "    #####Branch Node\n",
    "    if(len(Symbols)>1 and node1 !=0):\n",
    "        #SuffixTree[(root,position-length+1)] = (node1,position)\n",
    "        #####Initial the root node and substring length\n",
    "        length = 0\n",
    "        root = node1\n",
    "    for symbol in Symbols:\n",
    "        newlength = length\n",
    "        node2,position = Trie[(node1,symbol)]\n",
    "        if(symbol == \"$\"):\n",
    "            ######Termial\n",
    "            final_length = length+1\n",
    "            SuffixTree[(root,position-final_length+1)] = (node2,position)\n",
    "        else:\n",
    "            ######Continue\n",
    "            newlength += 1\n",
    "            ModifiedSuffixTreeConstruction(node2,newlength,root,position)"
   ]
  },
  {
   "cell_type": "code",
   "execution_count": 11,
   "metadata": {},
   "outputs": [],
   "source": [
    "Text='ATATCGTTTTATCGTT$'\n",
    "Text = 'ATAAATG$'\n",
    "Trie,Label,BranchNode = ModifiedSuffixTrieConstruction(Text)\n",
    "SuffixTree = {}\n",
    "ModifiedSuffixTreeConstruction(0,0,0,0)  ###node1,length,root,position"
   ]
  },
  {
   "cell_type": "code",
   "execution_count": 17,
   "metadata": {},
   "outputs": [
    {
     "name": "stdout",
     "output_type": "stream",
     "text": [
      "(0, 7) (30, 7)\n",
      "$\n",
      "(0, 6) (29, 7)\n",
      "G$\n",
      "(9, 6) (27, 7)\n",
      "G$\n",
      "(9, 2) (15, 7)\n",
      "AAATG$\n",
      "(2, 6) (25, 7)\n",
      "G$\n",
      "(2, 2) (8, 7)\n",
      "AAATG$\n",
      "(16, 5) (23, 7)\n",
      "TG$\n",
      "(16, 4) (20, 7)\n",
      "ATG$\n"
     ]
    }
   ],
   "source": [
    "for key,val in SuffixTree.items():\n",
    "    print (key,val)\n",
    "    print(Text[key[1]:val[1]+1])"
   ]
  },
  {
   "cell_type": "code",
   "execution_count": 8,
   "metadata": {},
   "outputs": [
    {
     "name": "stdout",
     "output_type": "stream",
     "text": [
      "$\n",
      "TTATCGTT$\n",
      "$\n",
      "$\n",
      "$\n",
      "TTATCGTT$\n",
      "$\n",
      "TATCGTT$\n",
      "ATCGTT$\n",
      "ATCGTT$\n",
      "$\n",
      "TTATCGTT$\n",
      "$\n",
      "TTATCGTT$\n",
      "$\n",
      "TTATCGTT$\n",
      "ATCGTTTTATCGTT$\n"
     ]
    }
   ],
   "source": [
    "def LongestRepeat(SuffixTree,root,0):\n",
    "    SuffixTree[(root,position-final_length+1)] = (node2,position)\n",
    "    \n",
    "    \n",
    "        "
   ]
  },
  {
   "cell_type": "code",
   "execution_count": 7,
   "metadata": {},
   "outputs": [],
   "source": [
    "Text=''\n",
    "file = open('dataset_369391_4.txt', 'r') \n",
    "#file = open('out', 'r') \n",
    "for i, line in enumerate(file):\n",
    "    line=line.strip()\n",
    "    if i==0:\n",
    "        Text = line"
   ]
  },
  {
   "cell_type": "code",
   "execution_count": 8,
   "metadata": {},
   "outputs": [
    {
     "ename": "NameError",
     "evalue": "name 'Edge_Label' is not defined",
     "output_type": "error",
     "traceback": [
      "\u001b[0;31m---------------------------------------------------------------------------\u001b[0m",
      "\u001b[0;31mNameError\u001b[0m                                 Traceback (most recent call last)",
      "\u001b[0;32m<ipython-input-8-0cea2ed25625>\u001b[0m in \u001b[0;36m<module>\u001b[0;34m\u001b[0m\n\u001b[1;32m      1\u001b[0m \u001b[0mout\u001b[0m \u001b[0;34m=\u001b[0m \u001b[0mopen\u001b[0m\u001b[0;34m(\u001b[0m\u001b[0;34m'out.txt'\u001b[0m\u001b[0;34m,\u001b[0m \u001b[0;34m'w'\u001b[0m\u001b[0;34m)\u001b[0m\u001b[0;34m\u001b[0m\u001b[0;34m\u001b[0m\u001b[0m\n\u001b[0;32m----> 2\u001b[0;31m \u001b[0;32mfor\u001b[0m \u001b[0medge\u001b[0m \u001b[0;32min\u001b[0m \u001b[0mEdge_Label\u001b[0m\u001b[0;34m:\u001b[0m\u001b[0;34m\u001b[0m\u001b[0;34m\u001b[0m\u001b[0m\n\u001b[0m\u001b[1;32m      3\u001b[0m     \u001b[0mout\u001b[0m\u001b[0;34m.\u001b[0m\u001b[0mwrite\u001b[0m\u001b[0;34m(\u001b[0m\u001b[0medge\u001b[0m\u001b[0;34m+\u001b[0m\u001b[0;34m'\\n'\u001b[0m\u001b[0;34m)\u001b[0m\u001b[0;34m\u001b[0m\u001b[0;34m\u001b[0m\u001b[0m\n",
      "\u001b[0;31mNameError\u001b[0m: name 'Edge_Label' is not defined"
     ]
    },
    {
     "ename": "NameError",
     "evalue": "name 'Edge_Label' is not defined",
     "output_type": "error",
     "traceback": [
      "\u001b[0;31m---------------------------------------------------------------------------\u001b[0m",
      "\u001b[0;31mNameError\u001b[0m                                 Traceback (most recent call last)",
      "\u001b[0;32m<ipython-input-8-0cea2ed25625>\u001b[0m in \u001b[0;36m<module>\u001b[0;34m\u001b[0m\n\u001b[1;32m      1\u001b[0m \u001b[0mout\u001b[0m \u001b[0;34m=\u001b[0m \u001b[0mopen\u001b[0m\u001b[0;34m(\u001b[0m\u001b[0;34m'out.txt'\u001b[0m\u001b[0;34m,\u001b[0m \u001b[0;34m'w'\u001b[0m\u001b[0;34m)\u001b[0m\u001b[0;34m\u001b[0m\u001b[0;34m\u001b[0m\u001b[0m\n\u001b[0;32m----> 2\u001b[0;31m \u001b[0;32mfor\u001b[0m \u001b[0medge\u001b[0m \u001b[0;32min\u001b[0m \u001b[0mEdge_Label\u001b[0m\u001b[0;34m:\u001b[0m\u001b[0;34m\u001b[0m\u001b[0;34m\u001b[0m\u001b[0m\n\u001b[0m\u001b[1;32m      3\u001b[0m     \u001b[0mout\u001b[0m\u001b[0;34m.\u001b[0m\u001b[0mwrite\u001b[0m\u001b[0;34m(\u001b[0m\u001b[0medge\u001b[0m\u001b[0;34m+\u001b[0m\u001b[0;34m'\\n'\u001b[0m\u001b[0;34m)\u001b[0m\u001b[0;34m\u001b[0m\u001b[0;34m\u001b[0m\u001b[0m\n",
      "\u001b[0;31mNameError\u001b[0m: name 'Edge_Label' is not defined"
     ]
    }
   ],
   "source": [
    "out = open('out.txt', 'w')\n",
    "for edge in Edge_Label:\n",
    "    out.write(edge+'\\n')"
   ]
  }
 ],
 "metadata": {
  "kernelspec": {
   "display_name": "Python 3",
   "language": "python",
   "name": "python3"
  },
  "language_info": {
   "codemirror_mode": {
    "name": "ipython",
    "version": 3
   },
   "file_extension": ".py",
   "mimetype": "text/x-python",
   "name": "python",
   "nbconvert_exporter": "python",
   "pygments_lexer": "ipython3",
   "version": "3.7.3"
  }
 },
 "nbformat": 4,
 "nbformat_minor": 4
}
