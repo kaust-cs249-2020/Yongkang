{
 "cells": [
  {
   "cell_type": "code",
   "execution_count": 1,
   "metadata": {},
   "outputs": [],
   "source": [
    "#####Less memory\n",
    "def OrderText(Text,k=5):\n",
    "    n = len(Text)\n",
    "    TextCount = dict()\n",
    "    LastColumn= []\n",
    "    ###Initial Count\n",
    "    Count = [ {char:0 for char in set(Text)}  for i in range (n//k+1+1) ]    ####A list of dictionary  The first +1 for 0 row, the second +1 is useless for the end\n",
    "    for i in range(n):\n",
    "        base = Text[i]\n",
    "        if(i%k==0):\n",
    "            for char in set(Text):\n",
    "                Count[i//k+1][char] = Count[i//k][char]\n",
    "        Count[i//k+1][base] +=1\n",
    "\n",
    "        if base in TextCount.keys():\n",
    "            TextCount[base] += 1\n",
    "            LastColumn.append((base,TextCount[base]))\n",
    "        else:\n",
    "            TextCount[base]  = 0\n",
    "            LastColumn.append((base,TextCount[base]))\n",
    "    return LastColumn,TextCount,Count"
   ]
  },
  {
   "cell_type": "code",
   "execution_count": 2,
   "metadata": {},
   "outputs": [],
   "source": [
    "####Update to FisrtOccurence\n",
    "def Sorted(TextCount):\n",
    "    FirstOccurence = {}\n",
    "    i = 0\n",
    "    for key in sorted(TextCount.keys()):\n",
    "        val  = TextCount[key]+1\n",
    "        FirstOccurence[key] = i\n",
    "        i += val\n",
    "    return FirstOccurence"
   ]
  },
  {
   "cell_type": "code",
   "execution_count": 3,
   "metadata": {},
   "outputs": [],
   "source": [
    "def Construction(Text):\n",
    "    n = len(Text)\n",
    "    Dict1 = dict()\n",
    "    for i in range(0,n):\n",
    "        Dict1[Text[i:]] = (i,Text[i-1])\n",
    "     \n",
    "    NewText = ''\n",
    "    SuffixArray = [i for i in range(n)]\n",
    "    i=0\n",
    "    for key in sorted(Dict1.keys()):\n",
    "        index,char = Dict1[key]\n",
    "        NewText += char\n",
    "        SuffixArray[i] = index\n",
    "        i += 1\n",
    "        \n",
    "    return SuffixArray,NewText\n",
    "        "
   ]
  },
  {
   "cell_type": "code",
   "execution_count": 4,
   "metadata": {},
   "outputs": [],
   "source": [
    "def BWMatching(SuffixArray,SufText,LastColumn,Pattern,FirstOccurence,Count,k=5):\n",
    "    top = 0\n",
    "    bottom = len(LastColumn)-1\n",
    "    while(top<=bottom):\n",
    "        if Pattern:\n",
    "            symbol = Pattern[-1]\n",
    "            Pattern = Pattern[0:len(Pattern)-1]\n",
    "            \n",
    "            ####Update top and bottom\n",
    "            count = FirstOccurence[symbol] +Count[top//k][symbol]\n",
    "            ######Modified non exists top in count table\n",
    "            for i in range(top-top%k,top):\n",
    "                if (SufText[i] == symbol):\n",
    "                    count+= 1\n",
    "            top = count\n",
    "            \n",
    "           \n",
    "            count =  FirstOccurence[symbol] +Count[(bottom)//k][symbol]\n",
    "            ######Modified non exists top in count table\n",
    "            for i in range(bottom-bottom%k ,bottom+1):\n",
    "                if (SufText[i] == symbol):\n",
    "                    count+=1\n",
    "            bottom = count-1\n",
    "        else:\n",
    "            #return bottom+1-top\n",
    "            position = set()\n",
    "            for i in range(top,bottom+1):\n",
    "                position.add(SuffixArray[i])\n",
    "            return position\n",
    "                  \n",
    "    ####No Match\n",
    "    return {}"
   ]
  },
  {
   "cell_type": "code",
   "execution_count": 191,
   "metadata": {},
   "outputs": [],
   "source": [
    "def Extension(OriginText,SuffixArray,Text,LastColumn,Pattern,FirstOccurence,Count,c,i,k):\n",
    "        pattern = Pattern[i*k:i*k+k]\n",
    "        Positions = BWMatching(SuffixArray,Text,LastColumn,pattern,FirstOccurence,Count,c)\n",
    "        for pos in Positions:\n",
    "            #####Check repeat positon\n",
    "            #if(pos-i*k in FinalPositions):\n",
    "              #  continue\n",
    "            mismatch = 0\n",
    "            for j in range(0,i*k):\n",
    "                if(Pattern[j] != OriginText[pos-i*k+j]):\n",
    "                    mismatch+=1\n",
    "                if(mismatch>d):\n",
    "                    break   \n",
    "            if(mismatch>d):\n",
    "                break\n",
    "            \n",
    "            for j in range(i*k+k,len(Pattern)):\n",
    "                if(Pattern[j] != OriginText[pos+j-i*k]):\n",
    "                    mismatch+=1\n",
    "                if(mismatch>d):\n",
    "                    break\n",
    "                    \n",
    "            if(mismatch<=d):\n",
    "                newpos = pos-i*k\n",
    "                FinalPositions.add(newpos)\n",
    "                #print(newpos,end= ' ')"
   ]
  },
  {
   "cell_type": "code",
   "execution_count": 193,
   "metadata": {},
   "outputs": [],
   "source": [
    "def Extension2(OriginText,SuffixArray,Text,LastColumn,Pattern,FirstOccurence,Count,c,i,k):\n",
    "        pattern = Pattern[i*k:]\n",
    "        Positions = BWMatching(SuffixArray,Text,LastColumn,pattern,FirstOccurence,Count,c)\n",
    "        for pos in Positions:\n",
    "            #####Check repeat positon\n",
    "            #if(pos-i*k in FinalPositions):\n",
    "              #  continue\n",
    "            mismatch = 0\n",
    "            for j in range(0,i*k):\n",
    "                if(Pattern[j] != OriginText[pos-i*k+j]):\n",
    "                    mismatch+=1\n",
    "                if(mismatch>d):\n",
    "                    break\n",
    "            if(mismatch<=d):\n",
    "                newpos = pos-i*k\n",
    "                FinalPositions.add(newpos)\n",
    "                #print(newpos,end= ' ')"
   ]
  },
  {
   "cell_type": "code",
   "execution_count": 160,
   "metadata": {},
   "outputs": [
    {
     "name": "stdout",
     "output_type": "stream",
     "text": [
      "AT\n",
      "{1, 11}\n",
      "CG\n",
      "{3, 13}\n",
      "1 11 GG\n",
      "{4, 5, 14, 15, 16}\n",
      "1\n",
      "1\n",
      "1\n",
      "2\n",
      "GT\n",
      "{17, 6}\n",
      "4 5 14 15 "
     ]
    }
   ],
   "source": [
    "OriginText='ACATGCTACTTT$'\n",
    "Patterns = 'ATT GCC GCTA TATT'\n",
    "#Patterns = 'GCTA'\n",
    "Patterns = Patterns.split(' ')\n",
    "\n",
    "OriginText='AATCGGGTTCAATCGGGGT'\n",
    "OriginText += '$'\n",
    "Patterns = ['ATCG' , 'GGGT']\n",
    "c=5\n",
    "SuffixArray,Text = Construction(OriginText)\n",
    "c=5\n",
    "d=1\n",
    "LastColumn,TextCount,Count = OrderText(Text,c)\n",
    "FirstOccurence = Sorted(TextCount)\n",
    "for Pattern in Patterns:\n",
    "    n  = len(Pattern)\n",
    "    k = int(len(Pattern)/(d+1))\n",
    "    FinalPositions = set()   ###Update in Extension\n",
    "    for i in range(d):\n",
    "        Extension(OriginText,SuffixArray,Text,LastColumn,Pattern,FirstOccurence,Count,c,i,k)\n",
    "    ######The last substring\n",
    "    Extension2(OriginText,SuffixArray,Text,LastColumn,Pattern,FirstOccurence,Count,c,d,k)\n",
    "    \n",
    "    for pos in FinalPositions:\n",
    "        print(pos,end=' ')\n",
    "            "
   ]
  },
  {
   "cell_type": "code",
   "execution_count": 183,
   "metadata": {},
   "outputs": [
    {
     "name": "stdout",
     "output_type": "stream",
     "text": [
      "{1, 11}\n",
      "CG\n",
      "{3, 13}\n",
      "1 11 {4, 5, 14, 15, 16}\n",
      "7\n",
      "T\n",
      "1\n",
      "17\n",
      "G\n",
      "1\n",
      "18\n",
      "T\n",
      "1\n",
      "19\n",
      "$\n",
      "2\n",
      "GT\n",
      "{17, 6}\n",
      "4 5 14 15 "
     ]
    }
   ],
   "source": [
    "OriginText='AATCGGGTTCAATCGGGGT'\n",
    "OriginText += '$'\n",
    "Patterns = ['ATCG' , 'GGGT']\n",
    "Patterns = ['ATCG' , 'GGGT']\n",
    "c=5\n",
    "d=1\n",
    "SuffixArray,Text = Construction(OriginText)\n",
    "LastColumn,TextCount,Count = OrderText(Text,c)\n",
    "FirstOccurence = Sorted(TextCount)\n",
    "for Pattern in Patterns:\n",
    "    n  = len(Pattern)\n",
    "    k = int(len(Pattern)/(d+1))\n",
    "    FinalPositions = set()   ###Update in Extension\n",
    "    for i in range(d):\n",
    "        Extension(OriginText,SuffixArray,Text,LastColumn,Pattern,FirstOccurence,Count,c,i,k)\n",
    "    ######The last substring\n",
    "    Extension2(OriginText,SuffixArray,Text,LastColumn,Pattern,FirstOccurence,Count,c,d,k)\n",
    "    \n",
    "    for pos in FinalPositions:\n",
    "        print(pos,end=' ')"
   ]
  },
  {
   "cell_type": "raw",
   "metadata": {},
   "source": [
    "Sample Input:\n",
    "ACATGCTACTTT\n",
    "ATT GCC GCTA TATT\n",
    "1\n",
    "Sample Output:\n",
    "2 4 4 6 7 8 9"
   ]
  },
  {
   "cell_type": "code",
   "execution_count": 197,
   "metadata": {},
   "outputs": [],
   "source": [
    "OriginText=''\n",
    "Patterns= []\n",
    "d=0\n",
    "file = open('dataset_369400_10.txt', 'r') \n",
    "#file = open('extra.txt')\n",
    "for i, line in enumerate(file):\n",
    "    line=line.strip()\n",
    "    if i==0:\n",
    "        OriginText = line\n",
    "    elif i==1:\n",
    "        Patterns = line.split(' ')\n",
    "    else:\n",
    "        d= int(line)\n",
    "OriginText += '$'"
   ]
  },
  {
   "cell_type": "code",
   "execution_count": 198,
   "metadata": {},
   "outputs": [
    {
     "name": "stdout",
     "output_type": "stream",
     "text": [
      "2307 385 1315 1347 9254 6598 803 8073 1089 5028 2925 2945 3035 1355 4321 92 322 1590 4343 9422 2308 4315 7975 2074 192 5531 8527 458 2483 6008 7413 7202 4253 8340 3901 8307 5861 8543 9281 863 8155 8825 6899 6343 3775 6977 3498 4761 4082 3469 1137 8008 5930 4750 7811 8077 1920 8671 4948 411 1076 320 1846 516 950 62 8812 4889 6635 9430 5982 6280 595 5966 9235 8524 2285 9058 8314 6555 6506 2299 4631 1071 6328 6963 1005 392 2318 1830 8908 3229 8925 9322 9224 2501 6075 89 1167 7632 6043 4069 9676 6736 763 1067 697 1504 8166 3003 4772 7026 3995 2147 2860 8587 6744 9802 1440 2699 5348 888 7223 3347 7041 7203 3515 6910 3044 1153 1290 225 428 1660 3283 3897 7235 8489 2676 5992 9725 1445 5772 5715 7358 9228 59 5251 5588 8205 4915 8892 351 7246 3034 4126 5900 4711 7050 1386 8946 1309 9481 349 8924 1679 1016 1345 7467 7972 934 5142 2657 7043 8257 5940 1949 2405 8319 291 2416 1241 8009 8481 632 8905 7053 9851 2311 8993 2118 901 6792 5209 7756 4077 8185 8112 3208 3885 6968 6799 5983 3770 5767 8759 3997 8812 6516 9633 7475 6021 3657 7627 5911 5454 5230 3052 9894 4885 7336 3755 8424 519 8985 4232 7847 4204 7955 6345 8640 7781 6588 4611 6195 8030 8618 22 6873 5354 444 9208 378 2799 5989 2454 4307 5113 5868 328 8042 509 6486 4631 2344 7839 3352 2387 9535 423 2285 4886 2700 3235 3550 2779 5124 7981 8345 7136 2576 2010 7719 3855 149 2527 3459 561 3186 5807 183 3260 8326 752 4908 1691 862 5084 2817 7339 509 8967 479 7598 9060 3057 2965 7227 5436 3207 5585 7335 3855 5618 6716 5106 9072 8131 8751 9147 8049 5497 6648 2426 7348 7515 2723 5492 1220 6731 9416 6842 1212 6792 2273 2966 4646 250 4275 619 2482 5654 4577 535 2528 5499 3707 7399 8998 1047 4269 117 1366 5477 5891 4613 849 2803 7312 8728 219 7869 9390 7963 9937 8258 419 7202 1481 4917 8141 3393 7466 8719 9125 8551 8159 346 9435 7526 3747 6913 6814 7223 4074 8509 6006 7571 3736 7002 123 3809 4831 5452 3722 1039 6117 3182 8806 2566 7387 3599 5955 3727 6023 652 320 3158 3808 6209 4833 6419 1932 1751 2580 3060 9673 589 1794 2815 76 5389 3879 9677 6389 3919 4502 7703 7582 603 6104 2315 5742 4137 957 5124 1717 6811 2442 4849 5580 9553 6982 7046 5592 2992 9933 203 2859 9437 7653 1088 5502 2940 7190 2257 1876 9511 9614 7272 6357 1325 4642 4832 6230 246 7340 7692 1405 9083 7717 159 8467 1588 352 4048 7394 4640 9044 386 2615 76 6282 6258 4522 9317 1614 7092 6250 4402 16 1602 9935 817 3853 8778 9589 4146 9265 2088 5168 428 271 2243 4772 3082 8964 3948 5859 4489 9584 1642 6367 8943 3268 9102 2204 3434 33 5737 4632 5041 9826 657 1930 8719 2938 4286 6271 4912 4971 9867 951 9465 1832 5769 5953 6759 3118 8027 2097 2382 5828 5048 433 4473 5537 646 4794 5268 6574 5069 9280 4278 7317 4817 9200 644 5933 6005 472 2438 5195 3176 7040 4779 5758 473 3224 7513 5910 6266 7089 3739 5651 4607 6951 7988 826 1374 3126 1483 8950 5994 2202 3604 4050 1529 7122 3848 2339 6484 4757 529 3913 3074 4685 9937 6483 8970 6676 1160 4778 7332 1673 9839 9016 2371 9376 9343 9778 9115 1342 2258 8303 7796 3717 7853 240 9438 1873 5408 8011 1425 4335 8613 1946 6915 3934 7521 1110 1863 8387 2027 2857 5007 2227 8067 6105 4100 9048 2755 8367 5047 9385 2778 763 6837 7401 6317 7719 7261 7854 4436 9908 830 3216 9697 6050 9497 538 8319 9143 5546 7433 2354 5124 8323 6671 1424 8648 8958 3834 4515 121 9446 8542 8057 6836 3579 2862 969 5645 6049 3572 4256 2049 3102 7359 9061 3128 2230 8877 6091 8036 1342 9596 102 4427 3379 5077 497 5488 8297 8896 162 434 1365 5652 8248 9758 6922 9079 2422 157 3737 2881 5397 4700 1254 247 6247 7041 1980 220 1109 4597 8555 1307 4608 6073 8573 486 6612 6165 8356 6408 6245 6901 2286 7675 1365 909 1725 1045 8077 5137 3549 1321 2435 3508 5855 5687 3085 2156 3713 4810 1161 5679 9479 4650 9509 8541 8286 5842 3459 3458 9163 9929 2337 7376 4062 5553 4984 6914 839 3398 596 3942 3652 6838 483 787 8207 2567 3687 8368 4615 1441 443 8810 7212 7700 1410 469 8619 9688 6107 7548 9789 1379 4570 9020 8274 5790 4899 4507 3800 2867 7525 9796 5602 2419 4569 1574 8702 4291 5665 957 472 2080 4511 6289 324 1159 3299 2092 3127 294 5408 190 2150 3495 2368 9090 4098 4444 3080 7144 8114 1965 2475 8101 1591 3932 8582 4084 5742 7781 1183 8949 3956 6312 2571 3359 837 2612 2492 3862 4274 5389 4586 309 7223 5441 2116 5048 2392 7210 37 927 6958 6516 2064 6004 3132 9569 9347 7549 7557 1596 9038 653 5000 6912 9235 3649 1454 8502 4976 329 5349 9229 5253 289 7381 1923 7754 4632 1307 8547 2919 3188 4524 776 5601 4953 4219 8518 4179 5234 6876 6181 3496 3979 4589 1216 6681 6478 9262 9508 3484 4107 4503 8875 8849 6862 5127 7021 2167 2383 6369 9088 1202 809 4806 5415 5916 588 64 9432 2617 2625 424 9653 80 1554 9516 6456 7077 1235 376 6514 7286 4429 6910 3089 1254 159 8959 9634 6123 6062 7813 2766 1174 3567 7271 8736 1671 9836 6712 1447 5609 2728 9212 7930 4293 8990 4134 4078 6781 8083 4468 9439 8045 4022 67 1912 9573 5388 6534 7805 5029 1423 9364 3617 5674 3584 9135 9687 2061 6038 9599 3966 9115 3633 52 3032 8042 986 4626 6589 9302 8158 1398 5251 2082 2495 2518 5137 9729 8954 8263 7803 6699 8769 204 1859 112 3322 1730 9123 8940 2142 718 6455 8777 4837 8976 6720 4681 5447 3960 6743 5232 8711 3756 7936 6159 2892 3981 7703 3693 8492 9693 2148 4704 2395 9857 5642 7802 8301 9107 2950 3669 2955 4336 6784 1315 1587 7463 1269 4837 6497 6590 3158 3387 4082 5983 5792 9315 1671 1477 4125 3660 9450 4722 8583 1319 3374 2090 4378 8852 3723 3110 9868 8758 4211 6006 2708 1625 4558 7985 9405 4239 7300 2216 5263 8196 1405 4021 838 1265 6048 1852 2925 5842 9892 2444 3299 5255 7918 9233 8308 7641 9951 3415 1287 6899 7980 948 1139 613 9116 5058 4305 8416 1517 9810 5018 1487 4483 5016 2558 6438 6195 3054 6006 2566 3764 1384 4347 5515 3267 3961 4326 6503 957 4984 320 6611 2517 7839 4544 9286 4508 967 8599 9754 8153 4149 9682 825 7004 3716 5688 599 8298 9841 5246 7296 3223 9839 1307 2701 2826 7560 7393 2983 6688 4944 5278 5398 6229 482 7514 8516 6155 7351 6913 9739 6349 7388 3935 6219 5922 7047 6638 5778 1386 6707 3638 6518 1383 6687 1883 9045 5230 6092 757 748 8651 5105 1490 8020 909 5724 1563 8362 553 3129 9001 1212 6163 1825 546 6762 157 8975 6018 4593 1067 1708 1824 2634 3479 1540 8594 1209 5313 8627 7833 1137 8859 820 1177 3210 4538 9011 5985 9460 554 7877 577 6645 1741 7402 6425 5336 557 1608 6292 3536 1040 9792 3460 9873 4316 1889 7625 7178 2275 3542 5945 407 707 4928 5101 6220 2755 255 8606 4408 708 9750 3659 7924 8521 1468 1634 9170 2887 3491 6327 9610 8399 2812 9468 1455 1558 7220 6091 8435 5803 4627 2509 5124 8979 7934 7835 9598 3476 568 9833 5831 6966 6285 591 1442 2670 2997 7779 1182 1806 8026 9202 3471 3475 5754 2047 6431 5104 8958 6226 5068 9093 6886 2900 9176 5045 2308 2079 9572 6733 9357 9100 7943 1164 7898 9488 9299 4944 7143 1083 6666 350 7639 7607 963 3997 3496 2269 7268 270 5533 2944 6515 9828 4201 6053 2379 6525 8388 2602 7855 6196 5991 3351 2368 3319 9248 4297 8274 5170 7150 1652 7870 5177 3149 6538 8599 6340 7663 5731 1402 1626 7113 873 8929 3231 1992 5326 8770 3876 6616 873 3543 1154 363 7551 4893 5577 1674 9004 2445 5452 534 8280 3138 5199 1669 9486 3562 4279 3150 655 2720 2417 7176 8835 3829 7372 8511 9288 2519 7953 7422 8158 9639 6135 4312 3926 7888 7655 8965 1806 4490 6968 813 1622 1980 1405 7714 1375 5220 6996 5057 6371 4211 3102 2427 8798 4908 7750 2736 8428 320 2889 8419 8149 5327 6792 527 7411 4984 5031 3244 7382 2871 6592 7556 5165 1159 5028 8598 6383 7919 2063 1447 5138 13 3441 5626 8551 512 3393 7682 4494 4620 7953 5550 8179 4058 7294 1480 4042 7443 4296 4217 7749 6797 1325 292 6594 6386 8099 6179 3544 229 4238 5026 8842 9331 733 3796 4582 4057 3751 7885 1669 3617 1227 9623 4231 1939 495 4164 6971 1991 3208 9315 5434 4867 4184 211 3578 6445 3452 1887 2144 4271 5512 4982 3451 6013 6352 8200 2890 7715 6513 5105 4251 8685 7974 8699 3742 449 3547 9290 3666 4920 1224 4022 3180 1570 1023 675 6554 6950 2531 2309 8641 3743 8454 8116 1173 267 5605 7670 1364 9537 1191 6681 8735 9323 5956 8682 8129 1488 9020 8304 3486 3109 2447 9083 8418 3480 6034 5501 1287 9494 9476 2146 2879 585 185 9855 4611 509 884 6515 1452 7841 218 9819 269 4909 7499 7467 8635 1510 9627 5436 7588 7459 56 5855 2141 282 478 2123 9043 6177 9902 1611 161 2694 7745 1898 1671 5691 466 3785 5863 8507 5516 8879 1415 193 6756 6369 2675 2596 9204 1229 9029 8712 1710 1209 2767 1115 2085 2288 4699 559 6276 7295 6066 7970 "
     ]
    },
    {
     "name": "stdout",
     "output_type": "stream",
     "text": [
      "4680 2190 9079 3992 1197 3378 8381 7528 6215 9946 7137 5383 7348 4471 3777 1349 6269 8797 7541 9678 8153 5942 7199 5533 7803 169 7420 7689 8083 8692 8345 3861 8091 6004 8619 6944 1769 2712 3128 1787 6845 3639 226 6389 5525 2506 7781 1587 1159 7056 5940 8128 9905 5456 6256 2282 1054 2435 9710 1382 1215 5193 2384 6033 8824 8638 1139 2873 7094 8905 1692 2062 7815 9003 1188 7498 8627 722 1713 4225 3704 4122 1980 6192 9147 8362 7530 8112 8546 6618 9647 5295 1744 3455 6896 4780 3160 3537 3233 157 9634 6718 861 2931 9160 9874 3672 559 6027 1223 8167 8907 5674 5521 4166 1644 4967 2188 5662 8657 904 1928 1192 1018 2031 342 1927 4848 2599 2900 6704 1420 7257 8735 1621 8273 1945 5036 5149 4401 1719 8235 1290 1961 359 9337 3365 6415 1089 6936 3647 4764 7720 9313 7679 9495 7404 7869 4464 9438 8157 2339 5390 8777 3004 6769 409 6655 6063 6807 6527 1906 7196 6656 3649 3368 5338 2786 9463 83 5222 2821 7279 1240 3085 763 9027 2731 382 9639 1303 4607 7396 6125 2171 9629 1333 8865 1282 9325 981 6941 313 3463 3787 7958 66 4983 8844 9252 1004 6771 2619 5890 6238 3244 541 3187 1787 6829 4804 3962 2846 9667 5546 7202 4250 1330 6912 4415 5318 7762 1573 3901 3584 4905 632 8095 4885 1791 2868 9633 2452 6747 4717 4236 4471 3681 2421 769 7292 1604 4712 9936 7133 3380 3602 327 9621 9694 8827 3938 6375 6847 1991 4756 1285 4519 5976 8421 6403 3791 7196 9542 1563 4111 3251 6113 6936 8164 9850 6931 6011 940 6994 523 6638 8934 5571 8725 7242 2174 2095 4669 4429 4595 5913 7678 1273 2624 9435 449 6384 4746 2247 3796 2112 1641 7722 6488 1279 7035 9779 8425 6236 1753 1538 5598 9408 2952 "
     ]
    }
   ],
   "source": [
    "c =100\n",
    "SuffixArray,Text = Construction(OriginText)\n",
    "LastColumn,TextCount,Count = OrderText(Text,c)\n",
    "FirstOccurence = Sorted(TextCount)\n",
    "AllPos = []\n",
    "for Pattern in Patterns:\n",
    "    n  = len(Pattern)\n",
    "    k = int(n/(d+1))\n",
    "    FinalPositions = set()   ###Update in Extension\n",
    "    for i in range(d):\n",
    "        Extension(OriginText,SuffixArray,Text,LastColumn,Pattern,FirstOccurence,Count,c,i,k)\n",
    "    ######The last substring\n",
    "    Extension2(OriginText,SuffixArray,Text,LastColumn,Pattern,FirstOccurence,Count,c,d,k)\n",
    "    for pos in FinalPositions:\n",
    "        print(pos,end=' ')\n",
    "        #AllPos.append(pos)\n",
    "    #for pos in sorted(AllPos):\n",
    "        #print(pos,end=' ')\n",
    "    "
   ]
  },
  {
   "cell_type": "code",
   "execution_count": null,
   "metadata": {},
   "outputs": [],
   "source": []
  }
 ],
 "metadata": {
  "kernelspec": {
   "display_name": "Python 3",
   "language": "python",
   "name": "python3"
  },
  "language_info": {
   "codemirror_mode": {
    "name": "ipython",
    "version": 3
   },
   "file_extension": ".py",
   "mimetype": "text/x-python",
   "name": "python",
   "nbconvert_exporter": "python",
   "pygments_lexer": "ipython3",
   "version": "3.7.3"
  }
 },
 "nbformat": 4,
 "nbformat_minor": 4
}
