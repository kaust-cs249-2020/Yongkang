{
 "cells": [
  {
   "cell_type": "raw",
   "metadata": {},
   "source": [
    "Sample Input:\n",
    "AACGATAGCGGTAGA$\n",
    "Sample Output:\n",
    "15, 14, 0, 1, 12, 6, 4, 2, 8, 13, 3, 7, 9, 10, 11, 5\n"
   ]
  },
  {
   "cell_type": "code",
   "execution_count": 8,
   "metadata": {},
   "outputs": [],
   "source": [
    "def Construction(Text):\n",
    "    n = len(Text)\n",
    "    SuffixArray = dict()\n",
    "    for i in range(n):\n",
    "        SuffixArray[Text[i:]] = i\n",
    "    return SuffixArray\n",
    "        "
   ]
  },
  {
   "cell_type": "code",
   "execution_count": 9,
   "metadata": {},
   "outputs": [],
   "source": [
    "Text='AACGATAGCGGTAGA$'\n",
    "SuffixArray  = Construction(Text)"
   ]
  },
  {
   "cell_type": "code",
   "execution_count": 13,
   "metadata": {},
   "outputs": [
    {
     "name": "stdout",
     "output_type": "stream",
     "text": [
      "15,14,0,1,12,6,4,2,8,13,3,7,9,10,11,5,"
     ]
    }
   ],
   "source": [
    "for key in sorted(SuffixArray.keys()):\n",
    "    print(SuffixArray[key],end=',')"
   ]
  },
  {
   "cell_type": "code",
   "execution_count": 16,
   "metadata": {},
   "outputs": [],
   "source": [
    "Text='GAAATTCGCGCTGGTGCTGGCTTTGTTGGCTGAGCGGAACCGTGAAAGAAGGACCCAGGTTCAGCCATGATGCAGTAGTATATCCGTCTTAAGCCCGTCGATAGTTGATGAGGGCGGATCGCGGAGGGAGAACTCGGCAGACGAGTTAAGAGTTTCTTAATGAGCGGGCGTAACCGCCGCACCGCGCGCCGTCCGTCCTACGCAGGCGACCGTGAGCCGGTTTTATTACCTGGCACAGGATCACATATACGTTAGGTCTAAGAGAAGTCAAAGTACAAAAATGCAACAGTAACCCTGCCAGGCCATACATGGACATGTAGGCCTACGTAAGGTCGTTCAACGGCCTTACGAACACTCAAGTACGGCGCGCTTTGTGGAGCCGTATGCCCCCAGCGCCAATCCGGTACTTAACGCATTGTAGGTAGTACTCTGCCTGCCACGTCATTCGGTAGCCGCGCTGGCGCTACGGTAGGCGGTGTTCTGCGTGCAGACGGCGATCCTAGGAGTAGCCGATTCAGGCTCGTACCTGCGCGGTTCACTCAGGGAGGGCATCTGCATCTCTGGCTCAACTTACAACATACTGTCATGGAGCGATCCAGCACGTAGCCTCTTCACTTGGCATTAAAGCCCGATTGCGCTCTGAACTGGAAAGGGATTACAGCTCCCCAGGCTATTGGAGGCAATGACTCACGGATCTGATACTCAGGGGCCCGTAATTTGTCAGAATCACGTAGCGTGATTAAGGTAATATGCGTCGTACCGCCGCCTGACGTTATGAGCCCACAGGATACGCGAAAATATGGATAATAGTTCGATGCCTGTCAAGCGTCGTTTGTTTGTTGTAGCCCACTAACTCTAACGCGGCCAGATGCAACGGTAGAGGGTATGGGACAACTGATCATATCATCATATCGGTCTGATGTG$'\n",
    "\n",
    "SuffixArray  = Construction(Text)"
   ]
  },
  {
   "cell_type": "code",
   "execution_count": 17,
   "metadata": {},
   "outputs": [
    {
     "name": "stdout",
     "output_type": "stream",
     "text": [
      "924, 276, 794, 277, 44, 623, 648, 269, 795, 278, 1, 350, 284, 574, 290, 171, 37, 409, 857, 338, 872, 130, 851, 892, 642, 567, 45, 259, 147, 624, 90, 823, 48, 649, 741, 328, 270, 357, 264, 805, 746, 796, 724, 397, 681, 158, 279, 2, 714, 274, 572, 890, 351, 657, 782, 234, 285, 575, 242, 306, 312, 52, 291, 172, 758, 180, 38, 208, 524, 227, 347, 140, 199, 410, 789, 858, 689, 339, 490, 361, 873, 465, 324, 600, 728, 438, 248, 769, 848, 353, 685, 537, 700, 131, 852, 426, 893, 643, 579, 405, 568, 613, 128, 46, 262, 722, 138, 488, 260, 878, 148, 866, 597, 62, 777, 843, 625, 91, 507, 450, 214, 377, 604, 589, 391, 32, 162, 824, 732, 659, 49, 501, 784, 236, 677, 299, 318, 203, 470, 667, 516, 124, 541, 650, 545, 110, 704, 880, 742, 419, 329, 253, 56, 287, 271, 358, 423, 504, 73, 76, 265, 143, 808, 102, 150, 803, 304, 787, 246, 698, 577, 806, 100, 244, 900, 79, 908, 747, 797, 239, 725, 897, 905, 902, 593, 398, 81, 496, 117, 910, 556, 693, 550, 682, 774, 159, 107, 66, 280, 868, 69, 383, 814, 749, 308, 585, 799, 885, 314, 919, 620, 738, 654, 224, 512, 3, 443, 631, 672, 414, 715, 275, 268, 283, 573, 337, 871, 891, 566, 822, 356, 396, 680, 781, 233, 241, 179, 688, 599, 727, 437, 847, 352, 536, 612, 721, 137, 487, 865, 596, 61, 390, 658, 783, 235, 298, 202, 666, 515, 540, 703, 55, 286, 72, 303, 576, 243, 899, 907, 904, 555, 549, 65, 307, 584, 313, 619, 442, 413, 395, 780, 436, 846, 864, 595, 389, 297, 665, 54, 302, 64, 779, 845, 388, 664, 53, 387, 663, 386, 627, 709, 93, 292, 509, 628, 176, 173, 759, 762, 181, 452, 400, 216, 710, 379, 188, 192, 94, 83, 39, 209, 196, 321, 498, 606, 765, 432, 293, 525, 228, 817, 343, 792, 348, 206, 141, 98, 591, 494, 812, 510, 629, 177, 200, 411, 393, 174, 760, 186, 763, 790, 184, 182, 453, 6, 365, 119, 859, 529, 461, 635, 455, 8, 367, 34, 121, 114, 690, 134, 861, 340, 491, 362, 164, 401, 874, 446, 466, 912, 473, 531, 217, 168, 325, 711, 755, 521, 601, 729, 380, 439, 189, 193, 95, 752, 826, 84, 40, 210, 734, 483, 249, 770, 333, 829, 855, 849, 257, 197, 463, 322, 499, 670, 564, 354, 686, 538, 701, 661, 132, 519, 853, 637, 427, 558, 607, 639, 766, 29, 695, 894, 916, 552, 433, 294, 429, 526, 480, 644, 229, 457, 560, 16, 10, 818, 580, 406, 87, 155, 569, 344, 609, 614, 369, 20, 923, 793, 43, 647, 0, 349, 36, 129, 641, 47, 263, 723, 889, 311, 51, 207, 139, 489, 768, 684, 127, 261, 776, 213, 376, 588, 31, 161, 676, 123, 544, 109, 879, 503, 142, 149, 802, 786, 697, 99, 238, 896, 592, 495, 116, 692, 106, 867, 68, 813, 918, 737, 653, 511, 630, 282, 870, 679, 232, 178, 598, 136, 486, 201, 71, 554, 548, 618, 412, 394, 435, 863, 296, 301, 63, 778, 844, 385, 626, 708, 92, 508, 175, 761, 451, 215, 378, 187, 320, 605, 764, 431, 816, 342, 791, 205, 590, 493, 392, 185, 183, 364, 528, 460, 634, 454, 7, 366, 33, 120, 113, 860, 163, 472, 530, 167, 751, 825, 733, 482, 462, 669, 563, 660, 518, 636, 28, 456, 15, 9, 368, 19, 646, 35, 888, 310, 50, 126, 375, 587, 675, 122, 543, 502, 801, 785, 237, 115, 691, 652, 678, 231, 135, 547, 617, 862, 300, 707, 319, 341, 204, 492, 363, 459, 112, 471, 166, 668, 562, 517, 27, 18, 887, 125, 542, 651, 546, 706, 111, 165, 705, 881, 743, 402, 875, 447, 467, 420, 882, 330, 254, 913, 12, 474, 532, 57, 218, 288, 169, 326, 744, 712, 272, 756, 522, 359, 424, 403, 876, 841, 505, 448, 602, 730, 316, 468, 417, 421, 74, 77, 381, 883, 266, 820, 719, 582, 440, 190, 194, 96, 753, 331, 827, 255, 914, 85, 921, 41, 211, 735, 484, 13, 373, 475, 144, 250, 771, 334, 533, 58, 809, 477, 103, 24, 838, 151, 834, 830, 219, 622, 289, 170, 408, 856, 850, 258, 146, 89, 740, 327, 804, 745, 157, 713, 273, 571, 656, 305, 757, 523, 226, 346, 198, 788, 360, 464, 323, 247, 699, 425, 578, 404, 877, 842, 506, 449, 603, 731, 500, 317, 469, 418, 252, 422, 75, 807, 101, 245, 78, 901, 80, 909, 773, 382, 748, 798, 884, 223, 671, 267, 336, 565, 821, 355, 240, 687, 726, 535, 611, 720, 60, 514, 539, 702, 898, 906, 903, 583, 441, 594, 662, 399, 191, 82, 195, 497, 97, 811, 5, 118, 133, 445, 911, 754, 520, 332, 828, 854, 256, 557, 638, 694, 915, 551, 428, 479, 559, 86, 154, 608, 922, 42, 640, 767, 683, 775, 212, 30, 160, 108, 696, 895, 105, 67, 917, 736, 281, 869, 485, 70, 553, 434, 295, 384, 430, 815, 527, 633, 750, 481, 14, 645, 309, 374, 586, 674, 800, 230, 616, 458, 561, 26, 17, 886, 11, 840, 315, 416, 819, 718, 581, 920, 372, 476, 23, 837, 833, 621, 407, 145, 88, 739, 156, 570, 655, 225, 345, 251, 772, 222, 335, 534, 610, 59, 513, 810, 4, 444, 478, 153, 104, 632, 673, 615, 25, 839, 415, 717, 371, 22, 836, 832, 221, 152, 716, 370, 21, 835, 831, 220, "
     ]
    }
   ],
   "source": [
    "for key in sorted(SuffixArray.keys()):\n",
    "    print(SuffixArray[key],end=', ')"
   ]
  },
  {
   "cell_type": "code",
   "execution_count": null,
   "metadata": {},
   "outputs": [],
   "source": []
  }
 ],
 "metadata": {
  "kernelspec": {
   "display_name": "Python 3",
   "language": "python",
   "name": "python3"
  },
  "language_info": {
   "codemirror_mode": {
    "name": "ipython",
    "version": 3
   },
   "file_extension": ".py",
   "mimetype": "text/x-python",
   "name": "python",
   "nbconvert_exporter": "python",
   "pygments_lexer": "ipython3",
   "version": "3.7.3"
  }
 },
 "nbformat": 4,
 "nbformat_minor": 4
}
