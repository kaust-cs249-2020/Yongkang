{
 "cells": [
  {
   "cell_type": "code",
   "execution_count": 3,
   "metadata": {},
   "outputs": [],
   "source": [
    "Text =  'TAATGCCATGGGATGTT'\n",
    "k = 3\n",
    "d = 2"
   ]
  },
  {
   "cell_type": "code",
   "execution_count": 15,
   "metadata": {},
   "outputs": [],
   "source": [
    "def takeFirst(elem):\n",
    "    return elem[0]"
   ]
  },
  {
   "cell_type": "code",
   "execution_count": 11,
   "metadata": {},
   "outputs": [],
   "source": [
    "def GeneratekdMer(Text,k,d):\n",
    "    n = len(Text)\n",
    "    Composition = []\n",
    "    for i in range(n-k-d-2):\n",
    "        first = Text[i:i+k]\n",
    "        second = Text[i+d+k:i+d+2*k]\n",
    "        Composition.append((first,second))\n",
    "    return Composition\n",
    "        "
   ]
  },
  {
   "cell_type": "code",
   "execution_count": 13,
   "metadata": {},
   "outputs": [],
   "source": [
    "list = GeneratekdMer(Text,k,d)"
   ]
  },
  {
   "cell_type": "code",
   "execution_count": 16,
   "metadata": {},
   "outputs": [],
   "source": [
    "list.sort(key=takeFirst)"
   ]
  },
  {
   "cell_type": "code",
   "execution_count": 18,
   "metadata": {},
   "outputs": [
    {
     "name": "stdout",
     "output_type": "stream",
     "text": [
      "(AAT|CAT)\n",
      "(ATG|ATG)\n",
      "(ATG|ATG)\n",
      "(CAT|GAT)\n",
      "(CCA|GGA)\n",
      "(GCC|GGG)\n",
      "(GGG|GTT)\n",
      "(TAA|CCA)\n",
      "(TGC|TGG)\n",
      "(TGG|TGT)\n"
     ]
    }
   ],
   "source": [
    "for i in list:\n",
    "    print('('+i[0]+'|'+i[1]+')')"
   ]
  },
  {
   "cell_type": "code",
   "execution_count": null,
   "metadata": {},
   "outputs": [],
   "source": []
  }
 ],
 "metadata": {
  "kernelspec": {
   "display_name": "Python 3",
   "language": "python",
   "name": "python3"
  },
  "language_info": {
   "codemirror_mode": {
    "name": "ipython",
    "version": 3
   },
   "file_extension": ".py",
   "mimetype": "text/x-python",
   "name": "python",
   "nbconvert_exporter": "python",
   "pygments_lexer": "ipython3",
   "version": "3.7.3"
  }
 },
 "nbformat": 4,
 "nbformat_minor": 4
}
