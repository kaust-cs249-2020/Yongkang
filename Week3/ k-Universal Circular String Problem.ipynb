{
 "cells": [
  {
   "cell_type": "code",
   "execution_count": 5,
   "metadata": {},
   "outputs": [],
   "source": [
    "from collections import defaultdict\n",
    "import random"
   ]
  },
  {
   "cell_type": "code",
   "execution_count": 6,
   "metadata": {},
   "outputs": [],
   "source": [
    "def randomWalk(Graph,Cycle):\n",
    "    if(Cycle):\n",
    "        start_node = Cycle[0]\n",
    "    else:\n",
    "        start_node = random.choice(list(Graph.keys()))\n",
    "    Cycle.append(start_node)\n",
    "    node = start_node\n",
    "    while Graph[node]:\n",
    "        ####Note! it removes an arbitrary (but not random) set value.\n",
    "        ####BUT i think it still works!\n",
    "        new_node = Graph[node].pop()\n",
    "        if(not Graph[node]): ###Empty value sets\n",
    "            del Graph[node]  ###Remove the previous node\n",
    "        Cycle.append(new_node)\n",
    "        node = new_node\n",
    "    del Graph[node]   #####Remove the start node without unsed nodes\n",
    "    return Cycle"
   ]
  },
  {
   "cell_type": "code",
   "execution_count": 7,
   "metadata": {},
   "outputs": [],
   "source": [
    "def EulerianCycle(Graph):\n",
    "    Cycle = []\n",
    "    Cycle = randomWalk(Graph,Cycle)\n",
    "    #while there are unexplored edges in Graph\n",
    "    while Graph:\n",
    "        #select a node newStart in Cycle with still unexplored edges\n",
    "        newStart = Cycle[0]\n",
    "        for node in Cycle:\n",
    "            if node in Graph.keys():\n",
    "                newStart = node\n",
    "                break\n",
    "        #form Cycle’ by traversing Cycle (starting at newStart) \n",
    "        newStart_index = Cycle.index(newStart)\n",
    "        New_Cycle = Cycle[newStart_index:]+Cycle[1:newStart_index] ####start from 1 to remove the repeated non-start node\n",
    "        #and then randomly walking\n",
    "        New_Cycle = randomWalk(Graph,New_Cycle)\n",
    "        Cycle = New_Cycle\n",
    "    return Cycle"
   ]
  },
  {
   "cell_type": "code",
   "execution_count": 9,
   "metadata": {},
   "outputs": [],
   "source": [
    "def  PathToGenome(kmers):\n",
    "    Text = kmers[0]\n",
    "    n = len(kmers)\n",
    "    for i in range(1,n):\n",
    "        Text += kmers[i][-1]\n",
    "    return Text"
   ]
  },
  {
   "cell_type": "code",
   "execution_count": 11,
   "metadata": {},
   "outputs": [],
   "source": [
    "def DeBruijnFromkMers(Patterns):\n",
    "    dB = defaultdict(list)\n",
    "    for pattern in Patterns:\n",
    "        prefix = pattern[0:-1]\n",
    "        suffix = pattern[1:]\n",
    "        dB[prefix].append(suffix)\n",
    "    return dB"
   ]
  },
  {
   "cell_type": "code",
   "execution_count": 2,
   "metadata": {},
   "outputs": [],
   "source": [
    "def form_Patterns(k):\n",
    "    if (k==1):\n",
    "        return ['0','1']\n",
    "    else:\n",
    "        Patterns = []\n",
    "        Patterns2 = form_Patterns(k-1)\n",
    "        for i in range(len(Patterns2)):\n",
    "            Patterns.append(Patterns2[i]+'0')\n",
    "            Patterns.append(Patterns2[i]+'1')\n",
    "        return Patterns\n",
    "    "
   ]
  },
  {
   "cell_type": "code",
   "execution_count": 47,
   "metadata": {},
   "outputs": [],
   "source": [
    "def k_Universal_Circular_String(k):\n",
    "    Patterns = form_Patterns(k)\n",
    "    dB =  DeBruijnFromkMers(Patterns)\n",
    "    path = EulerianCycle(dB)\n",
    "    Text = PathToGenome(path[:-(k-1)])\n",
    "    return Text\n",
    "    "
   ]
  },
  {
   "cell_type": "code",
   "execution_count": 49,
   "metadata": {},
   "outputs": [
    {
     "data": {
      "text/plain": [
       "'00000000100000001100001101100001010100001011100001000100001001000001001101101101010101101011101101000101101001101010001101011011101011000101011001101000011101000000101000001101001010101001011101001000101001001001110111001110101011110101001110011001110000001110001111110001101110001011110001000110001001010001001111111110111111100111110000111110110111110101111110100011110100111101110111101100011101100101101100111100000101100000111100110111100101011100101111100100001100100011100100101100100110010100110001100110'"
      ]
     },
     "execution_count": 49,
     "metadata": {},
     "output_type": "execute_result"
    }
   ],
   "source": [
    "k_Universal_Circular_String(9)"
   ]
  },
  {
   "cell_type": "code",
   "execution_count": null,
   "metadata": {},
   "outputs": [],
   "source": []
  }
 ],
 "metadata": {
  "kernelspec": {
   "display_name": "Python 3",
   "language": "python",
   "name": "python3"
  },
  "language_info": {
   "codemirror_mode": {
    "name": "ipython",
    "version": 3
   },
   "file_extension": ".py",
   "mimetype": "text/x-python",
   "name": "python",
   "nbconvert_exporter": "python",
   "pygments_lexer": "ipython3",
   "version": "3.7.3"
  }
 },
 "nbformat": 4,
 "nbformat_minor": 4
}
