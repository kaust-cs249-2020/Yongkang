{
 "cells": [
  {
   "cell_type": "code",
   "execution_count": 1,
   "metadata": {},
   "outputs": [],
   "source": [
    "from collections import defaultdict\n",
    "import random"
   ]
  },
  {
   "cell_type": "code",
   "execution_count": 2,
   "metadata": {},
   "outputs": [],
   "source": [
    "def randomWork(Graph,Cycle,Unused_edge):\n",
    "    if(Cycle):\n",
    "        start_node = Cycle[0]\n",
    "    else:\n",
    "        start_node = random.choice(list(Graph.keys()))\n",
    "        Cycle.append(start_node)\n",
    "    node = start_node\n",
    "    while Unused_edge[node]:\n",
    "        ####Note! it removes an arbitrary (but not random) set value.\n",
    "        ####BUT i think it still works!\n",
    "        new_node = Unused_edge[node].pop()\n",
    "        if(not Unused_edge[node]): ###Empty value sets\n",
    "            del Unused_edge[node]  ###Remove the previous node\n",
    "        Cycle.append(new_node)\n",
    "        node = new_node\n",
    "    return Cycle,Unused_edge\n",
    "    "
   ]
  },
  {
   "cell_type": "code",
   "execution_count": 3,
   "metadata": {},
   "outputs": [],
   "source": [
    "def EulerianCycle(Graph):\n",
    "    Cycle = []\n",
    "    Unused_edge = Graph.copy\n",
    "    Cycle,Unused_edge = randomWork(Graph,Cycle,Unused_edge)                                              \n",
    "    while Unused_edge:\n",
    "        #select a node newStart in Cycle with still unexplored edges\n",
    "        newStart = Cycle[0]\n",
    "        for node in Cycle:\n",
    "            if Unused_edge[node]:\n",
    "                newStart = node\n",
    "                break\n",
    "        \n",
    "        #form Cycle’ by traversing Cycle (starting at newStart) \n",
    "        newStart_index = Cycle.index(newStart)\n",
    "        New_Cycle = Cycle[newStart_index:]+Cycle[:newStart_index]\n",
    "        #and then randomly walking\n",
    "        New_Cycle = randomWork(Graph,Cycle,Unused_edge)\n",
    "        Cycle = New_Cycle\n",
    "    return Cycle"
   ]
  },
  {
   "cell_type": "raw",
   "metadata": {},
   "source": [
    "0 -> 3\n",
    "1 -> 0\n",
    "2 -> 1,6\n",
    "3 -> 2\n",
    "4 -> 2\n",
    "5 -> 4\n",
    "6 -> 5,8\n",
    "7 -> 9\n",
    "8 -> 7\n",
    "9 -> 6"
   ]
  },
  {
   "cell_type": "code",
   "execution_count": 8,
   "metadata": {},
   "outputs": [],
   "source": [
    "Graph = defaultdict(set)\n",
    "Graph[0].add(3)\n",
    "Graph[1].add(0)\n",
    "Graph[2].add(1)\n",
    "Graph[2].add(6)\n",
    "Graph[3].add(2)\n",
    "Graph[4].add(2)\n",
    "Graph[5].add(4)\n",
    "Graph[6].add(5)\n",
    "Graph[6].add(8)\n",
    "Graph[7].add(9)\n",
    "Graph[8].add(7)\n",
    "Graph[9].add(6)"
   ]
  },
  {
   "cell_type": "code",
   "execution_count": 5,
   "metadata": {},
   "outputs": [
    {
     "data": {
      "text/plain": [
       "[7, 9, 6, 8, 7]"
      ]
     },
     "execution_count": 5,
     "metadata": {},
     "output_type": "execute_result"
    }
   ],
   "source": [
    "Cycle = []\n",
    "Unused_edge = Graph\n",
    "Cycle,Unused_endge = randomWork(Graph,Cycle,Unused_edge) \n",
    "Cycle"
   ]
  },
  {
   "cell_type": "code",
   "execution_count": 9,
   "metadata": {},
   "outputs": [
    {
     "data": {
      "text/plain": [
       "defaultdict(set,\n",
       "            {0: {3},\n",
       "             1: {0},\n",
       "             2: {1, 6},\n",
       "             3: {2},\n",
       "             4: {2},\n",
       "             5: {4},\n",
       "             6: {5, 8},\n",
       "             7: {9},\n",
       "             8: {7},\n",
       "             9: {6}})"
      ]
     },
     "execution_count": 9,
     "metadata": {},
     "output_type": "execute_result"
    }
   ],
   "source": [
    "Graph"
   ]
  },
  {
   "cell_type": "code",
   "execution_count": 10,
   "metadata": {},
   "outputs": [
    {
     "ename": "TypeError",
     "evalue": "'builtin_function_or_method' object is not subscriptable",
     "output_type": "error",
     "traceback": [
      "\u001b[0;31m---------------------------------------------------------------------------\u001b[0m",
      "\u001b[0;31mTypeError\u001b[0m                                 Traceback (most recent call last)",
      "\u001b[0;32m<ipython-input-10-e482f591fad8>\u001b[0m in \u001b[0;36m<module>\u001b[0;34m\u001b[0m\n\u001b[0;32m----> 1\u001b[0;31m \u001b[0mCycle\u001b[0m \u001b[0;34m=\u001b[0m \u001b[0mEulerianCycle\u001b[0m\u001b[0;34m(\u001b[0m\u001b[0mGraph\u001b[0m\u001b[0;34m)\u001b[0m\u001b[0;34m\u001b[0m\u001b[0;34m\u001b[0m\u001b[0m\n\u001b[0m\u001b[1;32m      2\u001b[0m \u001b[0mCycle\u001b[0m\u001b[0;34m\u001b[0m\u001b[0;34m\u001b[0m\u001b[0m\n",
      "\u001b[0;32m<ipython-input-3-8580086519aa>\u001b[0m in \u001b[0;36mEulerianCycle\u001b[0;34m(Graph)\u001b[0m\n\u001b[1;32m      2\u001b[0m     \u001b[0mCycle\u001b[0m \u001b[0;34m=\u001b[0m \u001b[0;34m[\u001b[0m\u001b[0;34m]\u001b[0m\u001b[0;34m\u001b[0m\u001b[0;34m\u001b[0m\u001b[0m\n\u001b[1;32m      3\u001b[0m     \u001b[0mUnused_edge\u001b[0m \u001b[0;34m=\u001b[0m \u001b[0mGraph\u001b[0m\u001b[0;34m.\u001b[0m\u001b[0mcopy\u001b[0m\u001b[0;34m\u001b[0m\u001b[0;34m\u001b[0m\u001b[0m\n\u001b[0;32m----> 4\u001b[0;31m     \u001b[0mCycle\u001b[0m\u001b[0;34m,\u001b[0m\u001b[0mUnused_edge\u001b[0m \u001b[0;34m=\u001b[0m \u001b[0mrandomWork\u001b[0m\u001b[0;34m(\u001b[0m\u001b[0mGraph\u001b[0m\u001b[0;34m,\u001b[0m\u001b[0mCycle\u001b[0m\u001b[0;34m,\u001b[0m\u001b[0mUnused_edge\u001b[0m\u001b[0;34m)\u001b[0m\u001b[0;34m\u001b[0m\u001b[0;34m\u001b[0m\u001b[0m\n\u001b[0m\u001b[1;32m      5\u001b[0m     \u001b[0;32mwhile\u001b[0m \u001b[0mUnused_edge\u001b[0m\u001b[0;34m:\u001b[0m\u001b[0;34m\u001b[0m\u001b[0;34m\u001b[0m\u001b[0m\n\u001b[1;32m      6\u001b[0m         \u001b[0;31m#select a node newStart in Cycle with still unexplored edges\u001b[0m\u001b[0;34m\u001b[0m\u001b[0;34m\u001b[0m\u001b[0;34m\u001b[0m\u001b[0m\n",
      "\u001b[0;32m<ipython-input-2-cbd006df5031>\u001b[0m in \u001b[0;36mrandomWork\u001b[0;34m(Graph, Cycle, Unused_edge)\u001b[0m\n\u001b[1;32m      6\u001b[0m         \u001b[0mCycle\u001b[0m\u001b[0;34m.\u001b[0m\u001b[0mappend\u001b[0m\u001b[0;34m(\u001b[0m\u001b[0mstart_node\u001b[0m\u001b[0;34m)\u001b[0m\u001b[0;34m\u001b[0m\u001b[0;34m\u001b[0m\u001b[0m\n\u001b[1;32m      7\u001b[0m     \u001b[0mnode\u001b[0m \u001b[0;34m=\u001b[0m \u001b[0mstart_node\u001b[0m\u001b[0;34m\u001b[0m\u001b[0;34m\u001b[0m\u001b[0m\n\u001b[0;32m----> 8\u001b[0;31m     \u001b[0;32mwhile\u001b[0m \u001b[0mUnused_edge\u001b[0m\u001b[0;34m[\u001b[0m\u001b[0mnode\u001b[0m\u001b[0;34m]\u001b[0m\u001b[0;34m:\u001b[0m\u001b[0;34m\u001b[0m\u001b[0;34m\u001b[0m\u001b[0m\n\u001b[0m\u001b[1;32m      9\u001b[0m         \u001b[0;31m####Note! it removes an arbitrary (but not random) set value.\u001b[0m\u001b[0;34m\u001b[0m\u001b[0;34m\u001b[0m\u001b[0;34m\u001b[0m\u001b[0m\n\u001b[1;32m     10\u001b[0m         \u001b[0;31m####BUT i think it still works!\u001b[0m\u001b[0;34m\u001b[0m\u001b[0;34m\u001b[0m\u001b[0;34m\u001b[0m\u001b[0m\n",
      "\u001b[0;31mTypeError\u001b[0m: 'builtin_function_or_method' object is not subscriptable"
     ]
    }
   ],
   "source": [
    "Cycle = EulerianCycle(Graph)\n",
    "Cycle"
   ]
  },
  {
   "cell_type": "code",
   "execution_count": null,
   "metadata": {},
   "outputs": [],
   "source": [
    "for node in Cycle:\n",
    "    print(node)"
   ]
  },
  {
   "cell_type": "code",
   "execution_count": null,
   "metadata": {},
   "outputs": [],
   "source": [
    "Cycle"
   ]
  },
  {
   "cell_type": "code",
   "execution_count": null,
   "metadata": {},
   "outputs": [],
   "source": [
    "if a:\n",
    "    print('fafa')"
   ]
  },
  {
   "cell_type": "code",
   "execution_count": null,
   "metadata": {},
   "outputs": [],
   "source": [
    "a = [1,2,3,4,5,6,1]"
   ]
  },
  {
   "cell_type": "code",
   "execution_count": null,
   "metadata": {},
   "outputs": [],
   "source": [
    "new = a[2:]+a[:2]"
   ]
  },
  {
   "cell_type": "code",
   "execution_count": null,
   "metadata": {},
   "outputs": [],
   "source": [
    "new.index(1)"
   ]
  },
  {
   "cell_type": "code",
   "execution_count": null,
   "metadata": {},
   "outputs": [],
   "source": []
  },
  {
   "cell_type": "code",
   "execution_count": null,
   "metadata": {},
   "outputs": [],
   "source": []
  }
 ],
 "metadata": {
  "kernelspec": {
   "display_name": "Python 3",
   "language": "python",
   "name": "python3"
  },
  "language_info": {
   "codemirror_mode": {
    "name": "ipython",
    "version": 3
   },
   "file_extension": ".py",
   "mimetype": "text/x-python",
   "name": "python",
   "nbconvert_exporter": "python",
   "pygments_lexer": "ipython3",
   "version": "3.7.3"
  }
 },
 "nbformat": 4,
 "nbformat_minor": 4
}
