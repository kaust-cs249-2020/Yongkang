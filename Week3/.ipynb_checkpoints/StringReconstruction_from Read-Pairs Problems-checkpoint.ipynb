{
 "cells": [
  {
   "cell_type": "code",
   "execution_count": 1,
   "metadata": {},
   "outputs": [],
   "source": [
    "from collections import defaultdict\n",
    "import random"
   ]
  },
  {
   "cell_type": "code",
   "execution_count": 2,
   "metadata": {},
   "outputs": [],
   "source": [
    "def randomWalk(Graph,Cycle):\n",
    "    if(Cycle):\n",
    "        start_node = Cycle[0]\n",
    "    else:\n",
    "        start_node = random.choice(list(Graph.keys()))\n",
    "    Cycle.append(start_node)\n",
    "    node = start_node\n",
    "    while Graph[node]:\n",
    "        ####Note! it removes an arbitrary (but not random) set value.\n",
    "        ####BUT i think it still works!\n",
    "        new_node = Graph[node].pop()\n",
    "        if(not Graph[node]): ###Empty value sets\n",
    "            del Graph[node]  ###Remove the previous node\n",
    "        Cycle.append(new_node)\n",
    "        node = new_node\n",
    "    del Graph[node]   #####Remove the start node without unsed nodes\n",
    "    return Cycle"
   ]
  },
  {
   "cell_type": "code",
   "execution_count": 3,
   "metadata": {},
   "outputs": [],
   "source": [
    "def EulerianCycle(Graph):\n",
    "    Cycle = []\n",
    "    Cycle = randomWalk(Graph,Cycle)\n",
    "    #while there are unexplored edges in Graph\n",
    "    while Graph:\n",
    "        #select a node newStart in Cycle with still unexplored edges\n",
    "        newStart = Cycle[0]\n",
    "        for node in Cycle:\n",
    "            if node in Graph.keys():\n",
    "                newStart = node\n",
    "                break\n",
    "        #form Cycle’ by traversing Cycle (starting at newStart) \n",
    "        newStart_index = Cycle.index(newStart)\n",
    "        New_Cycle = Cycle[newStart_index:]+Cycle[1:newStart_index] ####start from 1 to remove the repeated non-start node\n",
    "        #and then randomly walking\n",
    "        New_Cycle = randomWalk(Graph,New_Cycle)\n",
    "        Cycle = New_Cycle\n",
    "    return Cycle"
   ]
  },
  {
   "cell_type": "code",
   "execution_count": 4,
   "metadata": {},
   "outputs": [],
   "source": [
    "def findGlobalStartEndNode(Graph):\n",
    "    in_out_edges_diff = {}\n",
    "    for key,values in Graph.items():\n",
    "        if key in in_out_edges_diff.keys():\n",
    "            in_out_edges_diff[key] += -len(values)\n",
    "        else:\n",
    "            in_out_edges_diff[key] = -len(values)\n",
    "        for val in values:\n",
    "            if val in in_out_edges_diff.keys():\n",
    "                in_out_edges_diff[val] += 1\n",
    "            else:\n",
    "                in_out_edges_diff[val] = 1\n",
    "    global_end_node = [k for k, v in in_out_edges_diff.items() if v == 1][0]\n",
    "    global_start_node  = [k for k, v in in_out_edges_diff.items() if v == -1][0]\n",
    "    \n",
    "    Graph[global_end_node] = {global_start_node}\n",
    "    return global_start_node,global_end_node"
   ]
  },
  {
   "cell_type": "code",
   "execution_count": 5,
   "metadata": {},
   "outputs": [],
   "source": [
    "def CorrectPath(Cycle,global_start_node,global_end_node):\n",
    "    if (Cycle[0] == global_start_node and Cycle[-1] == global_end_node):\n",
    "        return Cycle\n",
    "    else:\n",
    "        for index in range(1,len(Cycle)):\n",
    "            if(Cycle[index-1] == global_end_node and Cycle[index] == global_start_node):\n",
    "                NewCycle = Cycle[index:]+Cycle[1:index] ####start from 1 to remove the repeated non-start node\n",
    "                break\n",
    "        return NewCycle"
   ]
  },
  {
   "cell_type": "code",
   "execution_count": 17,
   "metadata": {},
   "outputs": [],
   "source": [
    "def EulerianPath(Graph):\n",
    "    global_start_node,global_end_node = findGlobalStartEndNode(Graph)\n",
    "    Cycle = EulerianCycle(Graph)\n",
    "    Cycle = CorrectPath(Cycle,global_start_node,global_end_node)\n",
    "    return Cycle"
   ]
  },
  {
   "cell_type": "code",
   "execution_count": 6,
   "metadata": {},
   "outputs": [],
   "source": [
    "def DeBruijnFromkMers(Patterns):\n",
    "    dB = defaultdict(list)\n",
    "    for pattern in Patterns:\n",
    "        prefix = pattern[0:-1]\n",
    "        suffix = pattern[1:]\n",
    "        dB[prefix].append(suffix)\n",
    "    return dB"
   ]
  },
  {
   "cell_type": "code",
   "execution_count": 29,
   "metadata": {},
   "outputs": [],
   "source": [
    "def  PathToGenome(kmers):\n",
    "    Text = kmers[0]\n",
    "    n = len(kmers)\n",
    "    for i in range(1,n):\n",
    "        Text += kmers[i][-1]\n",
    "    return Text"
   ]
  },
  {
   "cell_type": "code",
   "execution_count": 28,
   "metadata": {},
   "outputs": [],
   "source": [
    "def StringReconstruction(Patterns):\n",
    "        dB =  DeBruijnFromkMers(Patterns)\n",
    "        path = EulerianPath(dB)\n",
    "        Text = PathToGenome(path)\n",
    "        return Text"
   ]
  },
  {
   "cell_type": "code",
   "execution_count": 23,
   "metadata": {},
   "outputs": [],
   "source": [
    "Patterns = ['CTTA',\n",
    "'ACCA',\n",
    "'TACC',\n",
    "'GGCT',\n",
    "'GCTT',\n",
    "'TTAC']"
   ]
  },
  {
   "cell_type": "code",
   "execution_count": 30,
   "metadata": {},
   "outputs": [
    {
     "data": {
      "text/plain": [
       "'GGCTTACCA'"
      ]
     },
     "execution_count": 30,
     "metadata": {},
     "output_type": "execute_result"
    }
   ],
   "source": [
    "StringReconstruction(Patterns)"
   ]
  },
  {
   "cell_type": "code",
   "execution_count": 31,
   "metadata": {},
   "outputs": [],
   "source": [
    "Patterns = []\n",
    "file = open('dataset_369273_7.txt', 'r') \n",
    "for i, line in enumerate(file):\n",
    "    line=line.rstrip('\\n')\n",
    "    if (i >0):\n",
    "        Patterns.append(line)"
   ]
  },
  {
   "cell_type": "code",
   "execution_count": 33,
   "metadata": {},
   "outputs": [
    {
     "data": {
      "text/plain": [
       "'TTGGCGTACAGTCAGGTCCCAGACCTCCGCAAATAAATCACAGTATGGACTGCCTCACACACGTGCTACCGCTATTCTGAAGGTCCTTCTTCAAGAAGAAGAGACCACACGTCGAAGCCATTAGTGTTATCGCTATACCGCGGGTAACACATAGAACTAGTAGTAGAGGAGCATGATAGCATGGGGCACCTGATGCGGGCTAGATGGACCCCGTCCAGGCTCGATATATAAGATACTCACGAGTCAAGCCGTCGGCGTGGTCGCATTTTACGAACAAGGCCGGCACCCCAGCAAAAAATCGGTATTGCACTGCCCACTTTCGCTATTCGGCTTTGGCTCGGCGTGGGCGGAGCTGAAGCGGCTAGTCTGCGATCAGGGAGATTAGCGGACCCCGCTAATAACGTGATATTTGTCTGTAGGGTTCCCATAGCTCGGTTAGAGACAGGACAAAGCTTAGAGGTACTGAAGTCGGTATGAGATTGGTCCATGGACCCCACAATATCCGGACTTCGTACTTGCTTTGAATTGTAGTACGCAGCTGTCCATTATTGTATGCTCTGCTAGAATCTGGGTCGTGGCAGCAAAAGGCCTGAAACACATCGTATCCCATGGATGTTCTACTTTAAGTCTTATGGTTAACTTTTCGCCCACTGTAGGTACACTCTCGCCAAAAGACAGGTCCCTCTCTTGGGGTAAGTCCCGTGCATAGGTGATCGTAGCAAGCAGGTGGACCACCCCCCTCAAAGTTCAGTCAAGATACCTTAAGTCTCTGCCGCGTGTCTAAATCTCAGCATCATTTAGTTGGGTAGGCAGTTTTAGTCGTTGGTGAGTGTGGGTCATCGCTCGGCCAATGGCACGCGTCTAGACTCTGCGGAGGGGTGAAAAGTTTCGCTATCCTACCGAACAACTAAGCGAGGTCGTCGGCGGACTCAGTCAATCAGAAATGCGATCGTGATTCGGGACTCAAATCACGTAGGCGATGAAGTAGTCACCTTCGTGCGTGGGATCATCATCTGCTTCTCATTCAGCCAATAGCGTAGAAAGTATTAACATATGCTTAGGTCGCGTTTACTGCAGTAAAAGCGATGGATGCTACCCCAATCTGTGAGGCATTTCAAGGGCTTTTGCCAACAAGGGGACGTAGCTCTTCGAGCATCAAAGTCAACTCACTATGGATGATACAGTGTACGTCGACAGCGTAGCGGAGGGAAGCTCGTTCTCTTCTTCACTCAAGGATTGCTCGACACCCGCGTGGTGGGACCACAGTCGTGTAATACCGCGTCAATCTCGTAGTGCGCGACGGCGGATGGGTTGCAGGGCCCCTCGCTAAAGCGGACACATGCCCTACCCCGAGTCTTGATAATTATAATTTTGGACTCGTTCGCTAGGATACCCGCAGGAGATAGGAGCGTAGGCGCGGGCGGCGCAGACGCACTCGGGTGGAAACTTTATTTTAACTATCCCCAAAACAGCCCTAGCCATTCGTGATCTCATGCGCCTGATTGTCCCATGTGCCTGTAGCTGGCGTCTAGGCGCGTCGCTGGATCCCTGTTACTGGCTGTATGCACGGAAAGGCTCAATATAACACGGGCCTCACAGTACACCCATTGTGTATCGCTACCCCACTAAGTCCTAGCCTCCCTCTTCGAATATTGGCGTGTACGCGGCCGGCGCCGATCCGGCGAATGCCGGGAGAGGTAGTATTTTGGCTTCCCAGTCCTGTCACGCCAGTTTTGATCTCAGCTCAGCAAAGAGTAATAAGTTTTCGAGGGACACGAATGGGAGTGGTCTTGTAAGAGATCTTTGTCCGACCTGATCGGCTGTTGGGCACTCTCGCAGGCAAGTTGCTCACGCTTCGAAAGTGTAGGATTCGTACACCGCTATATATGCCAGTCACCTCGCACACCCTATCGTTTTTACTTCGATGGAGTAAGCTAGAAAGGATAGTCTGGGAGCAGGGAGGGACGTCTAGGAACGGGTCAAAGTGGGTCATCCGAGAGTACTGTCCATAAACGGAACTAGAGTTCTCCCGAATCTTTTGGGTCTGATGGCACTATGTGGGCCGGCGGCACTACATCTGCAAGTCAGTTGCATGGATCGGAGTCTGACTCTCCGAGACCCTGATATATAATATTCCGTGCCCGTGCGTCCATCGACGCATTCCCGCCCAGTTGGCCGAGAAGGTAAGATCTCGTCACGAACTGCCGCCGGCCATATTCGCAGTCTTTAAGGCCGTAGTG'"
      ]
     },
     "execution_count": 33,
     "metadata": {},
     "output_type": "execute_result"
    }
   ],
   "source": [
    "StringReconstruction(Patterns)"
   ]
  },
  {
   "cell_type": "code",
   "execution_count": null,
   "metadata": {},
   "outputs": [],
   "source": []
  }
 ],
 "metadata": {
  "kernelspec": {
   "display_name": "Python 3",
   "language": "python",
   "name": "python3"
  },
  "language_info": {
   "codemirror_mode": {
    "name": "ipython",
    "version": 3
   },
   "file_extension": ".py",
   "mimetype": "text/x-python",
   "name": "python",
   "nbconvert_exporter": "python",
   "pygments_lexer": "ipython3",
   "version": "3.7.3"
  }
 },
 "nbformat": 4,
 "nbformat_minor": 4
}
