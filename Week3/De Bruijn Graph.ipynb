{
 "cells": [
  {
   "cell_type": "code",
   "execution_count": 51,
   "metadata": {},
   "outputs": [],
   "source": [
    "import numpy as np\n",
    "from collections import defaultdict\n",
    "import sys"
   ]
  },
  {
   "cell_type": "code",
   "execution_count": 6,
   "metadata": {},
   "outputs": [],
   "source": [
    "def OverlapGraph(kmers):\n",
    "    prefix_of = {}\n",
    "    suffix_of = {}\n",
    "    for i in range(len(kmers)):\n",
    "        kmer = kmers[i]\n",
    "        n = len(kmer)\n",
    "        prefix = kmer[0:n-1]\n",
    "        suffix = kmer[1:n]\n",
    "        prefix_of[kmer] = prefix\n",
    "        suffix_of[kmer] = suffix\n",
    "    overlap_graph = {}\n",
    "    for kmer1,suffix in suffix_of.items():\n",
    "        for kmer2,prefix in prefix_of.items():\n",
    "            if(suffix == prefix):\n",
    "                if kmer1 in overlap_graph.keys():\n",
    "                    overlap_graph[kmer1] += ','+kmer2\n",
    "                else:\n",
    "                    overlap_graph[kmer1] = kmer2\n",
    "    return overlap_graph\n",
    "                "
   ]
  },
  {
   "cell_type": "code",
   "execution_count": 2,
   "metadata": {},
   "outputs": [],
   "source": [
    "def form_kmers(Text,k):\n",
    "    n = len(Text)\n",
    "    kmers = np.zeros(n-k+1).astype('str')\n",
    "    for i in range(n-k+1):\n",
    "        kmers[i] = Text[i:i+k]\n",
    "    return kmers\n",
    "    "
   ]
  },
  {
   "cell_type": "code",
   "execution_count": 44,
   "metadata": {},
   "outputs": [],
   "source": [
    "def deBruijinGraph(overlap_graph):\n",
    "    #de_bruijin_graph = defaultdict(set)   ####values are set\n",
    "    de_bruijin_graph = {}\n",
    "    middle_node = set()     ######If the same middle node, then skip\n",
    "    for kmer1,kmer2 in overlap_graph.items():\n",
    "        lists = kmer2.split(',')\n",
    "        n1 = len(kmer1)\n",
    "        start = kmer1[0:n1-1]\n",
    "        middle = kmer1[1:n1]\n",
    "        if middle in middle_node:\n",
    "            continue\n",
    "        else:\n",
    "            middle_node.add(middle)\n",
    "        if start not in de_bruijin_graph.keys():\n",
    "            de_bruijin_graph[start]  = middle\n",
    "        for kmer in lists:\n",
    "            n2 = len(kmer)\n",
    "            end = kmer[1:n2]\n",
    "            if middle in de_bruijin_graph.keys():\n",
    "                de_bruijin_graph[middle] += ','+end\n",
    "            else:\n",
    "                de_bruijin_graph[middle] = end\n",
    "            \n",
    "            \n",
    "    return de_bruijin_graph\n",
    "   "
   ]
  },
  {
   "cell_type": "code",
   "execution_count": 45,
   "metadata": {},
   "outputs": [],
   "source": [
    "k = 4\n",
    "Text ='AAGATTCTCTAAGA'"
   ]
  },
  {
   "cell_type": "code",
   "execution_count": 46,
   "metadata": {},
   "outputs": [
    {
     "name": "stdout",
     "output_type": "stream",
     "text": [
      "AAGA -> AGAT\n",
      "AGAT -> GATT\n",
      "GATT -> ATTC\n",
      "ATTC -> TTCT\n",
      "TTCT -> TCTC,TCTA\n",
      "TCTC -> CTCT\n",
      "CTCT -> TCTC,TCTA\n",
      "TCTA -> CTAA\n",
      "CTAA -> TAAG\n",
      "TAAG -> AAGA\n"
     ]
    }
   ],
   "source": [
    "kmers = form_kmers(Text,k)\n",
    "overlap_graph =  OverlapGraph(kmers)\n",
    "for kmer1,kmer2 in overlap_graph.items():\n",
    "    print(\"%s -> %s\"%(kmer1,kmer2))"
   ]
  },
  {
   "cell_type": "code",
   "execution_count": 47,
   "metadata": {},
   "outputs": [
    {
     "name": "stdout",
     "output_type": "stream",
     "text": [
      "AAG -> AGA,AGA\n",
      "AGA -> GAT\n",
      "GAT -> ATT\n",
      "ATT -> TTC\n",
      "TTC -> TCT\n",
      "TCT -> CTC,CTA\n",
      "CTC -> TCT\n",
      "CTA -> TAA\n",
      "TAA -> AAG\n"
     ]
    }
   ],
   "source": [
    "de_bruijin_graph = deBruijinGraph(overlap_graph)\n",
    "for kmer1,kmer2 in de_bruijin_graph.items():\n",
    "    print(\"%s -> %s\"%(kmer1,kmer2))"
   ]
  },
  {
   "cell_type": "code",
   "execution_count": 40,
   "metadata": {},
   "outputs": [],
   "source": [
    "a = set()\n",
    "a.add(1)"
   ]
  },
  {
   "cell_type": "code",
   "execution_count": 41,
   "metadata": {},
   "outputs": [
    {
     "data": {
      "text/plain": [
       "True"
      ]
     },
     "execution_count": 41,
     "metadata": {},
     "output_type": "execute_result"
    }
   ],
   "source": [
    "1 in a"
   ]
  },
  {
   "cell_type": "code",
   "execution_count": 48,
   "metadata": {},
   "outputs": [],
   "source": [
    "Text = ''\n",
    "k = 0\n",
    "file = open('dataset_369269_6.txt', 'r') \n",
    "for i, line in enumerate(file):\n",
    "    line=line.rstrip('\\n')\n",
    "    if(i == 0):\n",
    "        k = int(line)\n",
    "    else:\n",
    "        Text = line"
   ]
  },
  {
   "cell_type": "code",
   "execution_count": 50,
   "metadata": {},
   "outputs": [],
   "source": [
    "out = open('file','w')\n",
    "kmers = form_kmers(Text,k)\n",
    "overlap_graph =  OverlapGraph(kmers)\n",
    "de_bruijin_graph = deBruijinGraph(overlap_graph)\n",
    "for kmer1,kmer2 in de_bruijin_graph.items():\n",
    "    #print(\"%s -> %s\"%(kmer1,kmer2))\n",
    "    out.write(\"%s -> %s\\n\"%(kmer1,kmer2))"
   ]
  },
  {
   "cell_type": "code",
   "execution_count": 52,
   "metadata": {},
   "outputs": [
    {
     "data": {
      "text/plain": [
       "2049"
      ]
     },
     "execution_count": 52,
     "metadata": {},
     "output_type": "execute_result"
    }
   ],
   "source": [
    "sys.getsizeof(Text)"
   ]
  },
  {
   "cell_type": "code",
   "execution_count": 53,
   "metadata": {},
   "outputs": [],
   "source": [
    "de_bruijin_graph = deBruijinGraph(overlap_graph)"
   ]
  },
  {
   "cell_type": "code",
   "execution_count": 55,
   "metadata": {},
   "outputs": [
    {
     "ename": "NameError",
     "evalue": "name 'SIZE_UNIT' is not defined",
     "output_type": "error",
     "traceback": [
      "\u001b[0;31m---------------------------------------------------------------------------\u001b[0m",
      "\u001b[0;31mNameError\u001b[0m                                 Traceback (most recent call last)",
      "\u001b[0;32m<ipython-input-55-ffff3d00aae5>\u001b[0m in \u001b[0;36m<module>\u001b[0;34m\u001b[0m\n\u001b[0;32m----> 1\u001b[0;31m \u001b[0msys\u001b[0m\u001b[0;34m.\u001b[0m\u001b[0mgetsizeof\u001b[0m\u001b[0;34m(\u001b[0m\u001b[0mde_bruijin_graph\u001b[0m\u001b[0;34m,\u001b[0m\u001b[0mSIZE_UNIT\u001b[0m\u001b[0;34m.\u001b[0m\u001b[0mKB\u001b[0m\u001b[0;34m)\u001b[0m\u001b[0;34m\u001b[0m\u001b[0;34m\u001b[0m\u001b[0m\n\u001b[0m",
      "\u001b[0;31mNameError\u001b[0m: name 'SIZE_UNIT' is not defined"
     ]
    }
   ],
   "source": [
    "sys.getsizeof(de_bruijin_graph)"
   ]
  },
  {
   "cell_type": "code",
   "execution_count": null,
   "metadata": {},
   "outputs": [],
   "source": []
  }
 ],
 "metadata": {
  "kernelspec": {
   "display_name": "Python 3",
   "language": "python",
   "name": "python3"
  },
  "language_info": {
   "codemirror_mode": {
    "name": "ipython",
    "version": 3
   },
   "file_extension": ".py",
   "mimetype": "text/x-python",
   "name": "python",
   "nbconvert_exporter": "python",
   "pygments_lexer": "ipython3",
   "version": "3.7.3"
  }
 },
 "nbformat": 4,
 "nbformat_minor": 4
}
