{
 "cells": [
  {
   "cell_type": "code",
   "execution_count": 3,
   "metadata": {},
   "outputs": [],
   "source": [
    "def  PathToGenome(kmers):\n",
    "    Text = kmers[0]\n",
    "    n = len(kmers)\n",
    "    for i in range(1,n):\n",
    "        Text += kmers[i][-1]\n",
    "    return Text"
   ]
  },
  {
   "cell_type": "code",
   "execution_count": 4,
   "metadata": {},
   "outputs": [],
   "source": [
    "def StringSpelledByGappedPatterns(GappedPatterns, k, d):\n",
    "    #FirstPatterns ← the sequence of initial k-mers from GappedPatterns\n",
    "    FirstPatterns = GappedPatterns[::2]\n",
    "    #SecondPatterns ← the sequence of terminal k-mers from GappedPatterns\n",
    "    SecondPatterns = GappedPatterns[1::2]\n",
    "    #PrefixString ← StringSpelledByGappedPatterns(FirstPatterns, k)\n",
    "    PrefixString = PathToGenome(FirstPatterns)\n",
    "    #SuffixString ← StringSpelledByGappedPatterns(SecondPatterns, k)\n",
    "    SuffixString = PathToGenome(SecondPatterns)\n",
    "    \n",
    "    for i in range(k+d,len(PrefixString)):\n",
    "        #if the i-th symbol in PrefixString does not equal the (i - k - d)-th symbol in SuffixString\n",
    "        if (PrefixString[i] != SuffixString[i-k-d]):\n",
    "            return \"there is no string spelled by the gapped patterns\"\n",
    "        return PrefixString+SuffixString[-(k+d):]"
   ]
  },
  {
   "cell_type": "raw",
   "metadata": {},
   "source": [
    " Sample Input:\n",
    "\n",
    "4 2\n",
    "GACC|GCGC\n",
    "ACCG|CGCC\n",
    "CCGA|GCCG\n",
    "CGAG|CCGG\n",
    "GAGC|CGGA\n",
    "\n",
    "Sample Output:\n",
    "\n",
    "GACCGAGCGCCGGA"
   ]
  },
  {
   "cell_type": "code",
   "execution_count": 3,
   "metadata": {},
   "outputs": [],
   "source": [
    "GappedPatterns = ['GACC','GCGC',\n",
    "'ACCG','CGCC',\n",
    "'CCGA','GCCG',\n",
    "'CGAG','CCGG',\n",
    "'GAGC','CGGA']"
   ]
  },
  {
   "cell_type": "code",
   "execution_count": 1,
   "metadata": {},
   "outputs": [],
   "source": [
    "GappedPatterns = []\n",
    "k = 0\n",
    "d = 0\n",
    "file = open('dataset_369278_4.txt', 'r') \n",
    "for i, line in enumerate(file):\n",
    "    line=line.rstrip('\\n')\n",
    "    if (i == 0):\n",
    "        k,d = line.split(' ')\n",
    "        k = int(k)\n",
    "        d = int(d)\n",
    "    else:\n",
    "        first,second = line.split('|')\n",
    "        GappedPatterns.append(first)\n",
    "        GappedPatterns.append(second)"
   ]
  },
  {
   "cell_type": "code",
   "execution_count": 5,
   "metadata": {},
   "outputs": [
    {
     "data": {
      "text/plain": [
       "'TAAGCCGTGTAACGGAGTTGGAGCGGCTGACCCCGCCAGGGGTTTACGAACCTACAAAGAGCTGTTCCAGCCATAAGTCTAGGGTATCAGAGCGGCTGACCCCGCCAGGGGTTTACGAACCTACAAAGAGCTGTTCCAGTCTACCTAGTTCCTTTGACGCCCAGTAGGTAGAATATCTACGGAACCGAATTTGTTCCCCCTCAGCCTTATTAGAGCGGCTGACCCCGCCAGGGGTTTACGAACCTACAAAGAGCTGTTCCAGTCATCGGCTAAACTGCTCTATAAGAGCGGCTGACCCCGCGAGCGGCTGACCCCGCCAGGGGTTTACGAACCTACAAAGAGCTGTTCCAGCAGGGGTTTACGAACCTACAAAGAGCTGTTCCAGTTGAGATGTGGTGAAAAAAGCACAAGAGCGGCTGACCCCGCCAGGGGTTTACGAACCTACAAAGAGCTGTTCCAGTATACCACCAAAGCTTTCTGGCTTTAAGAGGCCCTCAAGGAGCGGCTGACCCCGCCAGGGGTTTACGAACGAGCGGCTGACCCCGCCAGGGGTTTACGAACCTACAAAGAGCTGTTCCAGCTACAAAGAGCTGTTCCAGCAGAAGAGCGGCTGACCCCGCCAGGGGTTTAGAGCGGCTGACCCCGCCAGGGGTTTACGAACCTACAAAGAGCTGTTCCAGCGAACCTACAAAGAGCTGTTCCAGTCCGGCCGACGGGATACATGAAGAGAACAGGTTCTCAAAGTGGCAGCTTTAGAGCGCGCTGTAATGAGAGGACATAGCGAGCGGCTGACCCCGCCAGGGGTTTACGAACCTACAAAGAGCTGTTCCAGAAGACAGATTTCCCCGAGCTGACAGAGTGCGTCGTCGCCTGAGCGGCAGTAGTGTGGGGGAGCGGCTGACCCCGCCAGGGGTGAGCGGCTGACCCCGCCAGGGGTTTACGAACCTACAAAGAGCTGTTCCAGTTACGAACCTACAAAGAGCTGTTCCAGAATGCCGGAGCGGCTGACCCCGCCAGGGGTTTACGAACCTACAAAGAGCTGTTCCAGAGCGGCTGACCCCGCCAGGGGTTTACGAACCTACAAAGAGCTGTTCCAGTTAAAGGAGTCTACTAGGAGCCTGAAAGAAAAGGAGCGAACAGTGAGGTCCCAATCGTAGAGTAAATGAGCGGCTGACCCCGCCAGGGGTTTACGAACCTACAAAGAGCTGTTCCAGATTGAGCGGCTGACCCCGCCAGGGGTTTACGAGAGCGGCTGACCCCGCCAGGGGTTTACGAACCTACAAAGAGCTGTTCCAGACCTACAAAGAGCTGTTCCAGGTCAACTTTTGGATTTATGGCTCAGAGTAAAGGAAACAATGAGACCCAATCGTCACGATATCTTGCTTAGTTTCACTCAATGACAAACCGATTCCAGAGCCCTAGAGCGGCTGACCCCGCCAGGGGTTTACGAACCTACAAAGAGCTGTTCCAGGGAGCGGCTGACCCCGCCAGGGGTTTACGAACCTACAAAGAGCTGTTCCAGAGGCGGCGGCCCGCTGCTAAGTATCTCTTCCTAAGTGCTAGCGATATCTGGCGTGTATAGCTGTTAGTGGCCCCGACACATGCGTTGCATTTGTCCGCTTGTTCCATAAATCGCAATGACAAGGAAAATTGAGCTTATGAACATACATGGTACTGAGGGTAATGACAGCGAATCACTTCAGCGAGTAAAACGGTCTCGTGCTTCGGGACTCCAAATTAGCCACGCGCATTGATAACTAACTCTGAGCCAGAAGAAATGAAGGAAGAGGTACCACGCCCGAAGGTCTGTGAAGATGTCCGGCTCGGCCTTGGCCTACCCTAACAAGAGTGCTGCAGGTCTCCGACGTAACTCTTTCGCTAAGCTTCCGATAGCACAACCACCAGCGCGCCCATAAGCTAGGTCATCCTGTGACTGGATATTCATTAATCCGGCTTATTGAGCTTACGCACTCCGGATCATGTTAGCCTTTAGCCCTCGA'"
      ]
     },
     "execution_count": 5,
     "metadata": {},
     "output_type": "execute_result"
    }
   ],
   "source": [
    "StringSpelledByGappedPatterns(GappedPatterns, k, d)"
   ]
  },
  {
   "cell_type": "code",
   "execution_count": null,
   "metadata": {},
   "outputs": [],
   "source": []
  }
 ],
 "metadata": {
  "kernelspec": {
   "display_name": "Python 3",
   "language": "python",
   "name": "python3"
  },
  "language_info": {
   "codemirror_mode": {
    "name": "ipython",
    "version": 3
   },
   "file_extension": ".py",
   "mimetype": "text/x-python",
   "name": "python",
   "nbconvert_exporter": "python",
   "pygments_lexer": "ipython3",
   "version": "3.7.3"
  }
 },
 "nbformat": 4,
 "nbformat_minor": 4
}
