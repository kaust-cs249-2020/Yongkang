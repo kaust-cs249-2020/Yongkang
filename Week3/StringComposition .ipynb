{
 "cells": [
  {
   "cell_type": "code",
   "execution_count": 1,
   "metadata": {},
   "outputs": [],
   "source": [
    "def stringComposition(Text,k):\n",
    "    n = len(Text)\n",
    "    composition = set()\n",
    "    for i in range(n-k+1):\n",
    "        composition.add(Text[i:i+k])\n",
    "    return composition"
   ]
  },
  {
   "cell_type": "code",
   "execution_count": 2,
   "metadata": {},
   "outputs": [
    {
     "name": "stdout",
     "output_type": "stream",
     "text": [
      "CCAAC\n",
      "TCCAA\n",
      "CAATC\n",
      "AATCC\n",
      "ATCCA\n"
     ]
    }
   ],
   "source": [
    "k = 5\n",
    "Text='CAATCCAAC'\n",
    "for i in stringComposition(Text,k):\n",
    "    print(i)"
   ]
  },
  {
   "cell_type": "code",
   "execution_count": 10,
   "metadata": {},
   "outputs": [],
   "source": [
    "\n",
    "k = 0\n",
    "Text=''\n",
    "file = open('dataset_369267_3.txt', 'r') \n",
    "for i, line in enumerate(file):\n",
    "    line=line.rstrip('\\n')\n",
    "    if(i==0):\n",
    "        k = int(line)\n",
    "    else:\n",
    "        Text = line"
   ]
  },
  {
   "cell_type": "code",
   "execution_count": 12,
   "metadata": {},
   "outputs": [],
   "source": [
    "out = open('file','w')\n",
    "for i in stringComposition(Text,k):\n",
    "     out.write('%s\\n'%(i))"
   ]
  },
  {
   "cell_type": "code",
   "execution_count": null,
   "metadata": {},
   "outputs": [],
   "source": []
  }
 ],
 "metadata": {
  "kernelspec": {
   "display_name": "Python 3",
   "language": "python",
   "name": "python3"
  },
  "language_info": {
   "codemirror_mode": {
    "name": "ipython",
    "version": 3
   },
   "file_extension": ".py",
   "mimetype": "text/x-python",
   "name": "python",
   "nbconvert_exporter": "python",
   "pygments_lexer": "ipython3",
   "version": "3.7.3"
  }
 },
 "nbformat": 4,
 "nbformat_minor": 4
}
