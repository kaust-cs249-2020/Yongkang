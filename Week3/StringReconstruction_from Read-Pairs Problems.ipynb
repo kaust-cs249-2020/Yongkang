{
 "cells": [
  {
   "cell_type": "code",
   "execution_count": 1,
   "metadata": {},
   "outputs": [],
   "source": [
    "from collections import defaultdict\n",
    "import random"
   ]
  },
  {
   "cell_type": "code",
   "execution_count": 2,
   "metadata": {},
   "outputs": [],
   "source": [
    "def DeBruijnFromkMers(Patterns):\n",
    "    dB = defaultdict(list)\n",
    "    for i in range(0,len(GappedPatterns),2):\n",
    "        firstPattern = GappedPatterns[i]\n",
    "        secondPattern = GappedPatterns[i+1]\n",
    "        first_prefix = firstPattern[:-1]\n",
    "        first_suffix = firstPattern[1:]\n",
    "        second_prefix = secondPattern[:-1]\n",
    "        second_suffix = secondPattern[1:]\n",
    "        dB[(first_prefix,second_prefix)].append((first_suffix,second_suffix))\n",
    "    return dB"
   ]
  },
  {
   "cell_type": "code",
   "execution_count": 3,
   "metadata": {},
   "outputs": [],
   "source": [
    "def findGlobalStartEndNode(Graph):\n",
    "    in_out_edges_diff = {}\n",
    "    for key,values in Graph.items():\n",
    "        if key in in_out_edges_diff.keys():\n",
    "            in_out_edges_diff[key] += -len(values)\n",
    "        else:\n",
    "            in_out_edges_diff[key] = -len(values)\n",
    "        for val in values:\n",
    "            if val in in_out_edges_diff.keys():\n",
    "                in_out_edges_diff[val] += 1\n",
    "            else:\n",
    "                in_out_edges_diff[val] = 1\n",
    "    global_end_node = [k for k, v in in_out_edges_diff.items() if v == 1][0]\n",
    "    global_start_node  = [k for k, v in in_out_edges_diff.items() if v == -1][0]\n",
    "    \n",
    "    Graph[global_end_node] = {global_start_node}\n",
    "    return global_start_node,global_end_node"
   ]
  },
  {
   "cell_type": "code",
   "execution_count": 4,
   "metadata": {},
   "outputs": [],
   "source": [
    "def randomWalk(Graph,Cycle):\n",
    "    start_node = Cycle[0]\n",
    "    node = start_node\n",
    "    while Graph[node]:\n",
    "        ####Note! it removes an arbitrary (but not random) set value.\n",
    "        ####BUT i think it still works!\n",
    "        new_node = Graph[node].pop()\n",
    "        if(not Graph[node]): ###Empty value sets\n",
    "            del Graph[node]  ###Remove the previous node\n",
    "        Cycle.append(new_node)\n",
    "        node = new_node\n",
    "    del Graph[node]   #####Remove the start node without unsed nodes\n",
    "    return Cycle"
   ]
  },
  {
   "cell_type": "code",
   "execution_count": 5,
   "metadata": {},
   "outputs": [],
   "source": [
    "def EulerianPath(Graph):\n",
    "    global_start_node,global_end_node = findGlobalStartEndNode(Graph)\n",
    "    Cycle = randomWalk(Graph,[global_start_node])\n",
    "    return Cycle"
   ]
  },
  {
   "cell_type": "code",
   "execution_count": 6,
   "metadata": {},
   "outputs": [],
   "source": [
    "def  PathToGenome(kmers):\n",
    "    Text = kmers[0]\n",
    "    n = len(kmers)\n",
    "    for i in range(1,n):\n",
    "        Text += kmers[i][-1]\n",
    "    return Text"
   ]
  },
  {
   "cell_type": "code",
   "execution_count": 7,
   "metadata": {},
   "outputs": [],
   "source": [
    "def StringSpelledByGappedPatterns(GappedPatterns, k, d):\n",
    "    #FirstPatterns ← the sequence of initial k-mers from GappedPatterns\n",
    "    FirstPatterns = [k[0] for k in GappedPatterns[:-1]]\n",
    "    #SecondPatterns ← the sequence of terminal k-mers from GappedPatterns\n",
    "    SecondPatterns = [k[1] for k in GappedPatterns[:-1]]\n",
    "    #PrefixString ← StringSpelledByGappedPatterns(FirstPatterns, k)\n",
    "    PrefixString = PathToGenome(FirstPatterns)\n",
    "    #SuffixString ← StringSpelledByGappedPatterns(SecondPatterns, k)\n",
    "    SuffixString = PathToGenome(SecondPatterns)\n",
    "    \n",
    "    for i in range(k+d,len(PrefixString)):\n",
    "        #if the i-th symbol in PrefixString does not equal the (i - k - d)-th symbol in SuffixString\n",
    "        if (PrefixString[i] != SuffixString[i-k-d]):\n",
    "            return \"there is no string spelled by the gapped patterns\"\n",
    "        return PrefixString+SuffixString[-(k+d):]"
   ]
  },
  {
   "cell_type": "code",
   "execution_count": 8,
   "metadata": {},
   "outputs": [],
   "source": [
    "def StringReconstruction(Patterns,k,d):\n",
    "        dB =  DeBruijnFromkMers(Patterns)\n",
    "        path = EulerianPath(dB)\n",
    "        Text = StringSpelledByGappedPatterns(path,k-1,d+1)  ###Reduce to k-1 mer, distance became d+1\n",
    "        return Text"
   ]
  },
  {
   "cell_type": "raw",
   "metadata": {},
   "source": [
    " Sample Input:\n",
    "\n",
    "4 2\n",
    "GAGA|TTGA\n",
    "TCGT|GATG\n",
    "CGTG|ATGT\n",
    "TGGT|TGAG\n",
    "GTGA|TGTT\n",
    "GTGG|GTGA\n",
    "TGAG|GTTG\n",
    "GGTC|GAGA\n",
    "GTCG|AGAT\n",
    "\n",
    "Sample Output:\n",
    "\n",
    "GTGGTCGTGAGATGTTGA"
   ]
  },
  {
   "cell_type": "code",
   "execution_count": 9,
   "metadata": {},
   "outputs": [],
   "source": [
    "GappedPatterns = ['GAGA','TTGA',\n",
    "'TCGT','GATG',\n",
    "'CGTG','ATGT',\n",
    "'TGGT','TGAG',\n",
    "'GTGA','TGTT',\n",
    "'GTGG','GTGA',\n",
    "'TGAG','GTTG',\n",
    "'GGTC','GAGA',\n",
    "'GTCG','AGAT']\n"
   ]
  },
  {
   "cell_type": "code",
   "execution_count": 10,
   "metadata": {},
   "outputs": [
    {
     "data": {
      "text/plain": [
       "'GTGGTCGTGAGATGTTGA'"
      ]
     },
     "execution_count": 10,
     "metadata": {},
     "output_type": "execute_result"
    }
   ],
   "source": [
    "Text = StringReconstruction(GappedPatterns,4,2)\n",
    "Text"
   ]
  },
  {
   "cell_type": "code",
   "execution_count": 11,
   "metadata": {},
   "outputs": [],
   "source": [
    "GappedPatterns = []\n",
    "k = 0\n",
    "d = 0\n",
    "file = open('dataset_369274_16.txt', 'r') \n",
    "for i, line in enumerate(file):\n",
    "    line=line.rstrip('\\n')\n",
    "    if (i == 0):\n",
    "        k,d = line.split(' ')\n",
    "        k = int(k)\n",
    "        d = int(d)\n",
    "    else:\n",
    "        first,second = line.split('|')\n",
    "        GappedPatterns.append(first)\n",
    "        GappedPatterns.append(second)"
   ]
  },
  {
   "cell_type": "code",
   "execution_count": 12,
   "metadata": {},
   "outputs": [
    {
     "data": {
      "text/plain": [
       "'AGGAGGCGAACAGATGCGCCTGCAAGTGTAGGCATCTCAGGGAATTTTGACTCATTAGCGAGTCTGTTTCCGAAGTGGCATTATTTACATACCATCGTCCTCCATAGTAGTCAGGAGGTTTTCGCCTGCAGCAGAGAACGGCAGCCTTTAACATCGACTGTACGGTCCCTTTACCATCGCAGCTGACCTTGTTCGCGACACTGACAAAAAACACAGACTCAGTGACAACGCGCTGAGGTTGCGGCAAAAAATTCTCGCGATCCCCGGTCCAGCAGCACCAGAGCTAAAAGTAGTCAGGAGGTTTTCGCCTGCAGCAGAGAACGGCAGCCTTTAACATCTTCGTGCCCAGTATTTGCTTATAGATGGGAACAACCTATTCACAGCGTTTGCCATCCTGTTTATCTCTGACGGCATTTAGCACAGTAGGTGGCAAGGATCGCGCCCTATGCACGAGTAGTCAGGAGGTTTTCGCCTGCAGCAGAGAACGGCAGCCTTTAACATCGTTGTATCGTACAGTAGTCAGGAGGTTTTCGCCTGCAGCAGAGAACGGCAGCCTTTAACATCATTAGTCAAATTAACCCACATACAGCAAGTAGTCAGGAGGTTTTCGCCTGCAGCAGAGAACGGCAGCCTTTAACATCAGAAAACCGAATACCTGGATACTACTTGCTGGTAAGCAAACCATATGCGCTCCTTTCCTCTGCCCACGTTGTTAAAGAAAGACCGAACGCCTCCCAGGTCCGCCAGTTGTTAAGCGGCGGAATGGCTATAATAAGTGACTAGTTGAACGTTGTGGTGCAGTCACCCGAGGTGATGCTGTGCTACACTTTGGTAACGGAGCACCGATGCCTCTCGCCGCCTGGGTATCAGCGGTGGTCTCACAGCCCTGTCACGACAAGGCGATCACCGACTTACCGGGATGCAGGACCTCGTACGCGACTCAAATAAGTAGAGTAAATAACTATCGTGTATAACGGAGTACGCTTCTTAGTTCAGCAAGTTGGCTGGAGAGGGTCATTAGTTAGTCACAACCTCGAGACGGCTTCCTGGAATACCGCGTGGTCTCATTCATGGGCTACACCGCTAAGTTACTTACCCCATTTATAATTGTGGTCTTGTGTAATCGCCTATGGGCAATGTGACACGATCGTTCTACTCGTTGTTTATAACGCTACGCCCGGCATACTAGCTTAACCGGGGGCAGGCTCCGCGGGAGCGTTATCAATAACTCACCTCACCCCTAAAAACTTCTAAGTGATTCACTCAGCAATCGCATGGAAAACCTAGCACCTTCACTCGTTATCGCTGCAATAATCGTATGATGCAGATGACGCGATATGTTAGTACGGCCAATGTTCCCAAGAGCTAATTACCAGCGGATAATAAATCGCGGGTCTGGTTTCTCCCTCAGGGGCAATTTGATTATCGCCCTAAAGTTAATCCTGATACGCGATCTTAAGACGATGGATTAGACCAAAGCCACTAAGATTAGACCTCTATGCGGAGGATTATTCACGTTTGGTCTACATGCTTGCCACGCAGTGGCGAAACAAGTTGCCCCCCCGACGTTTAAAGGAACTTTCAGGGCCGTCGCGCGCTTCGGAGGTATATCTTCCTCTCAGAGACGTTTATTTTATTTAAAAGTATCAAACTCGAAGGGAGCTGGATCGTGGCTGCCAAAGCTCCCCTAGAACCCCACTTGGAGTGGTTTCCAGCGCGTTAGGCCGAGAGCAGTTAGCGTCTTACCGCTAGGCTCGTCAGAAGCCGCTATGGCGCATGATCTGGCATCTTTACGGGAGCTTGCCATCGCCCTAGTCTATCAATAATCTTGATAGTTACGTCCTAGTGAATGACACGTGCGGTAGAAATTAATTCACTATTGCAAACGATGTTCGAACAGGTCTGGTCTCTAGTGGACGCATTTTGGAATTCACCAATGCACATGATAAGGGAACGCTCCAGTTACATCCCTAATATGATATACCCGCAGACATATGGCCAGATGACGAGCAATGGGCACCTCCTGTGCCCACAGTGATCTACTGCATCCAGACGGGAACAAGCATCTTTCGGACAGTAACGTCATGAGTAAATCGGAGCAGTTAGCACTGTAGATGGCCATTCGGGGCTGGGAGTTGTATTTTGGCCCTACTTCACTCGTGCCGCTGGTTGATGCAATACGTGTCCACATCCTCTACAAGAACGTAGTAGAAATCTAGGATTAGGGAAATAGCGCCCGGGATGGGACTGTGGCAGAACTATCGGTTAGAGCTTTAGTCCCGGTCATCAGGCTCCTTCTGTTTCCCCCGGGCGTCGCCGTCACGCATCATTTCGGATTCCTGCTTGGCTTTTGCTAGCGGTTAGCTCCCCTTCGTTCGGGGGCAGGTACAGTCAAGTCGGGCTACGATTCTGGTCGTGTTCTGGTAACGCGTACCGGCACCATCGCTTAGACAGGGCCTCTTACCAATTAAATCCAGAGCTCTCGCGTTCTACGACTTTACTTCGCCGGACAAATTTAGGTGTTGATAAGGGGCTAATGACGTACCAAGCCTTGTTACCGCAGTCGGGAAGGTTAGTAGTCAGGAGGTTTTCGCCTGCAGCAGAGAACGGCAGCCTTTAACATCAGGGGAGGTAGTAGTCAGGAGGTTTTCGCCTGCAGCAGAGAACGGCAGCCTTTAACATCTATCGACATGGGAAGGCGAGCGAACGAAAGGTTATTTCATCGGCCCCGCCCTAAGAGGGGTTTAACTTGATAGAATTTGTAAAGCTCGGTAGTAATGACTACATAAAGTCGAAGCCGCACAGGATGGCCCGTCGCAAGCGTTCTAAGTAGTGTAGTCCGTATCGGCTGCCCCGGTGGCTTCTCGAGCGAAAGTCGGTAGGGGCCACAAAAGTTCATGACAAAGGTGCAGACAAGTAAGATGAGTAGTCAGGAGGTTTTCGCCTGCAGCAGAGAACGGCAGCCTTTAACATCCATAGCTTGTCCGACGAGAAACTCTCAAAAAGCCGGTATGTAACTCAATTCCTGTCTGATGGATTGCGATCTGCGTATCTTGAGATAAAAAGCAAAAGTTTACGAGATCGGAGTACCCTCTTAAGAACAGTAAACCTCTTAATTGTTGTTTATTCCCGAGTCGGATCCGCGTGCAAAAGTTGGCAGACGCGGGATCGGGTGCACGAAGGCGGCTCCTTCCGCCTGCTGAATATTGTACATACGGTTGCAAAGATTCCATTCAGATATCCCACGACGCCGTTCGTACTTGCTGCAGGAACCATAGAGTCATATAGGCCGAGCGACCACGGTGAGGGTCACCTCTACAATCTGACCTGCGTCTCACGTCTTAATAGACAACTATCCAGCCCTCGCCAACCGTCAGGACGAGTAGTCAGGAGGTTTTCGCCTGCAGCAGAGAACGGCAGCCTTTAACATCGAGGAAGTACTTCGATATGTCAGAGTAGGTAATCCATTCCTTTGGGGGGTAGTTGCACTAGACAACATTTTTAAATGTTCGCTACCAGGCTGCGAAGGTCACTTCCATGATGCAAACTCTCACCAGTTTCCACGAGTAGTCAGGAGGTTTTCGCCTGCAGCAGAGAACGGCAGCCTTTAACATCTTAGGTGTCTAGTAGTCAGGAGGTTTTCGCCTGCAGCAGAGAACGGCAGCCTTTAACATCGGCTATGAATCACCCTCTCCTTACACCCTCGCTGCATTTCCTGGCTCTAACTAGCGCGATGAATCTAGGGCTGCTGAATGTATCTCGTCGGCAACTAAAGTGTCGCGGCCTGATAATTCACCAGACAAAATTTCACAGTCGAACGAACTTATTTAGGTTGACATGGTTACGACTGTGACTCACGCCTCGTAGGAGCTACAAGCTACTTGATATTTCGAGCCCGTCCTGCATAGAACGATTGAGCGAAATAGGGATAATTCTCTTCCCGGTCTAATGTCACACCATTAGGACAACGGCGGGGTGGGCCCAGTAGTCAGGAGGTTTTCGCCTGCAGCAGAGAACGGCAGCCTTTAACATCCAACCACGTATTTAAGTAGTCAGGAGGTTTTCGCCTGCAGCAGAGAACGGCAGCCTTTAACATCTGAACACGTTTACTGGTAATCGTCCAGCCAGAACCCCAGTGCTTGACTGTGGTAGTGCTAATTAGTAGTCAGGAGGTTTTCGCCTGCAGCAGAGAACGGCAGCCTTTAACATCTACGTAACCCAAAAGTTACTCTAGCATCGCGGGCGCCTATTGTCTAGTGGAGCAGAGTAGTCAGGAGGTTTTCGCCTGCAGCAGAGAACGGCAGCCTTTAACATCCATCTCCGGAATACTGTCCATAGTGACGGTTGGGTTTGGTACCGTGGGAAATAGGTTACACATCCTACATAGGAGGCGTTCGCTATGGGGTGTATCGTGCCTAACGTTAGTATCATATTATTAATGTTTGCGACCTAGAGAGCCGAAAACCTGCCACTCAGGTGTGTGATGATCCCATGAGCAGCAAGCGTACCTGGATTGGCGATGGCCAGACCTCACAATGAGGAGTCAAAGACAGCAGTGTGTGGGGTACAGTGGCCTTAGTAGTCAGGAGGTTTTCGCCTGCAGCAGAGAACGGCAGCCTTTAACATCAGCATCTTATGACTCCACGTAGGGGAAGACGTGAGTAGCGTTTCCCTTGGCGGCAGCCAGTCAGTTTTGCTGATTCTCCAGTTGAGGAATCCCCTACAATCTTACGACCGCCACCGGGGAGTAGTCAGGAGGTTTTCGCCTGCAGCAGAGAACGGCAGCCTTTAACATCAGGAGTAGTCAGGAGGTTTTCGCCTGCAGCAGAGAACGGCAGCCTTTAACATCTGTCGCGCGTTGGGCAGTGATCAAGACATGTCCTTTTCATTAGTCTGGAAGACAGGAGCTGAAATCCGTCGCGGTTGCGCACGACGGGCCCACATAAATACGGTACGCTATAGTCCGGATTTCGTACACTTCGGCATATGGGAGTTGCTTGGTACGTGCTTGGATAAACAACACCGGCAGGCCTCAGGGTTGAACGTTGCCCGGCCGGTGACCTTGTACGAACCGGGTCGATGCAACTGCTCAGATATACCGCAGCGTCGAGTATGCTCTGGGTTAGACGACCGTAGTAGTCAGGAGGTTTTCGCCTGCAGCAGAGAACGGCAGCCTTAGTAGTCAGGAGGTTTTCGCCTGCAGCAGAGAACGGCAGCCTTTAACATCTAACATCCTCTATCTTCGAACCTGTAACCTTTCTCAGTCGCAGACGTCGTGAGTGGAACTGAGGTACCCATGAAGACGACCCTTATCCTTCCTTCGATTAACCGATGTTTCAATCTCCTTCGCTCGCGTGTCGTTCATTCGATAAGTCGTGGAGTATATCAACGTTGGCGCTGGTCCATCTGGCATTGAGCAAGCAGACGACTATACGTTTCCTTTGCTTCTCCCTGATTATCCATGCCGCTAGTGTAGTGTCTACTATTAATTCACAGAGATTTCCAAAAATATCGTCATCAAAACTCTTAGGCACGGGCCCTTAGGTGAACTGAACTTTGGCACGCACCACGTATCTTGTAGGCGTGAGTTATTGCTGATGGCGAGTAGAGTGGGCGGTGACAACCGGTGACCCCCGGCGACCGGGGGCCGGCGTTAGCACCTTAGACACGGTGAATGTACCTATAAGGAGATGCTGAAATCAAACCATGGACCCTTGAATAGCTTGATGTAGGCCTACCTCATAGGGCCACTTTCGGTGGGCTCGCCCAGATGGATTCGGCTTTATAGCTGCAAAACGTTGGCGTGGCAACCGCATGTGGTCGTCGGTCGGCTCCAAAAAGAAAATTTTGGTTCCTACGGCTGTGTAAGCTTGGATGATCCTAACTTTAACACATCGTGGTGTCTCGCCACTGGCAGGCACGCGAATAAACGCGGGTAATAGTTGGACGAGTGTTCGACCGGACTTGAAATAGCCTATTGCCCACGGCAACCGAATACTC'"
      ]
     },
     "execution_count": 12,
     "metadata": {},
     "output_type": "execute_result"
    }
   ],
   "source": [
    "Text = StringReconstruction(GappedPatterns,k,d)\n",
    "Text"
   ]
  }
 ],
 "metadata": {
  "kernelspec": {
   "display_name": "Python 3",
   "language": "python",
   "name": "python3"
  },
  "language_info": {
   "codemirror_mode": {
    "name": "ipython",
    "version": 3
   },
   "file_extension": ".py",
   "mimetype": "text/x-python",
   "name": "python",
   "nbconvert_exporter": "python",
   "pygments_lexer": "ipython3",
   "version": "3.7.3"
  }
 },
 "nbformat": 4,
 "nbformat_minor": 4
}
