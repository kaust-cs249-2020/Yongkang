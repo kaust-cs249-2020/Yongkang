{
 "cells": [
  {
   "cell_type": "code",
   "execution_count": 1,
   "metadata": {},
   "outputs": [],
   "source": [
    "def OverlapGraph(kmers):\n",
    "    prefix_of = {}\n",
    "    suffix_of = {}\n",
    "    for i in range(len(kmers)):\n",
    "        kmer = kmers[i]\n",
    "        n = len(kmer)\n",
    "        prefix = kmer[0:n-1]\n",
    "        suffix = kmer[1:n]\n",
    "        prefix_of[kmer] = prefix\n",
    "        suffix_of[kmer] = suffix\n",
    "    overlap_graph = {}\n",
    "    for kmer1,suffix in suffix_of.items():\n",
    "        for kmer2,prefix in prefix_of.items():\n",
    "            if(suffix == prefix):\n",
    "                if kmer1 in overlap_graph.keys():\n",
    "                    overlap_graph[kmer1] += ','+kmer2\n",
    "                else:\n",
    "                    overlap_graph[kmer1] = kmer2\n",
    "    return overlap_graph\n",
    "                "
   ]
  },
  {
   "cell_type": "code",
   "execution_count": 2,
   "metadata": {},
   "outputs": [],
   "source": [
    "kmers = ['ATGCG',\n",
    "'GCATG',\n",
    "'CATGC',\n",
    "'AGGCA',\n",
    "'GGCAT',\n",
    "'GGCAC']"
   ]
  },
  {
   "cell_type": "code",
   "execution_count": 3,
   "metadata": {},
   "outputs": [
    {
     "name": "stdout",
     "output_type": "stream",
     "text": [
      "GCATG -> CATGC\n",
      "CATGC -> ATGCG\n",
      "AGGCA -> GGCAT,GGCAC\n",
      "GGCAT -> GCATG\n"
     ]
    }
   ],
   "source": [
    "overlap_graph =  OverlapGraph(kmers)\n",
    "for kmer1,kmer2 in overlap_graph.items():\n",
    "    print(\"%s -> %s\"%(kmer1,kmer2))"
   ]
  },
  {
   "cell_type": "code",
   "execution_count": 4,
   "metadata": {},
   "outputs": [],
   "source": [
    "kmers = []\n",
    "file = open('dataset_369268_10.txt', 'r') \n",
    "for i, line in enumerate(file):\n",
    "    line=line.rstrip('\\n')\n",
    "    kmers.append(line)"
   ]
  },
  {
   "cell_type": "code",
   "execution_count": 8,
   "metadata": {},
   "outputs": [],
   "source": [
    "overlap_graph =  OverlapGraph(kmers)\n",
    "out = open('file1','w')\n",
    "for kmer1,kmer2 in overlap_graph.items():\n",
    "    #print(\"%s -> %s\"%(kmer1,kmer2))\n",
    "    out.write(\"%s -> %s\\n\"%(kmer1,kmer2))"
   ]
  },
  {
   "cell_type": "code",
   "execution_count": 9,
   "metadata": {},
   "outputs": [],
   "source": [
    "kmers = ['0000','0001','0010','0011',\n",
    "         '0100','0101','0110','0111',\n",
    "         '1000','1001','1010','1011',\n",
    "         '1100','1101','1110','1111']"
   ]
  },
  {
   "cell_type": "code",
   "execution_count": 10,
   "metadata": {},
   "outputs": [
    {
     "name": "stdout",
     "output_type": "stream",
     "text": [
      "0000 -> 0000,0001\n",
      "0001 -> 0010,0011\n",
      "0010 -> 0100,0101\n",
      "0011 -> 0110,0111\n",
      "0100 -> 1000,1001\n",
      "0101 -> 1010,1011\n",
      "0110 -> 1100,1101\n",
      "0111 -> 1110,1111\n",
      "1000 -> 0000,0001\n",
      "1001 -> 0010,0011\n",
      "1010 -> 0100,0101\n",
      "1011 -> 0110,0111\n",
      "1100 -> 1000,1001\n",
      "1101 -> 1010,1011\n",
      "1110 -> 1100,1101\n",
      "1111 -> 1110,1111\n"
     ]
    }
   ],
   "source": [
    "overlap_graph =  OverlapGraph(kmers)\n",
    "for kmer1,kmer2 in overlap_graph.items():\n",
    "    print(\"%s -> %s\"%(kmer1,kmer2))"
   ]
  },
  {
   "cell_type": "code",
   "execution_count": null,
   "metadata": {},
   "outputs": [],
   "source": [
    "   1111000010011010111\n",
    "    1111000"
   ]
  }
 ],
 "metadata": {
  "kernelspec": {
   "display_name": "Python 3",
   "language": "python",
   "name": "python3"
  },
  "language_info": {
   "codemirror_mode": {
    "name": "ipython",
    "version": 3
   },
   "file_extension": ".py",
   "mimetype": "text/x-python",
   "name": "python",
   "nbconvert_exporter": "python",
   "pygments_lexer": "ipython3",
   "version": "3.7.3"
  }
 },
 "nbformat": 4,
 "nbformat_minor": 4
}
