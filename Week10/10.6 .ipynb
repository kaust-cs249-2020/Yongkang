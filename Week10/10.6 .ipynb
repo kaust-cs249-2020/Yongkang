{
 "cells": [
  {
   "cell_type": "code",
   "execution_count": 5,
   "metadata": {},
   "outputs": [],
   "source": [
    "Emission = {'F':{'H':0.5,'T':0.5},\n",
    "            'B':{'H':0.75,'T':0.25}}"
   ]
  },
  {
   "cell_type": "code",
   "execution_count": 6,
   "metadata": {},
   "outputs": [],
   "source": [
    "Transition = {'F':{'F':0.9,'B':0.1},'B':{'F':0.1,'B':0.9}}"
   ]
  },
  {
   "cell_type": "code",
   "execution_count": 13,
   "metadata": {},
   "outputs": [],
   "source": [
    "emit_path = 'HHTT'\n",
    "States = ['F','B']"
   ]
  },
  {
   "cell_type": "code",
   "execution_count": 8,
   "metadata": {},
   "outputs": [],
   "source": [
    "def Weight(emit_path,hidden_path):\n",
    "    n = len(emit_path)\n",
    "    weight = 1\n",
    "    for i in range(n-1):\n",
    "        weight *= Emission[hidden_path[i]][emit_path[i]]*Transition[hidden_path[i]][hidden_path[i+1]]\n",
    "    weight *= Emission[hidden_path[n-1]][emit_path[n-1]]\n",
    "    return weight"
   ]
  },
  {
   "cell_type": "code",
   "execution_count": 22,
   "metadata": {},
   "outputs": [],
   "source": [
    "def getAllPath(n):\n",
    "    if(n==0):\n",
    "        return {'',''}\n",
    "    Paths = getAllPath(n-1)\n",
    "    NewPaths = set()\n",
    "    for path in Paths:\n",
    "        NewPaths.add(path+States[0])\n",
    "        NewPaths.add(path+States[1])\n",
    "    return NewPaths"
   ]
  },
  {
   "cell_type": "code",
   "execution_count": 31,
   "metadata": {},
   "outputs": [],
   "source": [
    "def Maximun(emit_path):\n",
    "    n = len(emit_path)\n",
    "    Paths = getAllPath(n)\n",
    "    max_path = ''\n",
    "    max_weight = 0\n",
    "    for hidden_path in Paths:\n",
    "        weight = Weight(emit_path,hidden_path)\n",
    "        if(max_weight<weight):\n",
    "            max_weight= weight\n",
    "            max_path = hidden_path\n",
    "    return max_path"
   ]
  },
  {
   "cell_type": "code",
   "execution_count": 32,
   "metadata": {},
   "outputs": [
    {
     "data": {
      "text/plain": [
       "'FFFF'"
      ]
     },
     "execution_count": 32,
     "metadata": {},
     "output_type": "execute_result"
    }
   ],
   "source": [
    "Maximun(emit_path)"
   ]
  },
  {
   "cell_type": "code",
   "execution_count": null,
   "metadata": {},
   "outputs": [],
   "source": []
  }
 ],
 "metadata": {
  "kernelspec": {
   "display_name": "Python 3",
   "language": "python",
   "name": "python3"
  },
  "language_info": {
   "codemirror_mode": {
    "name": "ipython",
    "version": 3
   },
   "file_extension": ".py",
   "mimetype": "text/x-python",
   "name": "python",
   "nbconvert_exporter": "python",
   "pygments_lexer": "ipython3",
   "version": "3.7.3"
  }
 },
 "nbformat": 4,
 "nbformat_minor": 4
}
