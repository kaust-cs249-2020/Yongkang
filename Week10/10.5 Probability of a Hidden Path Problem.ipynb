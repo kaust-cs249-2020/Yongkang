{
 "cells": [
  {
   "cell_type": "raw",
   "metadata": {},
   "source": [
    "Sample Input:\n",
    "ABABBBAAAA\n",
    "--------\n",
    "A B\n",
    "--------\n",
    "\tA\tB\n",
    "A\t0.377\t0.623\n",
    "B\t0.26\t0.74\n",
    "Sample Output:\n",
    "0.000384928691755"
   ]
  },
  {
   "cell_type": "code",
   "execution_count": 2,
   "metadata": {},
   "outputs": [],
   "source": [
    "Transition = {'A':{'A':0.377,'B':0.623},'B':{'A':0.26,'B':0.74}}"
   ]
  },
  {
   "cell_type": "code",
   "execution_count": 4,
   "metadata": {},
   "outputs": [],
   "source": [
    "hidden_path='ABABBBAAAA'\n",
    "state={'A','B'}"
   ]
  },
  {
   "cell_type": "code",
   "execution_count": 5,
   "metadata": {},
   "outputs": [],
   "source": [
    "def probalility_hidden_path(hidden_path):\n",
    "    p = 0.5\n",
    "    n = len(hidden_path)\n",
    "    for i in range(n-1):\n",
    "        p *= Transition[hidden_path[i]][hidden_path[i+1]]\n",
    "    return p"
   ]
  },
  {
   "cell_type": "code",
   "execution_count": 6,
   "metadata": {},
   "outputs": [
    {
     "data": {
      "text/plain": [
       "0.0003849286917546758"
      ]
     },
     "execution_count": 6,
     "metadata": {},
     "output_type": "execute_result"
    }
   ],
   "source": [
    "probalility_hidden_path(hidden_path)"
   ]
  },
  {
   "cell_type": "code",
   "execution_count": 7,
   "metadata": {},
   "outputs": [],
   "source": [
    "hidden_path='BAAABBAABBAAABBAABABBBBBAABAABAAAABABBABBABABAAABA'\n",
    "Transition = {'A':{'A':0.576,'B':0.424},'B':{'A':0.677,'B':0.323}}"
   ]
  },
  {
   "cell_type": "code",
   "execution_count": 8,
   "metadata": {},
   "outputs": [
    {
     "data": {
      "text/plain": [
       "8.938867238530166e-16"
      ]
     },
     "execution_count": 8,
     "metadata": {},
     "output_type": "execute_result"
    }
   ],
   "source": [
    "probalility_hidden_path(hidden_path)"
   ]
  },
  {
   "cell_type": "code",
   "execution_count": null,
   "metadata": {},
   "outputs": [],
   "source": []
  }
 ],
 "metadata": {
  "kernelspec": {
   "display_name": "Python 3",
   "language": "python",
   "name": "python3"
  },
  "language_info": {
   "codemirror_mode": {
    "name": "ipython",
    "version": 3
   },
   "file_extension": ".py",
   "mimetype": "text/x-python",
   "name": "python",
   "nbconvert_exporter": "python",
   "pygments_lexer": "ipython3",
   "version": "3.7.3"
  }
 },
 "nbformat": 4,
 "nbformat_minor": 4
}
