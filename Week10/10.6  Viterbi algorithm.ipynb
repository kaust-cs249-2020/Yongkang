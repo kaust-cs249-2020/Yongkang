{
 "cells": [
  {
   "cell_type": "raw",
   "metadata": {},
   "source": [
    "Sample Input:\n",
    "xyxzzxyxyy\n",
    "--------\n",
    "x y z\n",
    "--------\n",
    "A B\n",
    "--------\n",
    "\tA\tB\n",
    "A\t0.641\t0.359\n",
    "B\t0.729\t0.271\n",
    "--------\n",
    "\tx\ty\tz\n",
    "A\t0.117\t0.691\t0.192\t\n",
    "B\t0.097\t0.42\t0.483\n",
    "Sample Output:\n",
    "AAABBAAAAA"
   ]
  },
  {
   "cell_type": "code",
   "execution_count": 1,
   "metadata": {},
   "outputs": [],
   "source": [
    "import numpy as np"
   ]
  },
  {
   "cell_type": "code",
   "execution_count": 2,
   "metadata": {},
   "outputs": [],
   "source": [
    "Emission = {'A':{'x':0.117,'y':0.691,'z':0.192},\n",
    "            'B':{'x':0.097,'y':0.42,'z':0.483}}"
   ]
  },
  {
   "cell_type": "code",
   "execution_count": 3,
   "metadata": {},
   "outputs": [],
   "source": [
    "Transition = {'A':{'A':0.641,'B':0.359},'B':{'A':0.729,'B':0.271}}"
   ]
  },
  {
   "cell_type": "code",
   "execution_count": 4,
   "metadata": {},
   "outputs": [],
   "source": [
    "States = ['A','B']\n",
    "Alpahbet = ['x','y','z']"
   ]
  },
  {
   "cell_type": "code",
   "execution_count": 5,
   "metadata": {},
   "outputs": [],
   "source": [
    "emit_path = 'xyxzzxyxyy'"
   ]
  },
  {
   "cell_type": "code",
   "execution_count": 20,
   "metadata": {},
   "outputs": [],
   "source": [
    "def Viterbi():\n",
    "    \n",
    "    n = len(States)\n",
    "    m = len(emit_path)\n",
    "    s = np.zeros([n,m])\n",
    "    backtrack = np.zeros([n,m]).astype(int)\n",
    "\n",
    "    ####Initialize\n",
    "    for k in range(n):\n",
    "        s[k][0] = Emission[States[k]][emit_path[0]]\n",
    "        \n",
    "    \n",
    "    for i in range(1,m):\n",
    "        for k in range(n):\n",
    "            ####ski = max all states l\n",
    "            for l in range(n):\n",
    "                s_weight = s[l][i-1]*Transition[States[l]][States[k]]*Emission[States[k]][emit_path[i]]\n",
    "                if(s[k][i]<s_weight):\n",
    "                    s[k][i] = s_weight\n",
    "                    backtrack[k][i] = l\n",
    "                \n",
    "    return s,backtrack"
   ]
  },
  {
   "cell_type": "code",
   "execution_count": 27,
   "metadata": {},
   "outputs": [],
   "source": [
    "def Output(s,backtrack):\n",
    "    n= len(States)\n",
    "    m = len(emit_path)\n",
    "    k = 0\n",
    "    max_score = 0\n",
    "    for l in range(n):\n",
    "        if(s[l][m-1]>max_score):\n",
    "            max_score = s[l][m-1]\n",
    "            k = l\n",
    "    hidden_path = States[k]\n",
    "    \n",
    "    for i in reversed(range(1,m)):\n",
    "        k = backtrack[k][i]\n",
    "        hidden_path = States[k]+hidden_path\n",
    "    return hidden_path"
   ]
  },
  {
   "cell_type": "code",
   "execution_count": 28,
   "metadata": {},
   "outputs": [
    {
     "data": {
      "text/plain": [
       "'AAABBAAAAA'"
      ]
     },
     "execution_count": 28,
     "metadata": {},
     "output_type": "execute_result"
    }
   ],
   "source": [
    "s,backtrack = Viterbi()\n",
    "Output(s,backtrack)"
   ]
  },
  {
   "cell_type": "code",
   "execution_count": null,
   "metadata": {},
   "outputs": [],
   "source": [
    "\tA\tB\tC\n",
    "A\t0.635\t0.06\t0.305\t\n",
    "B\t0.417\t0.196\t0.387\t\n",
    "C\t0.317\t0.371\t0.312\t\n",
    "--------\n",
    "\tx\ty\tz\n",
    "A\t0.405\t0.179\t0.416\t\n",
    "B\t0.264\t0.249\t0.487\t\n",
    "C\t0.268\t0.631\t0.101"
   ]
  },
  {
   "cell_type": "code",
   "execution_count": 29,
   "metadata": {},
   "outputs": [],
   "source": [
    "Emission = {'A':{'x':0.405,'y':0.179,'z':0.416},\n",
    "            'B':{'x':0.264,'y':0.249,'z':0.487},\n",
    "            'C':{'x':0.268,'y':0.631,'z':0.101}}\n",
    "\n",
    "Transition = {'A':{'A':0.635,'B':0.06,'C':0.305},\n",
    "              'B':{'A':0.417,'B':0.196,'C':0.387},\n",
    "              'C':{'A':0.317,'B':0.371,'C':0.312}}\n",
    "States = ['A','B','C']\n",
    "Alpahbet = ['x','y','z']\n",
    "emit_path = 'yxzxzxxyzyxxyyzyxzxxyzyxxzzzzzyzzxzxxxxzyzzxyyxzyyxzzxzyxzxyxxzxxxxyyyzyyzzxzxzxyxzxxxxzxyzxxyxyyxyz'"
   ]
  },
  {
   "cell_type": "code",
   "execution_count": 30,
   "metadata": {},
   "outputs": [
    {
     "data": {
      "text/plain": [
       "'CAAAAAACBCAACCBCAAAACBCAAAAAAAAAAAAAAAAAAAAACCAACCAAAAAAAAAAAAAAAAACCCBCCAAAAAAAAAAAAAAAAAAAAAACCACB'"
      ]
     },
     "execution_count": 30,
     "metadata": {},
     "output_type": "execute_result"
    }
   ],
   "source": [
    "s,backtrack = Viterbi()\n",
    "Output(s,backtrack)"
   ]
  },
  {
   "cell_type": "code",
   "execution_count": 40,
   "metadata": {},
   "outputs": [],
   "source": [
    "Emission = {'A':{'H':2/3,'T':1/3},\n",
    "           'B':{'H':1/3,'T':2/3}}"
   ]
  },
  {
   "cell_type": "code",
   "execution_count": 41,
   "metadata": {},
   "outputs": [],
   "source": [
    "Transition = {'A':{'A':3/4,'B':1/4},\n",
    "              'B':{'A':1/4,'B':3/4}}"
   ]
  },
  {
   "cell_type": "code",
   "execution_count": 42,
   "metadata": {},
   "outputs": [],
   "source": [
    "States = ['A','B']\n",
    "Alpahbet = ['H','T']"
   ]
  },
  {
   "cell_type": "code",
   "execution_count": 43,
   "metadata": {},
   "outputs": [],
   "source": [
    "emit_path = 'HTTH'"
   ]
  },
  {
   "cell_type": "code",
   "execution_count": 44,
   "metadata": {},
   "outputs": [
    {
     "data": {
      "text/plain": [
       "'AAAA'"
      ]
     },
     "execution_count": 44,
     "metadata": {},
     "output_type": "execute_result"
    }
   ],
   "source": [
    "s,backtrack = Viterbi()\n",
    "Output(s,backtrack)"
   ]
  },
  {
   "cell_type": "code",
   "execution_count": null,
   "metadata": {},
   "outputs": [],
   "source": []
  }
 ],
 "metadata": {
  "kernelspec": {
   "display_name": "Python 3",
   "language": "python",
   "name": "python3"
  },
  "language_info": {
   "codemirror_mode": {
    "name": "ipython",
    "version": 3
   },
   "file_extension": ".py",
   "mimetype": "text/x-python",
   "name": "python",
   "nbconvert_exporter": "python",
   "pygments_lexer": "ipython3",
   "version": "3.7.3"
  }
 },
 "nbformat": 4,
 "nbformat_minor": 4
}
