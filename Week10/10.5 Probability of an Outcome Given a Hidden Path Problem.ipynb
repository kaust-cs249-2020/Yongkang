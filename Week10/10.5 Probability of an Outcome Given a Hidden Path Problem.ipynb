{
 "cells": [
  {
   "cell_type": "raw",
   "metadata": {},
   "source": [
    "Sample Input:\n",
    "zzzyxyyzzx\n",
    "--------\n",
    "x y z\n",
    "--------\n",
    "BAAAAAAAAA\n",
    "--------\n",
    "A B\n",
    "--------\n",
    "\tx\ty\tz\n",
    "A\t0.176\t0.596\t0.228\n",
    "B\t0.225\t0.572\t0.203\n",
    "Sample Output:\n",
    "3.59748954746e-06"
   ]
  },
  {
   "cell_type": "code",
   "execution_count": 8,
   "metadata": {},
   "outputs": [],
   "source": [
    "Emission = {'A':{'x':0.176,'y':0.596,'z':0.228},\n",
    "            'B':{'x':0.225,'y':0.572,'z':0.203}}"
   ]
  },
  {
   "cell_type": "code",
   "execution_count": 9,
   "metadata": {},
   "outputs": [],
   "source": [
    "hidden_path='BAAAAAAAAA'\n",
    "emit_path = 'zzzyxyyzzx'"
   ]
  },
  {
   "cell_type": "code",
   "execution_count": 10,
   "metadata": {},
   "outputs": [],
   "source": [
    "def probalility_of_outcome(hidden_path,emit_path):\n",
    "    p = 1\n",
    "    n = len(hidden_path)\n",
    "    for i in range(n):\n",
    "        p *= Emission[hidden_path[i]][emit_path[i]]\n",
    "    return p"
   ]
  },
  {
   "cell_type": "code",
   "execution_count": 11,
   "metadata": {},
   "outputs": [
    {
     "data": {
      "text/plain": [
       "3.5974895474624624e-06"
      ]
     },
     "execution_count": 11,
     "metadata": {},
     "output_type": "execute_result"
    }
   ],
   "source": [
    "probalility_of_outcome(hidden_path,emit_path)"
   ]
  },
  {
   "cell_type": "code",
   "execution_count": 12,
   "metadata": {},
   "outputs": [],
   "source": [
    "Emission = {'A':{'x':0.416,'y':0.423,'z':0.161},\n",
    "            'B':{'x':0.046,'y':0.441,'z':0.513}}\n",
    "hidden_path='AAABBBBBAAABAABBBAAABBBBAAABAAABBABAAABBAABBBABBBB'\n",
    "emit_path = 'zxzzzxyyzyxzzyyzyyxzyxxyzyzxxxyxyxxyxyzyzzzyzxxyyy'"
   ]
  },
  {
   "cell_type": "code",
   "execution_count": 13,
   "metadata": {},
   "outputs": [
    {
     "data": {
      "text/plain": [
       "3.4829845828551636e-29"
      ]
     },
     "execution_count": 13,
     "metadata": {},
     "output_type": "execute_result"
    }
   ],
   "source": [
    "probalility_of_outcome(hidden_path,emit_path)"
   ]
  },
  {
   "cell_type": "code",
   "execution_count": null,
   "metadata": {},
   "outputs": [],
   "source": []
  }
 ],
 "metadata": {
  "kernelspec": {
   "display_name": "Python 3",
   "language": "python",
   "name": "python3"
  },
  "language_info": {
   "codemirror_mode": {
    "name": "ipython",
    "version": 3
   },
   "file_extension": ".py",
   "mimetype": "text/x-python",
   "name": "python",
   "nbconvert_exporter": "python",
   "pygments_lexer": "ipython3",
   "version": "3.7.3"
  }
 },
 "nbformat": 4,
 "nbformat_minor": 4
}
