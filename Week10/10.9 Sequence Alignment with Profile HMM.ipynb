{
 "cells": [
  {
   "cell_type": "raw",
   "metadata": {},
   "source": [
    "Sample Input:\n",
    "AEFDFDC\n",
    "--------\n",
    "0.4 0.01\n",
    "--------\n",
    "A B C D E F\n",
    "--------\n",
    "ACDEFACADF\n",
    "AFDA---CCF\n",
    "A--EFD-FDC\n",
    "ACAEF--A-C\n",
    "ADDEFAAADF\n",
    "Sample Output:\n",
    "M1 D2 D3 M4 M5 I5 M6 M7 M8"
   ]
  },
  {
   "cell_type": "code",
   "execution_count": 43,
   "metadata": {},
   "outputs": [],
   "source": [
    "import numpy as np\n",
    "from collections import defaultdict\n",
    "import re"
   ]
  },
  {
   "cell_type": "code",
   "execution_count": 8,
   "metadata": {},
   "outputs": [],
   "source": [
    "def keep_column():\n",
    "    length = len(alignment[0])\n",
    "    string_num = len(alignment)\n",
    "    Keep_Column = np.ones(length).astype(int)\n",
    "    Space_Count = np.zeros(length).astype(int)\n",
    "    for i,string in  enumerate(alignment):\n",
    "        for j,char in enumerate(string):\n",
    "            if(char==\"-\"):\n",
    "                Space_Count[j] +=1\n",
    "    \n",
    "    for i,count in enumerate(Space_Count):\n",
    "        if(count/string_num > Theta):\n",
    "            Keep_Column[i]=0\n",
    "    \n",
    "    return Keep_Column"
   ]
  },
  {
   "cell_type": "code",
   "execution_count": 51,
   "metadata": {},
   "outputs": [],
   "source": [
    "def Initialize(length):\n",
    "    Transition = defaultdict(dict)   ##hash of hash\n",
    "    Emission   = defaultdict(dict)   ##hash of hash\n",
    "    \n",
    "    for symbol in alphabet:\n",
    "        Emission['I0'][symbol]=0\n",
    "    \n",
    "    Transition['S']['I0'] = 0\n",
    "    Transition['S']['M1'] = 0\n",
    "    Transition['S']['D1'] = 0\n",
    "    \n",
    "    for i in range(1,length):\n",
    "        \n",
    "        for symbol in alphabet:\n",
    "            Emission['M'+str(i)][symbol]=0\n",
    "            Emission['I'+str(i)][symbol]=0\n",
    "        \n",
    "        Transition['I'+str(i-1)]['I'+str(i-1)] = 0\n",
    "        Transition['I'+str(i-1)]['D'+str(i)] = 0\n",
    "        Transition['I'+str(i-1)]['M'+str(i)] = 0\n",
    "        \n",
    "        Transition['D'+str(i)]['I'+str(i)] = 0\n",
    "        Transition['D'+str(i)]['D'+str(i+1)] = 0\n",
    "        Transition['D'+str(i)]['M'+str(i+1)] = 0\n",
    "    \n",
    "        Transition['M'+str(i)]['I'+str(i)] = 0\n",
    "        Transition['M'+str(i)]['D'+str(i+1)] = 0\n",
    "        Transition['M'+str(i)]['M'+str(i+1)] = 0\n",
    "    \n",
    "    \n",
    "    for symbol in alphabet:\n",
    "        Emission['I'+str(length)][symbol]=0\n",
    "        Emission['M'+str(length)][symbol]=0\n",
    "    \n",
    "    Transition['I'+str(length-1)]['I'+str(length-1)] = 0\n",
    "    Transition['I'+str(length-1)]['D'+str(length)] = 0\n",
    "    Transition['I'+str(length-1)]['M'+str(length)] = 0\n",
    "    \n",
    "    Transition['I'+str(length)]['I'+str(length)] = 0\n",
    "    Transition['I'+str(length)]['E']  = 0\n",
    "    Transition['M'+str(length)]['I'+str(length)] = 0\n",
    "    Transition['M'+str(length)]['E'] = 0\n",
    "    Transition['D'+str(length)]['I'+str(length)] = 0\n",
    "    Transition['D'+str(length)]['E'] = 0\n",
    "    \n",
    "    return Transition,Emission"
   ]
  },
  {
   "cell_type": "code",
   "execution_count": 45,
   "metadata": {},
   "outputs": [],
   "source": [
    "def profile_hmm():\n",
    "    string_num = len(alignment)\n",
    "    ###determin which column should be removed\n",
    "    Keep_Column = keep_column()   ###1 for keep, 0 for remove\n",
    "    length = sum(Keep_Column)     ###length of match\n",
    "    Transition,Emission = Initialize(length)\n",
    "    for string in alignment:\n",
    "        new_string = '' ####string excluding remove column\n",
    "        for i,char in enumerate(string):\n",
    "            if(Keep_Column[i]==1):\n",
    "                new_string += char\n",
    "        \n",
    "        pre_state = 'S'        \n",
    "        k = 0        \n",
    "        for i,indicator in enumerate(Keep_Column):\n",
    "            k += indicator\n",
    "            if(indicator==1):\n",
    "                if(new_string[k-1] == '-'):\n",
    "                    state = 'D'+str(k)\n",
    "                    Transition[pre_state][state] += 1\n",
    "                    pre_state = state\n",
    "                else:\n",
    "                    state = 'M'+str(k)\n",
    "                    Transition[pre_state][state] += 1\n",
    "                    Emission[state][new_string[k-1]] += 1\n",
    "                    pre_state = state\n",
    "                    \n",
    "            else:\n",
    "                if(string[i] != '-'):\n",
    "                    state = 'I'+str(k)\n",
    "                    Transition[pre_state][state] += 1\n",
    "                    Emission[state][string[i]] += 1\n",
    "                    pre_state = state\n",
    "            \n",
    "        Transition[state]['E'] += 1\n",
    "        \n",
    "    return Transition,Emission,length"
   ]
  },
  {
   "cell_type": "code",
   "execution_count": 46,
   "metadata": {},
   "outputs": [],
   "source": [
    "def Output(Transition,Emission,length):\n",
    "    States = ['S','I0']\n",
    "    for i in range(1,length+1):\n",
    "        M = 'M'+str(i)\n",
    "        States.append(M)\n",
    "        D = 'D'+str(i)\n",
    "        States.append(D)\n",
    "        I = 'I'+str(i)\n",
    "        States.append(I)\n",
    "    States.append('E')\n",
    "    \n",
    "    \n",
    "    NewTransition = defaultdict(dict)\n",
    "    NewEmission   = defaultdict(dict) \n",
    "    \n",
    "    for state in States:\n",
    "        trans_sum = sum(Transition[state].values())\n",
    "        if(trans_sum>0):\n",
    "            sum_per = 0\n",
    "            for state2 in States:\n",
    "                if(state2 in Transition[state].keys()):\n",
    "                    sum_per += Transition[state][state2]/trans_sum+sigma\n",
    "                \n",
    "            for state2 in States:\n",
    "                if(state2 in Transition[state].keys()):\n",
    "                    percent = (Transition[state][state2]/trans_sum+sigma)/sum_per\n",
    "                    #ww.write('\\t%s'%percent)\n",
    "                    NewTransition[state][state2] = percent\n",
    "                #else:\n",
    "                    #ww.write('\\t%d'%0)\n",
    "                    #NewTransition[state][state2] = 0\n",
    "        else:\n",
    "            sum_per = 0\n",
    "            for state2 in States:\n",
    "                if(state2 in Transition[state].keys()):\n",
    "                    sum_per += sigma\n",
    "                \n",
    "            for state2 in States: \n",
    "                if(state2 in Transition[state].keys()):\n",
    "                    percent = sigma/sum_per\n",
    "                    #ww.write('\\t%s'%percent)\n",
    "                    NewTransition[state][state2] = percent\n",
    "                #else:\n",
    "                    #ww.write('\\t%d'%0)\n",
    "                    #NewTransition[state][state2] = 0\n",
    "    \n",
    "    for state in States:\n",
    "        if state in Emission.keys():\n",
    "            emit_sum = sum(Emission[state].values())\n",
    "            if(emit_sum==0):\n",
    "                percent = 1/len(alphabet)\n",
    "                #percent = ('%.3f' % percent)\n",
    "                #percent = percent.rstrip('0').rstrip('.')\n",
    "                for symbol in alphabet:    \n",
    "                    #ww.write('\\t%s'%percent)\n",
    "                    NewEmission[state][symbol] = percent\n",
    "            else:\n",
    "                sum_per = 1+len(alphabet)*sigma\n",
    "                for symbol in alphabet:\n",
    "                    percent = (Emission[state][symbol]/emit_sum + sigma)/sum_per\n",
    "                    NewEmission[state][symbol] = percent\n",
    "                    #ww.write('\\t%s'%percent)\n",
    "        #else:\n",
    "         #   for symbol in alphabet:\n",
    "         #       ww.write('\\t%d'%0)\n",
    "    return NewTransition,NewEmission,States"
   ]
  },
  {
   "cell_type": "code",
   "execution_count": 12,
   "metadata": {},
   "outputs": [],
   "source": [
    "Theta = 0.4\n",
    "sigma = 0.01\n",
    "alphabet = ['A', 'B', 'C', 'D', 'E','F']\n",
    "alignment = ['ACDEFACADF',\n",
    "'AFDA---CCF',\n",
    "'A--EFD-FDC',\n",
    "'ACAEF--A-C',\n",
    "'ADDEFAAADF'\n",
    "]"
   ]
  },
  {
   "cell_type": "code",
   "execution_count": 13,
   "metadata": {},
   "outputs": [],
   "source": [
    "Transition,Emission,length = profile_hmm()"
   ]
  },
  {
   "cell_type": "code",
   "execution_count": 14,
   "metadata": {},
   "outputs": [],
   "source": [
    "Output(Transition,Emission,length)"
   ]
  },
  {
   "cell_type": "code",
   "execution_count": 47,
   "metadata": {},
   "outputs": [],
   "source": [
    "Theta = 0.358\n",
    "sigma = 0.01\n",
    "alphabet = ['A', 'B', 'C', 'D', 'E']\n",
    "alignment = ['A-A',\n",
    "'ADA',\n",
    "'ACA',\n",
    "'A-C',\n",
    "'-EA',\n",
    "'D-A',]"
   ]
  },
  {
   "cell_type": "code",
   "execution_count": 54,
   "metadata": {},
   "outputs": [],
   "source": [
    "Transition,Emission,length = profile_hmm()\n",
    "NewTransition,NewEmission,States = Output(Transition,Emission,length)"
   ]
  },
  {
   "cell_type": "code",
   "execution_count": 55,
   "metadata": {},
   "outputs": [
    {
     "data": {
      "text/plain": [
       "defaultdict(dict,\n",
       "            {'I0': {'A': 0.2, 'B': 0.2, 'C': 0.2, 'D': 0.2, 'E': 0.2},\n",
       "             'M1': {'A': 0.7714285714285715,\n",
       "              'B': 0.009523809523809523,\n",
       "              'C': 0.009523809523809523,\n",
       "              'D': 0.2,\n",
       "              'E': 0.009523809523809523},\n",
       "             'I1': {'A': 0.009523809523809523,\n",
       "              'B': 0.009523809523809523,\n",
       "              'C': 0.326984126984127,\n",
       "              'D': 0.326984126984127,\n",
       "              'E': 0.326984126984127},\n",
       "             'M2': {'A': 0.8031746031746032,\n",
       "              'B': 0.009523809523809523,\n",
       "              'C': 0.16825396825396824,\n",
       "              'D': 0.009523809523809523,\n",
       "              'E': 0.009523809523809523},\n",
       "             'I2': {'A': 0.2, 'B': 0.2, 'C': 0.2, 'D': 0.2, 'E': 0.2}})"
      ]
     },
     "execution_count": 55,
     "metadata": {},
     "output_type": "execute_result"
    }
   ],
   "source": [
    "NewEmission"
   ]
  },
  {
   "cell_type": "code",
   "execution_count": 20,
   "metadata": {},
   "outputs": [
    {
     "data": {
      "text/plain": [
       "defaultdict(dict,\n",
       "            {'S': {'I0': 0.009708737864077669,\n",
       "              'M1': 0.7864077669902912,\n",
       "              'D1': 0.2038834951456311},\n",
       "             'I0': {'I0': 0.33333333333333337,\n",
       "              'M1': 0.33333333333333337,\n",
       "              'D1': 0.33333333333333337},\n",
       "             'M1': {'I1': 0.9901960784313726, 'E': 0.00980392156862745},\n",
       "             'D1': {'I1': 0.9901960784313726, 'E': 0.00980392156862745},\n",
       "             'I1': {'I1': 0.17320261437908496, 'E': 0.8267973856209151}})"
      ]
     },
     "execution_count": 20,
     "metadata": {},
     "output_type": "execute_result"
    }
   ],
   "source": [
    "def Viterbi(States,emit_path,Transition,Emission):\n",
    "    \n",
    "    n = len(States)\n",
    "    m = len(emit_path)\n",
    "    s = defaultdict(dict)\n",
    "    backtrack = np.zeros([n,m]).astype(int)\n",
    "    ####Initialize\n",
    "    state = 'S'\n",
    "    for state2 in Transition[state]:\n",
    "        if(re.match('D'),state2)\n",
    "            s[state2][0] = Transition[state][state2]\n",
    "        else:\n",
    "            s[state2][0] = Transition[state][state2]*Emission[state2][emit_path[0]]\n",
    "    i=1     \n",
    "    while i < m:\n",
    "        for state3 in States:\n",
    "            ####ski = max all states l\n",
    "            for state2 in  Transition[state]:\n",
    "                if(state3 in Transition[state2]):\n",
    "                    if(re.match('D'),state3):\n",
    "                        s_weight = s[state][state2]*Transition[state2][state3]\n",
    "                    else:\n",
    "                        s_weight = s[state][state2]*Transition[state2][state3]*Emission[state3][emit_path[i]]\n",
    "                    \n",
    "                    if(s[state3][i]<s_weight):\n",
    "                        s[state3][i] = s_weight\n",
    "                        backtrack[state3][i] = state2\n",
    "                \n",
    "    return s,backtrack"
   ]
  },
  {
   "cell_type": "code",
   "execution_count": null,
   "metadata": {},
   "outputs": [],
   "source": [
    "def Output(s,backtrack):\n",
    "    n= len(States)\n",
    "    m = len(emit_path)\n",
    "    k = 0\n",
    "    max_score = 0\n",
    "    for l in range(n):\n",
    "        if(s[l][m-1]>max_score):\n",
    "            max_score = s[l][m-1]\n",
    "            k = l\n",
    "    hidden_path = States[k]\n",
    "    \n",
    "    for i in reversed(range(1,m)):\n",
    "        k = backtrack[k][i]\n",
    "        hidden_path = States[k]+hidden_path\n",
    "    return hidden_path"
   ]
  },
  {
   "cell_type": "code",
   "execution_count": 42,
   "metadata": {},
   "outputs": [],
   "source": [
    "s = 'I3'\n",
    "import re\n",
    "if re.match('D',s):\n",
    "    print(s)"
   ]
  },
  {
   "cell_type": "code",
   "execution_count": null,
   "metadata": {},
   "outputs": [],
   "source": []
  }
 ],
 "metadata": {
  "kernelspec": {
   "display_name": "Python 3",
   "language": "python",
   "name": "python3"
  },
  "language_info": {
   "codemirror_mode": {
    "name": "ipython",
    "version": 3
   },
   "file_extension": ".py",
   "mimetype": "text/x-python",
   "name": "python",
   "nbconvert_exporter": "python",
   "pygments_lexer": "ipython3",
   "version": "3.7.3"
  }
 },
 "nbformat": 4,
 "nbformat_minor": 4
}
