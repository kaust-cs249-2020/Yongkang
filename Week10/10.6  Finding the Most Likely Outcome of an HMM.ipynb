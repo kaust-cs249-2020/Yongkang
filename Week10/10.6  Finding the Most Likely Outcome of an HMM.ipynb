{
 "cells": [
  {
   "cell_type": "raw",
   "metadata": {},
   "source": [
    "Sample Input:\n",
    "xzyyzzyzyy\n",
    "--------\n",
    "x y z\n",
    "--------\n",
    "A B\n",
    "--------\n",
    "\tA\tB\n",
    "A\t0.303\t0.697 \n",
    "B\t0.831\t0.169 \n",
    "--------\n",
    "\tx\ty\tz\n",
    "A\t0.533\t0.065\t0.402 \n",
    "B\t0.342\t0.334\t0.324\n",
    "Sample Output:\n",
    "1.1005510319694847e-06"
   ]
  },
  {
   "cell_type": "code",
   "execution_count": 1,
   "metadata": {},
   "outputs": [],
   "source": [
    "import numpy as np"
   ]
  },
  {
   "cell_type": "code",
   "execution_count": 2,
   "metadata": {},
   "outputs": [],
   "source": [
    "Transition = {'A':{'A':0.303,'B':0.697},\n",
    "              'B':{'A':0.831,'B':0.169}}"
   ]
  },
  {
   "cell_type": "code",
   "execution_count": 3,
   "metadata": {},
   "outputs": [],
   "source": [
    "Emission = {'A':{'x':0.533,'y':0.065,'z':0.402},\n",
    "            'B':{'x':0.342,'y':0.334,'z':0.324}}"
   ]
  },
  {
   "cell_type": "code",
   "execution_count": 4,
   "metadata": {},
   "outputs": [],
   "source": [
    "States = ['A','B']\n",
    "Alpahbet = ['x','y','z']"
   ]
  },
  {
   "cell_type": "code",
   "execution_count": 5,
   "metadata": {},
   "outputs": [],
   "source": [
    "emit_path = 'xzyyzzyzyy'"
   ]
  },
  {
   "cell_type": "code",
   "execution_count": 13,
   "metadata": {},
   "outputs": [],
   "source": [
    "def Viterbi():\n",
    "    \n",
    "    n = len(States)\n",
    "    m = len(emit_path)\n",
    "    s = np.zeros([n,m])\n",
    "    backtrack = np.zeros([n,m]).astype(int)\n",
    "\n",
    "    ####Initialize\n",
    "    for k in range(n):\n",
    "        s[k][0] = 1/n*Emission[States[k]][emit_path[0]]\n",
    "        \n",
    "    \n",
    "    for i in range(1,m):\n",
    "        for k in range(n):\n",
    "            ####ski = sum all states l\n",
    "            for l in range(n):\n",
    "                s[k][i] += s[l][i-1]*Transition[States[l]][States[k]]*Emission[States[k]][emit_path[i]]\n",
    "                #if(s[k][i]<s_weight):\n",
    "                #    s[k][i] = s_weight\n",
    "                 #   backtrack[k][i] = l\n",
    "                \n",
    "    return sum(s[:,m-1])"
   ]
  },
  {
   "cell_type": "code",
   "execution_count": 14,
   "metadata": {},
   "outputs": [
    {
     "data": {
      "text/plain": [
       "1.1005510319694851e-06"
      ]
     },
     "execution_count": 14,
     "metadata": {},
     "output_type": "execute_result"
    }
   ],
   "source": [
    "Viterbi()"
   ]
  },
  {
   "cell_type": "code",
   "execution_count": null,
   "metadata": {},
   "outputs": [],
   "source": [
    "xyyyzzyyxyxxyyzxyxzxyxyzxyxzyzyyxxxyyyyzzzyxyxxzyxyyzxyyzyxxzyyxzxxyyyzzyzzzyzxzxzyyyzyyyzxzyxyxyxzy\n",
    "--------\n",
    "x y z\n",
    "--------\n",
    "A B\n",
    "--------\n",
    "\tA\tB\n",
    "A\t0.061\t0.939\t\n",
    "B\t0.56\t0.44\t\n",
    "--------\n",
    "\tx\ty\tz\n",
    "A\t0.56\t0.39\t0.05\t\n",
    "B\t0.715\t0.129\t0.156\n"
   ]
  },
  {
   "cell_type": "code",
   "execution_count": 15,
   "metadata": {},
   "outputs": [],
   "source": [
    "Transition = {'A':{'A':0.061,'B':0.939},\n",
    "              'B':{'A':0.56,'B':0.44}}\n",
    "\n",
    "Emission = {'A':{'x':0.56,'y':0.39,'z':0.05},\n",
    "            'B':{'x':0.715,'y':0.129,'z':0.156}}\n",
    "\n",
    "\n",
    "States = ['A','B']\n",
    "Alpahbet = ['x','y','z']\n",
    "emit_path = 'xyyyzzyyxyxxyyzxyxzxyxyzxyxzyzyyxxxyyyyzzzyxyxxzyxyyzxyyzyxxzyyxzxxyyyzzyzzzyzxzxzyyyzyyyzxzyxyxyxzy'"
   ]
  },
  {
   "cell_type": "code",
   "execution_count": 16,
   "metadata": {},
   "outputs": [
    {
     "data": {
      "text/plain": [
       "1.042893112392074e-59"
      ]
     },
     "execution_count": 16,
     "metadata": {},
     "output_type": "execute_result"
    }
   ],
   "source": [
    "Viterbi()\n"
   ]
  },
  {
   "cell_type": "code",
   "execution_count": null,
   "metadata": {},
   "outputs": [],
   "source": []
  }
 ],
 "metadata": {
  "kernelspec": {
   "display_name": "Python 3",
   "language": "python",
   "name": "python3"
  },
  "language_info": {
   "codemirror_mode": {
    "name": "ipython",
    "version": 3
   },
   "file_extension": ".py",
   "mimetype": "text/x-python",
   "name": "python",
   "nbconvert_exporter": "python",
   "pygments_lexer": "ipython3",
   "version": "3.7.3"
  }
 },
 "nbformat": 4,
 "nbformat_minor": 4
}
