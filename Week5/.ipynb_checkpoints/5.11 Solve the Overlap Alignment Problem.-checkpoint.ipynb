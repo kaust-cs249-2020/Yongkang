{
 "cells": [
  {
   "cell_type": "code",
   "execution_count": 1,
   "metadata": {},
   "outputs": [],
   "source": [
    " import numpy as np"
   ]
  },
  {
   "cell_type": "code",
   "execution_count": 2,
   "metadata": {},
   "outputs": [],
   "source": [
    "def LCSBackTrack(v, w):\n",
    "    n = len(v)\n",
    "    m = len(w)\n",
    "    s = np.zeros([n+1,m+1])\n",
    "    Backtrack = np.zeros([n+1,m+1]).astype(str)\n",
    "    for i in range(n+1):\n",
    "        #s[i,0] -= sigma*i\n",
    "        #Backtrack[i,0] = \"↓\"\n",
    "        Backtrack[i,0] = \"s0\"\n",
    "    for j in range(m+1):\n",
    "        #s[0,j] -= sigma*j\n",
    "        Backtrack[0,j] = \"s0\"\n",
    "    for i in range(n):\n",
    "        for j in range(m):\n",
    "            match = -1\n",
    "            if v[i]==w[j]:\n",
    "                match = 1\n",
    "            s[i+1,j+1] = max(s[i,j+1]-sigma , s[i+1,j]-sigma , s[i,j] + match)\n",
    "            if s[i+1,j+1] == s[i,j+1]-sigma:\n",
    "                Backtrack[i+1,j+1] = \"↓\"\n",
    "            elif s[i+1,j+1] == s[i+1,j]-sigma:\n",
    "                Backtrack[i+1,j+1] = \"→\"\n",
    "            elif s[i+1,j+1] == s[i,j] + match:\n",
    "                Backtrack[i+1,j+1] = \"↘\"\n",
    "    return s,Backtrack"
   ]
  },
  {
   "cell_type": "code",
   "execution_count": 3,
   "metadata": {},
   "outputs": [],
   "source": [
    "def OutputLCS(backtrack, v, w, i, j):\n",
    "    if j == 0:\n",
    "        return (0,\"\",\"\")\n",
    "    if backtrack[i,j] == \"↓\":\n",
    "        score,seq1,seq2 = OutputLCS(backtrack, v, w, i - 1, j)\n",
    "        score -= sigma\n",
    "        return (score,seq1+ v[i-1],seq2+'-')\n",
    "    elif backtrack[i, j] == \"→\":\n",
    "        score,seq1,seq2 = OutputLCS(backtrack, v, w,i, j - 1)\n",
    "        score -= sigma\n",
    "        return (score,seq1+'-' ,seq2+w[j-1])\n",
    "        \n",
    "    else:\n",
    "        score,seq1,seq2 = OutputLCS(backtrack, v, w,i - 1, j - 1)\n",
    "        match = -1\n",
    "        if(v[i-1]==w[j-1]):\n",
    "            match = 1\n",
    "        score += match\n",
    "        return  (score,seq1+ v[i-1],seq2+w[j-1])"
   ]
  },
  {
   "cell_type": "raw",
   "metadata": {},
   "source": [
    "Sample Input:\n",
    "\n",
    "GTAGGCTTAAGGTTA\n",
    "TAGATA\n",
    "\n",
    "Sample Output:\n",
    "\n",
    "2\n",
    "TAGGCTTA\n",
    "TAGA--TA"
   ]
  },
  {
   "cell_type": "code",
   "execution_count": 4,
   "metadata": {},
   "outputs": [],
   "source": [
    "v = 'GTAGGCTTAAGGTTA'\n",
    "w = 'TAGATA'\n",
    "sigma = 1"
   ]
  },
  {
   "cell_type": "code",
   "execution_count": 5,
   "metadata": {},
   "outputs": [],
   "source": [
    "s,backtrack = LCSBackTrack(v, w)"
   ]
  },
  {
   "cell_type": "code",
   "execution_count": 6,
   "metadata": {},
   "outputs": [
    {
     "data": {
      "text/plain": [
       "3"
      ]
     },
     "execution_count": 6,
     "metadata": {},
     "output_type": "execute_result"
    }
   ],
   "source": [
    "np.argmax(s[:,6])"
   ]
  },
  {
   "cell_type": "code",
   "execution_count": 7,
   "metadata": {},
   "outputs": [
    {
     "data": {
      "text/plain": [
       "array([ 0., -1.,  0.,  2.,  1.,  0.,  0.,  1.,  1.,  2.,  1.,  0.,  0.,\n",
       "        1.,  1.,  2.])"
      ]
     },
     "execution_count": 7,
     "metadata": {},
     "output_type": "execute_result"
    }
   ],
   "source": [
    "s[:,6]"
   ]
  },
  {
   "cell_type": "code",
   "execution_count": 8,
   "metadata": {},
   "outputs": [
    {
     "data": {
      "text/plain": [
       "array([[ 0.,  0.,  0.,  0.,  0.,  0.,  0.],\n",
       "       [ 0., -1., -1.,  1.,  0., -1., -1.],\n",
       "       [ 0.,  1.,  0.,  0.,  0.,  1.,  0.],\n",
       "       [ 0.,  0.,  2.,  1.,  1.,  0.,  2.],\n",
       "       [ 0., -1.,  1.,  3.,  2.,  1.,  1.],\n",
       "       [ 0., -1.,  0.,  2.,  2.,  1.,  0.],\n",
       "       [ 0., -1., -1.,  1.,  1.,  1.,  0.],\n",
       "       [ 0.,  1.,  0.,  0.,  0.,  2.,  1.],\n",
       "       [ 0.,  1.,  0., -1., -1.,  1.,  1.],\n",
       "       [ 0.,  0.,  2.,  1.,  0.,  0.,  2.],\n",
       "       [ 0., -1.,  1.,  1.,  2.,  1.,  1.],\n",
       "       [ 0., -1.,  0.,  2.,  1.,  1.,  0.],\n",
       "       [ 0., -1., -1.,  1.,  1.,  0.,  0.],\n",
       "       [ 0.,  1.,  0.,  0.,  0.,  2.,  1.],\n",
       "       [ 0.,  1.,  0., -1., -1.,  1.,  1.],\n",
       "       [ 0.,  0.,  2.,  1.,  0.,  0.,  2.]])"
      ]
     },
     "execution_count": 8,
     "metadata": {},
     "output_type": "execute_result"
    }
   ],
   "source": [
    "s"
   ]
  },
  {
   "cell_type": "code",
   "execution_count": 9,
   "metadata": {},
   "outputs": [
    {
     "data": {
      "text/plain": [
       "array([['s0', 's0', 's0', 's0', 's0', 's0', 's0'],\n",
       "       ['s0', '↓', '↓', '↘', '→', '↓', '↓'],\n",
       "       ['s0', '↘', '→', '↓', '↘', '↘', '→'],\n",
       "       ['s0', '↓', '↘', '→', '↘', '↓', '↘'],\n",
       "       ['s0', '↓', '↓', '↘', '→', '→', '↓'],\n",
       "       ['s0', '→', '↓', '↓', '↘', '→', '↓'],\n",
       "       ['s0', '→', '↓', '↓', '↓', '↘', '→'],\n",
       "       ['s0', '↘', '→', '↓', '↓', '↘', '→'],\n",
       "       ['s0', '↘', '→', '↓', '↓', '↓', '↘'],\n",
       "       ['s0', '↓', '↘', '→', '→', '↓', '↘'],\n",
       "       ['s0', '↓', '↓', '↘', '↘', '→', '↓'],\n",
       "       ['s0', '→', '↓', '↘', '↓', '↘', '↓'],\n",
       "       ['s0', '→', '↓', '↓', '↘', '↓', '↘'],\n",
       "       ['s0', '↘', '→', '↓', '↓', '↘', '→'],\n",
       "       ['s0', '↘', '→', '↓', '↓', '↓', '↘'],\n",
       "       ['s0', '↓', '↘', '→', '→', '↓', '↘']], dtype='<U32')"
      ]
     },
     "execution_count": 9,
     "metadata": {},
     "output_type": "execute_result"
    }
   ],
   "source": [
    "backtrack"
   ]
  },
  {
   "cell_type": "code",
   "execution_count": 10,
   "metadata": {},
   "outputs": [
    {
     "name": "stdout",
     "output_type": "stream",
     "text": [
      "2\n",
      "TAAGGTTA\n",
      "TA-GAT-A\n"
     ]
    }
   ],
   "source": [
    "for seq in OutputLCS(backtrack, v, w, 15, 6):\n",
    "    print(seq)"
   ]
  },
  {
   "cell_type": "code",
   "execution_count": 11,
   "metadata": {},
   "outputs": [],
   "source": [
    "v = ''\n",
    "w = ''\n",
    "file = open('dataset_369319_5.txt', 'r') \n",
    "for i, line in enumerate(file):\n",
    "    line=line.rstrip('\\n')\n",
    "    if(i==0):\n",
    "        v= line\n",
    "    else:\n",
    "        w = line"
   ]
  },
  {
   "cell_type": "code",
   "execution_count": 12,
   "metadata": {},
   "outputs": [],
   "source": [
    "s,backtrack = LCSBackTrack(v, w)"
   ]
  },
  {
   "cell_type": "code",
   "execution_count": 13,
   "metadata": {},
   "outputs": [
    {
     "data": {
      "text/plain": [
       "99"
      ]
     },
     "execution_count": 13,
     "metadata": {},
     "output_type": "execute_result"
    }
   ],
   "source": [
    "len(w)"
   ]
  },
  {
   "cell_type": "code",
   "execution_count": 14,
   "metadata": {},
   "outputs": [
    {
     "data": {
      "text/plain": [
       "382"
      ]
     },
     "execution_count": 14,
     "metadata": {},
     "output_type": "execute_result"
    }
   ],
   "source": [
    "np.argmax(s[:,99])"
   ]
  },
  {
   "cell_type": "code",
   "execution_count": 15,
   "metadata": {},
   "outputs": [
    {
     "name": "stdout",
     "output_type": "stream",
     "text": [
      "20\n",
      "TGGGAATCGATTTGCAACAG-GA-AC-CACGTCGGA-TTGCC-C--CCAGTGAGATCTGCGCGCACGTAAGTCCGG--CGGA-TCAGCCA-C-GATGG-GCG-T--TCG---\n",
      "TGGGAGTC--TT-G-AA-AGAGACACGCACGT-G-ACTTGTCGCGGCC-GTAA-AT--GCGCGTAA-TAA-TAGGGAGCGGGCTTTGCTATCCGCCGGTGCCCTAGTCGCCC\n"
     ]
    }
   ],
   "source": [
    "for seq in OutputLCS(backtrack, v, w, 382, 99):\n",
    "    print(seq)"
   ]
  },
  {
   "cell_type": "code",
   "execution_count": 16,
   "metadata": {},
   "outputs": [
    {
     "name": "stdout",
     "output_type": "stream",
     "text": [
      "10\n",
      "-GGTGACCCATT-AAACGTG-CATTCTCAAA-GA-TT-TCGAGGCTCGGCAGATGCAT-TGAA-ACA-AGTTACCCGCAGACTCATATGA-A-CAGAACTGATTATCCC-AGCTAAGCC-\n",
      "TGG-GAGTC-TTGAAA-GAGACA--CGCACGTGACTTGTCGCGGC-CGTAA-ATGCGCGT-AATA-ATAGGGAGCGG--G-CT--T-TGCTATCCGC-CGG-TG--CCCTAG-TC-GCCC\n"
     ]
    }
   ],
   "source": [
    "for seq in OutputLCS(backtrack, v, w, len(v), len(w)):\n",
    "    print(seq)"
   ]
  },
  {
   "cell_type": "code",
   "execution_count": null,
   "metadata": {},
   "outputs": [],
   "source": []
  }
 ],
 "metadata": {
  "kernelspec": {
   "display_name": "Python 3",
   "language": "python",
   "name": "python3"
  },
  "language_info": {
   "codemirror_mode": {
    "name": "ipython",
    "version": 3
   },
   "file_extension": ".py",
   "mimetype": "text/x-python",
   "name": "python",
   "nbconvert_exporter": "python",
   "pygments_lexer": "ipython3",
   "version": "3.7.3"
  }
 },
 "nbformat": 4,
 "nbformat_minor": 4
}
