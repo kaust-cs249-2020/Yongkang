{
 "cells": [
  {
   "cell_type": "code",
   "execution_count": 8,
   "metadata": {},
   "outputs": [],
   "source": [
    "import numpy as np"
   ]
  },
  {
   "cell_type": "code",
   "execution_count": 38,
   "metadata": {},
   "outputs": [],
   "source": [
    "n = 4\n",
    "m = 4"
   ]
  },
  {
   "cell_type": "code",
   "execution_count": 39,
   "metadata": {},
   "outputs": [
    {
     "data": {
      "text/plain": [
       "array([[1, 0, 2, 4, 3],\n",
       "       [4, 6, 5, 2, 1],\n",
       "       [4, 4, 5, 2, 1],\n",
       "       [5, 6, 8, 5, 3]])"
      ]
     },
     "execution_count": 39,
     "metadata": {},
     "output_type": "execute_result"
    }
   ],
   "source": [
    "Down=[\n",
    "1,0,2,4,3,\n",
    "4,6,5,2,1,\n",
    "4,4,5,2,1,\n",
    "5,6,8,5,3]\n",
    "Down = np.array(Down).reshape([n,m+1])\n",
    "Down"
   ]
  },
  {
   "cell_type": "code",
   "execution_count": 40,
   "metadata": {},
   "outputs": [
    {
     "data": {
      "text/plain": [
       "array([[3, 2, 4, 0],\n",
       "       [3, 2, 4, 2],\n",
       "       [0, 7, 3, 3],\n",
       "       [3, 3, 0, 2],\n",
       "       [1, 3, 2, 2]])"
      ]
     },
     "execution_count": 40,
     "metadata": {},
     "output_type": "execute_result"
    }
   ],
   "source": [
    "Right=[\n",
    "3,2,4,0,\n",
    "3,2,4,2,\n",
    "0,7,3,3,\n",
    "3,3,0,2,\n",
    "1,3,2,2,\n",
    "]\n",
    "Right = np.array(Right).reshape([n+1,m])\n",
    "Right"
   ]
  },
  {
   "cell_type": "code",
   "execution_count": 42,
   "metadata": {},
   "outputs": [],
   "source": [
    "def ManhattanTourist(n, m, Down, Right):\n",
    "    s = np.zeros([n+1,m+1])\n",
    "    for i in range(n):\n",
    "        s[i+1,0] = s[i,0] + Down[i,0]\n",
    "    for j in range(m):\n",
    "        s[0,j+1] = s[0,j] + Right[0,j]\n",
    "    for i in range(n):\n",
    "        for j in range(m):\n",
    "            #s[i+1,j+1] =  max(s[i,j+1] + Down[i,j+1], s[i+1,j] + Right[i+1,j])\n",
    "            s[i+1,j+1] =  max(s[i,j+1] + Down[i,j+1], s[i+1,j] + Right[i+1,j],s[i,j]+Diag[i,j])\n",
    "    return s[n,m]"
   ]
  },
  {
   "cell_type": "code",
   "execution_count": 43,
   "metadata": {},
   "outputs": [
    {
     "data": {
      "text/plain": [
       "35.0"
      ]
     },
     "execution_count": 43,
     "metadata": {},
     "output_type": "execute_result"
    }
   ],
   "source": [
    "ManhattanTourist(n, m, Down, Right)"
   ]
  },
  {
   "cell_type": "code",
   "execution_count": 33,
   "metadata": {},
   "outputs": [],
   "source": [
    "n = 18\n",
    "m = 6"
   ]
  },
  {
   "cell_type": "code",
   "execution_count": 34,
   "metadata": {},
   "outputs": [
    {
     "data": {
      "text/plain": [
       "array([[3, 2, 4, 1, 3, 1, 3],\n",
       "       [4, 4, 3, 1, 2, 2, 2],\n",
       "       [3, 4, 3, 2, 1, 0, 3],\n",
       "       [4, 3, 3, 4, 4, 3, 3],\n",
       "       [0, 0, 1, 4, 1, 4, 1],\n",
       "       [0, 0, 1, 0, 2, 1, 1],\n",
       "       [2, 4, 4, 4, 2, 3, 2],\n",
       "       [3, 2, 2, 4, 3, 1, 1],\n",
       "       [1, 4, 1, 3, 0, 1, 2],\n",
       "       [0, 0, 1, 0, 0, 0, 2],\n",
       "       [3, 2, 0, 4, 1, 1, 4],\n",
       "       [3, 1, 2, 3, 4, 2, 4],\n",
       "       [3, 1, 3, 2, 0, 0, 4],\n",
       "       [1, 2, 4, 3, 0, 2, 0],\n",
       "       [1, 3, 1, 4, 3, 3, 3],\n",
       "       [1, 2, 0, 2, 0, 2, 3],\n",
       "       [0, 4, 1, 2, 2, 1, 1],\n",
       "       [4, 2, 2, 4, 0, 3, 4]])"
      ]
     },
     "execution_count": 34,
     "metadata": {},
     "output_type": "execute_result"
    }
   ],
   "source": [
    "Down=[3,2,4,1,3,1,3,\n",
    "4,4,3,1,2,2,2,\n",
    "3,4,3,2,1,0,3,\n",
    "4,3,3,4,4,3,3,\n",
    "0,0,1,4,1,4,1,\n",
    "0,0,1,0,2,1,1,\n",
    "2,4,4,4,2,3,2,\n",
    "3,2,2,4,3,1,1,\n",
    "1,4,1,3,0,1,2,\n",
    "0,0,1,0,0,0,2,\n",
    "3,2,0,4,1,1,4,\n",
    "3,1,2,3,4,2,4,\n",
    "3,1,3,2,0,0,4,\n",
    "1,2,4,3,0,2,0,\n",
    "1,3,1,4,3,3,3,\n",
    "1,2,0,2,0,2,3,\n",
    "0,4,1,2,2,1,1,\n",
    "4,2,2,4,0,3,4]\n",
    "Down = np.array(Down).reshape([n,m+1])\n",
    "Down"
   ]
  },
  {
   "cell_type": "code",
   "execution_count": 35,
   "metadata": {},
   "outputs": [
    {
     "data": {
      "text/plain": [
       "array([[4, 4, 2, 3, 4, 4],\n",
       "       [4, 4, 0, 0, 1, 0],\n",
       "       [0, 1, 2, 2, 2, 1],\n",
       "       [2, 1, 1, 3, 2, 3],\n",
       "       [3, 4, 4, 1, 4, 4],\n",
       "       [2, 2, 3, 0, 2, 2],\n",
       "       [1, 1, 2, 4, 1, 2],\n",
       "       [3, 2, 1, 4, 4, 1],\n",
       "       [2, 4, 3, 0, 3, 2],\n",
       "       [4, 2, 0, 1, 4, 2],\n",
       "       [0, 4, 1, 2, 2, 2],\n",
       "       [1, 3, 4, 1, 3, 3],\n",
       "       [0, 4, 2, 4, 1, 2],\n",
       "       [1, 0, 4, 3, 1, 1],\n",
       "       [4, 0, 1, 3, 2, 2],\n",
       "       [4, 2, 2, 3, 3, 4],\n",
       "       [3, 1, 1, 0, 4, 3],\n",
       "       [0, 4, 4, 4, 2, 3],\n",
       "       [4, 3, 1, 2, 4, 0]])"
      ]
     },
     "execution_count": 35,
     "metadata": {},
     "output_type": "execute_result"
    }
   ],
   "source": [
    "Right=[4,4,2,3,4,4,\n",
    "4,4,0,0,1,0,\n",
    "0,1,2,2,2,1,\n",
    "2,1,1,3,2,3,\n",
    "3,4,4,1,4,4,\n",
    "2,2,3,0,2,2,\n",
    "1,1,2,4,1,2,\n",
    "3,2,1,4,4,1,\n",
    "2,4,3,0,3,2,\n",
    "4,2,0,1,4,2,\n",
    "0,4,1,2,2,2,\n",
    "1,3,4,1,3,3,\n",
    "0,4,2,4,1,2,\n",
    "1,0,4,3,1,1,\n",
    "4,0,1,3,2,2,\n",
    "4,2,2,3,3,4,\n",
    "3,1,1,0,4,3,\n",
    "0,4,4,4,2,3,\n",
    "4,3,1,2,4,0\n",
    "]\n",
    "Right = np.array(Right).reshape([n+1,m])\n",
    "Right"
   ]
  },
  {
   "cell_type": "code",
   "execution_count": 36,
   "metadata": {},
   "outputs": [
    {
     "data": {
      "text/plain": [
       "75.0"
      ]
     },
     "execution_count": 36,
     "metadata": {},
     "output_type": "execute_result"
    }
   ],
   "source": [
    "ManhattanTourist(n, m, Down, Right)"
   ]
  },
  {
   "cell_type": "code",
   "execution_count": 41,
   "metadata": {},
   "outputs": [
    {
     "data": {
      "text/plain": [
       "array([[ 5,  0,  2,  1],\n",
       "       [ 8,  4,  3,  0],\n",
       "       [10,  8,  9,  5],\n",
       "       [ 5,  6,  4,  7]])"
      ]
     },
     "execution_count": 41,
     "metadata": {},
     "output_type": "execute_result"
    }
   ],
   "source": [
    "Diag = [5,0,2,1,\n",
    "       8,4,3,0,\n",
    "       10,8,9,5,\n",
    "       5,6,4,7]\n",
    "Diag = np.array(Diag).reshape([n,m])\n",
    "Diag"
   ]
  },
  {
   "cell_type": "code",
   "execution_count": null,
   "metadata": {},
   "outputs": [],
   "source": []
  }
 ],
 "metadata": {
  "kernelspec": {
   "display_name": "Python 3",
   "language": "python",
   "name": "python3"
  },
  "language_info": {
   "codemirror_mode": {
    "name": "ipython",
    "version": 3
   },
   "file_extension": ".py",
   "mimetype": "text/x-python",
   "name": "python",
   "nbconvert_exporter": "python",
   "pygments_lexer": "ipython3",
   "version": "3.7.3"
  }
 },
 "nbformat": 4,
 "nbformat_minor": 4
}
