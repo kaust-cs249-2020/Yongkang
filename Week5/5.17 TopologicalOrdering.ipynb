{
 "cells": [
  {
   "cell_type": "code",
   "execution_count": 76,
   "metadata": {},
   "outputs": [],
   "source": [
    "def TopologicalOrdering(Graph):\n",
    "        List = []\n",
    "        #Candidates = NoIncomingEdge(Graph)\n",
    "        IncomingEdges = IncomingEdge(Graph)\n",
    "        Candidates = {k for k,v in IncomingEdges.items() if v<=0}\n",
    "        while Candidates:\n",
    "            a = Candidates.pop()\n",
    "            List.append(a)\n",
    "            if a in Graph.keys():\n",
    "                for node in Graph[a]:\n",
    "                    IncomingEdges[node] -= 1\n",
    "                del Graph[a]\n",
    "            del IncomingEdges[a]\n",
    "            #print(a)\n",
    "            Candidates = {k for k,v in IncomingEdges.items() if v<=0}\n",
    "            #print(Candidates)\n",
    "            \n",
    "        if Graph:\n",
    "            return \"the input graph is not a DAG\"\n",
    "        else:\n",
    "            return List"
   ]
  },
  {
   "cell_type": "code",
   "execution_count": 59,
   "metadata": {},
   "outputs": [],
   "source": [
    "def IncomingEdge(Graph):\n",
    "    IncomingEdges = {}\n",
    "    for key in Graph.keys():\n",
    "        IncomingEdges[key] = 0\n",
    "    for val in Graph.values():\n",
    "        for node in val:\n",
    "            if node not in IncomingEdges.keys():\n",
    "                IncomingEdges[node] = 0\n",
    "            IncomingEdges[node] += 1\n",
    "    return IncomingEdges"
   ]
  },
  {
   "cell_type": "raw",
   "metadata": {},
   "source": [
    " Sample Input:\n",
    "\n",
    "0 -> 1\n",
    "1 -> 2\n",
    "3 -> 1\n",
    "4 -> 2\n",
    "\n",
    "Sample Output:\n",
    "\n",
    "0, 3, 4, 1, 2"
   ]
  },
  {
   "cell_type": "code",
   "execution_count": 60,
   "metadata": {},
   "outputs": [],
   "source": [
    "Graph = {0:{1},1:{2},3:{1},4:{2}}"
   ]
  },
  {
   "cell_type": "code",
   "execution_count": 61,
   "metadata": {},
   "outputs": [
    {
     "name": "stdout",
     "output_type": "stream",
     "text": [
      "0\n",
      "{3, 4}\n",
      "3\n",
      "{1, 4}\n",
      "1\n",
      "{4}\n",
      "4\n",
      "{2}\n",
      "2\n",
      "set()\n"
     ]
    },
    {
     "data": {
      "text/plain": [
       "[0, 3, 1, 4, 2]"
      ]
     },
     "execution_count": 61,
     "metadata": {},
     "output_type": "execute_result"
    }
   ],
   "source": [
    "TopologicalOrdering(Graph)"
   ]
  },
  {
   "cell_type": "code",
   "execution_count": 49,
   "metadata": {},
   "outputs": [
    {
     "name": "stdout",
     "output_type": "stream",
     "text": [
      "1\n",
      "2\n",
      "1\n",
      "2\n"
     ]
    },
    {
     "data": {
      "text/plain": [
       "{0: 0, 1: 2, 3: 0, 4: 0, 2: 2}"
      ]
     },
     "execution_count": 49,
     "metadata": {},
     "output_type": "execute_result"
    }
   ],
   "source": [
    "IncomingEdge(Graph)"
   ]
  },
  {
   "cell_type": "code",
   "execution_count": 48,
   "metadata": {},
   "outputs": [
    {
     "name": "stdout",
     "output_type": "stream",
     "text": [
      "{1}\n",
      "{2}\n",
      "{1}\n",
      "{2}\n"
     ]
    }
   ],
   "source": [
    "for val in Graph.values():\n",
    "    print(val)"
   ]
  },
  {
   "cell_type": "code",
   "execution_count": 77,
   "metadata": {},
   "outputs": [],
   "source": [
    "Graph = {}\n",
    "file = open('dataset_369325_3.txt', 'r') \n",
    "for i, line in enumerate(file):\n",
    "    line=line.rstrip('\\n')\n",
    "    key,val = line.split(' -> ')\n",
    "    nodes = val.split(',')\n",
    "    Graph[key] = set(nodes)"
   ]
  },
  {
   "cell_type": "code",
   "execution_count": 78,
   "metadata": {},
   "outputs": [
    {
     "data": {
      "text/plain": [
       "{'0': {'7'},\n",
       " '1': {'20', '24', '43', '8'},\n",
       " '10': {'23', '36'},\n",
       " '11': {'17'},\n",
       " '12': {'16', '18', '21', '29'},\n",
       " '13': {'20', '24', '29'},\n",
       " '14': {'19'},\n",
       " '15': {'30', '35', '38'},\n",
       " '16': {'25', '27', '42'},\n",
       " '17': {'23', '26', '38'},\n",
       " '18': {'27', '30'},\n",
       " '19': {'26', '40'},\n",
       " '2': {'30', '33'},\n",
       " '20': {'27', '29'},\n",
       " '21': {'29', '31', '32', '39', '41'},\n",
       " '23': {'24', '25', '33'},\n",
       " '24': {'29', '42', '43'},\n",
       " '26': {'30'},\n",
       " '28': {'31'},\n",
       " '29': {'30'},\n",
       " '3': {'17', '24', '30', '4'},\n",
       " '31': {'32', '33'},\n",
       " '32': {'40', '43'},\n",
       " '34': {'37'},\n",
       " '35': {'42'},\n",
       " '36': {'39'},\n",
       " '37': {'40', '43'},\n",
       " '39': {'41'},\n",
       " '4': {'11', '14', '23', '26', '30', '37', '42'},\n",
       " '5': {'14', '29', '39'},\n",
       " '6': {'24', '38', '42'},\n",
       " '7': {'14', '32'},\n",
       " '8': {'42'},\n",
       " '9': {'12', '18', '26'}}"
      ]
     },
     "execution_count": 78,
     "metadata": {},
     "output_type": "execute_result"
    }
   ],
   "source": [
    "Graph"
   ]
  },
  {
   "cell_type": "code",
   "execution_count": 79,
   "metadata": {},
   "outputs": [],
   "source": [
    "a = TopologicalOrdering(Graph)"
   ]
  },
  {
   "cell_type": "code",
   "execution_count": 80,
   "metadata": {},
   "outputs": [
    {
     "name": "stdout",
     "output_type": "stream",
     "text": [
      "28, 5, 34, 9, 12, 16, 6, 2, 10, 13, 36, 0, 7, 1, 8, 20, 21, 31, 32, 39, 18, 27, 3, 4, 37, 41, 15, 35, 11, 17, 23, 38, 24, 43, 29, 25, 42, 33, 14, 19, 26, 30, 40, "
     ]
    }
   ],
   "source": [
    "for i in a:\n",
    "    print(i,end=', ')"
   ]
  },
  {
   "cell_type": "code",
   "execution_count": 70,
   "metadata": {},
   "outputs": [
    {
     "data": {
      "text/plain": [
       "[]"
      ]
     },
     "execution_count": 70,
     "metadata": {},
     "output_type": "execute_result"
    }
   ],
   "source": [
    "a"
   ]
  },
  {
   "cell_type": "code",
   "execution_count": null,
   "metadata": {},
   "outputs": [],
   "source": []
  }
 ],
 "metadata": {
  "kernelspec": {
   "display_name": "Python 3",
   "language": "python",
   "name": "python3"
  },
  "language_info": {
   "codemirror_mode": {
    "name": "ipython",
    "version": 3
   },
   "file_extension": ".py",
   "mimetype": "text/x-python",
   "name": "python",
   "nbconvert_exporter": "python",
   "pygments_lexer": "ipython3",
   "version": "3.7.3"
  }
 },
 "nbformat": 4,
 "nbformat_minor": 4
}
