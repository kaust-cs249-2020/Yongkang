{
 "cells": [
  {
   "cell_type": "code",
   "execution_count": 3,
   "metadata": {},
   "outputs": [],
   "source": [
    " import numpy as np"
   ]
  },
  {
   "cell_type": "code",
   "execution_count": 21,
   "metadata": {},
   "outputs": [],
   "source": [
    "def LCSBackTrack(v, w):\n",
    "    n = len(v)\n",
    "    m = len(w)\n",
    "    s = np.zeros([n+1,m+1])\n",
    "    Backtrack = np.zeros([n+1,m+1]).astype(str)\n",
    "    for i in range(n+1):\n",
    "        #s[i,0] -= sigma*i\n",
    "        Backtrack[i,0] = \"s0\"\n",
    "    for j in range(m+1):\n",
    "        s[0,j] -= sigma*j\n",
    "        Backtrack[0,j] = \"→\"\n",
    "    for i in range(n):\n",
    "        for j in range(m):\n",
    "            match = -sigma\n",
    "            if v[i]==w[j]:\n",
    "                match = 1\n",
    "            s[i+1,j+1] = max(s[i,j+1]-sigma , s[i+1,j]-sigma , s[i,j] + match)\n",
    "            if s[i+1,j+1] == s[i,j+1]-sigma:\n",
    "                Backtrack[i+1,j+1] = \"↓\"\n",
    "            elif s[i+1,j+1] == s[i+1,j]-sigma:\n",
    "                Backtrack[i+1,j+1] = \"→\"\n",
    "            elif s[i+1,j+1] == s[i,j] + match:\n",
    "                Backtrack[i+1,j+1] = \"↘\"\n",
    "    return s,Backtrack"
   ]
  },
  {
   "cell_type": "code",
   "execution_count": 22,
   "metadata": {},
   "outputs": [],
   "source": [
    "def OutputLCS(backtrack, v, w, i, j):\n",
    "    if j == 0:\n",
    "        return (0,\"\",\"\")\n",
    "    if backtrack[i,j] == \"↓\":\n",
    "        score,seq1,seq2 = OutputLCS(backtrack, v, w, i - 1, j)\n",
    "        score -= sigma\n",
    "        return (score,seq1+ v[i-1],seq2+'-')\n",
    "    elif backtrack[i, j] == \"→\":\n",
    "        score,seq1,seq2 = OutputLCS(backtrack, v, w,i, j - 1)\n",
    "        score -= sigma\n",
    "        return (score,seq1+'-' ,seq2+w[j-1])\n",
    "        \n",
    "    else:\n",
    "        score,seq1,seq2 = OutputLCS(backtrack, v, w,i - 1, j - 1)\n",
    "        match = -sigma\n",
    "        if(v[i-1]==w[j-1]):\n",
    "            match = 1\n",
    "        score += match\n",
    "        return  (score,seq1+ v[i-1],seq2+w[j-1])"
   ]
  },
  {
   "cell_type": "raw",
   "metadata": {},
   "source": [
    "Sample Input:\n",
    "\n",
    "PAWHEAE\n",
    "HEAGAWGHEE\n",
    "\n",
    "Sample Output:\n",
    "\n",
    "1\n",
    "HEAE\n",
    "HEAG"
   ]
  },
  {
   "cell_type": "code",
   "execution_count": 23,
   "metadata": {},
   "outputs": [],
   "source": [
    "v = 'PAWHEAE'\n",
    "w = 'HEAGAWGHEE'\n",
    "sigma = 2"
   ]
  },
  {
   "cell_type": "code",
   "execution_count": 24,
   "metadata": {},
   "outputs": [],
   "source": [
    "s,backtrack = LCSBackTrack(v, w)"
   ]
  },
  {
   "cell_type": "code",
   "execution_count": 25,
   "metadata": {},
   "outputs": [
    {
     "data": {
      "text/plain": [
       "3"
      ]
     },
     "execution_count": 25,
     "metadata": {},
     "output_type": "execute_result"
    }
   ],
   "source": [
    "np.argmax(s[7,:])"
   ]
  },
  {
   "cell_type": "code",
   "execution_count": 18,
   "metadata": {},
   "outputs": [
    {
     "data": {
      "text/plain": [
       "array([ 0., -1.,  1.,  4.,  5.,  3.,  1., -1., -3., -2., -1.])"
      ]
     },
     "execution_count": 18,
     "metadata": {},
     "output_type": "execute_result"
    }
   ],
   "source": [
    "s[7,:]"
   ]
  },
  {
   "cell_type": "code",
   "execution_count": 27,
   "metadata": {},
   "outputs": [
    {
     "data": {
      "text/plain": [
       "array([[  0.,  -2.,  -4.,  -6.,  -8., -10., -12., -14., -16., -18., -20.],\n",
       "       [  0.,  -2.,  -4.,  -6.,  -8., -10., -12., -14., -16., -18., -20.],\n",
       "       [  0.,  -2.,  -4.,  -3.,  -5.,  -7.,  -9., -11., -13., -15., -17.],\n",
       "       [  0.,  -2.,  -4.,  -5.,  -5.,  -7.,  -6.,  -8., -10., -12., -14.],\n",
       "       [  0.,   1.,  -1.,  -3.,  -5.,  -7.,  -8.,  -8.,  -7.,  -9., -11.],\n",
       "       [  0.,  -1.,   2.,   0.,  -2.,  -4.,  -6.,  -8.,  -9.,  -6.,  -8.],\n",
       "       [  0.,  -2.,   0.,   3.,   1.,  -1.,  -3.,  -5.,  -7.,  -8.,  -8.],\n",
       "       [  0.,  -2.,  -1.,   1.,   1.,  -1.,  -3.,  -5.,  -7.,  -6.,  -7.]])"
      ]
     },
     "execution_count": 27,
     "metadata": {},
     "output_type": "execute_result"
    }
   ],
   "source": [
    "s"
   ]
  },
  {
   "cell_type": "code",
   "execution_count": 26,
   "metadata": {},
   "outputs": [
    {
     "name": "stdout",
     "output_type": "stream",
     "text": [
      "1\n",
      "HEAE\n",
      "HEAG\n"
     ]
    }
   ],
   "source": [
    "for seq in OutputLCS(backtrack, v, w, 7, 4):\n",
    "    print(seq)"
   ]
  },
  {
   "cell_type": "code",
   "execution_count": 28,
   "metadata": {},
   "outputs": [],
   "source": [
    "v = ''\n",
    "w = ''\n",
    "file = open('dataset_369319_7.txt', 'r') \n",
    "for i, line in enumerate(file):\n",
    "    line=line.rstrip('\\n')\n",
    "    if(i==0):\n",
    "        v= line\n",
    "    else:\n",
    "        w = line"
   ]
  },
  {
   "cell_type": "code",
   "execution_count": 29,
   "metadata": {},
   "outputs": [],
   "source": [
    "s,backtrack = LCSBackTrack(v, w)"
   ]
  },
  {
   "cell_type": "code",
   "execution_count": 30,
   "metadata": {},
   "outputs": [
    {
     "data": {
      "text/plain": [
       "830"
      ]
     },
     "execution_count": 30,
     "metadata": {},
     "output_type": "execute_result"
    }
   ],
   "source": [
    "len(v)"
   ]
  },
  {
   "cell_type": "code",
   "execution_count": 32,
   "metadata": {},
   "outputs": [
    {
     "data": {
      "text/plain": [
       "262"
      ]
     },
     "execution_count": 32,
     "metadata": {},
     "output_type": "execute_result"
    }
   ],
   "source": [
    "np.argmax(s[830,:])"
   ]
  },
  {
   "cell_type": "code",
   "execution_count": 33,
   "metadata": {},
   "outputs": [
    {
     "name": "stdout",
     "output_type": "stream",
     "text": [
      "71\n",
      "AAC-T-CTAAATTCGCGCAATCGCCCAGTGTTTTCCAATCCTGCAACTTG--ACGGTCAGCCTATGTTAAGCAGAAGATGCTT--A-AA-G-GGTGGTCTACTAGACGGACTGTCTTTAATTGTGAGTATGGTTTAA-GGG-T-GG-TTCACCTGAAGTTGATCCT-CATTCGGCATACACGTT-TTTC-C-ATGCAC-AAGAT-GACACACGAACTGAGT-GTTTGACTTTTTCCGTAGCGT-GT--C-GGG-CG-CGAAGTATCAACCTGTTGATACCCAAT\n",
      "AACCTGCTAACTCCGCGCA-TC-CC-AGTCTTTTC-AATCTTGCT-CTTGTGACGCTCTGCCTATCT-AAGC-GAAGATG-TTGCAGAAAGTGGTG-TCTACTA-ACGGGCTGTCCTT--TTG-G-GTTTGGTTTCACGGGATTGGATT-ACCTGAGGTT-ATCCTTCATTCCGCATACACGTTGTTTTACGATT-ACTAAGATAG-CAC-CGTTCTGAGTTGTTTGACCTTTTCCG-AG-GTTGTTTCTGGGGCGGCAAAGTATTAACCTGTTGATTCCTA-T\n"
     ]
    }
   ],
   "source": [
    "for seq in OutputLCS(backtrack, v, w, 830, 262):\n",
    "    print(seq)"
   ]
  },
  {
   "cell_type": "code",
   "execution_count": 16,
   "metadata": {},
   "outputs": [
    {
     "name": "stdout",
     "output_type": "stream",
     "text": [
      "10\n",
      "-GGTGACCCATT-AAACGTG-CATTCTCAAA-GA-TT-TCGAGGCTCGGCAGATGCAT-TGAA-ACA-AGTTACCCGCAGACTCATATGA-A-CAGAACTGATTATCCC-AGCTAAGCC-\n",
      "TGG-GAGTC-TTGAAA-GAGACA--CGCACGTGACTTGTCGCGGC-CGTAA-ATGCGCGT-AATA-ATAGGGAGCGG--G-CT--T-TGCTATCCGC-CGG-TG--CCCTAG-TC-GCCC\n"
     ]
    }
   ],
   "source": [
    "for seq in OutputLCS(backtrack, v, w, len(v), len(w)):\n",
    "    print(seq)"
   ]
  },
  {
   "cell_type": "code",
   "execution_count": null,
   "metadata": {},
   "outputs": [],
   "source": []
  }
 ],
 "metadata": {
  "kernelspec": {
   "display_name": "Python 3",
   "language": "python",
   "name": "python3"
  },
  "language_info": {
   "codemirror_mode": {
    "name": "ipython",
    "version": 3
   },
   "file_extension": ".py",
   "mimetype": "text/x-python",
   "name": "python",
   "nbconvert_exporter": "python",
   "pygments_lexer": "ipython3",
   "version": "3.7.3"
  }
 },
 "nbformat": 4,
 "nbformat_minor": 4
}
