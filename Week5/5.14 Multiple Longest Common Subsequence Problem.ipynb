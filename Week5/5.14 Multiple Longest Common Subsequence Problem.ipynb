{
 "cells": [
  {
   "cell_type": "code",
   "execution_count": 1,
   "metadata": {},
   "outputs": [],
   "source": [
    "import numpy as np\n",
    "import re"
   ]
  },
  {
   "cell_type": "code",
   "execution_count": 2,
   "metadata": {},
   "outputs": [],
   "source": [
    "def LCSBackTrack(v, w, u):\n",
    "    n = len(v)\n",
    "    m = len(w)\n",
    "    l = len(u)\n",
    "    s = np.zeros([n+1,m+1,l+1])\n",
    "    Backtrack = {}\n",
    "    for i in range(n):\n",
    "        Backtrack[(i+1,0,0)] = (i,0,0)\n",
    "    for j in range(m):\n",
    "        Backtrack[(0,j+1,0)] = (0,j,0)\n",
    "    for k in range(l):\n",
    "        Backtrack[(0,0,k+1)] = (0,0,k)\n",
    "    \n",
    "    for i in range(n):\n",
    "        for j in range(m):\n",
    "            #s[i+1,j+1,k+1] = max(s[i,j,0] + match,s[i+1,j,0],s[i+1,j+1,0])\n",
    "            Backtrack[(i+1,j+1,0)] = (i,j,0)\n",
    "    for i in range(n):\n",
    "        for k in range(k):\n",
    "            Backtrack[(i+1,0,k+1)] = (i,0,k)\n",
    "    \n",
    "    for j in range(m):\n",
    "        for k in range(k):\n",
    "            Backtrack[(0,j+1,k+1)] = (0,j,k)\n",
    "    \n",
    "    for i in range(n):\n",
    "        for j in range(m):\n",
    "            for k in range(l):\n",
    "                match = 0\n",
    "                if(v[i]==w[j] and w[j]==u[k]):\n",
    "                    match = 1\n",
    "                s[i+1,j+1,k+1] = max(s[i,j,k] + match,s[i+1,j,k],s[i+1,j+1,k],s[i+1,j,k+1],s[i,j+1,k]\\\n",
    "                                     ,s[i,j+1,k+1],s[i,j,k+1])\n",
    "                if s[i+1,j+1,k+1] == s[i,j,k]+match:\n",
    "                    Backtrack[(i+1,j+1,k+1)] = (i,j,k)\n",
    "                elif s[i+1,j+1,k+1] == s[i+1,j,k]:\n",
    "                    Backtrack[(i+1,j+1,k+1)] = (i+1,j,k)\n",
    "                elif s[i+1,j+1,k+1] == s[i+1,j+1,k]:\n",
    "                    Backtrack[(i+1,j+1,k+1)] = (i+1,j+1,k)\n",
    "                elif s[i+1,j+1,k+1] == s[i+1,j,k+1]:\n",
    "                    Backtrack[(i+1,j+1,k+1)] = (i+1,j,k+1)\n",
    "                elif s[i+1,j+1,k+1] == s[i,j+1,k]:\n",
    "                    Backtrack[(i+1,j+1,k+1)] = (i,j+1,k)\n",
    "                elif s[i+1,j+1,k+1] == s[i,j+1,k+1]:\n",
    "                    Backtrack[(i+1,j+1,k+1)] = (i,j+1,k+1)\n",
    "                elif s[i+1,j+1,k+1] == s[i,j,k+1]:\n",
    "                    Backtrack[(i+1,j+1,k+1)] = (i,j,k+1)\n",
    "    return s,Backtrack"
   ]
  },
  {
   "cell_type": "code",
   "execution_count": 3,
   "metadata": {},
   "outputs": [],
   "source": [
    "def OutputLCS(backtrack, v, w, u, i, j,k):\n",
    "    if i == 0 and j == 0 and k == 0:\n",
    "        return (\"\",\"\",\"\")\n",
    "    \n",
    "    \n",
    "    i1,j1,k1 = backtrack[(i,j,k)]\n",
    "    seq1,seq2,seq3 = OutputLCS(backtrack, v, w, u,i1,j1,k1)\n",
    "    a = '-'\n",
    "    b = '-'\n",
    "    c = '-'\n",
    "    if(i==i1+1):\n",
    "        a = v[i1]\n",
    "    if(j==j1+1):\n",
    "        b = w[j1]\n",
    "    if(k==k1+1):\n",
    "        c = u[k1]\n",
    "        \n",
    "    return (seq1+a,seq2+b,seq3+c)\n"
   ]
  },
  {
   "cell_type": "raw",
   "metadata": {},
   "source": [
    " Sample Input:\n",
    "\n",
    "ATATCCG\n",
    "TCCGA\n",
    "ATGTACTG\n",
    "\n",
    "Sample Output:\n",
    "\n",
    "3\n",
    "ATATCC-G-\n",
    "---TCC-GA\n",
    "ATGTACTG-"
   ]
  },
  {
   "cell_type": "code",
   "execution_count": 4,
   "metadata": {},
   "outputs": [],
   "source": [
    "v='ATATCCG'\n",
    "w='TCCGA'\n",
    "u='ATGTACTG'\n",
    "n = len(v)\n",
    "m = len(w)\n",
    "l = len(u)"
   ]
  },
  {
   "cell_type": "code",
   "execution_count": 5,
   "metadata": {},
   "outputs": [],
   "source": [
    "s,backtrack = LCSBackTrack(v, w, u)"
   ]
  },
  {
   "cell_type": "code",
   "execution_count": 6,
   "metadata": {},
   "outputs": [
    {
     "data": {
      "text/plain": [
       "3.0"
      ]
     },
     "execution_count": 6,
     "metadata": {},
     "output_type": "execute_result"
    }
   ],
   "source": [
    "s[n,m,l]"
   ]
  },
  {
   "cell_type": "code",
   "execution_count": 7,
   "metadata": {},
   "outputs": [
    {
     "name": "stdout",
     "output_type": "stream",
     "text": [
      "3\n",
      "ATAT-CCG-\n",
      "---T-CCGA\n",
      "ATGTACTG-\n"
     ]
    }
   ],
   "source": [
    "print(int(s[n,m,l]))\n",
    "for seq in OutputLCS(backtrack, v, w, u, n,m,l):\n",
    "    print(seq)"
   ]
  },
  {
   "cell_type": "code",
   "execution_count": 8,
   "metadata": {},
   "outputs": [],
   "source": [
    "v = ''\n",
    "w = ''\n",
    "u = ''\n",
    "file = open('dataset_369322_5.txt', 'r') \n",
    "for i, line in enumerate(file):\n",
    "    line=line.rstrip('\\n')\n",
    "    if(i==0):\n",
    "        v= line\n",
    "    elif(i==1):\n",
    "        w = line\n",
    "    else:\n",
    "        u = line"
   ]
  },
  {
   "cell_type": "code",
   "execution_count": 9,
   "metadata": {},
   "outputs": [],
   "source": [
    "n = len(v)\n",
    "m = len(w)\n",
    "l = len(u)"
   ]
  },
  {
   "cell_type": "code",
   "execution_count": 10,
   "metadata": {},
   "outputs": [],
   "source": [
    "s,backtrack = LCSBackTrack(v, w, u)"
   ]
  },
  {
   "cell_type": "code",
   "execution_count": 11,
   "metadata": {},
   "outputs": [
    {
     "name": "stdout",
     "output_type": "stream",
     "text": [
      "4\n",
      "-AT-ATCG---CG---\n",
      "TA--AGC-ATGC----\n",
      "GA-TAAC----C-CTT\n"
     ]
    }
   ],
   "source": [
    "print(int(s[n,m,l]))\n",
    "for seq in OutputLCS(backtrack, v, w, u, n,m,l):\n",
    "    print(seq)"
   ]
  },
  {
   "cell_type": "code",
   "execution_count": 12,
   "metadata": {},
   "outputs": [],
   "source": [
    "import sys\n",
    "sys.setrecursionlimit(100000)"
   ]
  }
 ],
 "metadata": {
  "kernelspec": {
   "display_name": "Python 3",
   "language": "python",
   "name": "python3"
  },
  "language_info": {
   "codemirror_mode": {
    "name": "ipython",
    "version": 3
   },
   "file_extension": ".py",
   "mimetype": "text/x-python",
   "name": "python",
   "nbconvert_exporter": "python",
   "pygments_lexer": "ipython3",
   "version": "3.7.3"
  }
 },
 "nbformat": 4,
 "nbformat_minor": 4
}
