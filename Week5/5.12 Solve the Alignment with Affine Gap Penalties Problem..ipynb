{
 "cells": [
  {
   "cell_type": "code",
   "execution_count": 1,
   "metadata": {},
   "outputs": [],
   "source": [
    "import numpy as np\n",
    "import re"
   ]
  },
  {
   "cell_type": "code",
   "execution_count": 2,
   "metadata": {},
   "outputs": [],
   "source": [
    "ScoringMatrix = {}\n",
    "AA = []\n",
    "file = open('BLOSUM62.txt', 'r') \n",
    "for i, line in enumerate(file):\n",
    "    line=line.rstrip('\\n')\n",
    "    if(i==0):\n",
    "        AA = re.split('\\s+',line)\n",
    "    else:\n",
    "        score = re.split('\\s+',line)\n",
    "        ScoringMatrix[score[0]] = {AA[i]:int(score[i]) for i in range(1,len(score))}"
   ]
  },
  {
   "cell_type": "code",
   "execution_count": 3,
   "metadata": {},
   "outputs": [
    {
     "data": {
      "text/plain": [
       "3"
      ]
     },
     "execution_count": 3,
     "metadata": {},
     "output_type": "execute_result"
    }
   ],
   "source": [
    "ScoringMatrix['V']['I']"
   ]
  },
  {
   "cell_type": "code",
   "execution_count": 47,
   "metadata": {},
   "outputs": [],
   "source": [
    "def LCSBackTrack(v, w):\n",
    "    n = len(v)\n",
    "    m = len(w)\n",
    "    s = np.zeros([n+1,m+1])\n",
    "    lower = np.zeros([n+1,m+1])\n",
    "    upper = np.zeros([n+1,m+1])\n",
    "    Backtrack = np.zeros([n+1,m+1]).astype(str)\n",
    "    for i in range(1,n+1):\n",
    "        s[i,0] -= eplison*(i-1)+sigma\n",
    "        Backtrack[i,0] = \"↓\"\n",
    "        lower[i,0] -= eplison*(i-1)+sigma\n",
    "    for j in range(1,m+1):\n",
    "        s[0,j] -= eplison*(j-1)+sigma\n",
    "        Backtrack[0,j] = \"→\"\n",
    "        upper[0,j] -= eplison*(j-1)+sigma\n",
    "    for i in range(n):\n",
    "        for j in range(m):\n",
    "            lower[i+1,j+1] = max(lower[i,j+1]-eplison,s[i,j+1]-sigma)\n",
    "            upper[i+1,j+1] = max(upper[i+1,j]-eplison,s[i+1,j]-sigma)\n",
    "            \n",
    "            match = int(ScoringMatrix[v[i]][w[j]])\n",
    "            s[i+1,j+1] = max(lower[i+1,j+1] ,upper[i+1,j+1],s[i,j] + match)\n",
    "            if s[i+1,j+1] == lower[i+1,j+1]:\n",
    "                Backtrack[i+1,j+1] = \"↓\"\n",
    "            elif s[i+1,j+1] == upper[i+1,j+1]:\n",
    "                Backtrack[i+1,j+1] = \"→\"\n",
    "            elif s[i+1,j+1] == s[i,j] + match:\n",
    "                Backtrack[i+1,j+1] = \"↘\"\n",
    "    return s,lower,upper,Backtrack"
   ]
  },
  {
   "cell_type": "code",
   "execution_count": 22,
   "metadata": {},
   "outputs": [],
   "source": [
    "def OutputLCS(backtrack, v, w, i, j):\n",
    "    if i == 0 and j == 0:\n",
    "        return (\"\",\"\")\n",
    "    if backtrack[i,j] == \"↓\":\n",
    "        seq1,seq2 = OutputLCS(backtrack, v, w, i - 1, j)\n",
    "        return (seq1+ v[i-1],seq2+'-')\n",
    "    elif backtrack[i, j] == \"→\":\n",
    "        seq1,seq2 = OutputLCS(backtrack, v, w,i, j - 1)\n",
    "        return (seq1+'-' ,seq2+w[j-1])\n",
    "    else:\n",
    "        seq1,seq2 = OutputLCS(backtrack, v, w,i - 1, j - 1)\n",
    "        return  (seq1+ v[i-1],seq2+w[j-1])"
   ]
  },
  {
   "cell_type": "code",
   "execution_count": 23,
   "metadata": {},
   "outputs": [],
   "source": [
    "sigma = 11\n",
    "eplison = 1"
   ]
  },
  {
   "cell_type": "raw",
   "metadata": {},
   "source": [
    " Sample Input:\n",
    "\n",
    "PRTEINS\n",
    "PRTWPSEIN\n",
    "\n",
    "Sample Output:\n",
    "\n",
    "8\n",
    "PRT---EINS\n",
    "PRTWPSEIN-\n",
    "\n"
   ]
  },
  {
   "cell_type": "code",
   "execution_count": 24,
   "metadata": {},
   "outputs": [],
   "source": [
    "v='PRTEINS'\n",
    "w='PRTWPSEIN'"
   ]
  },
  {
   "cell_type": "code",
   "execution_count": 48,
   "metadata": {},
   "outputs": [],
   "source": [
    "s,lower,upper,backtrack = LCSBackTrack(v, w)"
   ]
  },
  {
   "cell_type": "code",
   "execution_count": 52,
   "metadata": {},
   "outputs": [
    {
     "name": "stdout",
     "output_type": "stream",
     "text": [
      "8.0\n",
      "PRT---EINS\n",
      "PRTWPSEIN-\n"
     ]
    }
   ],
   "source": [
    "n = len(v)\n",
    "m = len(w)\n",
    "print(s[n,m])\n",
    "for seq in OutputLCS(backtrack, v, w, n, m):\n",
    "    print(seq)"
   ]
  },
  {
   "cell_type": "code",
   "execution_count": 63,
   "metadata": {},
   "outputs": [],
   "source": [
    "v = ''\n",
    "w = ''\n",
    "file = open('dataset_369320_8.txt', 'r') \n",
    "for i, line in enumerate(file):\n",
    "    line=line.rstrip('\\n')\n",
    "    if(i==0):\n",
    "        v= line\n",
    "    else:\n",
    "        w = line"
   ]
  },
  {
   "cell_type": "code",
   "execution_count": 64,
   "metadata": {},
   "outputs": [],
   "source": [
    "s,lower,upper,backtrack = LCSBackTrack(v, w)"
   ]
  },
  {
   "cell_type": "code",
   "execution_count": 65,
   "metadata": {},
   "outputs": [
    {
     "name": "stdout",
     "output_type": "stream",
     "text": [
      "341\n",
      "DHVLPTPSNDQDRWMI--QYMHCLPIPTSR---DNNVCKPANTETETWDLRNMDDTVPMVLQLAERADES----KLWHHSTPRKRSEMALCWCYKSCE\n",
      "DHVLNTNSADQDRWMIVAHYMHCLPIKTSRQMRENNVCFPANTETETWDLRNMDDTVPMWLQLDERADESYARWDLWHHSTPR--------WCYKSCE\n"
     ]
    }
   ],
   "source": [
    "n = len(v)\n",
    "m = len(w)\n",
    "print(int(s[n,m]))\n",
    "for seq in OutputLCS(backtrack, v, w, n, m):\n",
    "    print(seq)"
   ]
  },
  {
   "cell_type": "code",
   "execution_count": 59,
   "metadata": {},
   "outputs": [
    {
     "data": {
      "text/plain": [
       "array([[ 0.000e+00,  0.000e+00,  0.000e+00, ...,  0.000e+00,  0.000e+00,\n",
       "         0.000e+00],\n",
       "       [-1.100e+01, -1.000e+00, -1.000e+00, ..., -1.000e+00, -1.000e+00,\n",
       "        -1.000e+00],\n",
       "       [-1.200e+01, -2.000e+00, -2.000e+00, ..., -2.000e+00, -2.000e+00,\n",
       "        -2.000e+00],\n",
       "       ...,\n",
       "       [-8.750e+02, -1.200e+01, -9.000e+00, ...,  2.333e+03,  2.332e+03,\n",
       "         2.331e+03],\n",
       "       [-8.760e+02, -1.200e+01, -1.000e+01, ...,  2.349e+03,  2.338e+03,\n",
       "         2.337e+03],\n",
       "       [-8.770e+02, -1.200e+01, -1.100e+01, ...,  2.348e+03,  2.354e+03,\n",
       "         2.343e+03]])"
      ]
     },
     "execution_count": 59,
     "metadata": {},
     "output_type": "execute_result"
    }
   ],
   "source": [
    "lower"
   ]
  },
  {
   "cell_type": "code",
   "execution_count": null,
   "metadata": {},
   "outputs": [],
   "source": []
  }
 ],
 "metadata": {
  "kernelspec": {
   "display_name": "Python 3",
   "language": "python",
   "name": "python3"
  },
  "language_info": {
   "codemirror_mode": {
    "name": "ipython",
    "version": 3
   },
   "file_extension": ".py",
   "mimetype": "text/x-python",
   "name": "python",
   "nbconvert_exporter": "python",
   "pygments_lexer": "ipython3",
   "version": "3.7.3"
  }
 },
 "nbformat": 4,
 "nbformat_minor": 4
}
