{
 "cells": [
  {
   "cell_type": "code",
   "execution_count": 19,
   "metadata": {},
   "outputs": [],
   "source": [
    "import numpy as np\n",
    "import re"
   ]
  },
  {
   "cell_type": "code",
   "execution_count": 2,
   "metadata": {},
   "outputs": [],
   "source": [
    "ScoringMatrix = {'A': {'A': '4', 'C': '0', 'D': '-2', 'E': '-1', 'F': '-2', 'G': '0', 'H': '-2', 'I': '-1', 'K': '-1', 'L': '-1', 'M': '-1', 'N': '-2', 'P': '-1', 'Q': '-1', 'R': '-1', 'S': '1', 'T': '0', 'V': '0', 'W': '-3', 'Y': '-2'}, 'C': {'A': '0', 'C': '9', 'D': '-3', 'E': '-4', 'F': '-2', 'G': '-3', 'H': '-3', 'I': '-1', 'K': '-3', 'L': '-1', 'M': '-1', 'N': '-3', 'P': '-3', 'Q': '-3', 'R': '-3', 'S': '-1', 'T': '-1', 'V': '-1', 'W': '-2', 'Y': '-2'}, 'D': {'A': '-2', 'C': '-3', 'D': '6', 'E': '2', 'F': '-3', 'G': '-1', 'H': '-1', 'I': '-3', 'K': '-1', 'L': '-4', 'M': '-3', 'N': '1', 'P': '-1', 'Q': '0', 'R': '-2', 'S': '0', 'T': '-1', 'V': '-3', 'W': '-4', 'Y': '-3'}, 'E': {'A': '-1', 'C': '-4', 'D': '2', 'E': '5', 'F': '-3', 'G': '-2', 'H': '0', 'I': '-3', 'K': '1', 'L': '-3', 'M': '-2', 'N': '0', 'P': '-1', 'Q': '2', 'R': '0', 'S': '0', 'T': '-1', 'V': '-2', 'W': '-3', 'Y': '-2'}, 'F': {'A': '-2', 'C': '-2', 'D': '-3', 'E': '-3', 'F': '6', 'G': '-3', 'H': '-1', 'I': '0', 'K': '-3', 'L': '0', 'M': '0', 'N': '-3', 'P': '-4', 'Q': '-3', 'R': '-3', 'S': '-2', 'T': '-2', 'V': '-1', 'W': '1', 'Y': '3'}, 'G': {'A': '0', 'C': '-3', 'D': '-1', 'E': '-2', 'F': '-3', 'G': '6', 'H': '-2', 'I': '-4', 'K': '-2', 'L': '-4', 'M': '-3', 'N': '0', 'P': '-2', 'Q': '-2', 'R': '-2', 'S': '0', 'T': '-2', 'V': '-3', 'W': '-2', 'Y': '-3'}, 'H': {'A': '-2', 'C': '-3', 'D': '-1', 'E': '0', 'F': '-1', 'G': '-2', 'H': '8', 'I': '-3', 'K': '-1', 'L': '-3', 'M': '-2', 'N': '1', 'P': '-2', 'Q': '0', 'R': '0', 'S': '-1', 'T': '-2', 'V': '-3', 'W': '-2', 'Y': '2'}, 'I': {'A': '-1', 'C': '-1', 'D': '-3', 'E': '-3', 'F': '0', 'G': '-4', 'H': '-3', 'I': '4', 'K': '-3', 'L': '2', 'M': '1', 'N': '-3', 'P': '-3', 'Q': '-3', 'R': '-3', 'S': '-2', 'T': '-1', 'V': '3', 'W': '-3', 'Y': '-1'}, 'K': {'A': '-1', 'C': '-3', 'D': '-1', 'E': '1', 'F': '-3', 'G': '-2', 'H': '-1', 'I': '-3', 'K': '5', 'L': '-2', 'M': '-1', 'N': '0', 'P': '-1', 'Q': '1', 'R': '2', 'S': '0', 'T': '-1', 'V': '-2', 'W': '-3', 'Y': '-2'}, 'L': {'A': '-1', 'C': '-1', 'D': '-4', 'E': '-3', 'F': '0', 'G': '-4', 'H': '-3', 'I': '2', 'K': '-2', 'L': '4', 'M': '2', 'N': '-3', 'P': '-3', 'Q': '-2', 'R': '-2', 'S': '-2', 'T': '-1', 'V': '1', 'W': '-2', 'Y': '-1'}, 'M': {'A': '-1', 'C': '-1', 'D': '-3', 'E': '-2', 'F': '0', 'G': '-3', 'H': '-2', 'I': '1', 'K': '-1', 'L': '2', 'M': '5', 'N': '-2', 'P': '-2', 'Q': '0', 'R': '-1', 'S': '-1', 'T': '-1', 'V': '1', 'W': '-1', 'Y': '-1'}, 'N': {'A': '-2', 'C': '-3', 'D': '1', 'E': '0', 'F': '-3', 'G': '0', 'H': '1', 'I': '-3', 'K': '0', 'L': '-3', 'M': '-2', 'N': '6', 'P': '-2', 'Q': '0', 'R': '0', 'S': '1', 'T': '0', 'V': '-3', 'W': '-4', 'Y': '-2'}, 'P': {'A': '-1', 'C': '-3', 'D': '-1', 'E': '-1', 'F': '-4', 'G': '-2', 'H': '-2', 'I': '-3', 'K': '-1', 'L': '-3', 'M': '-2', 'N': '-2', 'P': '7', 'Q': '-1', 'R': '-2', 'S': '-1', 'T': '-1', 'V': '-2', 'W': '-4', 'Y': '-3'}, 'Q': {'A': '-1', 'C': '-3', 'D': '0', 'E': '2', 'F': '-3', 'G': '-2', 'H': '0', 'I': '-3', 'K': '1', 'L': '-2', 'M': '0', 'N': '0', 'P': '-1', 'Q': '5', 'R': '1', 'S': '0', 'T': '-1', 'V': '-2', 'W': '-2', 'Y': '-1'}, 'R': {'A': '-1', 'C': '-3', 'D': '-2', 'E': '0', 'F': '-3', 'G': '-2', 'H': '0', 'I': '-3', 'K': '2', 'L': '-2', 'M': '-1', 'N': '0', 'P': '-2', 'Q': '1', 'R': '5', 'S': '-1', 'T': '-1', 'V': '-3', 'W': '-3', 'Y': '-2'}, 'S': {'A': '1', 'C': '-1', 'D': '0', 'E': '0', 'F': '-2', 'G': '0', 'H': '-1', 'I': '-2', 'K': '0', 'L': '-2', 'M': '-1', 'N': '1', 'P': '-1', 'Q': '0', 'R': '-1', 'S': '4', 'T': '1', 'V': '-2', 'W': '-3', 'Y': '-2'}, 'T': {'A': '0', 'C': '-1', 'D': '-1', 'E': '-1', 'F': '-2', 'G': '-2', 'H': '-2', 'I': '-1', 'K': '-1', 'L': '-1', 'M': '-1', 'N': '0', 'P': '-1', 'Q': '-1', 'R': '-1', 'S': '1', 'T': '5', 'V': '0', 'W': '-2', 'Y': '-2'}, 'V': {'A': '0', 'C': '-1', 'D': '-3', 'E': '-2', 'F': '-1', 'G': '-3', 'H': '-3', 'I': '3', 'K': '-2', 'L': '1', 'M': '1', 'N': '-3', 'P': '-2', 'Q': '-2', 'R': '-3', 'S': '-2', 'T': '0', 'V': '4', 'W': '-3', 'Y': '-1'}, 'W': {'A': '-3', 'C': '-2', 'D': '-4', 'E': '-3', 'F': '1', 'G': '-2', 'H': '-2', 'I': '-3', 'K': '-3', 'L': '-2', 'M': '-1', 'N': '-4', 'P': '-4', 'Q': '-2', 'R': '-3', 'S': '-3', 'T': '-2', 'V': '-3', 'W': '11', 'Y': '2'}, 'Y': {'A': '-2', 'C': '-2', 'D': '-3', 'E': '-2', 'F': '3', 'G': '-3', 'H': '2', 'I': '-1', 'K': '-2', 'L': '-1', 'M': '-1', 'N': '-2', 'P': '-3', 'Q': '-1', 'R': '-2', 'S': '-2', 'T': '-2', 'V': '-1', 'W': '2', 'Y': '7'}}"
   ]
  },
  {
   "cell_type": "code",
   "execution_count": 36,
   "metadata": {},
   "outputs": [],
   "source": [
    "def LCSBackTrack(v, w):\n",
    "    n = len(v)\n",
    "    m = len(w)\n",
    "    s = np.zeros([n+1,m+1])\n",
    "    Backtrack = np.zeros([n+1,m+1]).astype(str)\n",
    "    for i in range(n+1):\n",
    "        s[i,0] -= sigma*i\n",
    "        Backtrack[i,0] = \"↓\"\n",
    "    for j in range(m+1):\n",
    "        s[0,j] -= sigma*j\n",
    "        Backtrack[0,j] = \"→\"\n",
    "    for i in range(n):\n",
    "        for j in range(m):\n",
    "            #match = int(ScoringMatrix[v[i]][w[j]])\n",
    "            match = -1\n",
    "            if v[i]==w[j]:\n",
    "                match = 1\n",
    "            s[i+1,j+1] = max(s[i,j+1]-sigma , s[i+1,j]-sigma , s[i,j] + match)\n",
    "            if s[i+1,j+1] == s[i,j+1]-sigma:\n",
    "                Backtrack[i+1,j+1] = \"↓\"\n",
    "            elif s[i+1,j+1] == s[i+1,j]-sigma:\n",
    "                Backtrack[i+1,j+1] = \"→\"\n",
    "            elif s[i+1,j+1] == s[i,j] + match:\n",
    "                Backtrack[i+1,j+1] = \"↘\"\n",
    "    return s,Backtrack"
   ]
  },
  {
   "cell_type": "code",
   "execution_count": 37,
   "metadata": {},
   "outputs": [],
   "source": [
    "def OutputLCS(backtrack, v, w, i, j):\n",
    "    if i == 0 and j == 0:\n",
    "        return (0,\"\",\"\")\n",
    "    if backtrack[i,j] == \"↓\":\n",
    "        score,seq1,seq2 = OutputLCS(backtrack, v, w, i - 1, j)\n",
    "        score -= sigma\n",
    "        return (score,seq1+ v[i-1],seq2+'-')\n",
    "    elif backtrack[i, j] == \"→\":\n",
    "        score,seq1,seq2 = OutputLCS(backtrack, v, w,i, j - 1)\n",
    "        score -= sigma\n",
    "        return (score,seq1+'-' ,seq2+w[j-1])\n",
    "    else:\n",
    "        score,seq1,seq2 = OutputLCS(backtrack, v, w,i - 1, j - 1)\n",
    "        score += int(ScoringMatrix[v[i-1]][w[j-1]])\n",
    "        return  (score,seq1+ v[i-1],seq2+w[j-1])"
   ]
  },
  {
   "cell_type": "code",
   "execution_count": 13,
   "metadata": {},
   "outputs": [],
   "source": [
    "v = 'PLEASANTLY'\n",
    "w = 'MEANLY'\n",
    "sigma = 1"
   ]
  },
  {
   "cell_type": "code",
   "execution_count": 14,
   "metadata": {},
   "outputs": [],
   "source": [
    "s,backtrack = LCSBackTrack(v, w)"
   ]
  },
  {
   "cell_type": "code",
   "execution_count": 7,
   "metadata": {},
   "outputs": [
    {
     "name": "stdout",
     "output_type": "stream",
     "text": [
      "8\n",
      "PLEASANTLY\n",
      "-MEA--N-LY\n"
     ]
    }
   ],
   "source": [
    "for seq in OutputLCS(backtrack, v, w, len(v), len(w)):\n",
    "    print(seq)"
   ]
  },
  {
   "cell_type": "code",
   "execution_count": 8,
   "metadata": {},
   "outputs": [],
   "source": [
    "v = ''\n",
    "w = ''\n",
    "file = open('dataset_369318_3.txt', 'r') \n",
    "for i, line in enumerate(file):\n",
    "    line=line.rstrip('\\n')\n",
    "    if(i==0):\n",
    "        v= line\n",
    "    else:\n",
    "        w = line"
   ]
  },
  {
   "cell_type": "code",
   "execution_count": 9,
   "metadata": {},
   "outputs": [],
   "source": [
    "backtrack = LCSBackTrack(v, w)"
   ]
  },
  {
   "cell_type": "code",
   "execution_count": 10,
   "metadata": {},
   "outputs": [
    {
     "name": "stdout",
     "output_type": "stream",
     "text": [
      "2149\n",
      "KTFWIAIWAYPYPGVWACRDTCNVTVEFTGHHREFIQNKWPMWANKCALNWWNRSNHSK----HM---DHWISCNHQMDKDREICAQSKDTFSLPQKV--SMLYDMANTFHIMQNANHIFHIMNQQPRFGHWVQPKQAFSAVDQDPPHKKPLYYLCCPNHEMSDGSTFIPVCVTQRVSKFV-EE-NDNIPNGCISNFRENQ-YCI-V--SEFHWR---D---GPPMKFFMKWKWYMSQCGLPFETYIDWWLMPEFMQNVQAQYCICPVPAWAHGAVDWRATFKPGASQM-EHSRIFDMSYFLSDYSRFQCWYGRSDVLFEFCQKRPTGPR--NMYISCEP-C-ISCWRHCRLRLDLSTIQIVVQ-IKTGFEATCNDQMEIVNPKGWHYNINVIYSLVGKRFDWFGWVMNVTASLMDKDENALWEEQHYGYTPDQDKVKQ-H-R-YSRQLKFYQPDWSIIEDGDFIVEHGPLSGSWWQMTWFKHFHCGYQKKQMMWYYCQWNSNRFIYMFRTPDG-------WKMSKDMWQKIMTQQRMVTYEKYCISCMGIQVILTFSPKSYHMR-SLRNMAASDQKGTYAMRKCYDRTLTLDMHHWALKMDHNRPSAVLARVMRLITLRVCFCQP-RYSNESACSMERHCQCESTQ-I-KCANDCDRDRK---TWPKRSTISKYNKAADAGPSFLEHVRPILELGTAQTNEPESFFFYALCYSHGENGRNDLPQPGERWYMYHGVCHKVKHRGCQ----AH-----VM--QSTMIAFK-----R--RVITHEFICNRVVSKKIAAEMCKVYPGWNVNMTR-Q---GNKHS-----HDAIKWSKEDCSPAFMKAVLWI-EN-AMWL--NPLSNWQYFAPNIHNKVAHN---WHE----G--AFWKLKEVGDVGVFH---DIHHLREHKSIFQRWDANF-VIG---C-CY-E-TVEGLMLHPQAWSTEYMRC\n",
      "KTFWIAIWAY----V-----T--V--E--GDHC-WTQNVW-MFT--IYMWWWNRSNHRKLQLPHRYGRDYYCSCNHQMDK-REICAQSKDTFSLPQKLMESELYDMANTFHIWQNANH--K--NQQPRFGHWVQPKQAFSAVDQDPPHKKPLYYLCCPNHEMSDGSTFIPVCVTQRWSKICGEEENDNIVIAWVRNCNTTLGNCFREPWKEFHWRLYIDKANGPAMKFFMK----M-K--LP-ETYIDWW--ESIMYPL---H-ICPYPAWMHGAEDWRDTFKPGASQMTSHSRFLDKP-F-A-YSRFQC-F-EL-VCQKRCTK-PTNDQFHNMYISCEPYSGYPC-RECRKRLDLSTIQIVVQEIVNP-KGWINVACSLVG-KRFHWP-PVCTTNQPTYVPHCEYT-NVTASLMDKDENALW---HYGYTPDQDKVKQCGVSFYSHILKFYQPDWSIIEDGDTIVEHGPLSGSVWMVTWFR---A------MMWYYNQWNDNRFIYMFRTPDANRPEQDKWKMSRDMWQKIMTQQR-----KYCRSCMGIQVILTFSPKSYHMNWSWMQPELSDQKG---MRKCYDRTLTLDMHPPPPRPDDALVRSLMDFVLARV-MRSCVV-PIRYRALDHCNGNESFPNDGQQHCTKCMNWCDRDRNFADTWPKRFTIS-YNPHAD---S--NY-RPILE-GTGQTNERHDPS-YALCYSH--------PQPGERWYMYHGVCILVKHWGCEHCSDAHQPAPWITCPQSTMIAFKLSACLEWYRVITHEFICSFMGSYGPVL-MCKVYPGWNVNMTRPQAKHGNKHTGTERQHDAIKWSKEDCSPAFMKAVLWIWSHFAMWWSRNPLSNWQYFAPLIHNKVAHNVSDLHERIYIGHWADWKLKEVGDVGVMHASIDILGLRETKSIFQRWDANFGCLAQRKYECVRQHCVEGLMLHPQAWSTEYMRC\n"
     ]
    }
   ],
   "source": [
    "for seq in OutputLCS(backtrack, v, w, len(v), len(w)):\n",
    "    print(seq)"
   ]
  },
  {
   "cell_type": "code",
   "execution_count": 29,
   "metadata": {},
   "outputs": [
    {
     "name": "stdout",
     "output_type": "stream",
     "text": [
      "3000\n"
     ]
    }
   ],
   "source": [
    "import sys\n",
    "print(sys.getrecursionlimit())"
   ]
  },
  {
   "cell_type": "code",
   "execution_count": 30,
   "metadata": {},
   "outputs": [],
   "source": [
    "sys.setrecursionlimit(10000)"
   ]
  },
  {
   "cell_type": "code",
   "execution_count": 71,
   "metadata": {},
   "outputs": [],
   "source": [
    "v = 'ACACA'\n",
    "w = 'CACAC'\n",
    "sigma = 5"
   ]
  },
  {
   "cell_type": "code",
   "execution_count": 72,
   "metadata": {},
   "outputs": [],
   "source": [
    "s, backtrack = LCSBackTrack(v, w)"
   ]
  },
  {
   "cell_type": "code",
   "execution_count": 73,
   "metadata": {},
   "outputs": [
    {
     "name": "stdout",
     "output_type": "stream",
     "text": [
      "0\n",
      "ACACA\n",
      "CACAC\n"
     ]
    }
   ],
   "source": [
    "for seq in OutputLCS(backtrack, v, w, len(v), len(w)):\n",
    "    print(seq)"
   ]
  },
  {
   "cell_type": "code",
   "execution_count": null,
   "metadata": {},
   "outputs": [],
   "source": []
  }
 ],
 "metadata": {
  "kernelspec": {
   "display_name": "Python 3",
   "language": "python",
   "name": "python3"
  },
  "language_info": {
   "codemirror_mode": {
    "name": "ipython",
    "version": 3
   },
   "file_extension": ".py",
   "mimetype": "text/x-python",
   "name": "python",
   "nbconvert_exporter": "python",
   "pygments_lexer": "ipython3",
   "version": "3.7.3"
  }
 },
 "nbformat": 4,
 "nbformat_minor": 4
}
