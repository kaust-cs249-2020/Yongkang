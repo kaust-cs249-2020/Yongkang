{
 "cells": [
  {
   "cell_type": "code",
   "execution_count": 1,
   "metadata": {},
   "outputs": [],
   "source": [
    "import numpy as np\n",
    "import re"
   ]
  },
  {
   "cell_type": "code",
   "execution_count": 2,
   "metadata": {},
   "outputs": [],
   "source": [
    "ScoringMatrix = {}\n",
    "AA = []\n",
    "file = open('BLOSUM62.txt', 'r') \n",
    "for i, line in enumerate(file):\n",
    "    line=line.rstrip('\\n')\n",
    "    if(i==0):\n",
    "        AA = re.split('\\s+',line)\n",
    "    else:\n",
    "        score = re.split('\\s+',line)\n",
    "        ScoringMatrix[score[0]] = {AA[i]:int(score[i]) for i in range(1,len(score))}"
   ]
  },
  {
   "cell_type": "code",
   "execution_count": 12,
   "metadata": {},
   "outputs": [],
   "source": [
    "def LCSBackTrack(v, w):\n",
    "    n = len(v)\n",
    "    m = len(w)\n",
    "    s = np.zeros([n+1,m+1])\n",
    "    pre_point = (-1,-1)\n",
    "    for i in range(n+1):\n",
    "        s[i,0] -= sigma*i\n",
    "    for j in range(m+1):\n",
    "        s[0,j] -= sigma*j\n",
    "    pre_point = {}\n",
    "    for i in range(n):\n",
    "        for j in range(m):\n",
    "            match = int(ScoringMatrix[v[i]][w[j]])\n",
    "            s[i+1,j+1] = max(s[i,j+1]-sigma , s[i+1,j]-sigma , s[i,j] + match)\n",
    "            if(j==m-1):\n",
    "                if s[i+1,j+1] == s[i,j+1]-sigma: \n",
    "                    pre_point[(i+1,j+1)] = (i,j+1)\n",
    "                elif s[i+1,j+1] == s[i+1,j]-sigma:\n",
    "                    pre_point[(i+1,j+1)] = (i+1,j)\n",
    "                elif s[i+1,j+1] == s[i,j] + match: \n",
    "                    pre_point[(i+1,j+1)] = (i,j)\n",
    "    return s[:,m],pre_point"
   ]
  },
  {
   "cell_type": "raw",
   "metadata": {},
   "source": [
    " Sample Input:\n",
    "\n",
    "PLEASANTLY\n",
    "MEASNLY\n",
    "\n",
    "Sample Output:\n",
    "\n",
    "(4, 3) (5, 4)"
   ]
  },
  {
   "cell_type": "code",
   "execution_count": 4,
   "metadata": {},
   "outputs": [],
   "source": [
    "def MiddleEdge(v,w):\n",
    "    n = len(v)\n",
    "    m = len(w)\n",
    "    mid_col = int(m/2)\n",
    "    maxScore = -100000000\n",
    "    mid_row = -1\n",
    "    nex_col = -1\n",
    "    nex_row = -1\n",
    "    for i in range(n):\n",
    "        fv = v[0:i]\n",
    "        fw = w[0:mid_col]\n",
    "        score1,_ = LCSBackTrack(fv, fw)\n",
    "        \n",
    "        rv_mid = v[::-1][0:n-i]\n",
    "        rw_mid = w[::-1][0:m-mid_col]\n",
    "        score_mid,pre_point = LCSBackTrack(rv_mid, rw_mid)\n",
    "        \n",
    "        if(maxScore<score1+score_mid):\n",
    "            maxScore = score1+score_mid\n",
    "            mid_row = i\n",
    "            nex_row = n-pre_point[0]\n",
    "            nex_col = m - pre_point[1]\n",
    "    \n",
    "           \n",
    "    return (mid_row,mid_col), (nex_row,nex_col)"
   ]
  },
  {
   "cell_type": "code",
   "execution_count": 19,
   "metadata": {},
   "outputs": [],
   "source": [
    "def MiddleEdge(v,w):\n",
    "    n = len(v)\n",
    "    m = len(w)\n",
    "    mid_col = int(m/2)\n",
    "    maxScore = -100000000\n",
    "    mid_row = -1\n",
    "    nex_col = -1\n",
    "    nex_row = -1\n",
    "    fv = v\n",
    "    fw = w[0:mid_col]\n",
    "    score1,_ = LCSBackTrack(fv, fw)\n",
    "        \n",
    "    rv = v[::-1]\n",
    "    rw = w[::-1][0:m-mid_col]\n",
    "    score2,pre_point = LCSBackTrack(rv,rw)\n",
    "    \n",
    "    maxScore = score1[0]+score2[0]\n",
    "    mid_row = 0\n",
    "    nex_col = -1\n",
    "    nex_row = -1\n",
    "    for i in range(n+1):\n",
    "        if(maxScore<score1[i]+score2[i]):\n",
    "            maxScore = score1[i]+score2[i]\n",
    "            mid_row = i\n",
    "            nex_row = n-pre_point[(n-i,m-mid_col)][0]\n",
    "            nex_col = m - pre_point[(n-i,m-mid_col)][1]\n",
    "           \n",
    "    return (mid_row,mid_col), (nex_row,nex_col)"
   ]
  },
  {
   "cell_type": "code",
   "execution_count": 20,
   "metadata": {},
   "outputs": [],
   "source": [
    "v = 'PLEASANTLY'\n",
    "w = 'MEASNLY'\n",
    "sigma=5"
   ]
  },
  {
   "cell_type": "code",
   "execution_count": 21,
   "metadata": {},
   "outputs": [
    {
     "name": "stdout",
     "output_type": "stream",
     "text": [
      "(4, 3) (5, 4)\n"
     ]
    }
   ],
   "source": [
    "a, b = MiddleEdge(v,w)\n",
    "print(a,b)"
   ]
  },
  {
   "cell_type": "code",
   "execution_count": 24,
   "metadata": {},
   "outputs": [],
   "source": [
    "v = ''\n",
    "w = ''\n",
    "file = open('dataset_369321_12.txt', 'r') \n",
    "for i, line in enumerate(file):\n",
    "    line=line.rstrip('\\n')\n",
    "    if(i==0):\n",
    "        v= line\n",
    "    else:\n",
    "        w = line"
   ]
  },
  {
   "cell_type": "code",
   "execution_count": 25,
   "metadata": {},
   "outputs": [
    {
     "name": "stdout",
     "output_type": "stream",
     "text": [
      "(520, 507) (521, 508)\n"
     ]
    }
   ],
   "source": [
    "a, b = MiddleEdge(v,w)\n",
    "print(a,b)"
   ]
  },
  {
   "cell_type": "code",
   "execution_count": null,
   "metadata": {},
   "outputs": [],
   "source": []
  }
 ],
 "metadata": {
  "kernelspec": {
   "display_name": "Python 3",
   "language": "python",
   "name": "python3"
  },
  "language_info": {
   "codemirror_mode": {
    "name": "ipython",
    "version": 3
   },
   "file_extension": ".py",
   "mimetype": "text/x-python",
   "name": "python",
   "nbconvert_exporter": "python",
   "pygments_lexer": "ipython3",
   "version": "3.7.3"
  }
 },
 "nbformat": 4,
 "nbformat_minor": 4
}
