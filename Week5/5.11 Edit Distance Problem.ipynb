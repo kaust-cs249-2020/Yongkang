{
 "cells": [
  {
   "cell_type": "code",
   "execution_count": 1,
   "metadata": {},
   "outputs": [],
   "source": [
    " import numpy as np"
   ]
  },
  {
   "cell_type": "code",
   "execution_count": 5,
   "metadata": {},
   "outputs": [],
   "source": [
    "def LCSBackTrack(v, w):\n",
    "    n = len(v)\n",
    "    m = len(w)\n",
    "    s = np.zeros([n+1,m+1])\n",
    "    Backtrack = np.zeros([n+1,m+1]).astype(str)\n",
    "    for i in range(n+1):\n",
    "        s[i,0] -= sigma*i\n",
    "        Backtrack[i,0] = \"↓\"\n",
    "    for j in range(m+1):\n",
    "        s[0,j] -= sigma*j\n",
    "        Backtrack[0,j] = \"→\"\n",
    "    for i in range(n):\n",
    "        for j in range(m):\n",
    "            match = -1\n",
    "            if v[i]==w[j]:\n",
    "                match = 0\n",
    "            s[i+1,j+1] = max(s[i,j+1]-sigma , s[i+1,j]-sigma , s[i,j] + match)\n",
    "            if s[i+1,j+1] == s[i,j+1]-sigma:\n",
    "                Backtrack[i+1,j+1] = \"↓\"\n",
    "            elif s[i+1,j+1] == s[i+1,j]-sigma:\n",
    "                Backtrack[i+1,j+1] = \"→\"\n",
    "            elif s[i+1,j+1] == s[i,j] + match:\n",
    "                Backtrack[i+1,j+1] = \"↘\"\n",
    "    return Backtrack"
   ]
  },
  {
   "cell_type": "code",
   "execution_count": 12,
   "metadata": {},
   "outputs": [],
   "source": [
    "def OutputLCS(backtrack, v, w, i, j):\n",
    "    if i == 0 and j == 0:\n",
    "        return (0,\"\",\"\")\n",
    "    if backtrack[i,j] == \"↓\":\n",
    "        score,seq1,seq2 = OutputLCS(backtrack, v, w, i - 1, j)\n",
    "        score -= sigma\n",
    "        return (score,seq1+ v[i-1],seq2+'-')\n",
    "    elif backtrack[i, j] == \"→\":\n",
    "        score,seq1,seq2 = OutputLCS(backtrack, v, w,i, j - 1)\n",
    "        score -= sigma\n",
    "        return (score,seq1+'-' ,seq2+w[j-1])\n",
    "    else:\n",
    "        score,seq1,seq2 = OutputLCS(backtrack, v, w,i - 1, j - 1)\n",
    "        match = -1\n",
    "        if(v[i-1]==w[j-1]):\n",
    "            match = 0\n",
    "        score += match\n",
    "        return  (score,seq1+ v[i-1],seq2+w[j-1])"
   ]
  },
  {
   "cell_type": "raw",
   "metadata": {},
   "source": [
    " Sample Input:\n",
    "\n",
    "PLEASANTLY\n",
    "MEANLY\n",
    "\n",
    "Sample Output:\n",
    "\n",
    "5"
   ]
  },
  {
   "cell_type": "code",
   "execution_count": 13,
   "metadata": {},
   "outputs": [],
   "source": [
    "v = 'PLEASANTLY'\n",
    "w = 'MEANLY'\n",
    "sigma = 1"
   ]
  },
  {
   "cell_type": "code",
   "execution_count": 14,
   "metadata": {},
   "outputs": [],
   "source": [
    "backtrack = LCSBackTrack(v, w)"
   ]
  },
  {
   "cell_type": "code",
   "execution_count": 15,
   "metadata": {},
   "outputs": [
    {
     "name": "stdout",
     "output_type": "stream",
     "text": [
      "-5\n",
      "PLEASANTLY\n",
      "M-EA--N-LY\n"
     ]
    }
   ],
   "source": [
    "for seq in OutputLCS(backtrack, v, w, len(v), len(w)):\n",
    "    print(seq)"
   ]
  },
  {
   "cell_type": "code",
   "execution_count": 25,
   "metadata": {},
   "outputs": [],
   "source": [
    "v = ''\n",
    "w = ''\n",
    "file = open('dataset_369319_3.txt', 'r') \n",
    "for i, line in enumerate(file):\n",
    "    line=line.rstrip('\\n')\n",
    "    if(i==0):\n",
    "        v= line\n",
    "    else:\n",
    "        w = line"
   ]
  },
  {
   "cell_type": "code",
   "execution_count": 26,
   "metadata": {},
   "outputs": [],
   "source": [
    "backtrack = LCSBackTrack(v, w)"
   ]
  },
  {
   "cell_type": "code",
   "execution_count": 27,
   "metadata": {},
   "outputs": [
    {
     "name": "stdout",
     "output_type": "stream",
     "text": [
      "-335\n",
      "SEPEVIPDLLTRHDPEW-FIMCNCGYRVGFDMGWGFV-ASDPWWWCNFFVEP----P-S---WKDYIMTIVACDYPYRCTIKRWQLCGDGNWMCRYMKCYYPIHFMCARMGLWDFQAYLHWTANEGYGAMPAMSCIDDAFANYQQHWEVAFLQPQLIM--RLETM--------IQPPNNAGRQVGYTEMVKVSNEIFWKWHQQMARDTVHPHPDQDPRMNFGEPNRMLLVEKVCGYAARQWNHWHERGIRDV----KAH-AEDWRTFVIQQGTEYCIMRKPWDAICVE-GE---------RCRLGKSRDMVYMGDDSLSCGQVPSEAERHEIMSAKDCIQKQETWLDWTHI----NDVYECEAAER-LKNIMKVWSC-HCQYNNVTAAQISQV-------KYNRMKTQI------MHRLFYVTKACVPKPDAVLIWV-TWKPMHQINEW--D----SWGVVCPLNMSMQWLK-EQD-KLETPIF-YHM-CTRSPSDTCSDGEGKELLDTAVLIAWHHWVVT--------YTQPWWRCVQHHVMNIFQDGRMWSDNFNKDEFYILVFVEIQHSGAPDQMWHRTEWMQEPVPKIQHWKFMCLCTKRTRFTAKVRWHANRRSYLYADEH-A--YCKRVEGAIYLAEPMM-------WRDTQNFP-TK-------FDWFDWSQKEE-----CCRW-E---PTNIHLDFYGCSNVFYVFLWTRDQRGWACKTKFCAMNKFFKFWLYK---SYR--KDGVIMYLFFE---LFFPDLPQNKGSSHEGTRVAQWHNVFHEYVMNEEPTYNLDPIKAWESMNRMMEGRLLPMVGATVIKVPPINTDQPMTQHLFS\n",
      "SELDSRHDPEWKCDDTKHFIF-NCGYRYGFDMGWGFLDASR-WWWCHFFVEPTRVDPESSRSWQDLDDALTACDYPYRCTIKRWQLCGDGNW---YMKCYYPIHFMCAR--------------NEGYFAMPAMPHIDDAFANYQQTWEVAFLCIDYNVFHRLETKPSPVWFAWIQPPNNAGWQVGYTEMVKVYN--FWKWHQFDHILWSQP--DQDA---FGE-NRML-VEK------RQWNQWHERIIRDEHTQYKVTQAQ-WRTF-IQQGTEYCIMR---DAICVEAGNGLLIWWDGKRCRLGCSRDMVYMGDDSLSCGQVPSEAVRHE-MSAKDCIQKQETWLCITHHLDYENDVYECEAAEECLKNIMKVWQAFHCQYTNVTAAQISCARHENWSIKYNRMKTQAYWFDEEMHRRFYVTHACVPQEDISTDETMTWKPMHQINEHSLDKQIDSWGVVCPLNMSNGWLGYEQWLKCQDK-FWYPEWCG----DTCSDGEGKELLDTANHDAWHHWVVNNNENPGFFYTTPWWRCVQHHVMNIFW-GRMWSDNFNADEFYIG---E------PDQMWFF------PVPNIQHWKWMCLCTK----------HANRRGYLYRDEHQACHYCKRV--APNV-EPMYHGKQCVCWRDTQNFPMTFCTWHMMCFDWFDSSQKEFGRVDPCCNWNELIDPTNIHLDQYGCSNVFYVFLWTRDQRGWACKTKFCAMNKFFKCYLATPPWSYSYHKDGVIMYLFFEEEALFFP-----KGSSHEGTRVAQWHNQFHEYVMNE--TYNL--------MT---EGRLLNMV-------PMMRC-Q----HLFS\n"
     ]
    }
   ],
   "source": [
    "for seq in OutputLCS(backtrack, v, w, len(v), len(w)):\n",
    "    print(seq)"
   ]
  },
  {
   "cell_type": "code",
   "execution_count": 19,
   "metadata": {},
   "outputs": [],
   "source": [
    "v = 'GGACRNQMSEVNMWGCWWASVWVSWCEYIMPSGWRRMKDRHMWHWSVHQQSSPCAKSICFHETKNQWNQDACGPKVTQHECMRRRLVIAVKEEKSRETKMLDLRHRMSGRMNEHNVTLRKSPCVKRIMERTTYHRFMCLFEVVPAKRQAYNSCDTYTMMACVAFAFVNEADWWKCNCAFATVPYYFDDSCRMVCGARQCYRLWQWEVNTENYVSIEHAEENPFSKLKQQWCYIPMYANFAWSANHMFWAYIANELQLDWQHPNAHPIKWLQNFLMRPYHPNCGLQHKERITPLHKSFYGMFTQHHLFCKELDWRIMAHANRYYCIQHGWHTNNPMDPIDTRHCCMIQGIPKRDHHCAWSTCDVAPLQGNWMLMHHCHHWNRVESMIQNQHEVAAGIKYWRLNRNGKLPVHTADNYGVLFQRWWFLGWYNFMMWHYSLHFFAVNFYFPELNAGQMPRFQDDQNRDDVYDTCIWYFAWSNTEFMEVFGNMMMYSRPMTKMGFHGMMLPYIAINGLRSISHVNKGIGPISGENCNLSTGLHHYGQLRMVMCGYCTPYRTEVKNQREMISAVHCHQHIDWRWIWCSGHWFGSNKCDLRIEDLQNYEPAKNKSNWPYMKECRKTEPYQDNIETMFFHQHDLARDSGYIANGWHENCRQHQDFSNTFAGGHKGTPKGEHMRRSLYVWDTDCVEKCQWVPELFALCWWTPLPDGVPVMLGTYRQYMFGLVVLYWFEVKYSCHNSWDYYNFHEGTMKDSDPENWCFWGMQIIQFHDHGKPEFFQDPMKQIIKTECTAYNSFMMGHIGKTTIVYLVSYIGRLWMKSCCLTWPPYATAPIKWAEETLLDFGQGPHPKYACHFTHQNMIRLAKLPMYWLWKLMFHE'"
   ]
  },
  {
   "cell_type": "code",
   "execution_count": 20,
   "metadata": {},
   "outputs": [],
   "source": [
    "w = 'GMWGFVQVSTQSRFRHMWHWSVHQQSSECAKSICHHEWKNQWNQDACGPKVTQHECMANMPMHKCNNWFWRLVIAVKEEKVRETKMLDLIHRHWLVLNQGRMNEHNVTLRKSPCVKRIMHKWKSRTTFHRFMCLMASEVVPAKRGAQCWRQLGTYATYTVYTMMACVAFAFEYQQDNDNEADWWKCNCAFVPVYFDDSCRPVVGAFQCYRLGLPFGTGWNYAEENPFSKLKQQMHRKTMGECKNMMIWAYCANELQLPIKWGSMYHEHDFQLPPYHPNRFHKIRITILHKSFYGMFTQHHLFCKELDWRIMAWANRYYCIQHGWHTNNPDDPITRHKCMIQGGQNSRNADIRHMPVQCGNWGHAIGLEMPMPMHHCHHANRVESMIQTQHYWGPKLNRNADWWFLGWQNFEIFRMPILRWMGAYEWHYSLHFFAVNFYFPELNAGQMPRFQDDQNNNACYDVWAWSNTEFMEVNGIKKLRFGNMMMYSRPMTKMGFHGMMKSRSISHVNKGIGPISGENCSTGLHHYGQLTEVKNQREMISAVHCHQHIWCKCDLRIEPAKNKGYWPYQKEFCWRKQINSRKTEPYQVAPVINIETMFFDFWYIANGMHENCRRTGHKPNPDCVEKCQWVPELFALCWWRAMPDGVPVMLGTMFGLVVYWFEVKYSCHNSLYRRVTDYYNFHEGTMKDHEVPWNWDNEHCHDHGKAEFFFQMLKIPICDPMKAIIPSTEMVNTPWHPFSFMMGHDGKTTIVYSGSYIGRLWVPSRWKPYAPANWKMPIKWAEETLLMVPHPHFTHQQLWGTTLRLAKLPMYWLWKLMFHHLFGVK'"
   ]
  },
  {
   "cell_type": "code",
   "execution_count": 21,
   "metadata": {},
   "outputs": [],
   "source": [
    "backtrack = LCSBackTrack(v, w)"
   ]
  },
  {
   "cell_type": "code",
   "execution_count": 23,
   "metadata": {},
   "outputs": [
    {
     "data": {
      "text/plain": [
       "array([['→', '→', '→', ..., '→', '→', '→'],\n",
       "       ['↓', '↘', '→', ..., '→', '→', '→'],\n",
       "       ['↓', '↓', '↘', ..., '→', '→', '→'],\n",
       "       ...,\n",
       "       ['↓', '↓', '↓', ..., '→', '→', '→'],\n",
       "       ['↓', '↓', '↓', ..., '→', '→', '→'],\n",
       "       ['↓', '↓', '↓', ..., '→', '→', '→']], dtype='<U32')"
      ]
     },
     "execution_count": 23,
     "metadata": {},
     "output_type": "execute_result"
    }
   ],
   "source": [
    "backtrack"
   ]
  },
  {
   "cell_type": "code",
   "execution_count": 24,
   "metadata": {},
   "outputs": [
    {
     "name": "stdout",
     "output_type": "stream",
     "text": [
      "-400\n",
      "GGACRNQMSEVNMWGCWWASVWVSWCEYIMPSGWRRMKDRHMWHWSVHQQSSPCAKSICFHETKNQWNQDACGPKVTQHECMRR-----------RLVIAVKEEKSRETKMLDLRHRMS-----GRMNEHNVTLRKSPCVKRIME----RTTYHRFMCLF--EVVPAKRQAYNSCD--TY-T-----MMACVAFAFV----N--EADWWKCNCAFATVPYYFDDSCRMVCGARQCYRLWQWEVNTE-NYVSIEHAEENPFSKLKQQWCYIPMYANFAWSANHMFWAYIANELQLD--WQHPNAHPIKWLQNFLMRPYHPNCGLQHKERITPLHKSFYGMFTQHHLFCKELDWRIMAHANRYYCIQHGWHTNNPMDPIDTRHCCMIQGIPK-R--DH-HCAWSTCDVAPLQ-GNWMLM--HHCHHWNRVESMIQNQHEVAAGIKYWRLNRNGKLPVHTADNYGVLFQRWWFLGWYNFMMWHYSLHFFAVNFYFPELNAGQMPRFQDDQNRDDVYDTCIWYFAWSNTEFMEV-------FGNMMMYSRPMTKMGFHGMMLPYIAINGLRSISHVNKGIGPISGENCNLSTGLHHYGQLRMVMCGYCTPYRTEVKNQREMISAVHCHQHIDWRWIWCSGHWFGSNKCDLRIEDLQNYEPAKNKSNWPYMKE-C-RK------TEPYQD----NIETMFFHQHDLARDSGYIANGWHENCRQHQDFSNTFAGGHKGTPKGEHMRRSLYVWDTDCVEKCQWVPELFALCWWTPLPDGVPVMLGTYRQYMFGLVVLYWFEVKYSCHNSW-----DYYNFHEGTMKDSD-PENWCFWGMQIIQFHDHGKPEFF-Q-------DPMKQIIK-TEC--TAYN--SFMMGHIGKTTIVYLVSYIGRLWMKSCCLTWPPYATA----PIKWAEETLLDFGQGPHPKYACHFTHQNMI----RLAKLPMYWLWKLMFHE-----\n",
      "G------M-----WGF----VQVSTQ-----S--RF---RHMWHWSVHQQSSECAKSICHHEWKNQWNQDACGPKVTQHECMANMPMHKCNNWFWRLVIAVKEEKVRETKMLDLIHRHWLVLNQGRMNEHNVTLRKSPCVKRIMHKWKSRTTFHRFMCLMASEVVPAKRGAQCWRQLGTYATYTVYTMMACVAFAFEYQQDNDNEADWWKCNCAF--VPVYFDDSCRPVVGAFQCYRLGLPFG-TGWNY-----AEENPFSKLKQQMHRKTMGECK----NMMIWAYCANELQLPIKWGSMY-HEHDF-Q--LP-PYHPNRF--HKIRITILHKSFYGMFTQHHLFCKELDWRIMAWANRYYCIQHGWHTNNPDDPI-TRHKCMIQGGQNSRNADIRHMPVQ-CGNWGHAIGLEMPMPMHHCHHANRVESMIQTQHYW--GPK---LNRNADWWFLGWQNFEI-F-RMPILRWMGAYEWHYSLHFFAVNFYFPELNAGQMPRFQDDQNNNACYDV--W--AWSNTEFMEVNGIKKLRFGNMMMYSRPMTKMGFHGMMKS-------RSISHVNKGIGPISGENC--STGLHHYGQL--------T----EVKNQREMISAVHCHQHI-W----C--------KCDLRIE------PAKNKGYWPYQKEFCWRKQINSRKTEPYQVAPVINIETMFF---DFW----YIANGMHENCRR------T--G-HKPNP------------D--CVEKCQWVPELFALCWWRAMPDGVPVMLGT----MFGLVV-YWFEVKYSCHNSLYRRVTDYYNFHEGTMKDHEVPWNWDNEHC-----HDHGKAEFFFQMLKIPICDPMKAIIPSTEMVNTPWHPFSFMMGHDGKTTIVYSGSYIGRLWVPSR---WKPYAPANWKMPIKWAEETLLMV---PHP----HFTHQQLWGTTLRLAKLPMYWLWKLMFHHLFGVK\n"
     ]
    }
   ],
   "source": [
    "for seq in OutputLCS(backtrack, v, w, len(v), len(w)):\n",
    "    print(seq)"
   ]
  },
  {
   "cell_type": "code",
   "execution_count": null,
   "metadata": {},
   "outputs": [],
   "source": []
  }
 ],
 "metadata": {
  "kernelspec": {
   "display_name": "Python 3",
   "language": "python",
   "name": "python3"
  },
  "language_info": {
   "codemirror_mode": {
    "name": "ipython",
    "version": 3
   },
   "file_extension": ".py",
   "mimetype": "text/x-python",
   "name": "python",
   "nbconvert_exporter": "python",
   "pygments_lexer": "ipython3",
   "version": "3.7.3"
  }
 },
 "nbformat": 4,
 "nbformat_minor": 4
}
