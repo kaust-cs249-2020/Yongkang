{
 "cells": [
  {
   "cell_type": "code",
   "execution_count": 6,
   "metadata": {},
   "outputs": [],
   "source": [
    "import numpy as np"
   ]
  },
  {
   "cell_type": "code",
   "execution_count": 1,
   "metadata": {},
   "outputs": [],
   "source": [
    "def ManhattanTourist(n, m, Down, Right):\n",
    "    s = np.zeros([n+1,m+1])\n",
    "    for i in range(n):\n",
    "        s[i+1,0] = s[i,0] + Down[i,0]\n",
    "    for j in range(m):\n",
    "        s[0,j+1] = s[0,j] + Right[0,j]\n",
    "    for i in range(n):\n",
    "        for j in range(m):\n",
    "            #s[i+1,j+1] =  max(s[i,j+1] + Down[i,j+1], s[i+1,j] + Right[i+1,j])\n",
    "            s[i+1,j+1] =  max(s[i,j+1] + Down[i,j+1], s[i+1,j] + Right[i+1,j],s[i,j]+Diag[i,j])\n",
    "    return s[n,m]"
   ]
  },
  {
   "cell_type": "code",
   "execution_count": 3,
   "metadata": {},
   "outputs": [],
   "source": [
    "def LCSBackTrack(v, w):\n",
    "    n = len(v)\n",
    "    m = len(w)\n",
    "    s = np.zeros([n+1,m+1])\n",
    "    Backtrack = np.zeros([n+1,m+1]).astype(str)\n",
    "    for i in range(n):\n",
    "        for j in range(m):\n",
    "            match = 0\n",
    "            if v[i] == w[j]:\n",
    "                match = 1\n",
    "            s[i+1,j+1] = max(s[i,j+1] , s[i+1,j] , s[i,j] + match)\n",
    "            if s[i+1,j+1] == s[i,j+1]:\n",
    "                Backtrack[i+1,j+1] = \"↓\"\n",
    "            elif s[i+1,j+1] == s[i+1,j]:\n",
    "                Backtrack[i+1,j+1] = \"→\"\n",
    "            elif s[i+1,j+1] == s[i,j] + match:\n",
    "                Backtrack[i+1,j+1] = \"↘\"\n",
    "    return Backtrack"
   ]
  },
  {
   "cell_type": "raw",
   "metadata": {},
   "source": [
    "Sample Input:\n",
    "\n",
    "AACCTTGG\n",
    "ACACTGTGA\n",
    "\n",
    "Sample Output:\n",
    "\n",
    "AACTGG"
   ]
  },
  {
   "cell_type": "code",
   "execution_count": 4,
   "metadata": {},
   "outputs": [],
   "source": [
    "v = 'AACCTTGG'\n",
    "w = 'ACACTGTGA'"
   ]
  },
  {
   "cell_type": "code",
   "execution_count": 10,
   "metadata": {},
   "outputs": [],
   "source": [
    "backtrack = LCSBackTrack(v, w)"
   ]
  },
  {
   "cell_type": "code",
   "execution_count": 9,
   "metadata": {},
   "outputs": [],
   "source": [
    "def OutputLCS(backtrack, v, i, j):\n",
    "    if i == 0 or j == 0:\n",
    "        return \"\"\n",
    "    if backtrack[i,j] == \"↓\":\n",
    "        return OutputLCS(backtrack, v, i - 1, j)\n",
    "    elif backtrack[i, j] == \"→\":\n",
    "        return OutputLCS(backtrack, v, i, j - 1)\n",
    "    else:\n",
    "        return OutputLCS(backtrack, v, i - 1, j - 1) + v[i-1]"
   ]
  },
  {
   "cell_type": "code",
   "execution_count": 12,
   "metadata": {},
   "outputs": [
    {
     "data": {
      "text/plain": [
       "'AACTTG'"
      ]
     },
     "execution_count": 12,
     "metadata": {},
     "output_type": "execute_result"
    }
   ],
   "source": [
    "OutputLCS(backtrack, v, len(v), len(w))"
   ]
  },
  {
   "cell_type": "code",
   "execution_count": 13,
   "metadata": {},
   "outputs": [],
   "source": [
    "v = ''\n",
    "w = ''\n",
    "file = open('dataset_369316_5.txt', 'r') \n",
    "for i, line in enumerate(file):\n",
    "    line=line.rstrip('\\n')\n",
    "    if(i==0):\n",
    "        v= line\n",
    "    else:\n",
    "        w = line"
   ]
  },
  {
   "cell_type": "code",
   "execution_count": 14,
   "metadata": {},
   "outputs": [],
   "source": [
    "backtrack = LCSBackTrack(v, w)"
   ]
  },
  {
   "cell_type": "code",
   "execution_count": 15,
   "metadata": {},
   "outputs": [
    {
     "data": {
      "text/plain": [
       "'GGCTTTAGGTCAAGGCCCGTCTATGAGCCTTAGGACCTCAACGATTATTCGCGGGGCACGTTACGGCTTACTTCTATTTTTTGAGTACTATCATGAAGACGTGCAAGGAAGGCAGAAAATTAGGGTCGGTGCAGAGCCACGATAATATCTTGCTCACGGTACTTGCCGTGTATTGACAGCCGCCGCTATTGAAAGAACTGAGTAACTGTCTACTCAAGTAATACAGGGTCGACCCTGTTTGGGGTCATGTTAAAACCACAGCGCCGTTGAAAGTTCATAGAATTTTCCTGCATACCAGGTCAACACCAGTATATACCCGCTGGCCACGTCCTCGCGGACAAAGCACATTAACGCTCCTCTGGGACAAGGTTGATTAATATGAGATGCAGAATGTTCCCCATCTAGCGGTTAGGAGCCCGCCTCTACGGGGCTGGTCCTTTAGAGACTGTTCCGTTGAACTTTTAAGCCATTAAGCCAGATTGATGGTATCGCCTAAGATCGTTCCAACGCTACCGGCAACTGTAGTCAACATACCAAAGGATCAGCTCAAAGGAACACGTCTCCGGAATATAGAAAACTACGAG'"
      ]
     },
     "execution_count": 15,
     "metadata": {},
     "output_type": "execute_result"
    }
   ],
   "source": [
    "OutputLCS(backtrack, v, len(v), len(w))"
   ]
  },
  {
   "cell_type": "code",
   "execution_count": null,
   "metadata": {},
   "outputs": [],
   "source": []
  }
 ],
 "metadata": {
  "kernelspec": {
   "display_name": "Python 3",
   "language": "python",
   "name": "python3"
  },
  "language_info": {
   "codemirror_mode": {
    "name": "ipython",
    "version": 3
   },
   "file_extension": ".py",
   "mimetype": "text/x-python",
   "name": "python",
   "nbconvert_exporter": "python",
   "pygments_lexer": "ipython3",
   "version": "3.7.3"
  }
 },
 "nbformat": 4,
 "nbformat_minor": 4
}
