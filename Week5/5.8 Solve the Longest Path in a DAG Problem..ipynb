{
 "cells": [
  {
   "cell_type": "code",
   "execution_count": 1,
   "metadata": {},
   "outputs": [],
   "source": [
    "import numpy as np"
   ]
  },
  {
   "cell_type": "code",
   "execution_count": 14,
   "metadata": {},
   "outputs": [],
   "source": [
    "def IncomingEdgeNum(Graph):\n",
    "    IncomingEdges = {}\n",
    "    for key in Graph.keys():\n",
    "        IncomingEdges[key] = 0\n",
    "    for val in Graph.values():\n",
    "        for v in val:\n",
    "            node,_ = v\n",
    "            if node not in IncomingEdges.keys():\n",
    "                IncomingEdges[node] = 0\n",
    "            IncomingEdges[node] += 1\n",
    "    return IncomingEdges"
   ]
  },
  {
   "cell_type": "code",
   "execution_count": 30,
   "metadata": {},
   "outputs": [],
   "source": [
    "def TopologicalOrdering(Graph):\n",
    "        List = []\n",
    "        Graph = Graph.copy()\n",
    "        IncomingEdges = IncomingEdgeNum(Graph)\n",
    "        Candidates = {k for k,v in IncomingEdges.items() if v<=0}\n",
    "        while Candidates:\n",
    "            a = Candidates.pop()\n",
    "            List.append(a)\n",
    "            if a in Graph.keys():\n",
    "                for v in Graph[a]:\n",
    "                    node,_  = v\n",
    "                    IncomingEdges[node] -= 1\n",
    "                del Graph[a]\n",
    "            del IncomingEdges[a]\n",
    "            Candidates = {k for k,v in IncomingEdges.items() if v<=0}    \n",
    "        if Graph:\n",
    "            return \"the input graph is not a DAG\"\n",
    "        else:\n",
    "            return List"
   ]
  },
  {
   "cell_type": "code",
   "execution_count": 21,
   "metadata": {},
   "outputs": [],
   "source": [
    "def IncomingEdge(Graph):\n",
    "    IncomingEdges = {}\n",
    "    for key,val in Graph.items():\n",
    "        for v in val:\n",
    "            node,weight = v\n",
    "            if node not in IncomingEdges.keys():\n",
    "                IncomingEdges[node] = {(key,weight)}\n",
    "            else:\n",
    "                IncomingEdges[node].add((key,weight))\n",
    "    return IncomingEdges"
   ]
  },
  {
   "cell_type": "code",
   "execution_count": 78,
   "metadata": {},
   "outputs": [],
   "source": [
    "def LCSBackTrack(Graph): \n",
    "    Backtrack = {}\n",
    "    TopoOrd = TopologicalOrdering(Graph)\n",
    "    IncomingEdges = IncomingEdge(Graph)\n",
    "    n = len(TopoOrd)\n",
    "    s = {}\n",
    "    for i in range(n):\n",
    "        b = TopoOrd[i]\n",
    "        maxPoint = -1\n",
    "        backNode = ''\n",
    "        if b not in IncomingEdges.keys():\n",
    "            s[b] = 0\n",
    "        else:\n",
    "            for val in IncomingEdges[b]:\n",
    "                a,weight = val\n",
    "                if maxPoint < s[a]+weight:\n",
    "                    maxPoint = s[a]+weight\n",
    "                    backNode = a\n",
    "            s[b] = maxPoint\n",
    "            Backtrack[b] = backNode\n",
    "    return Backtrack"
   ]
  },
  {
   "cell_type": "code",
   "execution_count": 131,
   "metadata": {},
   "outputs": [],
   "source": [
    "def OutputLCS(Graph,backtrack,endNode):\n",
    "    if endNode not in backtrack.keys():\n",
    "        return (0,endNode)\n",
    "    else:\n",
    "        preNode = backtrack[endNode]\n",
    "        score,path = OutputLCS(Graph,backtrack,preNode)\n",
    "        for val in Graph[preNode]:\n",
    "            b,weight = val\n",
    "            if(b == endNode):\n",
    "                score+=weight\n",
    "        \n",
    "        return (score,path+'->'+endNode)"
   ]
  },
  {
   "cell_type": "raw",
   "metadata": {},
   "source": [
    " Sample Input:\n",
    "\n",
    "0\n",
    "4\n",
    "0->1:7\n",
    "0->2:4\n",
    "2->3:2\n",
    "1->4:1\n",
    "3->4:3\n",
    "\n",
    "Sample Output:\n",
    "\n",
    "9\n",
    "0->2->3->4"
   ]
  },
  {
   "cell_type": "code",
   "execution_count": 67,
   "metadata": {},
   "outputs": [],
   "source": [
    "Graph = {'0':{('1',7),('2',4)},'1':{('4',1)},'3':{('4',3)},'2':{('3',2)}}"
   ]
  },
  {
   "cell_type": "code",
   "execution_count": 68,
   "metadata": {},
   "outputs": [],
   "source": [
    "backtrack = LCSBackTrack(Graph)"
   ]
  },
  {
   "cell_type": "code",
   "execution_count": 69,
   "metadata": {},
   "outputs": [
    {
     "data": {
      "text/plain": [
       "'0->2->3->4'"
      ]
     },
     "execution_count": 69,
     "metadata": {},
     "output_type": "execute_result"
    }
   ],
   "source": [
    "OutputLCS(backtrack,'4')"
   ]
  },
  {
   "cell_type": "code",
   "execution_count": 128,
   "metadata": {},
   "outputs": [],
   "source": [
    "startNode = ''\n",
    "endNode = ''\n",
    "Graph = {}\n",
    "file = open('dataset_369316_7.test.txt', 'r') \n",
    "for i, line in enumerate(file):\n",
    "    line=line.rstrip('\\n')\n",
    "    if(i==0):\n",
    "        startNode= line\n",
    "    elif(i==1):\n",
    "        endNode = line\n",
    "    else:\n",
    "        a,val = line.split('->')\n",
    "        b,weight = val.split(':')\n",
    "        if(a in Graph.keys()):\n",
    "            Graph[a].add((b,int(weight)))\n",
    "        else:\n",
    "            Graph[a] = {(b,int(weight))}"
   ]
  },
  {
   "cell_type": "code",
   "execution_count": 123,
   "metadata": {},
   "outputs": [],
   "source": [
    "IncomingEdgeNums = IncomingEdgeNum(Graph)\n",
    "for key,val in IncomingEdgeNums.items():\n",
    "    if(val==0 and startNode != key):\n",
    "        del(Graph[key])"
   ]
  },
  {
   "cell_type": "code",
   "execution_count": 125,
   "metadata": {},
   "outputs": [
    {
     "data": {
      "text/plain": [
       "['0']"
      ]
     },
     "execution_count": 125,
     "metadata": {},
     "output_type": "execute_result"
    }
   ],
   "source": [
    "IncomingEdgeNums = IncomingEdgeNum(Graph)\n",
    "[k for k,v in IncomingEdgeNums.items() if v==0]"
   ]
  },
  {
   "cell_type": "code",
   "execution_count": 129,
   "metadata": {},
   "outputs": [],
   "source": [
    "backtrack = LCSBackTrack(Graph)"
   ]
  },
  {
   "cell_type": "code",
   "execution_count": 132,
   "metadata": {},
   "outputs": [
    {
     "data": {
      "text/plain": [
       "(104, '7->10->22->27->29->44')"
      ]
     },
     "execution_count": 132,
     "metadata": {},
     "output_type": "execute_result"
    }
   ],
   "source": [
    "OutputLCS(Graph,backtrack,endNode)"
   ]
  },
  {
   "cell_type": "code",
   "execution_count": null,
   "metadata": {},
   "outputs": [],
   "source": []
  }
 ],
 "metadata": {
  "kernelspec": {
   "display_name": "Python 3",
   "language": "python",
   "name": "python3"
  },
  "language_info": {
   "codemirror_mode": {
    "name": "ipython",
    "version": 3
   },
   "file_extension": ".py",
   "mimetype": "text/x-python",
   "name": "python",
   "nbconvert_exporter": "python",
   "pygments_lexer": "ipython3",
   "version": "3.7.3"
  }
 },
 "nbformat": 4,
 "nbformat_minor": 4
}
