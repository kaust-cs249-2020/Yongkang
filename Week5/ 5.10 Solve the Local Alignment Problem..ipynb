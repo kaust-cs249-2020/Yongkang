{
 "cells": [
  {
   "cell_type": "code",
   "execution_count": 38,
   "metadata": {},
   "outputs": [],
   "source": [
    " import numpy as np"
   ]
  },
  {
   "cell_type": "code",
   "execution_count": 39,
   "metadata": {},
   "outputs": [],
   "source": [
    "ScoringMatrix = {'A': {'A': 2, 'C': -2, 'D': 0, 'E': 0, 'F': -3, 'G': 1, 'H': -1, 'I': -1, 'K': -1, 'L': -2, 'M': -1, 'N': 0, 'P': 1, 'Q': 0, 'R': -2, 'S': 1, 'T': 1, 'V': 0, 'W': -6, 'Y': -3}, 'C': {'A': -2, 'C': 12, 'D': -5, 'E': -5, 'F': -4, 'G': -3, 'H': -3, 'I': -2, 'K': -5, 'L': -6, 'M': -5, 'N': -4, 'P': -3, 'Q': -5, 'R': -4, 'S': 0, 'T': -2, 'V': -2, 'W': -8, 'Y': 0}, 'D': {'A': 0, 'C': -5, 'D': 4, 'E': 3, 'F': -6, 'G': 1, 'H': 1, 'I': -2, 'K': 0, 'L': -4, 'M': -3, 'N': 2, 'P': -1, 'Q': 2, 'R': -1, 'S': 0, 'T': 0, 'V': -2, 'W': -7, 'Y': -4}, 'E': {'A': 0, 'C': -5, 'D': 3, 'E': 4, 'F': -5, 'G': 0, 'H': 1, 'I': -2, 'K': 0, 'L': -3, 'M': -2, 'N': 1, 'P': -1, 'Q': 2, 'R': -1, 'S': 0, 'T': 0, 'V': -2, 'W': -7, 'Y': -4}, 'F': {'A': -3, 'C': -4, 'D': -6, 'E': -5, 'F': 9, 'G': -5, 'H': -2, 'I': 1, 'K': -5, 'L': 2, 'M': 0, 'N': -3, 'P': -5, 'Q': -5, 'R': -4, 'S': -3, 'T': -3, 'V': -1, 'W': 0, 'Y': 7}, 'G': {'A': 1, 'C': -3, 'D': 1, 'E': 0, 'F': -5, 'G': 5, 'H': -2, 'I': -3, 'K': -2, 'L': -4, 'M': -3, 'N': 0, 'P': 0, 'Q': -1, 'R': -3, 'S': 1, 'T': 0, 'V': -1, 'W': -7, 'Y': -5}, 'H': {'A': -1, 'C': -3, 'D': 1, 'E': 1, 'F': -2, 'G': -2, 'H': 6, 'I': -2, 'K': 0, 'L': -2, 'M': -2, 'N': 2, 'P': 0, 'Q': 3, 'R': 2, 'S': -1, 'T': -1, 'V': -2, 'W': -3, 'Y': 0}, 'I': {'A': -1, 'C': -2, 'D': -2, 'E': -2, 'F': 1, 'G': -3, 'H': -2, 'I': 5, 'K': -2, 'L': 2, 'M': 2, 'N': -2, 'P': -2, 'Q': -2, 'R': -2, 'S': -1, 'T': 0, 'V': 4, 'W': -5, 'Y': -1}, 'K': {'A': -1, 'C': -5, 'D': 0, 'E': 0, 'F': -5, 'G': -2, 'H': 0, 'I': -2, 'K': 5, 'L': -3, 'M': 0, 'N': 1, 'P': -1, 'Q': 1, 'R': 3, 'S': 0, 'T': 0, 'V': -2, 'W': -3, 'Y': -4}, 'L': {'A': -2, 'C': -6, 'D': -4, 'E': -3, 'F': 2, 'G': -4, 'H': -2, 'I': 2, 'K': -3, 'L': 6, 'M': 4, 'N': -3, 'P': -3, 'Q': -2, 'R': -3, 'S': -3, 'T': -2, 'V': 2, 'W': -2, 'Y': -1}, 'M': {'A': -1, 'C': -5, 'D': -3, 'E': -2, 'F': 0, 'G': -3, 'H': -2, 'I': 2, 'K': 0, 'L': 4, 'M': 6, 'N': -2, 'P': -2, 'Q': -1, 'R': 0, 'S': -2, 'T': -1, 'V': 2, 'W': -4, 'Y': -2}, 'N': {'A': 0, 'C': -4, 'D': 2, 'E': 1, 'F': -3, 'G': 0, 'H': 2, 'I': -2, 'K': 1, 'L': -3, 'M': -2, 'N': 2, 'P': 0, 'Q': 1, 'R': 0, 'S': 1, 'T': 0, 'V': -2, 'W': -4, 'Y': -2}, 'P': {'A': 1, 'C': -3, 'D': -1, 'E': -1, 'F': -5, 'G': 0, 'H': 0, 'I': -2, 'K': -1, 'L': -3, 'M': -2, 'N': 0, 'P': 6, 'Q': 0, 'R': 0, 'S': 1, 'T': 0, 'V': -1, 'W': -6, 'Y': -5}, 'Q': {'A': 0, 'C': -5, 'D': 2, 'E': 2, 'F': -5, 'G': -1, 'H': 3, 'I': -2, 'K': 1, 'L': -2, 'M': -1, 'N': 1, 'P': 0, 'Q': 4, 'R': 1, 'S': -1, 'T': -1, 'V': -2, 'W': -5, 'Y': -4}, 'R': {'A': -2, 'C': -4, 'D': -1, 'E': -1, 'F': -4, 'G': -3, 'H': 2, 'I': -2, 'K': 3, 'L': -3, 'M': 0, 'N': 0, 'P': 0, 'Q': 1, 'R': 6, 'S': 0, 'T': -1, 'V': -2, 'W': 2, 'Y': -4}, 'S': {'A': 1, 'C': 0, 'D': 0, 'E': 0, 'F': -3, 'G': 1, 'H': -1, 'I': -1, 'K': 0, 'L': -3, 'M': -2, 'N': 1, 'P': 1, 'Q': -1, 'R': 0, 'S': 2, 'T': 1, 'V': -1, 'W': -2, 'Y': -3}, 'T': {'A': 1, 'C': -2, 'D': 0, 'E': 0, 'F': -3, 'G': 0, 'H': -1, 'I': 0, 'K': 0, 'L': -2, 'M': -1, 'N': 0, 'P': 0, 'Q': -1, 'R': -1, 'S': 1, 'T': 3, 'V': 0, 'W': -5, 'Y': -3}, 'V': {'A': 0, 'C': -2, 'D': -2, 'E': -2, 'F': -1, 'G': -1, 'H': -2, 'I': 4, 'K': -2, 'L': 2, 'M': 2, 'N': -2, 'P': -1, 'Q': -2, 'R': -2, 'S': -1, 'T': 0, 'V': 4, 'W': -6, 'Y': -2}, 'W': {'A': -6, 'C': -8, 'D': -7, 'E': -7, 'F': 0, 'G': -7, 'H': -3, 'I': -5, 'K': -3, 'L': -2, 'M': -4, 'N': -4, 'P': -6, 'Q': -5, 'R': 2, 'S': -2, 'T': -5, 'V': -6, 'W': 17, 'Y': 0}, 'Y': {'A': -3, 'C': 0, 'D': -4, 'E': -4, 'F': 7, 'G': -5, 'H': 0, 'I': -1, 'K': -4, 'L': -1, 'M': -2, 'N': -2, 'P': -5, 'Q': -4, 'R': -4, 'S': -3, 'T': -3, 'V': -2, 'W': 0, 'Y': 10}}"
   ]
  },
  {
   "cell_type": "code",
   "execution_count": 41,
   "metadata": {},
   "outputs": [
    {
     "data": {
      "text/plain": [
       "4"
      ]
     },
     "execution_count": 41,
     "metadata": {},
     "output_type": "execute_result"
    }
   ],
   "source": []
  },
  {
   "cell_type": "code",
   "execution_count": 10,
   "metadata": {},
   "outputs": [],
   "source": [
    "def LCSBackTrack(v, w):\n",
    "    n = len(v)\n",
    "    m = len(w)\n",
    "    s = np.zeros([n+1,m+1])\n",
    "    Backtrack = np.zeros([n+1,m+1]).astype(str)\n",
    "    for i in range(n+1):\n",
    "        s[i,0] -= sigma*i\n",
    "        Backtrack[i,0] = \"↓\"\n",
    "    for j in range(m+1):\n",
    "        s[0,j] -= sigma*j\n",
    "        Backtrack[0,j] = \"→\"\n",
    "    for i in range(n):\n",
    "        for j in range(m):\n",
    "            match = int(ScoringMatrix[v[i]][w[j]])\n",
    "            s[i+1,j+1] = max(s[i,j+1]-sigma , s[i+1,j]-sigma , s[i,j] + match,0)\n",
    "            if s[i+1,j+1] == s[i,j+1]-sigma:\n",
    "                Backtrack[i+1,j+1] = \"↓\"\n",
    "            elif s[i+1,j+1] == s[i+1,j]-sigma:\n",
    "                Backtrack[i+1,j+1] = \"→\"\n",
    "            elif s[i+1,j+1] == s[i,j] + match:\n",
    "                Backtrack[i+1,j+1] = \"↘\"\n",
    "            elif s[i+1,j+1] == 0:\n",
    "                Backtrack[i+1,j+1] = 's0'\n",
    "    return s,Backtrack"
   ]
  },
  {
   "cell_type": "code",
   "execution_count": 27,
   "metadata": {},
   "outputs": [],
   "source": [
    "def OutputLCS(backtrack, v, w, i, j):\n",
    "    if i == 0 and j == 0:\n",
    "        return (0,\"\",\"\")\n",
    "    if backtrack[i,j] == \"↓\":\n",
    "        score,seq1,seq2 = OutputLCS(backtrack, v, w, i - 1, j)\n",
    "        score -= sigma\n",
    "        return (score,seq1+ v[i-1],seq2+'-')\n",
    "    elif backtrack[i, j] == \"→\":\n",
    "        score,seq1,seq2 = OutputLCS(backtrack, v, w,i, j - 1)\n",
    "        score -= sigma\n",
    "        return (score,seq1+'-' ,seq2+w[j-1])\n",
    "    elif backtrack[i,j] == 's0':\n",
    "        return (0,\"\",\"\")\n",
    "    else:\n",
    "        score,seq1,seq2 = OutputLCS(backtrack, v, w,i - 1, j - 1)\n",
    "        score += int(ScoringMatrix[v[i-1]][w[j-1]])\n",
    "        return  (score,seq1+ v[i-1],seq2+w[j-1])"
   ]
  },
  {
   "cell_type": "code",
   "execution_count": 5,
   "metadata": {},
   "outputs": [],
   "source": [
    "v = 'MEANLY'\n",
    "w = 'PENALTY'\n",
    "sigma = 5"
   ]
  },
  {
   "cell_type": "code",
   "execution_count": 11,
   "metadata": {},
   "outputs": [],
   "source": [
    "s,backtrack = LCSBackTrack(v, w)"
   ]
  },
  {
   "cell_type": "code",
   "execution_count": 23,
   "metadata": {},
   "outputs": [],
   "source": [
    "index = np.unravel_index(np.argmax(s, axis=None), s.shape)"
   ]
  },
  {
   "cell_type": "code",
   "execution_count": 31,
   "metadata": {},
   "outputs": [
    {
     "name": "stdout",
     "output_type": "stream",
     "text": [
      "15\n",
      "EANL-Y\n",
      "ENALTY\n"
     ]
    }
   ],
   "source": [
    "for seq in OutputLCS(backtrack, v, w, index[0], index[1]):\n",
    "    print(seq)"
   ]
  },
  {
   "cell_type": "code",
   "execution_count": 37,
   "metadata": {},
   "outputs": [
    {
     "data": {
      "text/plain": [
       "1318.0"
      ]
     },
     "execution_count": 37,
     "metadata": {},
     "output_type": "execute_result"
    }
   ],
   "source": [
    "s[index]"
   ]
  },
  {
   "cell_type": "code",
   "execution_count": 32,
   "metadata": {},
   "outputs": [],
   "source": [
    "v = ''\n",
    "w = ''\n",
    "file = open('dataset_369318_10.txt', 'r') \n",
    "for i, line in enumerate(file):\n",
    "    line=line.rstrip('\\n')\n",
    "    if(i==0):\n",
    "        v= line\n",
    "    else:\n",
    "        w = line"
   ]
  },
  {
   "cell_type": "code",
   "execution_count": 33,
   "metadata": {},
   "outputs": [],
   "source": [
    "s,backtrack = LCSBackTrack(v, w)"
   ]
  },
  {
   "cell_type": "code",
   "execution_count": 34,
   "metadata": {},
   "outputs": [],
   "source": [
    "index = np.unravel_index(np.argmax(s, axis=None), s.shape)"
   ]
  },
  {
   "cell_type": "code",
   "execution_count": 35,
   "metadata": {},
   "outputs": [
    {
     "name": "stdout",
     "output_type": "stream",
     "text": [
      "1318\n",
      "PIGC-QNKHNK-IRAKPY-WLFSHTSMKCECMDNEHLIHWWYLAMMAEDLCPCAYY--GESTL-NVAGPWRKEPRATNFMVF-RN-DFA-WYEIN-HKFGKESATNLSEWR-KDGFYIKMVYC-FWKFM-FSA-LQEQ-R--YGDF-VW-SCEMVNSDNVWPTPDVHDW-G-F-F-LFQIHW-LHNFQMLGRAASFHPYMSA-DYVKAQRCEY-S--Q-YVESNSVKHTCPW-W--IP--NTPKYEAKQWKI-TKSHEKFLDWTDAYMRYKTEYPADNLHAECYREWQHDVPYDPHKHL---------IMVQCYNNTYPAEQDSIYSYSHGMMDLSISFLANMCIRSEVCEYRCMCSQEMTSFIIFYF-PW-RGIPIPEVRPSDWVPAGRMYPGSIVTAYSTFPNNMRPWEFFARHKHASCYHCYWDAHYIDE--QCQWAVMPLGCKDLVYINMSIINEALTVSSFKVFHQCHL-CP----QCKAFQFSTEYWLDKHSDMQDFTWIQCFEDIKKPQVGLMCK-IWIHFKACCMHIFACCVNAMGGDGTPLAKNPSP-PRFQP-FTMNYWEECPAPF----H--Y------LWVKV-QDET--ISIAHPNLKVKVDGSHNVVSRVEAHEWQNHKMMTFFYRLYFIQPCEWYVIYC-F-S-RL-QC-PQCCHAV-AMNDC-CCNRMTKKRIILLWNMWDNEICMT-C-PQMS-NAHVTLPP-RGLHSTLNGVLKIPCA-TQ-CVHEGGCKHNLLM--INNVAHC-YFCALGKTPGWLAPM-PPW-Q-VKTTYVGYQWHNEQYDKDSDTCHLGVPTIQLFKIGSKKDQVNCISYTRPRR-W-FNWFLGPF-FV-AIFHAS-YHALMRAACTNSERSETVWYDE-EWPFLQVWRHAYSNESGYGSDGHNAGLYWFQNRFVEIIKIDIGSHHWQPLWHDACAVTIFMW-DDVQEPRC-QWQVLLKILEMNDSILRIWFQMMTTTMDW-EMTYPVCDW\n",
      "NVQCIQKKSLMGYRTKHIESSF-DANADCP-LNRGN-GRVRYNSPHYH-V-GVSFYLVAEPNFRDIT--Y-KEPKINKRLPAGEDCEFAMWEDDNMAAY-QHWEYKLKI-QCGHGGH-K-VNCHFKDAMRYQGKMQQQTMDLYSQMDLYHKCN-THLNGITMTPA-PTWESCYSFDQYLLHWGVHTMAIDEHCVEFH-YDEDHQCGMLAR-MYKTNNQEYCPHDCYAELEAWEWPHISVGNTLKTEAK-WWICTKFKGK-LDWTDAYMRAKTEYPADN--G-CYREWQHDESYDPHTPLNCVGCRHRDIMVQCYNDTYYAEQDSIYS----MMDLSRSFV-D-----EVCEYRCMCSQEMTSFIIFYRDPRTRGIPIEEVRPSD-CYFGRMYPGSIVDQ-NMHPDAYSTFPNNMRPSEAIEFFCIWQRHKDASPFQGQLALNPLG--DLVYDNMSIINEALTVS-FKVFHECHLTSADSGDQCKAFQFSTEYWLDKHSDMQDFMWS-CLQITKKPQVRLMAKHMWLQWIH--MHIFACYVNA-GG-G-HLLMSQTPFPW-QAKNPMNYWEECPAPNPAQNHDVFIKSQTRMWVKVFDEQMLYISIAHPNLKVKVDGSHNVVSRVEAHAWQNHKQPTNFYRLYFIQPCEWSTRQSHFRGTNIIKVWQEYFHNPKPLFFYWPANHFVKRHFKCQNHQW---YCMTLIFSQNAFGEYNPLVVYWAL-P-LSGDMTLGMQWQHKAFWQSETALNFWRAGIQD-QHTPLYTVFS-YN--LATCCAKYYHDVHECFI-YQWEM-MYRRHS-M-H-ALYNVIWFP-GNC--Q-NCMT-MHVRNEWDLM-YPCEFEFSWTIFETNKYHS-QTAQLNGGARCEIRWFVPIQTLFL-I-AHIVA--C-YPNSDH--G----H--F-ECLDI-MGVQLFPSVWHG-CESQALQWWNRSMVDRCVHYHIGWSP-AMSQ--M-A-FDSVPATVQRFQI-FP-SRW\n"
     ]
    }
   ],
   "source": [
    "for seq in OutputLCS(backtrack, v, w, index[0], index[1]):\n",
    "    print(seq)"
   ]
  },
  {
   "cell_type": "code",
   "execution_count": null,
   "metadata": {},
   "outputs": [],
   "source": []
  }
 ],
 "metadata": {
  "kernelspec": {
   "display_name": "Python 3",
   "language": "python",
   "name": "python3"
  },
  "language_info": {
   "codemirror_mode": {
    "name": "ipython",
    "version": 3
   },
   "file_extension": ".py",
   "mimetype": "text/x-python",
   "name": "python",
   "nbconvert_exporter": "python",
   "pygments_lexer": "ipython3",
   "version": "3.7.3"
  }
 },
 "nbformat": 4,
 "nbformat_minor": 4
}
