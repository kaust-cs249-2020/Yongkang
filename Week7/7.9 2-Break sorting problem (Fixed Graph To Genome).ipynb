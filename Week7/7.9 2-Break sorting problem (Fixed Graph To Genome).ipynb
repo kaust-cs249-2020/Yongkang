{
 "cells": [
  {
   "cell_type": "code",
   "execution_count": 1,
   "metadata": {},
   "outputs": [],
   "source": [
    "import numpy as np\n",
    "import random"
   ]
  },
  {
   "cell_type": "code",
   "execution_count": 2,
   "metadata": {},
   "outputs": [],
   "source": [
    "def output(P):\n",
    "    for Chr in P:\n",
    "        print('(',end='')\n",
    "        for i in range(len(Chr)-1):\n",
    "            print(\"%+d\"%Chr[i],end = ' ')\n",
    "        print('%+d)'%Chr[-1],end='')\n",
    "    print()"
   ]
  },
  {
   "cell_type": "code",
   "execution_count": 3,
   "metadata": {},
   "outputs": [],
   "source": [
    "def TwoBreakOnGenomeGraph(GenomeGraph, i1 , i2 , i3 , i4):\n",
    "     #remove colored edges (i1, i2) and (i3, i4) from GenomeGraph\n",
    "    if (i1,i2) in GenomeGraph:\n",
    "        GenomeGraph.remove((i1,i2))\n",
    "    else:\n",
    "        GenomeGraph.remove((i2,i1))\n",
    "    if (i3,i4) in GenomeGraph:\n",
    "        GenomeGraph.remove((i3,i4))\n",
    "    else:\n",
    "        GenomeGraph.remove((i4,i3))\n",
    "     #add colored edges (i1, i3) and (i2, i4) to GenomeGraph\n",
    "    GenomeGraph.append((i1,i3))\n",
    "    GenomeGraph.append((i2,i4))\n",
    "    return GenomeGraph"
   ]
  },
  {
   "cell_type": "code",
   "execution_count": 4,
   "metadata": {},
   "outputs": [],
   "source": [
    "def ChromosomeToCycle(Chromosome):\n",
    "    n = len(Chromosome)\n",
    "    Nodes = np.zeros(2*n)\n",
    "    for j in range(n):\n",
    "        i = Chromosome[j]\n",
    "        if i > 0:\n",
    "            Nodes[2*j] = int(2*i-1)\n",
    "            Nodes[2*j+1]  =  int(2*i)\n",
    "        else:\n",
    "            Nodes[2*j]  = int(-2*i)\n",
    "            Nodes[2*j+1]  =  int(-2*i-1)\n",
    "    return Nodes"
   ]
  },
  {
   "cell_type": "code",
   "execution_count": 5,
   "metadata": {},
   "outputs": [],
   "source": [
    "def Distance(Edge):\n",
    "    StartPoint = Edge[0][0]\n",
    "    node_suf =  Edge[0][1]\n",
    "    Edge.pop(0)\n",
    "    Cycle_num = 0\n",
    "    while(Edge):\n",
    "        for i in range(len(Edge)):\n",
    "            Node = Edge[i]\n",
    "            if(Node[0] == node_suf):\n",
    "                node_suf = Node[1]\n",
    "                Edge.pop(i)\n",
    "                break\n",
    "            elif(Node[1] == node_suf):\n",
    "                node_suf = Node[0]\n",
    "                Edge.pop(i)\n",
    "                break\n",
    "                \n",
    "        if(node_suf == StartPoint):\n",
    "            if(not Edge):\n",
    "                return Cycle_num +1\n",
    "            Cycle_num += 1\n",
    "            StartPoint = Edge[0][0]\n",
    "            node_suf =  Edge[0][1]\n",
    "            Edge.pop(0)\n",
    "    return Cycle_num"
   ]
  },
  {
   "cell_type": "code",
   "execution_count": 6,
   "metadata": {},
   "outputs": [],
   "source": [
    "def ColoredEdges(P):\n",
    "    Edges = []\n",
    "    #for idx,Chromosome in P.items():\n",
    "    for Chromosome in P:\n",
    "        Nodes = ChromosomeToCycle(Chromosome)\n",
    "        n = len(Chromosome)\n",
    "        for j in range(n):\n",
    "            if(j<n-1):\n",
    "                Edges.append((int(Nodes[2*j+1]),int(Nodes[2*j+2])))\n",
    "            else:\n",
    "                Edges.append((int(Nodes[2*j+1]),int(Nodes[0])))\n",
    "    return Edges"
   ]
  },
  {
   "cell_type": "code",
   "execution_count": 310,
   "metadata": {},
   "outputs": [],
   "source": [
    "def GraphToGenome(GenomeGraph):\n",
    "    P = []\n",
    "    StartPoint = GenomeGraph[0][0]\n",
    "    node_suf = GenomeGraph[0][1]\n",
    "    GenomeGraph.pop(0)\n",
    "    Chr  = [StartPoint,node_suf]\n",
    "    while(GenomeGraph):\n",
    "        for i in range(len(GenomeGraph)):\n",
    "            Node = GenomeGraph[i]\n",
    "            if(Node[0]-pow(-1, Node[0]) == node_suf):\n",
    "                Chr.append(Node[0])\n",
    "                Chr.append(Node[1])\n",
    "                node_suf = Node[1]\n",
    "                GenomeGraph.pop(i)\n",
    "                break\n",
    "            elif(Node[1]-pow(-1,Node[1]) == node_suf):\n",
    "                Chr.append(Node[1])\n",
    "                Chr.append(Node[0])\n",
    "                node_suf = Node[0]\n",
    "                GenomeGraph.pop(i)\n",
    "                break      \n",
    "        if(node_suf-pow(-1,node_suf) == StartPoint):\n",
    "            ele = Chr.pop(-1)\n",
    "            Chr.insert(0,ele)\n",
    "            Chromosome = CycleToChromosome(Chr)\n",
    "            P.append(Chromosome)\n",
    "            if(not GenomeGraph):\n",
    "                return P\n",
    "            StartPoint = GenomeGraph[0][0]\n",
    "            node_suf =  GenomeGraph[0][1]\n",
    "            GenomeGraph.pop(0)\n",
    "            Chr = [StartPoint,node_suf] \n",
    "            if(not GenomeGraph):\n",
    "                Chromosome = CycleToChromosome(Chr)\n",
    "                P.append(Chromosome)\n",
    "                return P                       \n",
    "    return P"
   ]
  },
  {
   "cell_type": "code",
   "execution_count": 8,
   "metadata": {},
   "outputs": [],
   "source": [
    "def CycleToChromosome(Nodes): \n",
    "    n = int(len(Nodes)/2)\n",
    "    Chromosome = np.zeros(n).astype(int)\n",
    "    for j in range(n):\n",
    "        if Nodes[2*j] < Nodes[2*j+1]:\n",
    "            Chromosome[j] =  Nodes[2*j+1] /2\n",
    "        else:\n",
    "            Chromosome[j]  = -Nodes[2*j]/2\n",
    "    return Chromosome"
   ]
  },
  {
   "cell_type": "code",
   "execution_count": 311,
   "metadata": {},
   "outputs": [],
   "source": [
    "def TwoBreakOnGenome(P, i1 , i2 , i3 , i4 ):\n",
    "    Edge1 = ColoredEdges(P)\n",
    "    GenomeGraph = TwoBreakOnGenomeGraph(Edge1, i1 , i2 , i3 , i4)\n",
    "    P = GraphToGenome(GenomeGraph)\n",
    "    return P"
   ]
  },
  {
   "cell_type": "code",
   "execution_count": 10,
   "metadata": {},
   "outputs": [],
   "source": [
    "def PreProcess(inp):\n",
    "    Genome = []\n",
    "    inp = np.array(inp.split(')'))\n",
    "    for i in range(len(inp)-1):\n",
    "        chrm = inp[i]\n",
    "        chrm = chrm[1:]\n",
    "        Genome.append(np.array(chrm.split(' ')).astype(int))\n",
    "    return Genome"
   ]
  },
  {
   "cell_type": "code",
   "execution_count": 351,
   "metadata": {},
   "outputs": [],
   "source": [
    "def FindTrivalCycle(BlueEdges,RedEdges,i1,i2,i3,i4):\n",
    "    RedEdges.remove((i1,i2))\n",
    "    RedEdges.remove((i3,i4))\n",
    "    Total_count = 0\n",
    "    if (i1,i3) in BlueEdges:\n",
    "        RedEdges.append((i2,i4))\n",
    "        BlueEdges.remove((i1,i3))\n",
    "        Total_count += 1\n",
    "    elif (i3,i1) in BlueEdges:\n",
    "        RedEdges.append((i2,i4))\n",
    "        BlueEdges.remove((i3,i1))\n",
    "        Total_count += 1\n",
    "    if (i2,i4) in BlueEdges:\n",
    "        RedEdges.append((i1,i3))\n",
    "        BlueEdges.remove((i2,i4))\n",
    "        Total_count += 1\n",
    "    elif (i4,i2) in BlueEdges:\n",
    "        RedEdges.append((i1,i3))\n",
    "        BlueEdges.remove((i4,i2))\n",
    "        Total_count += 1\n",
    "    \n",
    "    \n",
    "    if (Total_count==2):\n",
    "        RedEdges.remove((i1,i3))\n",
    "        RedEdges.remove((i2,i4))\n",
    "    \n",
    "    if(Total_count>0):\n",
    "         return i1,i2,i3,i4,Total_count\n",
    "        \n",
    "    count = 0\n",
    "    if (i1,i4) in BlueEdges:\n",
    "        RedEdges.append((i2,i3))\n",
    "        BlueEdges.remove((i1,i4)) \n",
    "        i = i4\n",
    "        i4 = i3\n",
    "        i3 = i\n",
    "        count += 1\n",
    "        Total_count += 1\n",
    "    elif (i4,i1) in BlueEdges:\n",
    "        RedEdges.append((i2,i3))\n",
    "        BlueEdges.remove((i4,i1))\n",
    "        i = i4\n",
    "        i4 = i3\n",
    "        i3 = i\n",
    "        count += 1\n",
    "        Total_count += 1\n",
    "    if(i2,i3) in BlueEdges:\n",
    "        RedEdges.append((i1,i4))\n",
    "        BlueEdges.remove((i2,i3))\n",
    "        i = i4\n",
    "        i4 = i3\n",
    "        i3 = i\n",
    "        count += 1\n",
    "        Total_count += 1\n",
    "    elif(i3,i2) in BlueEdges:\n",
    "        RedEdges.append((i1,i4))\n",
    "        BlueEdges.remove((i3,i2))\n",
    "        i = i4\n",
    "        i4 = i3\n",
    "        i3 = i\n",
    "        count += 1\n",
    "        Total_count += 1\n",
    "        \n",
    "    if (count==2):\n",
    "        RedEdges.remove((i1,i4))\n",
    "        RedEdges.remove((i2,i3))\n",
    "    \n",
    "    if (Total_count == 0):\n",
    "        RedEdges.append((i1,i2))\n",
    "        RedEdges.append((i3,i4))\n",
    "    \n",
    "    return i1,i2,i3,i4,Total_count"
   ]
  },
  {
   "cell_type": "code",
   "execution_count": 342,
   "metadata": {},
   "outputs": [],
   "source": [
    "def ShortestRearrangementScenario(P, Q):\n",
    "    output(P)\n",
    "    RedEdges = ColoredEdges(P)\n",
    "    BlueEdges = ColoredEdges(Q)\n",
    "    BreakpointGraph  = RedEdges +  BlueEdges\n",
    "    #while BreakpointGraph has a non-trivial cycle Cycle:\n",
    "    #for i in range(3):\n",
    "    n = len(BreakpointGraph)\n",
    "    while n>=4:\n",
    "        #(i1 , i2 , i3 , i4 ) ← path starting at arbitrary red edge in nontrivial red-blue cycle\n",
    "        count = 0\n",
    "        while count == 0:\n",
    "            (i1,i2),(i3,i4) = random.sample(RedEdges,2)\n",
    "        #BlueEdges,RedEdges,i1,i2,i3,i4  = FindTrivalCycle(BlueEdges,RedEdges,i1,i2,i3,i4)\n",
    "            i1,i2,i3,i4,count = FindTrivalCycle(BlueEdges,RedEdges,i1,i2,i3,i4)\n",
    "        #RedEdges = TwoBreakOnGenomeGraph(RedEdges, i1 , i2 , i3 , i4)\n",
    "        #RedEdges ← RedEdges with edges (i1, i2) and (i3, i4) removed\n",
    "        #RedEdges ← RedEdges with edges (i1, i4) and (i2, i3) added\n",
    "        BreakpointGraph = RedEdges +  BlueEdges\n",
    "        n = len(BreakpointGraph)\n",
    "        \n",
    "        P = TwoBreakOnGenome(P, i1 , i2 , i3 , i4 )\n",
    "        output(P)"
   ]
  },
  {
   "cell_type": "raw",
   "metadata": {},
   "source": [
    "Sample Input:\n",
    "\n",
    "(+1 -2 -3 +4)\n",
    "(+1 +2 -4 -3)\n",
    "\n",
    "Sample Output:\n",
    "\n",
    "(+1 -2 -3 +4)\n",
    "(+1 -2 -3)(+4)\n",
    "(+1 -2 -4 -3)\n",
    "(-3 +1 +2 -4)"
   ]
  },
  {
   "cell_type": "code",
   "execution_count": 339,
   "metadata": {},
   "outputs": [],
   "source": [
    "inp1='(+1 -2 -3 +4)'\n",
    "inp2='(+1 +2 -4 -3)'"
   ]
  },
  {
   "cell_type": "code",
   "execution_count": 346,
   "metadata": {},
   "outputs": [],
   "source": [
    "P= PreProcess(inp1)\n",
    "Q= PreProcess(inp2)"
   ]
  },
  {
   "cell_type": "code",
   "execution_count": 333,
   "metadata": {},
   "outputs": [
    {
     "data": {
      "text/plain": [
       "[array([ 1, -2, -4,  3])]"
      ]
     },
     "execution_count": 333,
     "metadata": {},
     "output_type": "execute_result"
    }
   ],
   "source": [
    "P1 = TwoBreakOnGenome(P, 3, 6 , 8 , 1 )\n",
    "P1"
   ]
  },
  {
   "cell_type": "code",
   "execution_count": 334,
   "metadata": {},
   "outputs": [
    {
     "data": {
      "text/plain": [
       "[array([ 1, -2,  3]), array([4])]"
      ]
     },
     "execution_count": 334,
     "metadata": {},
     "output_type": "execute_result"
    }
   ],
   "source": [
    "P2 = TwoBreakOnGenome(P1, 5, 7 , 3 , 8)\n",
    "P2"
   ]
  },
  {
   "cell_type": "code",
   "execution_count": 347,
   "metadata": {},
   "outputs": [
    {
     "name": "stdout",
     "output_type": "stream",
     "text": [
      "(+1 -2 -3 +4)\n",
      "(-2 -3 +4)(-1)\n",
      "(-2 -3 +1 +4)\n",
      "(-3 +1 +2 -4)\n"
     ]
    }
   ],
   "source": [
    "ShortestRearrangementScenario(P, Q)"
   ]
  },
  {
   "cell_type": "code",
   "execution_count": null,
   "metadata": {},
   "outputs": [],
   "source": [
    "inp1 = '(+1 -2 -3 +4)'\n",
    "i1,i2,i3,i4 = 2, 4, 8, 1\n"
   ]
  },
  {
   "cell_type": "code",
   "execution_count": 352,
   "metadata": {},
   "outputs": [],
   "source": [
    "file = open('dataset_369337_5.txt', 'r') \n",
    "inp1\n",
    "inp2\n",
    "for i, line in enumerate(file):\n",
    "    line=line.rstrip('\\n')\n",
    "    if(i==0):\n",
    "        inp1 = line\n",
    "    else:\n",
    "        inp2 = line"
   ]
  },
  {
   "cell_type": "code",
   "execution_count": 353,
   "metadata": {},
   "outputs": [],
   "source": [
    "P= PreProcess(inp1)\n",
    "Q= PreProcess(inp2)"
   ]
  },
  {
   "cell_type": "code",
   "execution_count": 354,
   "metadata": {},
   "outputs": [
    {
     "name": "stdout",
     "output_type": "stream",
     "text": [
      "(-10 -2 -5 +14 +11 +1 -13 -4 +7 +3 +12 -9 -6 -8)\n",
      "(-10 -2 -11 -14 +5 +1 -13 -4 +7 +3 +12 -9 -6 -8)\n",
      "(-10 -2 -11 -14 +5 +1 -13 -4 +6 +9 -12 -3 -7 -8)\n",
      "(-10 -2 -11 -14 +5 -9 -6 +4 +13 -1 -12 -3 -7 -8)\n",
      "(-2 -11 -14 +5 -9 -6 +4 +13 -1 -12)(-3 -7 -8 -10)\n",
      "(-2 -11 -14 +5 -9 +3 +10 +8 +7 -6 +4 +13 -1 -12)\n",
      "(-2 -11 +12 +1 -13 -4 +6 -7 -8 -10 -3 +9 -5 +14)\n",
      "(-2 -11 +12 +1 -13 -4 +6 -7 -8 -10 -3 +9 -14 +5)\n",
      "(-2 -11 +12 +1 -10 -3 +9 -14 +5)(-13 -4 +6 -7 -8)\n",
      "(-2 -11 +12 +1 -10 -3 +9 +4 +13 +8 +7 -6 -14 +5)\n",
      "(-2 -11 +12 +1 -9 +3 +10 +4 +13 +8 +7 -6 -14 +5)\n",
      "(-2 -11 +12 +1 -7 -8 -13 -4 -10 -3 +9 -6 -14 +5)\n",
      "(-2 -11 +12 +1 -7 -8 -13 +5)(-4 -10 -3 +9 -6 -14)\n",
      "(-2 -11 +12 +1 -7 -8 -13 -9 +3 +10 +4 +14 +6 +5)\n"
     ]
    }
   ],
   "source": [
    "ShortestRearrangementScenario(P, Q)"
   ]
  },
  {
   "cell_type": "code",
   "execution_count": null,
   "metadata": {},
   "outputs": [],
   "source": []
  }
 ],
 "metadata": {
  "kernelspec": {
   "display_name": "Python 3",
   "language": "python",
   "name": "python3"
  },
  "language_info": {
   "codemirror_mode": {
    "name": "ipython",
    "version": 3
   },
   "file_extension": ".py",
   "mimetype": "text/x-python",
   "name": "python",
   "nbconvert_exporter": "python",
   "pygments_lexer": "ipython3",
   "version": "3.7.3"
  }
 },
 "nbformat": 4,
 "nbformat_minor": 4
}
