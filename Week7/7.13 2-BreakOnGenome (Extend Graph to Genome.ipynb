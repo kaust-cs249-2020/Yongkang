{
 "cells": [
  {
   "cell_type": "code",
   "execution_count": 1,
   "metadata": {},
   "outputs": [],
   "source": [
    "import numpy as np"
   ]
  },
  {
   "cell_type": "code",
   "execution_count": 10,
   "metadata": {},
   "outputs": [],
   "source": [
    "def TwoBreakOnGenomeGraph(GenomeGraph, i1 , i2 , i3 , i4):\n",
    "     #remove colored edges (i1, i2) and (i3, i4) from GenomeGraph\n",
    "    if (i1,i2) in GenomeGraph:\n",
    "        GenomeGraph.remove((i1,i2))\n",
    "    else:\n",
    "        GenomeGraph.remove((i2,i1))\n",
    "    if (i3,i4) in GenomeGraph:\n",
    "        GenomeGraph.remove((i3,i4))\n",
    "    else:\n",
    "        GenomeGraph.remove((i4,i3))\n",
    "     #add colored edges (i1, i3) and (i2, i4) to GenomeGraph\n",
    "    GenomeGraph.append((i1,i3))\n",
    "    GenomeGraph.append((i2,i4))\n",
    "    return GenomeGraph"
   ]
  },
  {
   "cell_type": "code",
   "execution_count": 6,
   "metadata": {},
   "outputs": [],
   "source": [
    "def ChromosomeToCycle(Chromosome):\n",
    "    n = len(Chromosome)\n",
    "    Nodes = np.zeros(2*n)\n",
    "    for j in range(n):\n",
    "        i = Chromosome[j]\n",
    "        if i > 0:\n",
    "            Nodes[2*j] = int(2*i-1)\n",
    "            Nodes[2*j+1]  =  int(2*i)\n",
    "        else:\n",
    "            Nodes[2*j]  = int(-2*i)\n",
    "            Nodes[2*j+1]  =  int(-2*i-1)\n",
    "    return Nodes"
   ]
  },
  {
   "cell_type": "code",
   "execution_count": 4,
   "metadata": {},
   "outputs": [],
   "source": [
    "def ColoredEdges(P):\n",
    "    Edges = []\n",
    "    for idx,Chromosome in P.items():\n",
    "        Nodes = ChromosomeToCycle(Chromosome)\n",
    "        n = len(Chromosome)\n",
    "        for j in range(n):\n",
    "            if(j<n-1):\n",
    "                Edges.append((int(Nodes[2*j+1]),int(Nodes[2*j+2])))\n",
    "            else:\n",
    "                Edges.append((int(Nodes[2*j+1]),int(Nodes[0])))\n",
    "    return Edges"
   ]
  },
  {
   "cell_type": "code",
   "execution_count": 49,
   "metadata": {},
   "outputs": [],
   "source": [
    "def GraphToGenome(GenomeGraph):\n",
    "    P = []\n",
    "    StartPoint = GenomeGraph[0][0]\n",
    "    node_suf = GenomeGraph[0][1]\n",
    "    GenomeGraph.pop(0)\n",
    "    Chr  = [StartPoint,node_suf]\n",
    "    while(GenomeGraph):\n",
    "        for i in range(len(GenomeGraph)):\n",
    "            Node = GenomeGraph[i]\n",
    "            if(Node[0]-pow(-1, Node[0]) == node_suf):\n",
    "                Chr.append(Node[0])\n",
    "                Chr.append(Node[1])\n",
    "                node_suf = Node[1]\n",
    "                GenomeGraph.pop(i)\n",
    "                break\n",
    "            elif(Node[1]-pow(-1,Node[1]) == node_suf):\n",
    "                Chr.append(Node[1])\n",
    "                Chr.append(Node[0])\n",
    "                node_suf = Node[0]\n",
    "                GenomeGraph.pop(i)\n",
    "                break\n",
    "                \n",
    "        if(node_suf-pow(-1,node_suf) == StartPoint):\n",
    "            ele = Chr.pop(-1)\n",
    "            Chr.insert(0,ele)\n",
    "            Chromosome = CycleToChromosome(Chr)\n",
    "            P.append(Chromosome)\n",
    "            if(not GenomeGraph):\n",
    "                return P\n",
    "            StartPoint = GenomeGraph[0][0]\n",
    "            node_suf =  GenomeGraph[0][1]\n",
    "            GenomeGraph.pop(0)\n",
    "            Chr = [StartPoint,node_suf]\n",
    "            \n",
    "    return P"
   ]
  },
  {
   "cell_type": "code",
   "execution_count": 15,
   "metadata": {},
   "outputs": [],
   "source": [
    "def CycleToChromosome(Nodes): \n",
    "    n = int(len(Nodes)/2)\n",
    "    Chromosome = np.zeros(n).astype(int)\n",
    "    for j in range(n):\n",
    "        if Nodes[2*j] < Nodes[2*j+1]:\n",
    "            Chromosome[j] =  Nodes[2*j+1] /2\n",
    "        else:\n",
    "            Chromosome[j]  = -Nodes[2*j]/2\n",
    "    return Chromosome"
   ]
  },
  {
   "cell_type": "code",
   "execution_count": 2,
   "metadata": {},
   "outputs": [],
   "source": [
    "def PreProcess(inp):\n",
    "    Genome = {}\n",
    "    inp = np.array(inp.split(')'))\n",
    "    for i in range(len(inp)-1):\n",
    "        chrm = inp[i]\n",
    "        chrm = chrm[1:]\n",
    "        Genome[i] = np.array(chrm.split(' ')).astype(int)\n",
    "    return Genome"
   ]
  },
  {
   "cell_type": "raw",
   "metadata": {},
   "source": [
    " Sample Input:\n",
    "\n",
    "(+1 -2 -4 +3)\n",
    "1, 6, 3, 8\n",
    "\n",
    "Sample Output:\n",
    "\n",
    "(+1 -2)(-3 +4)"
   ]
  },
  {
   "cell_type": "code",
   "execution_count": 50,
   "metadata": {},
   "outputs": [],
   "source": [
    "inp1 = '(+1 -2 -4 +3)'\n",
    "i1,i2,i3,i4 = 1, 6, 3, 8\n",
    "Genome1 = PreProcess(inp1)\n",
    "Edge1 = ColoredEdges(Genome1)"
   ]
  },
  {
   "cell_type": "code",
   "execution_count": 51,
   "metadata": {},
   "outputs": [],
   "source": [
    "GenomeGraph = TwoBreakOnGenomeGraph(Edge1, i1 , i2 , i3 , i4)"
   ]
  },
  {
   "cell_type": "code",
   "execution_count": 71,
   "metadata": {},
   "outputs": [],
   "source": [
    "def TwoBreakOnGenome(P, i1 , i2 , i3 , i4 ):\n",
    "    Genome1 = PreProcess(P)\n",
    "    Edge1 = ColoredEdges(Genome1)\n",
    "    GenomeGraph = TwoBreakOnGenomeGraph(Edge1, i1 , i2 , i3 , i4)\n",
    "    P = GraphToGenome(GenomeGraph)\n",
    "    return P"
   ]
  },
  {
   "cell_type": "code",
   "execution_count": 58,
   "metadata": {},
   "outputs": [],
   "source": [
    "P = TwoBreakOnGenome(P, i1 , i2 , i3 , i4 )"
   ]
  },
  {
   "cell_type": "code",
   "execution_count": 61,
   "metadata": {},
   "outputs": [
    {
     "name": "stdout",
     "output_type": "stream",
     "text": [
      "(+1 -2)(-4 +3)"
     ]
    }
   ],
   "source": [
    "for Chr in P:\n",
    "    print('(',end='')\n",
    "    for i in range(len(Chr)-1):\n",
    "        print(\"%+d\"%Chr[i],end = ' ')\n",
    "    print('%+d)'%Chr[-1],end='')"
   ]
  },
  {
   "cell_type": "code",
   "execution_count": 77,
   "metadata": {},
   "outputs": [],
   "source": [
    "file = open('dataset_369341_3.txt', 'r') \n",
    "inp1 = ''\n",
    "for i, line in enumerate(file):\n",
    "    line=line.rstrip('\\n')\n",
    "    if(i==0):\n",
    "        inp1 = line\n",
    "    else:\n",
    "        i1,i2,i3,i4 = np.array(line.split(', ')).astype(int)\n",
    "        "
   ]
  },
  {
   "cell_type": "code",
   "execution_count": 78,
   "metadata": {},
   "outputs": [
    {
     "name": "stdout",
     "output_type": "stream",
     "text": [
      "[(24, 108), (107, 106), (105, 110), (109, 7), (8, 21), (22, 94), (93, 69), (70, 86), (85, 116), (115, 9), (10, 97), (98, 71), (72, 5), (6, 51), (52, 101), (102, 44), (43, 122), (121, 117), (118, 14), (13, 67), (68, 62), (61, 38), (37, 48), (47, 125), (126, 17), (18, 42), (41, 78), (77, 103), (104, 15), (16, 123), (124, 66), (65, 130), (129, 26), (25, 46), (45, 4), (3, 32), (31, 12), (11, 120), (119, 74), (73, 91), (92, 81), (82, 49), (50, 2), (1, 114), (113, 132), (131, 63), (64, 84), (83, 33), (34, 40), (39, 60), (59, 75), (76, 95), (96, 112), (111, 54), (53, 127), (128, 57), (58, 79), (80, 27), (28, 88), (87, 29), (30, 55), (56, 99), (100, 19), (20, 89), (90, 36), (35, 23)]\n"
     ]
    }
   ],
   "source": [
    "P = TwoBreakOnGenome(inp1, i1 , i2 , i3 , i4 )"
   ]
  },
  {
   "cell_type": "code",
   "execution_count": 79,
   "metadata": {},
   "outputs": [
    {
     "name": "stdout",
     "output_type": "stream",
     "text": [
      "(+12 -54 -53 -55 +4 +11 -47 +35 -43 -58 +5 +49 +36 +51 -22 -61 +59 -7 +34 -31 -19 -24 +63 +9 -21 -39 +52 +8 +62 -33 -65 -13 -23 -2 -16 -6 -60 -37 +46 +41 +25 -1 -57 -66 +32 -42 +17 -20 -30 +38 +48 -56 -27 +64 +29 +40 +14 -44 +15 +28 +50 +10 +45 -18)(+3 +26)"
     ]
    }
   ],
   "source": [
    "for Chr in P:\n",
    "    print('(',end='')\n",
    "    for i in range(len(Chr)-1):\n",
    "        print(\"%+d\"%Chr[i],end = ' ')\n",
    "    print('%+d)'%Chr[-1],end='')"
   ]
  },
  {
   "cell_type": "code",
   "execution_count": 80,
   "metadata": {},
   "outputs": [
    {
     "data": {
      "text/plain": [
       "[array([ 12, -54, -53, -55,   4,  11, -47,  35, -43, -58,   5,  49,  36,\n",
       "         51, -22, -61,  59,  -7,  34, -31, -19, -24,  63,   9, -21, -39,\n",
       "         52,   8,  62, -33, -65, -13, -23,  -2, -16,  -6, -60, -37,  46,\n",
       "         41,  25,  -1, -57, -66,  32, -42,  17, -20, -30,  38,  48, -56,\n",
       "        -27,  64,  29,  40,  14, -44,  15,  28,  50,  10,  45, -18]),\n",
       " array([ 3, 26])]"
      ]
     },
     "execution_count": 80,
     "metadata": {},
     "output_type": "execute_result"
    }
   ],
   "source": [
    "P"
   ]
  },
  {
   "cell_type": "code",
   "execution_count": 81,
   "metadata": {},
   "outputs": [],
   "source": [
    "def output(P):\n",
    "    for Chr in P:\n",
    "        print('(',end='')\n",
    "        for i in range(len(Chr)-1):\n",
    "            print(\"%+d\"%Chr[i],end = ' ')\n",
    "        print('%+d)'%Chr[-1],end='')"
   ]
  },
  {
   "cell_type": "code",
   "execution_count": 82,
   "metadata": {},
   "outputs": [
    {
     "name": "stdout",
     "output_type": "stream",
     "text": [
      "(+12 -54 -53 -55 +4 +11 -47 +35 -43 -58 +5 +49 +36 +51 -22 -61 +59 -7 +34 -31 -19 -24 +63 +9 -21 -39 +52 +8 +62 -33 -65 -13 -23 -2 -16 -6 -60 -37 +46 +41 +25 -1 -57 -66 +32 -42 +17 -20 -30 +38 +48 -56 -27 +64 +29 +40 +14 -44 +15 +28 +50 +10 +45 -18)(+3 +26)"
     ]
    }
   ],
   "source": [
    "output(P)"
   ]
  },
  {
   "cell_type": "code",
   "execution_count": 87,
   "metadata": {},
   "outputs": [
    {
     "name": "stdout",
     "output_type": "stream",
     "text": [
      "("
     ]
    },
    {
     "ename": "TypeError",
     "evalue": "object of type 'int' has no len()",
     "output_type": "error",
     "traceback": [
      "\u001b[0;31m---------------------------------------------------------------------------\u001b[0m",
      "\u001b[0;31mTypeError\u001b[0m                                 Traceback (most recent call last)",
      "\u001b[0;32m<ipython-input-87-231bb41e7b6a>\u001b[0m in \u001b[0;36m<module>\u001b[0;34m\u001b[0m\n\u001b[0;32m----> 1\u001b[0;31m \u001b[0moutput\u001b[0m\u001b[0;34m(\u001b[0m\u001b[0mGenome1\u001b[0m\u001b[0;34m)\u001b[0m\u001b[0;34m\u001b[0m\u001b[0;34m\u001b[0m\u001b[0m\n\u001b[0m",
      "\u001b[0;32m<ipython-input-81-e7af0b33e87e>\u001b[0m in \u001b[0;36moutput\u001b[0;34m(P)\u001b[0m\n\u001b[1;32m      2\u001b[0m     \u001b[0;32mfor\u001b[0m \u001b[0mChr\u001b[0m \u001b[0;32min\u001b[0m \u001b[0mP\u001b[0m\u001b[0;34m:\u001b[0m\u001b[0;34m\u001b[0m\u001b[0;34m\u001b[0m\u001b[0m\n\u001b[1;32m      3\u001b[0m         \u001b[0mprint\u001b[0m\u001b[0;34m(\u001b[0m\u001b[0;34m'('\u001b[0m\u001b[0;34m,\u001b[0m\u001b[0mend\u001b[0m\u001b[0;34m=\u001b[0m\u001b[0;34m''\u001b[0m\u001b[0;34m)\u001b[0m\u001b[0;34m\u001b[0m\u001b[0;34m\u001b[0m\u001b[0m\n\u001b[0;32m----> 4\u001b[0;31m         \u001b[0;32mfor\u001b[0m \u001b[0mi\u001b[0m \u001b[0;32min\u001b[0m \u001b[0mrange\u001b[0m\u001b[0;34m(\u001b[0m\u001b[0mlen\u001b[0m\u001b[0;34m(\u001b[0m\u001b[0mChr\u001b[0m\u001b[0;34m)\u001b[0m\u001b[0;34m-\u001b[0m\u001b[0;36m1\u001b[0m\u001b[0;34m)\u001b[0m\u001b[0;34m:\u001b[0m\u001b[0;34m\u001b[0m\u001b[0;34m\u001b[0m\u001b[0m\n\u001b[0m\u001b[1;32m      5\u001b[0m             \u001b[0mprint\u001b[0m\u001b[0;34m(\u001b[0m\u001b[0;34m\"%+d\"\u001b[0m\u001b[0;34m%\u001b[0m\u001b[0mChr\u001b[0m\u001b[0;34m[\u001b[0m\u001b[0mi\u001b[0m\u001b[0;34m]\u001b[0m\u001b[0;34m,\u001b[0m\u001b[0mend\u001b[0m \u001b[0;34m=\u001b[0m \u001b[0;34m' '\u001b[0m\u001b[0;34m)\u001b[0m\u001b[0;34m\u001b[0m\u001b[0;34m\u001b[0m\u001b[0m\n\u001b[1;32m      6\u001b[0m         \u001b[0mprint\u001b[0m\u001b[0;34m(\u001b[0m\u001b[0;34m'%+d)'\u001b[0m\u001b[0;34m%\u001b[0m\u001b[0mChr\u001b[0m\u001b[0;34m[\u001b[0m\u001b[0;34m-\u001b[0m\u001b[0;36m1\u001b[0m\u001b[0;34m]\u001b[0m\u001b[0;34m,\u001b[0m\u001b[0mend\u001b[0m\u001b[0;34m=\u001b[0m\u001b[0;34m''\u001b[0m\u001b[0;34m)\u001b[0m\u001b[0;34m\u001b[0m\u001b[0;34m\u001b[0m\u001b[0m\n",
      "\u001b[0;31mTypeError\u001b[0m: object of type 'int' has no len()"
     ]
    }
   ],
   "source": [
    "output(Genome1)"
   ]
  },
  {
   "cell_type": "code",
   "execution_count": 85,
   "metadata": {},
   "outputs": [
    {
     "name": "stdout",
     "output_type": "stream",
     "text": [
      "(+3)"
     ]
    }
   ],
   "source": [
    "output([[3]])"
   ]
  },
  {
   "cell_type": "code",
   "execution_count": 86,
   "metadata": {},
   "outputs": [
    {
     "data": {
      "text/plain": [
       "{0: array([ 1, -2, -4,  3])}"
      ]
     },
     "execution_count": 86,
     "metadata": {},
     "output_type": "execute_result"
    }
   ],
   "source": [
    "Genome1"
   ]
  },
  {
   "cell_type": "code",
   "execution_count": 88,
   "metadata": {},
   "outputs": [
    {
     "name": "stdout",
     "output_type": "stream",
     "text": [
      "[]\n"
     ]
    }
   ],
   "source": [
    "print(Edge1)"
   ]
  },
  {
   "cell_type": "code",
   "execution_count": null,
   "metadata": {},
   "outputs": [],
   "source": []
  }
 ],
 "metadata": {
  "kernelspec": {
   "display_name": "Python 3",
   "language": "python",
   "name": "python3"
  },
  "language_info": {
   "codemirror_mode": {
    "name": "ipython",
    "version": 3
   },
   "file_extension": ".py",
   "mimetype": "text/x-python",
   "name": "python",
   "nbconvert_exporter": "python",
   "pygments_lexer": "ipython3",
   "version": "3.7.3"
  }
 },
 "nbformat": 4,
 "nbformat_minor": 4
}
