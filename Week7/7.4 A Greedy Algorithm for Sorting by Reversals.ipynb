{
 "cells": [
  {
   "cell_type": "code",
   "execution_count": 1,
   "metadata": {},
   "outputs": [],
   "source": [
    "import numpy as np"
   ]
  },
  {
   "cell_type": "code",
   "execution_count": 2,
   "metadata": {},
   "outputs": [],
   "source": [
    "def GreedySorting(P):\n",
    "    ww = open('result', 'w') \n",
    "    approxReversalDistance = 0\n",
    "    P2 = P.copy()\n",
    "    n = len(P)\n",
    "    for k in range(n):\n",
    "        if abs(P[k]) != k+1:\n",
    "            index = -1\n",
    "            for i in range(k,n):\n",
    "                if abs(P[i]) == k+1:\n",
    "                    index = i\n",
    "                    break\n",
    "            for i in range(k,index+1):\n",
    "                P2[i] = -P[index+k-i]\n",
    "            P[k:index+1] = P2[k:index+1]\n",
    "            approxReversalDistance = approxReversalDistance + 1\n",
    "            for j in range(n-1):\n",
    "                #print(\"%+d\"%P[j],end=' ')\n",
    "                ww.write(\"%+d \"%P[j])\n",
    "            #print(\"%+d\"%P[n-1])\n",
    "            ww.write(\"%+d\\n\"%P[n-1])\n",
    "        if P[k] == -(k+1):\n",
    "            P[k] = -P[k]\n",
    "            approxReversalDistance = approxReversalDistance + 1\n",
    "            for j in range(n-1):\n",
    "                #print(\"%+d\"%P[j],end=' ')\n",
    "                ww.write(\"%+d \"%P[j])\n",
    "            #print(\"%+d\"%P[n-1])\n",
    "            ww.write(\"%+d\\n\"%P[n-1])\n",
    "        \n",
    "    return approxReversalDistance"
   ]
  },
  {
   "cell_type": "raw",
   "metadata": {},
   "source": [
    " Sample Input:\n",
    "\n",
    "-3 +4 +1 +5 -2\n",
    "\n",
    "Sample Output:\n",
    "\n",
    "-1 -4 +3 +5 -2\n",
    "+1 -4 +3 +5 -2\n",
    "+1 +2 -5 -3 +4\n",
    "+1 +2 +3 +5 +4\n",
    "+1 +2 +3 -4 -5\n",
    "+1 +2 +3 +4 -5\n",
    "+1 +2 +3 +4 +5"
   ]
  },
  {
   "cell_type": "code",
   "execution_count": 3,
   "metadata": {},
   "outputs": [],
   "source": [
    "P = [-3, +4, +1, +5, -2]"
   ]
  },
  {
   "cell_type": "code",
   "execution_count": 4,
   "metadata": {},
   "outputs": [],
   "source": [
    "P = np.array(P).astype(int)"
   ]
  },
  {
   "cell_type": "code",
   "execution_count": 5,
   "metadata": {},
   "outputs": [
    {
     "data": {
      "text/plain": [
       "7"
      ]
     },
     "execution_count": 5,
     "metadata": {},
     "output_type": "execute_result"
    }
   ],
   "source": [
    "GreedySorting(P)"
   ]
  },
  {
   "cell_type": "code",
   "execution_count": null,
   "metadata": {},
   "outputs": [],
   "source": []
  },
  {
   "cell_type": "code",
   "execution_count": 6,
   "metadata": {},
   "outputs": [],
   "source": [
    "file = open('dataset_369332_4.txt', 'r') \n",
    "\n",
    "for i, line in enumerate(file):\n",
    "    line=line.rstrip('\\n')\n",
    "    if(i==0):\n",
    "        sequence = np.array(line.split(' ')).astype(int)\n",
    "    "
   ]
  },
  {
   "cell_type": "code",
   "execution_count": 7,
   "metadata": {},
   "outputs": [
    {
     "data": {
      "text/plain": [
       "array([ -57,   -5, -114,  -53,  128, -112,  101,  -27, -133,   71,   20,\n",
       "         91,   21,   49, -120, -106,   18,  -43,  -90,   16,  104,  110,\n",
       "       -102,   31,  122,   72,  -19,  -52,   25,  -61,  123,  -95,  109,\n",
       "         -7,  115,  -73,   -9,   38,   58,  -67, -117,   64,  -74,   70,\n",
       "         50,  125,   11,  -84,  -14,  -66,  -93,   32,    2,   15, -130,\n",
       "         29,   98,   37,   12, -116,  -79,  -88,  -96,   30,  105,   33,\n",
       "        -69, -134, -129,  -23,   24,   39,  -82, -121,   -6,   60,  126,\n",
       "        -89,   85,   36,  -51,   13,  108,   -3,  -87,   99,   10,   55,\n",
       "        131,  -80,  -56,   86,    1,  100,   42,  -63,  -17,  -92,   22,\n",
       "        -34,  -35,   59, -132,  -81,  -28,  118, -124,   47,  -68,   54,\n",
       "        127,  -40,  103,   76, -113,    8,   77,  111,  -44,   83,    4,\n",
       "         65,   46,   26, -119,  -94,  107,  -97,  -75,   41,  -48,   62,\n",
       "        -78,   45])"
      ]
     },
     "execution_count": 7,
     "metadata": {},
     "output_type": "execute_result"
    }
   ],
   "source": [
    "sequence"
   ]
  },
  {
   "cell_type": "code",
   "execution_count": 8,
   "metadata": {},
   "outputs": [
    {
     "data": {
      "text/plain": [
       "211"
      ]
     },
     "execution_count": 8,
     "metadata": {},
     "output_type": "execute_result"
    }
   ],
   "source": [
    "GreedySorting(sequence)"
   ]
  },
  {
   "cell_type": "code",
   "execution_count": 9,
   "metadata": {},
   "outputs": [],
   "source": [
    "st = '-340 -324 +233 -345 +21 +120 -366 -419 +105 -25 +356 -148 +279 +59 -110 +231 -375 +330 +199 +48 +122 -42 +236 -365 -26 +275 -60 -227 +259 -338 +183 -126 -223 -354 +93 -288 -221 -332 +219 +400 -350 +147 -286 +143 +161 -213 -234 -152 -17 -109 -116 -176 +131 -55 +323 +267 +285 +82 +287 -61 -207 -83 -1 -7 -188 +242 -78 -396 -392 +274 -258 -371 -309 +69 +45 +57 +314 +228 +373 -90 +159 +348 -239 -257 -136 -63 -144 +162 +104 +278 +406 +182 -170 -158 -169 +265 +399 +226 -201 +33 -79 +357 -118 +212 -343 +196 -154 +326 -89 +187 -291 -269 -240 +115 +405 -130 +195 +386 +310 +281 +420 +85 +172 +128 -16 +49 +404 -304 +376 +331 +168 +73 +282 +124 +302 -232 +121 +398 +355 -74 +146 -247 +165 -75 +362 +5 -395 -253 +41 -316 -205 -56 -24 -37 -262 +150 -250 -409 +283 -290 -64 +10 +378 -211 -43 -51 -65 -370 +235 -35 -377 -84 -353 -40 -34 -103 +125 +28 -422 +209 -335 +108 +294 +328 +6 +417 +38 -29 +36 -284 +206 +296 +300 -100 -312 -237 +166 -76 -384 -244 -208 +245 +397 -140 -401 +119 +261 +299 +292 +347 +194 +80 -62 +117 +9 +238 +214 +382 +321 +71 +307 +252 -218 +190 -308 -3 -98 +30 +361 +171 +341 -106 +295 +298 +352 +418 -13 -413 -387 -129 -351 -254 -319 -58 -318 -94 +315 +177 -87 -317 +391 +181 -180 +416 -132 +402 -163 +151 -408 +97 +142 -77 +46 +67 -27 -342 -364 -173 -210 +134 -388 -349 -359 +368 -276 +91 -339 +92 -264 +255 +193 -11 +385 +263 +230 -191 +241 -225 +268 -320 +272 -149 -81 -31 -139 -337 +164 -204 +19 -403 -123 -222 +289 +360 -306 -367 +248 +23 +39 +380 -260 +135 -224 -22 -107 -383 -246 -12 -369 +297 -344 -99 -305 -280 +44 -412 +113 -167 -156 +145 -336 -325 -101 +203 +53 +47 +50 +389 +293 +8 -137 +410 +346 -220 +186 -256 +249 +215 +153 +311 +141 -127 -72 -138 +411 -421 -390 -303 -358 -216 +192 -266 +333 +313 -277 -270 -32 -102 -189 -2 -68 -414 +329 -334 -271 -198 -114 -174 +393 -155 -327 -175 -273 +70 +95 +217 -301 -4 +52 -88 -18 +229 -54 -415 +184 +200 -363 -243 +202 -112 -251 -379 +178 -179 -157 +197 -160 +185 -381 -96 +372 -374 -15 +133 -111 -394 +20 -407 +14 +322 -86 +66'"
   ]
  },
  {
   "cell_type": "code",
   "execution_count": 10,
   "metadata": {},
   "outputs": [],
   "source": [
    "P = np.array(st.split(' ')).astype(int)"
   ]
  },
  {
   "cell_type": "code",
   "execution_count": null,
   "metadata": {},
   "outputs": [],
   "source": []
  },
  {
   "cell_type": "code",
   "execution_count": 11,
   "metadata": {},
   "outputs": [],
   "source": [
    "#GreedySorting(P)"
   ]
  },
  {
   "cell_type": "code",
   "execution_count": null,
   "metadata": {},
   "outputs": [],
   "source": []
  }
 ],
 "metadata": {
  "kernelspec": {
   "display_name": "Python 3",
   "language": "python",
   "name": "python3"
  },
  "language_info": {
   "codemirror_mode": {
    "name": "ipython",
    "version": 3
   },
   "file_extension": ".py",
   "mimetype": "text/x-python",
   "name": "python",
   "nbconvert_exporter": "python",
   "pygments_lexer": "ipython3",
   "version": "3.7.3"
  }
 },
 "nbformat": 4,
 "nbformat_minor": 4
}
