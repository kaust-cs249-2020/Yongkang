{
 "cells": [
  {
   "cell_type": "code",
   "execution_count": 29,
   "metadata": {},
   "outputs": [],
   "source": [
    "import numpy as np\n",
    "import random"
   ]
  },
  {
   "cell_type": "code",
   "execution_count": 2,
   "metadata": {},
   "outputs": [],
   "source": [
    "def ColoredEdges(P):\n",
    "    Edges = []\n",
    "    for idx,Chromosome in P.items():\n",
    "        Nodes = ChromosomeToCycle(Chromosome)\n",
    "        n = len(Chromosome)\n",
    "        for j in range(n):\n",
    "            if(j<n-1):\n",
    "                Edges.append((int(Nodes[2*j+1]),int(Nodes[2*j+2])))\n",
    "            else:\n",
    "                Edges.append((int(Nodes[2*j+1]),int(Nodes[0])))\n",
    "    return Edges"
   ]
  },
  {
   "cell_type": "code",
   "execution_count": 3,
   "metadata": {},
   "outputs": [],
   "source": [
    "def ChromosomeToCycle(Chromosome):\n",
    "    n = len(Chromosome)\n",
    "    Nodes = np.zeros(2*n)\n",
    "    for j in range(n):\n",
    "        i = Chromosome[j]\n",
    "        if i > 0:\n",
    "            Nodes[2*j] = int(2*i-1)\n",
    "            Nodes[2*j+1]  =  int(2*i)\n",
    "        else:\n",
    "            Nodes[2*j]  = int(-2*i)\n",
    "            Nodes[2*j+1]  =  int(-2*i-1)\n",
    "    return Nodes"
   ]
  },
  {
   "cell_type": "code",
   "execution_count": 77,
   "metadata": {},
   "outputs": [],
   "source": [
    "def Distance(Edge):\n",
    "    Edge_dic1 = {}\n",
    "    Edge_dic2 = {}\n",
    "    for Node in Edge:\n",
    "        Edge_dic1[Node[0]] = Node[1]\n",
    "        Edge_dic2[Node[1]] = Node[0]\n",
    "    i=0\n",
    "    key = -1\n",
    "    val = -1\n",
    "    Firstkey = -1\n",
    "    Cycle_num = 0\n",
    "    while(Edge_dic1):\n",
    "        if(i==0):\n",
    "            key = random.choice(list(Edge_dic1))\n",
    "            Firstkey = key\n",
    "            val = Edge_dic1[key]\n",
    "            print(key,val)\n",
    "            del Edge_dic1[key]\n",
    "            del Edge_dic2[val]\n",
    "            i += 1\n",
    "        else:\n",
    "            key = val\n",
    "            print(key)\n",
    "            if(key in Edge_dic1.keys()):\n",
    "                val = Edge_dic1[key]\n",
    "                del Edge_dic1[key]\n",
    "                del Edge_dic2[val]\n",
    "            elif(key in Edge_dic2.keys()):\n",
    "                val = Edge_dic2[key]\n",
    "                del Edge_dic1[val]\n",
    "                del Edge_dic2[key]\n",
    "            else:\n",
    "                print('No Cycle')\n",
    "                break\n",
    "            i += 1\n",
    "            if(Firstkey == val):\n",
    "                print('yes')\n",
    "                Cycle_num += 1  \n",
    "                i=0\n",
    "    return Cycle_num"
   ]
  },
  {
   "cell_type": "code",
   "execution_count": null,
   "metadata": {},
   "outputs": [],
   "source": [
    "def Distance(Edge):\n",
    "    Edge_dic1 = {}\n",
    "    Edge_dic2 = {}\n",
    "    for Node in Edge:\n",
    "        Edge_dic1[Node[0]] = Node[1]\n",
    "        Edge_dic2[Node[1]] = Node[0]\n",
    "    i=0\n",
    "    key = -1\n",
    "    val = -1\n",
    "    Firstkey = -1\n",
    "    Cycle_num = 0\n",
    "    while(Edge_dic1):\n",
    "        if(i==0):\n",
    "            key = random.choice(list(Edge_dic1))\n",
    "            Firstkey = key\n",
    "            val = Edge_dic1[key]\n",
    "            print(key,val)\n",
    "            del Edge_dic1[key]\n",
    "            del Edge_dic2[val]\n",
    "            i += 1\n",
    "        else:\n",
    "            key = val\n",
    "            print(key)\n",
    "            if(key in Edge_dic1.keys()):\n",
    "                val = Edge_dic1[key]\n",
    "                del Edge_dic1[key]\n",
    "                del Edge_dic2[val]\n",
    "            elif(key in Edge_dic2.keys()):\n",
    "                val = Edge_dic2[key]\n",
    "                del Edge_dic1[val]\n",
    "                del Edge_dic2[key]\n",
    "            else:\n",
    "                print('No Cycle')\n",
    "                break\n",
    "            i += 1\n",
    "            if(Firstkey == val):\n",
    "                print('yes')\n",
    "                Cycle_num += 1  \n",
    "                i=0\n",
    "    return Cycle_num"
   ]
  },
  {
   "cell_type": "code",
   "execution_count": 84,
   "metadata": {},
   "outputs": [],
   "source": [
    "def Distance(Edge):\n",
    "    StartPoint = Edge[0][0]\n",
    "    node_suf =  Edge[0][1]\n",
    "    Edge.pop(0)\n",
    "    Cycle_num = 0\n",
    "    while(Edge):\n",
    "        for i in range(len(Edge)):\n",
    "            Node = Edge[i]\n",
    "            if(Node[0] == node_suf):\n",
    "                node_suf = Node[1]\n",
    "                Edge.pop(i)\n",
    "                break\n",
    "            elif(Node[1] == node_suf):\n",
    "                node_suf = Node[0]\n",
    "                Edge.pop(i)\n",
    "                break\n",
    "                \n",
    "        if(node_suf == StartPoint):\n",
    "            if(not Edge):\n",
    "                return Cycle_num +1\n",
    "            Cycle_num += 1\n",
    "            StartPoint = Edge[0][0]\n",
    "            node_suf =  Edge[0][1]\n",
    "            Edge.pop(0)\n",
    "    return Cycle_num\n",
    "        \n",
    "        "
   ]
  },
  {
   "cell_type": "code",
   "execution_count": 81,
   "metadata": {},
   "outputs": [
    {
     "data": {
      "text/plain": [
       "[4, 5, 6, 7, 8]"
      ]
     },
     "execution_count": 81,
     "metadata": {},
     "output_type": "execute_result"
    }
   ],
   "source": [
    "a = [3,4,5,6,7,8]\n",
    "a.pop(0)\n",
    "a"
   ]
  },
  {
   "cell_type": "raw",
   "metadata": {},
   "source": [
    "Sample Input:if\n",
    "\n",
    "(+1 +2 +3 +4 +5 +6)\n",
    "(+1 -3 -6 -5)(+2 -4)\n",
    "\n",
    "Sample Output:\n",
    "\n",
    "3"
   ]
  },
  {
   "cell_type": "code",
   "execution_count": 39,
   "metadata": {},
   "outputs": [],
   "source": [
    "def PreProcess(inp):\n",
    "    Genome = {}\n",
    "    inp = np.array(inp.split(')'))\n",
    "    for i in range(len(inp)-1):\n",
    "        chrm = inp[i]\n",
    "        chrm = chrm[1:]\n",
    "        Genome[i] = np.array(chrm.split(' ')).astype(int)\n",
    "    return Genome"
   ]
  },
  {
   "cell_type": "code",
   "execution_count": 40,
   "metadata": {},
   "outputs": [],
   "source": [
    "inp1 = '(+1 +2 +3 +4 +5 +6)'\n",
    "inp2 = '(+1 -3 -6 -5)(+2 -4)'"
   ]
  },
  {
   "cell_type": "code",
   "execution_count": 41,
   "metadata": {},
   "outputs": [],
   "source": [
    "Genome1 = PreProcess(inp1)\n",
    "Genome2 = PreProcess(inp2)"
   ]
  },
  {
   "cell_type": "code",
   "execution_count": 42,
   "metadata": {},
   "outputs": [],
   "source": [
    "Edge1 = ColoredEdges(Genome1)\n",
    "Edge2 = ColoredEdges(Genome2)"
   ]
  },
  {
   "cell_type": "code",
   "execution_count": 86,
   "metadata": {},
   "outputs": [],
   "source": [
    "Edge = Edge1 + Edge2"
   ]
  },
  {
   "cell_type": "code",
   "execution_count": 87,
   "metadata": {},
   "outputs": [
    {
     "data": {
      "text/plain": [
       "3"
      ]
     },
     "execution_count": 87,
     "metadata": {},
     "output_type": "execute_result"
    }
   ],
   "source": [
    "Distance(Edge)"
   ]
  },
  {
   "cell_type": "code",
   "execution_count": 90,
   "metadata": {},
   "outputs": [],
   "source": [
    "file = open('dataset_369337_4.txt', 'r') \n",
    "inp1\n",
    "inp2\n",
    "for i, line in enumerate(file):\n",
    "    line=line.rstrip('\\n')\n",
    "    if(i==0):\n",
    "        inp1 = line\n",
    "    else:\n",
    "        inp2 = line"
   ]
  },
  {
   "cell_type": "code",
   "execution_count": 92,
   "metadata": {},
   "outputs": [],
   "source": [
    "Genome1 = PreProcess(inp1)\n",
    "Genome2 = PreProcess(inp2)"
   ]
  },
  {
   "cell_type": "code",
   "execution_count": 95,
   "metadata": {},
   "outputs": [],
   "source": [
    "Edge1 = ColoredEdges(Genome1)\n",
    "Edge2 = ColoredEdges(Genome2)"
   ]
  },
  {
   "cell_type": "code",
   "execution_count": 96,
   "metadata": {},
   "outputs": [],
   "source": [
    "Edge = Edge1 + Edge2"
   ]
  },
  {
   "cell_type": "code",
   "execution_count": null,
   "metadata": {},
   "outputs": [],
   "source": []
  }
 ],
 "metadata": {
  "kernelspec": {
   "display_name": "Python 3",
   "language": "python",
   "name": "python3"
  },
  "language_info": {
   "codemirror_mode": {
    "name": "ipython",
    "version": 3
   },
   "file_extension": ".py",
   "mimetype": "text/x-python",
   "name": "python",
   "nbconvert_exporter": "python",
   "pygments_lexer": "ipython3",
   "version": "3.7.3"
  }
 },
 "nbformat": 4,
 "nbformat_minor": 4
}
