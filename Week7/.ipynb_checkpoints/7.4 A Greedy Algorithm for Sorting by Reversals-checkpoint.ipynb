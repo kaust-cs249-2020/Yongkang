{
 "cells": [
  {
   "cell_type": "code",
   "execution_count": 1,
   "metadata": {},
   "outputs": [],
   "source": [
    "def GreedySorting(P):\n",
    "    approxReversalDistance = 0\n",
    "    P2 = P.copy()\n",
    "    n = len(P)\n",
    "    for k in range(n):\n",
    "        if abs(P[k]) != k+1:\n",
    "            index = -1\n",
    "            for i in range(k,n):\n",
    "                if abs(P[i]) == k+1:\n",
    "                    index = i\n",
    "                    break\n",
    "            for i in range(k,index+1):\n",
    "                P2[i] = -P[index+k-i]\n",
    "            P[k:index+1] = P2[k:index+1]\n",
    "            approxReversalDistance = approxReversalDistance + 1\n",
    "            for j in range(n-1):\n",
    "                print(\"%+d\"%P[j],end=' ')\n",
    "            print(P[n-1])\n",
    "        if P[k] == -(k+1):\n",
    "            P[k] = -P[k]\n",
    "            approxReversalDistance = approxReversalDistance + 1\n",
    "            for j in range(n-1):\n",
    "                print(\"%+d\"%P[j],end=' ')\n",
    "            print(P[n-1])\n",
    "            \n",
    "        \n",
    "    return approxReversalDistance"
   ]
  },
  {
   "cell_type": "raw",
   "metadata": {},
   "source": [
    " Sample Input:\n",
    "\n",
    "-3 +4 +1 +5 -2\n",
    "\n",
    "Sample Output:\n",
    "\n",
    "-1 -4 +3 +5 -2\n",
    "+1 -4 +3 +5 -2\n",
    "+1 +2 -5 -3 +4\n",
    "+1 +2 +3 +5 +4\n",
    "+1 +2 +3 -4 -5\n",
    "+1 +2 +3 +4 -5\n",
    "+1 +2 +3 +4 +5"
   ]
  },
  {
   "cell_type": "code",
   "execution_count": 2,
   "metadata": {},
   "outputs": [],
   "source": [
    "P = [-3, +4, +1, +5, -2]"
   ]
  },
  {
   "cell_type": "code",
   "execution_count": 3,
   "metadata": {},
   "outputs": [
    {
     "data": {
      "text/plain": [
       "[5]"
      ]
     },
     "execution_count": 3,
     "metadata": {},
     "output_type": "execute_result"
    }
   ],
   "source": [
    "P[3:4]"
   ]
  },
  {
   "cell_type": "code",
   "execution_count": 4,
   "metadata": {},
   "outputs": [
    {
     "name": "stdout",
     "output_type": "stream",
     "text": [
      "-1 -4 +3 +5 -2\n",
      "+1 -4 +3 +5 -2\n",
      "+1 +2 -5 -3 4\n",
      "+1 +2 +3 +5 4\n",
      "+1 +2 +3 -4 -5\n",
      "+1 +2 +3 +4 -5\n",
      "+1 +2 +3 +4 5\n"
     ]
    },
    {
     "data": {
      "text/plain": [
       "7"
      ]
     },
     "execution_count": 4,
     "metadata": {},
     "output_type": "execute_result"
    }
   ],
   "source": [
    "GreedySorting(P)"
   ]
  },
  {
   "cell_type": "code",
   "execution_count": null,
   "metadata": {},
   "outputs": [],
   "source": [
    "import numpy as np"
   ]
  },
  {
   "cell_type": "code",
   "execution_count": 6,
   "metadata": {},
   "outputs": [],
   "source": [
    "file = open('dataset_369332_4.txt', 'r') \n",
    "\n",
    "for i, line in enumerate(file):\n",
    "    line=line.rstrip('\\n')\n",
    "    if(i==0):\n",
    "        sequence = np.array(line.split(' ')).astype\n",
    "    "
   ]
  },
  {
   "cell_type": "code",
   "execution_count": 7,
   "metadata": {},
   "outputs": [
    {
     "data": {
      "text/plain": [
       "['-20',\n",
       " '-35',\n",
       " '-116',\n",
       " '-10',\n",
       " '-58',\n",
       " '-132',\n",
       " '-4',\n",
       " '-113',\n",
       " '-7',\n",
       " '+49',\n",
       " '-13',\n",
       " '+79',\n",
       " '-55',\n",
       " '-122',\n",
       " '-34',\n",
       " '-130',\n",
       " '+15',\n",
       " '+31',\n",
       " '+44',\n",
       " '-91',\n",
       " '+62',\n",
       " '+102',\n",
       " '+1',\n",
       " '+94',\n",
       " '+74',\n",
       " '+89',\n",
       " '-48',\n",
       " '-99',\n",
       " '-68',\n",
       " '-26',\n",
       " '-96',\n",
       " '-87',\n",
       " '+23',\n",
       " '+81',\n",
       " '+17',\n",
       " '+19',\n",
       " '+42',\n",
       " '-73',\n",
       " '-110',\n",
       " '+22',\n",
       " '-123',\n",
       " '+32',\n",
       " '-80',\n",
       " '-2',\n",
       " '-86',\n",
       " '-126',\n",
       " '+40',\n",
       " '-109',\n",
       " '+53',\n",
       " '-76',\n",
       " '+82',\n",
       " '+24',\n",
       " '+28',\n",
       " '-92',\n",
       " '-127',\n",
       " '-8',\n",
       " '-16',\n",
       " '+21',\n",
       " '+104',\n",
       " '-101',\n",
       " '+69',\n",
       " '-114',\n",
       " '+57',\n",
       " '-52',\n",
       " '+105',\n",
       " '+108',\n",
       " '+95',\n",
       " '+11',\n",
       " '+131',\n",
       " '-54',\n",
       " '+43',\n",
       " '+67',\n",
       " '-78',\n",
       " '-9',\n",
       " '-115',\n",
       " '-65',\n",
       " '-25',\n",
       " '-120',\n",
       " '-60',\n",
       " '-64',\n",
       " '+63',\n",
       " '-117',\n",
       " '-121',\n",
       " '-30',\n",
       " '-41',\n",
       " '-103',\n",
       " '+128',\n",
       " '+27',\n",
       " '+111',\n",
       " '+88',\n",
       " '+83',\n",
       " '+129',\n",
       " '-93',\n",
       " '-75',\n",
       " '-100',\n",
       " '+6',\n",
       " '+59',\n",
       " '-90',\n",
       " '-3',\n",
       " '-71',\n",
       " '+61',\n",
       " '-39',\n",
       " '-51',\n",
       " '-107',\n",
       " '+77',\n",
       " '-84',\n",
       " '+85',\n",
       " '+12',\n",
       " '-66',\n",
       " '+38',\n",
       " '-70',\n",
       " '-37',\n",
       " '+45',\n",
       " '-46',\n",
       " '-36',\n",
       " '+106',\n",
       " '+119',\n",
       " '-14',\n",
       " '-125',\n",
       " '+124',\n",
       " '+118',\n",
       " '-33',\n",
       " '-56',\n",
       " '-29',\n",
       " '-97',\n",
       " '+47',\n",
       " '+98',\n",
       " '+18',\n",
       " '-72',\n",
       " '-134',\n",
       " '+133',\n",
       " '-112',\n",
       " '+5',\n",
       " '+50']"
      ]
     },
     "execution_count": 7,
     "metadata": {},
     "output_type": "execute_result"
    }
   ],
   "source": [
    "sequence"
   ]
  },
  {
   "cell_type": "code",
   "execution_count": null,
   "metadata": {},
   "outputs": [],
   "source": []
  }
 ],
 "metadata": {
  "kernelspec": {
   "display_name": "Python 3",
   "language": "python",
   "name": "python3"
  },
  "language_info": {
   "codemirror_mode": {
    "name": "ipython",
    "version": 3
   },
   "file_extension": ".py",
   "mimetype": "text/x-python",
   "name": "python",
   "nbconvert_exporter": "python",
   "pygments_lexer": "ipython3",
   "version": "3.7.3"
  }
 },
 "nbformat": 4,
 "nbformat_minor": 4
}
