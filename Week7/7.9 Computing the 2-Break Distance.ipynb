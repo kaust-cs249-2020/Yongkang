{
 "cells": [
  {
   "cell_type": "code",
   "execution_count": 29,
   "metadata": {},
   "outputs": [],
   "source": [
    "import numpy as np\n",
    "import random"
   ]
  },
  {
   "cell_type": "code",
   "execution_count": 2,
   "metadata": {},
   "outputs": [],
   "source": [
    "def ColoredEdges(P):\n",
    "    Edges = []\n",
    "    for idx,Chromosome in P.items():\n",
    "        Nodes = ChromosomeToCycle(Chromosome)\n",
    "        n = len(Chromosome)\n",
    "        for j in range(n):\n",
    "            if(j<n-1):\n",
    "                Edges.append((int(Nodes[2*j+1]),int(Nodes[2*j+2])))\n",
    "            else:\n",
    "                Edges.append((int(Nodes[2*j+1]),int(Nodes[0])))\n",
    "    return Edges"
   ]
  },
  {
   "cell_type": "code",
   "execution_count": 3,
   "metadata": {},
   "outputs": [],
   "source": [
    "def ChromosomeToCycle(Chromosome):\n",
    "    n = len(Chromosome)\n",
    "    Nodes = np.zeros(2*n)\n",
    "    for j in range(n):\n",
    "        i = Chromosome[j]\n",
    "        if i > 0:\n",
    "            Nodes[2*j] = int(2*i-1)\n",
    "            Nodes[2*j+1]  =  int(2*i)\n",
    "        else:\n",
    "            Nodes[2*j]  = int(-2*i)\n",
    "            Nodes[2*j+1]  =  int(-2*i-1)\n",
    "    return Nodes"
   ]
  },
  {
   "cell_type": "code",
   "execution_count": 84,
   "metadata": {},
   "outputs": [],
   "source": [
    "def Distance(Edge):\n",
    "    StartPoint = Edge[0][0]\n",
    "    node_suf =  Edge[0][1]\n",
    "    Edge.pop(0)\n",
    "    Cycle_num = 0\n",
    "    while(Edge):\n",
    "        for i in range(len(Edge)):\n",
    "            Node = Edge[i]\n",
    "            if(Node[0] == node_suf):\n",
    "                node_suf = Node[1]\n",
    "                Edge.pop(i)\n",
    "                break\n",
    "            elif(Node[1] == node_suf):\n",
    "                node_suf = Node[0]\n",
    "                Edge.pop(i)\n",
    "                break\n",
    "                \n",
    "        if(node_suf == StartPoint):\n",
    "            if(not Edge):\n",
    "                return Cycle_num +1\n",
    "            Cycle_num += 1\n",
    "            StartPoint = Edge[0][0]\n",
    "            node_suf =  Edge[0][1]\n",
    "            Edge.pop(0)\n",
    "    return Cycle_num\n",
    "        \n",
    "        "
   ]
  },
  {
   "cell_type": "code",
   "execution_count": 81,
   "metadata": {},
   "outputs": [
    {
     "data": {
      "text/plain": [
       "[4, 5, 6, 7, 8]"
      ]
     },
     "execution_count": 81,
     "metadata": {},
     "output_type": "execute_result"
    }
   ],
   "source": [
    "a = [3,4,5,6,7,8]\n",
    "a.pop(0)\n",
    "a"
   ]
  },
  {
   "cell_type": "raw",
   "metadata": {},
   "source": [
    "Sample Input:if\n",
    "\n",
    "(+1 +2 +3 +4 +5 +6)\n",
    "(+1 -3 -6 -5)(+2 -4)\n",
    "\n",
    "Sample Output:\n",
    "\n",
    "3"
   ]
  },
  {
   "cell_type": "code",
   "execution_count": 39,
   "metadata": {},
   "outputs": [],
   "source": [
    "def PreProcess(inp):\n",
    "    Genome = {}\n",
    "    inp = np.array(inp.split(')'))\n",
    "    for i in range(len(inp)-1):\n",
    "        chrm = inp[i]\n",
    "        chrm = chrm[1:]\n",
    "        Genome[i] = np.array(chrm.split(' ')).astype(int)\n",
    "    return Genome"
   ]
  },
  {
   "cell_type": "code",
   "execution_count": 117,
   "metadata": {},
   "outputs": [],
   "source": [
    "inp1 = '(+1 +2 +3 +4 +5 +6)'\n",
    "inp2 = '(+1 -3 -6 -5)(+2 -4)'"
   ]
  },
  {
   "cell_type": "code",
   "execution_count": 118,
   "metadata": {},
   "outputs": [],
   "source": [
    "Genome1 = PreProcess(inp1)\n",
    "Genome2 = PreProcess(inp2)"
   ]
  },
  {
   "cell_type": "code",
   "execution_count": 119,
   "metadata": {},
   "outputs": [],
   "source": [
    "Edge1 = ColoredEdges(Genome1)\n",
    "Edge2 = ColoredEdges(Genome2)"
   ]
  },
  {
   "cell_type": "code",
   "execution_count": 120,
   "metadata": {},
   "outputs": [],
   "source": [
    "Edge = Edge1 + Edge2"
   ]
  },
  {
   "cell_type": "code",
   "execution_count": 121,
   "metadata": {},
   "outputs": [
    {
     "data": {
      "text/plain": [
       "3"
      ]
     },
     "execution_count": 121,
     "metadata": {},
     "output_type": "execute_result"
    }
   ],
   "source": [
    "Distance(Edge)"
   ]
  },
  {
   "cell_type": "code",
   "execution_count": 108,
   "metadata": {},
   "outputs": [],
   "source": [
    "file = open('dataset_369337_4.txt', 'r') \n",
    "inp1\n",
    "inp2\n",
    "for i, line in enumerate(file):\n",
    "    line=line.rstrip('\\n')\n",
    "    if(i==0):\n",
    "        inp1 = line\n",
    "    else:\n",
    "        inp2 = line"
   ]
  },
  {
   "cell_type": "code",
   "execution_count": 109,
   "metadata": {},
   "outputs": [],
   "source": [
    "Genome1 = PreProcess(inp1)\n",
    "Genome2 = PreProcess(inp2)"
   ]
  },
  {
   "cell_type": "code",
   "execution_count": 110,
   "metadata": {},
   "outputs": [],
   "source": [
    "Edge1 = ColoredEdges(Genome1)\n",
    "Edge2 = ColoredEdges(Genome2)"
   ]
  },
  {
   "cell_type": "code",
   "execution_count": 125,
   "metadata": {},
   "outputs": [],
   "source": [
    "Edge = Edge1 + Edge2"
   ]
  },
  {
   "cell_type": "code",
   "execution_count": 112,
   "metadata": {},
   "outputs": [
    {
     "data": {
      "text/plain": [
       "4"
      ]
     },
     "execution_count": 112,
     "metadata": {},
     "output_type": "execute_result"
    }
   ],
   "source": [
    "Distance(Edge)"
   ]
  },
  {
   "cell_type": "code",
   "execution_count": 113,
   "metadata": {},
   "outputs": [
    {
     "data": {
      "text/plain": [
       "9112"
      ]
     },
     "execution_count": 113,
     "metadata": {},
     "output_type": "execute_result"
    }
   ],
   "source": [
    "len(Edge2)"
   ]
  },
  {
   "cell_type": "code",
   "execution_count": 105,
   "metadata": {},
   "outputs": [
    {
     "data": {
      "text/plain": [
       "9271"
      ]
     },
     "execution_count": 105,
     "metadata": {},
     "output_type": "execute_result"
    }
   ],
   "source": [
    "9278-7"
   ]
  },
  {
   "cell_type": "code",
   "execution_count": 114,
   "metadata": {},
   "outputs": [
    {
     "data": {
      "text/plain": [
       "9112"
      ]
     },
     "execution_count": 114,
     "metadata": {},
     "output_type": "execute_result"
    }
   ],
   "source": [
    "len(Edge1)"
   ]
  },
  {
   "cell_type": "code",
   "execution_count": 115,
   "metadata": {},
   "outputs": [
    {
     "data": {
      "text/plain": [
       "9108"
      ]
     },
     "execution_count": 115,
     "metadata": {},
     "output_type": "execute_result"
    }
   ],
   "source": [
    "9112-4"
   ]
  },
  {
   "cell_type": "code",
   "execution_count": 122,
   "metadata": {},
   "outputs": [
    {
     "data": {
      "text/plain": [
       "[(2, 3), (4, 5), (6, 7), (8, 9), (10, 11), (12, 1)]"
      ]
     },
     "execution_count": 122,
     "metadata": {},
     "output_type": "execute_result"
    }
   ],
   "source": [
    "Edge1"
   ]
  },
  {
   "cell_type": "code",
   "execution_count": 123,
   "metadata": {},
   "outputs": [
    {
     "data": {
      "text/plain": [
       "[(2, 6), (5, 12), (11, 10), (9, 1), (4, 8), (7, 3)]"
      ]
     },
     "execution_count": 123,
     "metadata": {},
     "output_type": "execute_result"
    }
   ],
   "source": [
    "Edge2"
   ]
  },
  {
   "cell_type": "code",
   "execution_count": 126,
   "metadata": {},
   "outputs": [
    {
     "data": {
      "text/plain": [
       "[(2, 3),\n",
       " (4, 5),\n",
       " (6, 7),\n",
       " (8, 9),\n",
       " (10, 11),\n",
       " (12, 1),\n",
       " (2, 6),\n",
       " (5, 12),\n",
       " (11, 10),\n",
       " (9, 1),\n",
       " (4, 8),\n",
       " (7, 3)]"
      ]
     },
     "execution_count": 126,
     "metadata": {},
     "output_type": "execute_result"
    }
   ],
   "source": [
    "Edge"
   ]
  },
  {
   "cell_type": "code",
   "execution_count": 127,
   "metadata": {},
   "outputs": [],
   "source": [
    "a  = [2,3]\n",
    "b  = [3,4]"
   ]
  },
  {
   "cell_type": "code",
   "execution_count": 128,
   "metadata": {},
   "outputs": [
    {
     "data": {
      "text/plain": [
       "[2, 3, 3, 4]"
      ]
     },
     "execution_count": 128,
     "metadata": {},
     "output_type": "execute_result"
    }
   ],
   "source": [
    "a+b"
   ]
  },
  {
   "cell_type": "code",
   "execution_count": 147,
   "metadata": {},
   "outputs": [],
   "source": [
    "(i1,i2),(i3,i4) = random.sample(Edge1,2)"
   ]
  },
  {
   "cell_type": "code",
   "execution_count": 148,
   "metadata": {},
   "outputs": [
    {
     "data": {
      "text/plain": [
       "(4, 5, 2, 3)"
      ]
     },
     "execution_count": 148,
     "metadata": {},
     "output_type": "execute_result"
    }
   ],
   "source": [
    "i1,i2,i3,i4"
   ]
  },
  {
   "cell_type": "code",
   "execution_count": null,
   "metadata": {},
   "outputs": [],
   "source": []
  }
 ],
 "metadata": {
  "kernelspec": {
   "display_name": "Python 3",
   "language": "python",
   "name": "python3"
  },
  "language_info": {
   "codemirror_mode": {
    "name": "ipython",
    "version": 3
   },
   "file_extension": ".py",
   "mimetype": "text/x-python",
   "name": "python",
   "nbconvert_exporter": "python",
   "pygments_lexer": "ipython3",
   "version": "3.7.3"
  }
 },
 "nbformat": 4,
 "nbformat_minor": 4
}
