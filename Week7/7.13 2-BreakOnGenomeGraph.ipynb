{
 "cells": [
  {
   "cell_type": "code",
   "execution_count": 12,
   "metadata": {},
   "outputs": [],
   "source": [
    "import numpy as np"
   ]
  },
  {
   "cell_type": "code",
   "execution_count": 7,
   "metadata": {},
   "outputs": [],
   "source": [
    "def TwoBreakOnGenomeGraph(GenomeGraph, i1 , i2 , i3 , i4):\n",
    "     #remove colored edges (i1, i2) and (i3, i4) from GenomeGraph\n",
    "    if (i1,i2) in GenomeGraph:\n",
    "        GenomeGraph.remove((i1,i2))\n",
    "    else:\n",
    "        GenomeGraph.remove((i2,i1))\n",
    "    if (i3,i4) in GenomeGraph:\n",
    "        GenomeGraph.remove((i3,i4))\n",
    "    else:\n",
    "        GenomeGraph.remove((i4,i3))\n",
    "     #add colored edges (i1, i3) and (i2, i4) to GenomeGraph\n",
    "    GenomeGraph.append((i1,i3))\n",
    "    GenomeGraph.append((i2,i4))\n",
    "    return GenomeGraph"
   ]
  },
  {
   "cell_type": "raw",
   "metadata": {},
   "source": [
    " Sample Input:\n",
    "\n",
    "(2, 4), (3, 8), (7, 5), (6, 1)\n",
    "1, 6, 3, 8\n",
    "\n",
    "Sample Output:\n",
    "\n",
    "(2, 4), (3, 1), (7, 5), (6, 8)"
   ]
  },
  {
   "cell_type": "code",
   "execution_count": 11,
   "metadata": {},
   "outputs": [],
   "source": [
    "line = '(2, 4), (3, 8), (7, 5), (6, 1)'\n",
    "def PreProcess(line):\n",
    "    line = line[1:-1]\n",
    "    line = line.split('), (')\n",
    "    Edge = []\n",
    "    for node in line:\n",
    "        node1,node2 = node.split(', ')\n",
    "        Edge.append((int(node1),int(node2)))\n",
    "    return Edge"
   ]
  },
  {
   "cell_type": "code",
   "execution_count": 9,
   "metadata": {},
   "outputs": [],
   "source": [
    "i1,i2,i3,i4  = 1,6,3,8"
   ]
  },
  {
   "cell_type": "code",
   "execution_count": 10,
   "metadata": {},
   "outputs": [
    {
     "data": {
      "text/plain": [
       "[(2, 4), (7, 5), (1, 3), (6, 8)]"
      ]
     },
     "execution_count": 10,
     "metadata": {},
     "output_type": "execute_result"
    }
   ],
   "source": [
    "TwoBreakOnGenomeGraph(Edge, i1 , i2 , i3 , i4)"
   ]
  },
  {
   "cell_type": "code",
   "execution_count": 18,
   "metadata": {},
   "outputs": [],
   "source": [
    "file = open('dataset_369341_2.txt', 'r') \n",
    "Edge = []\n",
    "for i, line in enumerate(file):\n",
    "    line=line.rstrip('\\n')\n",
    "    if(i==0):\n",
    "        Edge = PreProcess(line)\n",
    "    else:\n",
    "        i1,i2,i3,i4 = np.array(line.split(', ')).astype(int)\n",
    "        "
   ]
  },
  {
   "cell_type": "code",
   "execution_count": 19,
   "metadata": {},
   "outputs": [
    {
     "name": "stdout",
     "output_type": "stream",
     "text": [
      "(1, 4), (3, 6), (5, 8), (7, 10), (9, 11), (12, 13), (14, 15), (16, 18), (17, 20), (19, 21), (22, 24), (23, 26), (25, 27), (28, 29), (30, 31), (32, 33), (34, 35), (36, 38), (37, 40), (39, 41), (42, 43), (44, 46), (45, 47), (48, 50), (49, 51), (52, 53), (54, 55), (56, 57), (59, 62), (61, 63), (64, 65), (66, 67), (68, 69), (70, 71), (72, 74), (73, 76), (75, 78), (77, 80), (79, 82), (81, 83), (84, 86), (85, 87), (88, 89), (90, 92), (91, 93), (94, 95), (96, 97), (98, 100), (99, 102), (101, 103), (104, 105), (106, 108), (107, 110), (109, 111), (112, 114), (113, 115), (116, 117), (118, 120), (119, 121), (122, 124), (123, 126), (125, 127), (128, 129), (132, 133), (134, 136), (135, 137), (138, 2), (130, 58), (131, 60), "
     ]
    }
   ],
   "source": [
    "for i in TwoBreakOnGenomeGraph(Edge, i1 , i2 , i3 , i4):\n",
    "    print(i,end=', ')"
   ]
  },
  {
   "cell_type": "code",
   "execution_count": null,
   "metadata": {},
   "outputs": [],
   "source": []
  }
 ],
 "metadata": {
  "kernelspec": {
   "display_name": "Python 3",
   "language": "python",
   "name": "python3"
  },
  "language_info": {
   "codemirror_mode": {
    "name": "ipython",
    "version": 3
   },
   "file_extension": ".py",
   "mimetype": "text/x-python",
   "name": "python",
   "nbconvert_exporter": "python",
   "pygments_lexer": "ipython3",
   "version": "3.7.3"
  }
 },
 "nbformat": 4,
 "nbformat_minor": 4
}
