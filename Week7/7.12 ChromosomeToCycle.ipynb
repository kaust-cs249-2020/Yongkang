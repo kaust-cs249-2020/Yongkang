{
 "cells": [
  {
   "cell_type": "code",
   "execution_count": 1,
   "metadata": {},
   "outputs": [],
   "source": [
    "import numpy as np"
   ]
  },
  {
   "cell_type": "code",
   "execution_count": 20,
   "metadata": {},
   "outputs": [],
   "source": [
    "def ChromosomeToCycle(Chromosome):\n",
    "    n = len(Chromosome)\n",
    "    Nodes = np.zeros(2*n)\n",
    "    for j in range(n):\n",
    "        i = Chromosome[j]\n",
    "        if i > 0:\n",
    "            Nodes[2*j] = 2*i-1\n",
    "            Nodes[2*j+1]  =  2*i\n",
    "        else:\n",
    "            Nodes[2*j]  = -2*i\n",
    "            Nodes[2*j+1]  =  -2*i-1\n",
    "    return Nodes"
   ]
  },
  {
   "cell_type": "code",
   "execution_count": 21,
   "metadata": {},
   "outputs": [],
   "source": [
    "Chromosome = '+1 -2 -3 +4'\n",
    "Chromosome = np.array(Chromosome.split(' ')).astype(int)"
   ]
  },
  {
   "cell_type": "code",
   "execution_count": 23,
   "metadata": {},
   "outputs": [],
   "source": [
    "output = ChromosomeToCycle(Chromosome)"
   ]
  },
  {
   "cell_type": "code",
   "execution_count": 30,
   "metadata": {},
   "outputs": [
    {
     "name": "stdout",
     "output_type": "stream",
     "text": [
      "(1 2 4 3 6 5 7 8 )\n"
     ]
    }
   ],
   "source": [
    "print('(',end='')\n",
    "for out in output:\n",
    "    print(int(out),end = ' ')\n",
    "print(')')"
   ]
  },
  {
   "cell_type": "code",
   "execution_count": 40,
   "metadata": {},
   "outputs": [],
   "source": [
    "file = open('dataset_369340_4.txt', 'r') \n",
    "for i, line in enumerate(file):\n",
    "    line=line.rstrip('\\n')\n",
    "    line = line[1:len(line)-1]\n",
    "    if(i==0):\n",
    "        sequence = np.array(line.split(' ')).astype(int)    "
   ]
  },
  {
   "cell_type": "code",
   "execution_count": 41,
   "metadata": {},
   "outputs": [
    {
     "data": {
      "text/plain": [
       "array([ -1,   2,   3,  -4,   5,   6,   7,   8,  -9, -10,  11, -12,  13,\n",
       "        14,  15,  16, -17,  18,  19,  20,  21, -22,  23, -24,  25,  26,\n",
       "       -27, -28,  29, -30, -31,  32,  33, -34,  35, -36, -37, -38, -39,\n",
       "       -40,  41,  42, -43, -44,  45, -46, -47,  48, -49, -50,  51, -52,\n",
       "       -53,  54,  55,  56, -57,  58, -59, -60,  61, -62,  63,  64, -65,\n",
       "       -66,  67,  68])"
      ]
     },
     "execution_count": 41,
     "metadata": {},
     "output_type": "execute_result"
    }
   ],
   "source": [
    "sequence"
   ]
  },
  {
   "cell_type": "code",
   "execution_count": 42,
   "metadata": {},
   "outputs": [],
   "source": [
    "output = ChromosomeToCycle(sequence)"
   ]
  },
  {
   "cell_type": "code",
   "execution_count": 43,
   "metadata": {},
   "outputs": [
    {
     "name": "stdout",
     "output_type": "stream",
     "text": [
      "(2 1 3 4 5 6 8 7 9 10 11 12 13 14 15 16 18 17 20 19 21 22 24 23 25 26 27 28 29 30 31 32 34 33 35 36 37 38 39 40 41 42 44 43 45 46 48 47 49 50 51 52 54 53 56 55 57 58 60 59 62 61 63 64 65 66 68 67 69 70 72 71 74 73 76 75 78 77 80 79 81 82 83 84 86 85 88 87 89 90 92 91 94 93 95 96 98 97 100 99 101 102 104 103 106 105 107 108 109 110 111 112 114 113 115 116 118 117 120 119 121 122 124 123 125 126 127 128 130 129 132 131 133 134 135 136 )\n"
     ]
    }
   ],
   "source": [
    "print('(',end='')\n",
    "for out in output:\n",
    "    print(int(out),end = ' ')\n",
    "print(')')"
   ]
  },
  {
   "cell_type": "code",
   "execution_count": null,
   "metadata": {},
   "outputs": [],
   "source": []
  }
 ],
 "metadata": {
  "kernelspec": {
   "display_name": "Python 3",
   "language": "python",
   "name": "python3"
  },
  "language_info": {
   "codemirror_mode": {
    "name": "ipython",
    "version": 3
   },
   "file_extension": ".py",
   "mimetype": "text/x-python",
   "name": "python",
   "nbconvert_exporter": "python",
   "pygments_lexer": "ipython3",
   "version": "3.7.3"
  }
 },
 "nbformat": 4,
 "nbformat_minor": 4
}
