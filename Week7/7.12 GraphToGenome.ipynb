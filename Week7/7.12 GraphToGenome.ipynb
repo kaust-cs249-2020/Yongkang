{
 "cells": [
  {
   "cell_type": "code",
   "execution_count": 75,
   "metadata": {},
   "outputs": [],
   "source": [
    "import numpy as np"
   ]
  },
  {
   "cell_type": "code",
   "execution_count": 126,
   "metadata": {},
   "outputs": [],
   "source": [
    "def GraphToGenome(GenomeGraph):\n",
    "    P = []\n",
    "    First = GenomeGraph[0][0]\n",
    "    ChangeFirst = 0\n",
    "    Chr = []\n",
    "    for Nodes in GenomeGraph:\n",
    "        Chr.append(Nodes[0])\n",
    "        if(ChangeFirst==1):\n",
    "            First = Nodes[0]\n",
    "            ChangeFirst=0\n",
    "            Chr = [Nodes[0],Nodes[1]]\n",
    "            continue\n",
    "        if(abs(Nodes[1]-First)==1):\n",
    "            ChangeFirst = 1\n",
    "            Chr.insert(0,Nodes[1])\n",
    "        \n",
    "            Chromosome = CycleToChromosome(Chr)\n",
    "            \n",
    "            P.append(Chromosome)\n",
    "        else:\n",
    "            Chr.append(Nodes[1])\n",
    "            \n",
    "    return P"
   ]
  },
  {
   "cell_type": "code",
   "execution_count": 127,
   "metadata": {},
   "outputs": [],
   "source": [
    "def CycleToChromosome(Nodes): \n",
    "    n = int(len(Nodes)/2)\n",
    "    Chromosome = np.zeros(n).astype(int)\n",
    "    for j in range(n):\n",
    "        if Nodes[2*j] < Nodes[2*j+1]:\n",
    "            Chromosome[j] =  Nodes[2*j+1] /2\n",
    "        else:\n",
    "            Chromosome[j]  = -Nodes[2*j]/2\n",
    "    return Chromosome"
   ]
  },
  {
   "cell_type": "raw",
   "metadata": {},
   "source": [
    " Sample Input:\n",
    "\n",
    "(2, 4), (3, 6), (5, 1), (7, 9), (10, 12), (11, 8)\n",
    "\n",
    "Sample Output:\n",
    "\n",
    "(+1 -2 -3)(-4 +5 -6)"
   ]
  },
  {
   "cell_type": "code",
   "execution_count": 128,
   "metadata": {},
   "outputs": [],
   "source": [
    "line = '(2, 4), (3, 6), (5, 1), (7, 9), (10, 12), (11, 8)'\n",
    "line = line[1:-1]\n",
    "line = line.split('), (')\n",
    "Edge = []\n",
    "for node in line:\n",
    "    node1,node2 = node.split(', ')\n",
    "    Edge.append((int(node1),int(node2)))\n",
    "    "
   ]
  },
  {
   "cell_type": "code",
   "execution_count": 129,
   "metadata": {},
   "outputs": [
    {
     "data": {
      "text/plain": [
       "2"
      ]
     },
     "execution_count": 129,
     "metadata": {},
     "output_type": "execute_result"
    }
   ],
   "source": [
    "Edge[0][0]"
   ]
  },
  {
   "cell_type": "code",
   "execution_count": 130,
   "metadata": {},
   "outputs": [],
   "source": [
    "P = GraphToGenome(Edge)"
   ]
  },
  {
   "cell_type": "code",
   "execution_count": 131,
   "metadata": {},
   "outputs": [
    {
     "name": "stdout",
     "output_type": "stream",
     "text": [
      "(+1 -2 -3)(-4 +5 -6)"
     ]
    }
   ],
   "source": [
    "for Chr in P:\n",
    "    print('(',end='')\n",
    "    for i in range(len(Chr)-1):\n",
    "        print(\"%+d\"%Chr[i],end = ' ')\n",
    "    print(\"%+d)\"%Chr[-1],end='')"
   ]
  },
  {
   "cell_type": "code",
   "execution_count": 136,
   "metadata": {},
   "outputs": [],
   "source": [
    "Edge = []\n",
    "file = open('dataset_369340_8.txt', 'r') \n",
    "for i, line in enumerate(file):\n",
    "    line=line.rstrip('\\n')\n",
    "    if(i==0):\n",
    "        line = line[1:-1]\n",
    "        line = line.split('), (')\n",
    "        Edge = []\n",
    "        for node in line:\n",
    "            node1,node2 = node.split(', ')\n",
    "            Edge.append((int(node1),int(node2)))\n",
    "    "
   ]
  },
  {
   "cell_type": "code",
   "execution_count": 137,
   "metadata": {},
   "outputs": [],
   "source": [
    "P = GraphToGenome(Edge)"
   ]
  },
  {
   "cell_type": "code",
   "execution_count": 138,
   "metadata": {},
   "outputs": [
    {
     "name": "stdout",
     "output_type": "stream",
     "text": [
      "(-1 -2 -3 -4 +5 +6 +7 -8 +9 -10 +11 +12 -13 -14 +15 +16 +17 -18 -19 -20 +21)(+22 +23 -24 +25 +26 -27 -28 -29 -30 +31 +32 +33 -34 -35 -36 -37 +38 -39 +40 +41 +42 +43 -44 +45 +46)(+47 +48 +49 +50 +51 +52 +53 +54 -55 -56 +57 -58 -59 -60 +61 -62 +63 -64 +65 -66 -67 -68 -69 +70 -71 -72 -73 -74 +75 +76)(+77 -78 +79 +80 -81 -82 +83 -84 +85 +86 -87 -88 -89 +90 +91 -92 +93 +94 -95 -96 +97 -98 +99 +100 -101 -102 -103 -104 -105)(-106 -107 +108 -109 +110 +111 +112 +113 -114 -115 +116 -117 +118 +119 +120 +121 +122 +123 -124 +125 -126 -127 -128 -129)(+130 +131 -132 -133 -134 -135 +136 +137 -138 +139 +140 +141 -142 -143 -144 +145 +146 -147 +148 -149)(-150 +151 -152 -153 +154 +155 +156 +157 -158 +159 +160 +161 -162 +163 +164 -165 -166 +167 -168 +169 +170 +171)"
     ]
    }
   ],
   "source": [
    "for Chr in P:\n",
    "    print('(',end='')\n",
    "    for i in range(len(Chr)-1):\n",
    "        print(\"%+d\"%Chr[i],end = ' ')\n",
    "    print(\"%+d)\"%Chr[-1],end='')"
   ]
  },
  {
   "cell_type": "code",
   "execution_count": 135,
   "metadata": {},
   "outputs": [
    {
     "data": {
      "text/plain": [
       "[array([ -1,   2,  -3,   4,  -5,  -6,   7,  -8,   9,  10,  11,  12,  13,\n",
       "         14, -15,  16, -17, -18, -19,  20]),\n",
       " array([ 21, -22, -23,  24, -25,  26,  27, -28,  29,  30,  31,  32,  33,\n",
       "        -34,  35,  36, -37,  38,  39, -40,  41,  42,  43,  44,  45, -46,\n",
       "        -47, -48,  49, -50]),\n",
       " array([ 51,  52, -53, -54, -55,  56,  57, -58, -59,  60, -61, -62, -63,\n",
       "         64,  65, -66, -67,  68,  69,  70, -71,  72, -73,  74]),\n",
       " array([ -75,   76,   77,   78,   79,   80,   81,   82,  -83,   84,  -85,\n",
       "         -86,   87,  -88,  -89,  -90,  -91,   92,   93,   94,  -95,   96,\n",
       "         -97,  -98,   99,  100, -101,  102, -103]),\n",
       " array([ 104, -105, -106,  107, -108,  109,  110,  111, -112,  113, -114,\n",
       "        -115, -116, -117,  118, -119,  120,  121,  122,  123, -124, -125]),\n",
       " array([ 126,  127, -128,  129,  130, -131, -132,  133,  134, -135, -136,\n",
       "        -137,  138, -139,  140,  141, -142,  143,  144, -145,  146,  147,\n",
       "         148, -149,  150,  151, -152,  153,  154]),\n",
       " array([ 155, -156,  157,  158, -159,  160,  161,  162, -163, -164, -165,\n",
       "         166,  167,  168, -169, -170,  171,  172, -173,  174,  175, -176,\n",
       "        -177]),\n",
       " array([-178,  179,  180,  181, -182,  183, -184,  185, -186,  187,  188,\n",
       "        -189,  190, -191,  192, -193, -194, -195, -196, -197,  198,  199,\n",
       "         200, -201,  202,  203, -204,  205])]"
      ]
     },
     "execution_count": 135,
     "metadata": {},
     "output_type": "execute_result"
    }
   ],
   "source": [
    "P"
   ]
  },
  {
   "cell_type": "code",
   "execution_count": null,
   "metadata": {},
   "outputs": [],
   "source": []
  }
 ],
 "metadata": {
  "kernelspec": {
   "display_name": "Python 3",
   "language": "python",
   "name": "python3"
  },
  "language_info": {
   "codemirror_mode": {
    "name": "ipython",
    "version": 3
   },
   "file_extension": ".py",
   "mimetype": "text/x-python",
   "name": "python",
   "nbconvert_exporter": "python",
   "pygments_lexer": "ipython3",
   "version": "3.7.3"
  }
 },
 "nbformat": 4,
 "nbformat_minor": 4
}
