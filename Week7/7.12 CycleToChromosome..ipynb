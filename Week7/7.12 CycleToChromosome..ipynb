{
 "cells": [
  {
   "cell_type": "code",
   "execution_count": 4,
   "metadata": {},
   "outputs": [],
   "source": [
    "import numpy as np"
   ]
  },
  {
   "cell_type": "code",
   "execution_count": 16,
   "metadata": {},
   "outputs": [],
   "source": [
    "def CycleToChromosome(Nodes): \n",
    "    n = int(len(Nodes)/2)\n",
    "    Chromosome = np.zeros(n)\n",
    "    for j in range(n):\n",
    "        if Nodes[2*j] < Nodes[2*j+1]:\n",
    "            Chromosome[j] =  Nodes[2*j+1] /2\n",
    "        else:\n",
    "            Chromosome[j]  = -Nodes[2*j]/2\n",
    "    return Chromosome"
   ]
  },
  {
   "cell_type": "code",
   "execution_count": 17,
   "metadata": {},
   "outputs": [],
   "source": [
    "Nodes = '(1 2 4 3 6 5 7 8)'\n",
    "Nodes = Nodes[1:len(Nodes)-1]\n",
    "Nodes = np.array(Nodes.split(' ')).astype(int)    "
   ]
  },
  {
   "cell_type": "code",
   "execution_count": 18,
   "metadata": {},
   "outputs": [
    {
     "data": {
      "text/plain": [
       "array([1, 2, 4, 3, 6, 5, 7, 8])"
      ]
     },
     "execution_count": 18,
     "metadata": {},
     "output_type": "execute_result"
    }
   ],
   "source": [
    "Nodes"
   ]
  },
  {
   "cell_type": "code",
   "execution_count": 19,
   "metadata": {},
   "outputs": [
    {
     "data": {
      "text/plain": [
       "array([ 1., -2., -3.,  4.])"
      ]
     },
     "execution_count": 19,
     "metadata": {},
     "output_type": "execute_result"
    }
   ],
   "source": [
    "CycleToChromosome(Nodes)"
   ]
  },
  {
   "cell_type": "code",
   "execution_count": 29,
   "metadata": {},
   "outputs": [],
   "source": [
    "file = open('dataset_369340_5.txt', 'r') \n",
    "for i, line in enumerate(file):\n",
    "    line=line.rstrip('\\n')\n",
    "    line = line[1:len(line)-1]\n",
    "    if(i==0):\n",
    "        sequence = np.array(line.split(' ')).astype(int)    "
   ]
  },
  {
   "cell_type": "code",
   "execution_count": 30,
   "metadata": {},
   "outputs": [
    {
     "data": {
      "text/plain": [
       "array([  1,   2,   4,   3,   5,   6,   7,   8,   9,  10,  12,  11,  13,\n",
       "        14,  16,  15,  18,  17,  19,  20,  22,  21,  23,  24,  25,  26,\n",
       "        27,  28,  29,  30,  31,  32,  33,  34,  36,  35,  37,  38,  39,\n",
       "        40,  41,  42,  44,  43,  45,  46,  47,  48,  50,  49,  52,  51,\n",
       "        53,  54,  56,  55,  58,  57,  60,  59,  62,  61,  64,  63,  65,\n",
       "        66,  67,  68,  69,  70,  71,  72,  74,  73,  76,  75,  77,  78,\n",
       "        80,  79,  82,  81,  83,  84,  86,  85,  88,  87,  89,  90,  92,\n",
       "        91,  94,  93,  96,  95,  98,  97,  99, 100, 101, 102, 104, 103,\n",
       "       106, 105, 107, 108, 109, 110, 112, 111, 113, 114, 116, 115, 118,\n",
       "       117, 119, 120, 122, 121, 124, 123, 125, 126, 128, 127, 130, 129,\n",
       "       131, 132, 134, 133, 135, 136, 137, 138])"
      ]
     },
     "execution_count": 30,
     "metadata": {},
     "output_type": "execute_result"
    }
   ],
   "source": [
    "sequence"
   ]
  },
  {
   "cell_type": "code",
   "execution_count": 31,
   "metadata": {},
   "outputs": [],
   "source": [
    "output = CycleToChromosome(sequence)"
   ]
  },
  {
   "cell_type": "code",
   "execution_count": 32,
   "metadata": {},
   "outputs": [
    {
     "name": "stdout",
     "output_type": "stream",
     "text": [
      "(+1 -2 +3 +4 +5 -6 +7 -8 -9 +10 -11 +12 +13 +14 +15 +16 +17 -18 +19 +20 +21 -22 +23 +24 -25 -26 +27 -28 -29 -30 -31 -32 +33 +34 +35 +36 -37 -38 +39 -40 -41 +42 -43 -44 +45 -46 -47 -48 -49 +50 +51 -52 -53 +54 +55 -56 +57 -58 -59 +60 -61 -62 +63 -64 -65 +66 -67 +68 +69 )\n"
     ]
    }
   ],
   "source": [
    "print('(',end='')\n",
    "for out in output:\n",
    "    print(\"%+d\"%out,end = ' ')\n",
    "print(')')"
   ]
  },
  {
   "cell_type": "code",
   "execution_count": null,
   "metadata": {},
   "outputs": [],
   "source": []
  }
 ],
 "metadata": {
  "kernelspec": {
   "display_name": "Python 3",
   "language": "python",
   "name": "python3"
  },
  "language_info": {
   "codemirror_mode": {
    "name": "ipython",
    "version": 3
   },
   "file_extension": ".py",
   "mimetype": "text/x-python",
   "name": "python",
   "nbconvert_exporter": "python",
   "pygments_lexer": "ipython3",
   "version": "3.7.3"
  }
 },
 "nbformat": 4,
 "nbformat_minor": 4
}
