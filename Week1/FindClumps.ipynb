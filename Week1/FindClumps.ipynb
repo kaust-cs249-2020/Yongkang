{
 "cells": [
  {
   "cell_type": "code",
   "execution_count": 1,
   "metadata": {},
   "outputs": [],
   "source": [
    "def FrequencyTable(Text, k):\n",
    "    freqMap = {}\n",
    "    n  = len(Text)\n",
    "    for i in range(n-k+1):\n",
    "        Pattern  = Text[i:i+k]\n",
    "        if Pattern not in freqMap.keys():\n",
    "            freqMap[Pattern] = 1\n",
    "        else:\n",
    "            freqMap[Pattern]  = freqMap[Pattern]+1 \n",
    "    return freqMap"
   ]
  },
  {
   "cell_type": "code",
   "execution_count": 2,
   "metadata": {},
   "outputs": [],
   "source": [
    "def FindClumps(Text, k, L, t):\n",
    "    Patterns =  set()\n",
    "    n  = len(Text)\n",
    "    for i in range(n-L+1):\n",
    "        Window = Text[i:i+L]\n",
    "        freqMap = FrequencyTable(Window, k)\n",
    "        for s in freqMap:\n",
    "            if freqMap[s] >= t:\n",
    "                Patterns.add(s)\n",
    "    return Patterns"
   ]
  },
  {
   "cell_type": "code",
   "execution_count": 3,
   "metadata": {},
   "outputs": [],
   "source": [
    "Genome =  'CGGACTCGACAGATGTGAAGAACGACAATGTGAAGACTCGACACGACAGAGTGAAGAGAAGAGGAAACATTGTAA'\n",
    "k = 5\n",
    "L = 50\n",
    "t = 4"
   ]
  },
  {
   "cell_type": "code",
   "execution_count": 4,
   "metadata": {},
   "outputs": [
    {
     "data": {
      "text/plain": [
       "{'CGACA', 'GAAGA'}"
      ]
     },
     "execution_count": 4,
     "metadata": {},
     "output_type": "execute_result"
    }
   ],
   "source": [
    "FindClumps(Genome,k,L,t)"
   ]
  },
  {
   "cell_type": "code",
   "execution_count": 5,
   "metadata": {},
   "outputs": [],
   "source": [
    "Genome='' \n",
    "k=0\n",
    "L=0\n",
    "t=0\n",
    "file = open('dataset_369235_5.txt', 'r') \n",
    "for i, line in enumerate(file):\n",
    "    line=line.rstrip('\\n')\n",
    "    if(i==0):\n",
    "        Genome = line\n",
    "    else:\n",
    "        (k ,L, t) = line.split(' ')\n",
    "        k = int(k)\n",
    "        L = int(L)\n",
    "        t = int(t)\n",
    "        "
   ]
  },
  {
   "cell_type": "code",
   "execution_count": 6,
   "metadata": {},
   "outputs": [],
   "source": [
    "Pattern = FindClumps(Genome,k,L,t)\n",
    "for kmer in Pattern:\n",
    "    print(kmer)"
   ]
  },
  {
   "cell_type": "code",
   "execution_count": 7,
   "metadata": {},
   "outputs": [],
   "source": [
    "Genome='' \n",
    "file = open('E_coli.txt', 'r') \n",
    "for i, line in enumerate(file):\n",
    "    line=line.rstrip('\\n')\n",
    "    Genome = line"
   ]
  },
  {
   "cell_type": "code",
   "execution_count": 8,
   "metadata": {},
   "outputs": [],
   "source": [
    "Pattern = FindClumps(Genome,9,500,3)"
   ]
  },
  {
   "cell_type": "code",
   "execution_count": 9,
   "metadata": {},
   "outputs": [
    {
     "data": {
      "text/plain": [
       "1904"
      ]
     },
     "execution_count": 9,
     "metadata": {},
     "output_type": "execute_result"
    }
   ],
   "source": [
    "len(Pattern)"
   ]
  },
  {
   "cell_type": "code",
   "execution_count": null,
   "metadata": {},
   "outputs": [],
   "source": []
  }
 ],
 "metadata": {
  "kernelspec": {
   "display_name": "Python 3",
   "language": "python",
   "name": "python3"
  },
  "language_info": {
   "codemirror_mode": {
    "name": "ipython",
    "version": 3
   },
   "file_extension": ".py",
   "mimetype": "text/x-python",
   "name": "python",
   "nbconvert_exporter": "python",
   "pygments_lexer": "ipython3",
   "version": "3.7.3"
  }
 },
 "nbformat": 4,
 "nbformat_minor": 4
}
