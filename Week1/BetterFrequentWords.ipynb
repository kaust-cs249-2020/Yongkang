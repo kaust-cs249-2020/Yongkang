{
 "cells": [
  {
   "cell_type": "code",
   "execution_count": 1,
   "metadata": {},
   "outputs": [],
   "source": [
    "sequence='' \n",
    "k=0\n",
    "\n",
    "file = open('dataset_369233_13.txt', 'r') \n",
    "for i, line in enumerate(file):\n",
    "    line=line.rstrip('\\n')\n",
    "    if(i==0):\n",
    "        sequence = line\n",
    "    else:\n",
    "        k = line\n",
    "        k = int(k)"
   ]
  },
  {
   "cell_type": "code",
   "execution_count": 10,
   "metadata": {},
   "outputs": [],
   "source": [
    "def FrequencyTable(Text, k):\n",
    "    freqMap = {}\n",
    "    n  = len(Text)\n",
    "    for i in range(n-k+1):\n",
    "        Pattern  = Text[i:i+k]\n",
    "        if Pattern not in freqMap.keys():\n",
    "            freqMap[Pattern] = 1\n",
    "        else:\n",
    "           freqMap[Pattern]  = freqMap[Pattern]+1 \n",
    "    return freqMap"
   ]
  },
  {
   "cell_type": "code",
   "execution_count": 11,
   "metadata": {},
   "outputs": [],
   "source": [
    "def MaxMap(freqMap):\n",
    "    max = -10000000\n",
    "    for key, value in freqMap.items():\n",
    "        if(max< value):\n",
    "            max = value\n",
    "        \n",
    "    return max"
   ]
  },
  {
   "cell_type": "code",
   "execution_count": 4,
   "metadata": {},
   "outputs": [],
   "source": [
    "def BetterFrequentWords(Text, k):\n",
    "    frequentPatterns = ''\n",
    "    freqMap = FrequencyTable(Text, k)\n",
    "    max  =  MaxMap(freqMap)\n",
    "    for pattern in freqMap:\n",
    "        if freqMap[pattern] == max:\n",
    "            frequentPatterns += ' ' + pattern\n",
    "    return frequentPatterns"
   ]
  },
  {
   "cell_type": "code",
   "execution_count": 5,
   "metadata": {},
   "outputs": [
    {
     "data": {
      "text/plain": [
       "' TAATATTGGCTA'"
      ]
     },
     "execution_count": 5,
     "metadata": {},
     "output_type": "execute_result"
    }
   ],
   "source": [
    "BetterFrequentWords(sequence,k)"
   ]
  },
  {
   "cell_type": "code",
   "execution_count": 6,
   "metadata": {},
   "outputs": [],
   "source": [
    "seq = 'CAGTGGCAGATGACATTTTGCTGGTCGACTGGTTACAACAACGCCTGGGGCTTTTGAGCAACGAGACTTTTCAATGTTGCACCGTTTGCTGCATGATATTGAAAACAATATCACCAAATAAATAACGCCTTAGTAAGTAGCTTTT'"
   ]
  },
  {
   "cell_type": "code",
   "execution_count": 7,
   "metadata": {},
   "outputs": [
    {
     "data": {
      "text/plain": [
       "' TTTT'"
      ]
     },
     "execution_count": 7,
     "metadata": {},
     "output_type": "execute_result"
    }
   ],
   "source": [
    "BetterFrequentWords(seq, 4)"
   ]
  },
  {
   "cell_type": "code",
   "execution_count": 8,
   "metadata": {},
   "outputs": [],
   "source": [
    "n = len(seq)"
   ]
  },
  {
   "cell_type": "code",
   "execution_count": 9,
   "metadata": {},
   "outputs": [
    {
     "name": "stdout",
     "output_type": "stream",
     "text": [
      "CAGT\n",
      "AGTG\n",
      "GTGG\n",
      "TGGC\n",
      "GGCA\n",
      "GCAG\n",
      "CAGA\n",
      "AGAT\n",
      "GATG\n",
      "ATGA\n",
      "TGAC\n",
      "GACA\n",
      "ACAT\n",
      "CATT\n",
      "ATTT\n",
      "TTTT\n",
      "TTTG\n",
      "TTGC\n",
      "TGCT\n",
      "GCTG\n",
      "CTGG\n",
      "TGGT\n",
      "GGTC\n",
      "GTCG\n",
      "TCGA\n",
      "CGAC\n",
      "GACT\n",
      "ACTG\n",
      "CTGG\n",
      "TGGT\n",
      "GGTT\n",
      "GTTA\n",
      "TTAC\n",
      "TACA\n",
      "ACAA\n",
      "CAAC\n",
      "AACA\n",
      "ACAA\n",
      "CAAC\n",
      "AACG\n",
      "ACGC\n",
      "CGCC\n",
      "GCCT\n",
      "CCTG\n",
      "CTGG\n",
      "TGGG\n",
      "GGGG\n",
      "GGGC\n",
      "GGCT\n",
      "GCTT\n",
      "CTTT\n",
      "TTTT\n",
      "TTTG\n",
      "TTGA\n",
      "TGAG\n",
      "GAGC\n",
      "AGCA\n",
      "GCAA\n",
      "CAAC\n",
      "AACG\n",
      "ACGA\n",
      "CGAG\n",
      "GAGA\n",
      "AGAC\n",
      "GACT\n",
      "ACTT\n",
      "CTTT\n",
      "TTTT\n",
      "TTTC\n",
      "TTCA\n",
      "TCAA\n",
      "CAAT\n",
      "AATG\n",
      "ATGT\n",
      "TGTT\n",
      "GTTG\n",
      "TTGC\n",
      "TGCA\n",
      "GCAC\n",
      "CACC\n",
      "ACCG\n",
      "CCGT\n",
      "CGTT\n",
      "GTTT\n",
      "TTTG\n",
      "TTGC\n",
      "TGCT\n",
      "GCTG\n",
      "CTGC\n",
      "TGCA\n",
      "GCAT\n",
      "CATG\n",
      "ATGA\n",
      "TGAT\n",
      "GATA\n",
      "ATAT\n",
      "TATT\n",
      "ATTG\n",
      "TTGA\n",
      "TGAA\n",
      "GAAA\n",
      "AAAA\n",
      "AAAC\n",
      "AACA\n",
      "ACAA\n",
      "CAAT\n",
      "AATA\n",
      "ATAT\n",
      "TATC\n",
      "ATCA\n",
      "TCAC\n",
      "CACC\n",
      "ACCA\n",
      "CCAA\n",
      "CAAA\n",
      "AAAT\n",
      "AATA\n",
      "ATAA\n",
      "TAAA\n",
      "AAAT\n",
      "AATA\n",
      "ATAA\n",
      "TAAC\n",
      "AACG\n",
      "ACGC\n",
      "CGCC\n",
      "GCCT\n",
      "CCTT\n",
      "CTTA\n",
      "TTAG\n",
      "TAGT\n",
      "AGTA\n",
      "GTAA\n",
      "TAAG\n",
      "AAGT\n",
      "AGTA\n",
      "GTAG\n",
      "TAGC\n",
      "AGCT\n",
      "GCTT\n",
      "CTTT\n",
      "TTTT\n"
     ]
    }
   ],
   "source": [
    "for i in range(n-4+1):\n",
    "    Pattern  = seq[i:i+4]\n",
    "    print(Pattern)"
   ]
  },
  {
   "cell_type": "code",
   "execution_count": null,
   "metadata": {},
   "outputs": [],
   "source": []
  }
 ],
 "metadata": {
  "kernelspec": {
   "display_name": "Python 3",
   "language": "python",
   "name": "python3"
  },
  "language_info": {
   "codemirror_mode": {
    "name": "ipython",
    "version": 3
   },
   "file_extension": ".py",
   "mimetype": "text/x-python",
   "name": "python",
   "nbconvert_exporter": "python",
   "pygments_lexer": "ipython3",
   "version": "3.7.3"
  }
 },
 "nbformat": 4,
 "nbformat_minor": 4
}
