{
 "cells": [
  {
   "cell_type": "code",
   "execution_count": 2,
   "metadata": {},
   "outputs": [],
   "source": [
    "def reverseSeq(sequence):\n",
    "    reverse_dict = {'A':'T','T':'A','C':'G','G':'C'}\n",
    "    sequence_rc = ''\n",
    "    for base in sequence:\n",
    "        sequence_rc = reverse_dict[base]+sequence_rc\n",
    "    return sequence_rc"
   ]
  },
  {
   "cell_type": "code",
   "execution_count": 3,
   "metadata": {},
   "outputs": [],
   "source": [
    "def Hamming_distance(Seq1,Seq2):\n",
    "    Distance = 0\n",
    "    for i in range(len(Seq1)):\n",
    "        if(Seq1[i] != Seq2[i]):\n",
    "            Distance += 1\n",
    "    return Distance"
   ]
  },
  {
   "cell_type": "code",
   "execution_count": 4,
   "metadata": {},
   "outputs": [],
   "source": [
    "def Neighbors(Pattern, d):\n",
    "    nucleotides = {'A','C','G','T'}\n",
    "    if d == 0:\n",
    "        return {Pattern}\n",
    "    if len(Pattern) == 1: \n",
    "        return nucleotides\n",
    "    Neighborhood = set()\n",
    "    SuffixNeighbors = Neighbors(Pattern[1:len(Pattern)], d)\n",
    "    for Text in SuffixNeighbors:\n",
    "        if Hamming_distance(Pattern[1:len(Pattern)], Text) < d:\n",
    "            for x in nucleotides:\n",
    "                Neighborhood.add(x+Text)\n",
    "        else:\n",
    "            Neighborhood.add(Pattern[0]+Text)\n",
    "    return Neighborhood"
   ]
  },
  {
   "cell_type": "code",
   "execution_count": 5,
   "metadata": {},
   "outputs": [],
   "source": [
    "def MaxMap(dic):\n",
    "    max = -11111111111111111\n",
    "    for key,value in dic.items():\n",
    "        if(max<value):\n",
    "            max = value\n",
    "    return max"
   ]
  },
  {
   "cell_type": "code",
   "execution_count": 12,
   "metadata": {},
   "outputs": [],
   "source": [
    "def FrequentWordsWithMismatches(Text, k, d):\n",
    "    Patterns = set()\n",
    "    freqMap = {}\n",
    "    n = len(Text)\n",
    "    for i in range(n-k+1):\n",
    "        Pattern =  Text[i:i+k]\n",
    "        neighborhood = Neighbors(Pattern, d)\n",
    "        for neighbor in neighborhood:\n",
    "            if neighbor not in freqMap:\n",
    "                freqMap[neighbor] = 1\n",
    "            else:\n",
    "                freqMap[neighbor] = freqMap[neighbor] + 1\n",
    "    \n",
    "        Pattern_rc = reverseSeq(Pattern)\n",
    "        neighborhood_rc = Neighbors(Pattern_rc, d)\n",
    "        for neighbor in neighborhood_rc:\n",
    "            if neighbor not in freqMap:\n",
    "                freqMap[neighbor] = 1\n",
    "            else:\n",
    "                freqMap[neighbor] = freqMap[neighbor] + 1\n",
    "        \n",
    "    m = MaxMap(freqMap)\n",
    "    for Pattern in freqMap:\n",
    "        if (freqMap[Pattern] == m) :\n",
    "            Patterns.add(Pattern)\n",
    "    return Patterns"
   ]
  },
  {
   "cell_type": "code",
   "execution_count": 13,
   "metadata": {},
   "outputs": [],
   "source": [
    "Text = 'ACGTTGCATGTCGCATGATGCATGAGAGCT'\n",
    "k = 4\n",
    "d=1"
   ]
  },
  {
   "cell_type": "code",
   "execution_count": 14,
   "metadata": {},
   "outputs": [
    {
     "data": {
      "text/plain": [
       "{'ACAT', 'ATGT'}"
      ]
     },
     "execution_count": 14,
     "metadata": {},
     "output_type": "execute_result"
    }
   ],
   "source": [
    "FrequentWordsWithMismatches(Text, k, d)"
   ]
  },
  {
   "cell_type": "code",
   "execution_count": 15,
   "metadata": {},
   "outputs": [],
   "source": [
    "Pattern = ''\n",
    "k = 0\n",
    "d = 0\n",
    "file = open('dataset_369239_10.txt', 'r') \n",
    "for i, line in enumerate(file):\n",
    "    line=line.rstrip('\\n')\n",
    "    if(i==0):\n",
    "        Pattern= line\n",
    "    else:\n",
    "        (k,d)= line.split(' ')\n",
    "        k = int(k)\n",
    "        d = int(d)\n",
    "        \n"
   ]
  },
  {
   "cell_type": "code",
   "execution_count": 10,
   "metadata": {},
   "outputs": [
    {
     "data": {
      "text/plain": [
       "{'CCCCCC'}"
      ]
     },
     "execution_count": 10,
     "metadata": {},
     "output_type": "execute_result"
    }
   ],
   "source": [
    "FrequentWordsWithMismatches(Pattern, k, d)"
   ]
  },
  {
   "cell_type": "code",
   "execution_count": 16,
   "metadata": {},
   "outputs": [
    {
     "name": "stdout",
     "output_type": "stream",
     "text": [
      "AAAAAAA TTTTTTT "
     ]
    }
   ],
   "source": [
    "for pattern in FrequentWordsWithMismatches(Pattern, k, d):\n",
    "    print(pattern,end=' ')"
   ]
  },
  {
   "cell_type": "code",
   "execution_count": null,
   "metadata": {},
   "outputs": [],
   "source": []
  }
 ],
 "metadata": {
  "kernelspec": {
   "display_name": "Python 3",
   "language": "python",
   "name": "python3"
  },
  "language_info": {
   "codemirror_mode": {
    "name": "ipython",
    "version": 3
   },
   "file_extension": ".py",
   "mimetype": "text/x-python",
   "name": "python",
   "nbconvert_exporter": "python",
   "pygments_lexer": "ipython3",
   "version": "3.7.3"
  }
 },
 "nbformat": 4,
 "nbformat_minor": 4
}
