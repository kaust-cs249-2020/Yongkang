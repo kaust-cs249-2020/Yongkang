{
 "cells": [
  {
   "cell_type": "code",
   "execution_count": 1,
   "metadata": {},
   "outputs": [],
   "source": [
    "sequence='' \n",
    "kmer=''\n",
    "\n",
    "file = open('dataset_369233_6.txt', 'r') \n",
    "for i, line in enumerate(file):\n",
    "    line=line.rstrip('\\n')\n",
    "    if(i==0):\n",
    "        sequence = line\n",
    "    else:\n",
    "        kmer = line"
   ]
  },
  {
   "cell_type": "code",
   "execution_count": 2,
   "metadata": {},
   "outputs": [],
   "source": [
    "def PatternCount(Text, Pattern):\n",
    "    count = 0\n",
    "    for i in range(len(Text)-len(Pattern)):\n",
    "        if Text[i:i+len(Pattern)] == Pattern:\n",
    "            count = count + 1\n",
    "    return count"
   ]
  },
  {
   "cell_type": "code",
   "execution_count": 3,
   "metadata": {},
   "outputs": [
    {
     "data": {
      "text/plain": [
       "31"
      ]
     },
     "execution_count": 3,
     "metadata": {},
     "output_type": "execute_result"
    }
   ],
   "source": [
    "PatternCount(sequence,kmer)"
   ]
  },
  {
   "cell_type": "code",
   "execution_count": null,
   "metadata": {},
   "outputs": [],
   "source": []
  },
  {
   "cell_type": "code",
   "execution_count": 4,
   "metadata": {},
   "outputs": [
    {
     "data": {
      "text/plain": [
       "'CGCCCAGCGCGCCCAGACGCGCCCAGGGCGCCCAGCGACACGCCCAGCGCCCAGGCCGCCCAGCGCCCAGGATACGCCCAGGTTAGGCGATCGCCCAGTTATCGCCCAGTACGCCCAGTGGCGCCGCCCAGCGGCGCCCAGTTACGCCCAGTCGCCCAGGCTCGCCCAGCCCGCCCAGGGAACGCCCAGGTGGGCACACGCCCAGCGCCCAGTCGCCCAGACATCGTCAGTTCGCCCAGCGTCGCCCAGCACGCCCAGCCGCCCAGTAAGCCGCCCAGGCGCCCAGCGCCCAGCGCCCAGCGCCCAGTCCGCCCAGCGCCCAGATACGCCCAGACCTGCGCCCAGTTGCGCCCAGCGCCCAGCGCCCAGGCCACGCCCAGTCCGCGCCCAGGCGCCCAGATGCCGCGCCCAGACGCCCAGCGCCCAGAGCGCCCAGCAGGCCACGCCCAGGAGCGCCCAGCGCACCGCCCAGAACGCCCAGCTGCACCCTGTTAGCTCGCCCAGCGCCCAGACCGCGCCCAGGACGCCCAGCGCCCAGCGCCCAGCGCCCAGTATATGCTGTCTCGCCCAGTTGAACGCCCAGCGCCGCCCAGCGCCCAGGCTATCGCCCAGACCGCCCAGCGCCCAGCGCCCAGAAAGTTCGCCCAGCACGCCCAGGGACGCCCAGAACGCCCAGGCCATCACGCCCAGATCGCCCAGTGATGCGCCCAGTCACCCCGCCCAGTGCCAACGCCCAGACGCCCAGAGGCCGCGCCCAGCGCCCAGTGCGCCCAGGTCGCCCAGCGCCCAGTTATTCGCCCAGTCGCCCAGCGCCCAGCGCCCAGACGTCGCCCAGCGCGCCCAGAGGAGCGCCCAGCGCCCAGTGTGCGCTTGAACGCCCAGTCGCCCAGGTTCGCCCAGCGCCCAGGCTTTTCCGCCCAGTCTTGGCGCCCAGATCGCCCAGCGCCCAGCCGCCCAGCCTTATGATGACGCCCAGTCGCCCAGACAGATAAGGCGCCCAGAGTCACGCCCAGACGCCCAGAGTCGT'"
      ]
     },
     "execution_count": 4,
     "metadata": {},
     "output_type": "execute_result"
    }
   ],
   "source": [
    "sequence"
   ]
  },
  {
   "cell_type": "code",
   "execution_count": 5,
   "metadata": {},
   "outputs": [
    {
     "data": {
      "text/plain": [
       "'CGCCCAGCG'"
      ]
     },
     "execution_count": 5,
     "metadata": {},
     "output_type": "execute_result"
    }
   ],
   "source": [
    "kmer"
   ]
  },
  {
   "cell_type": "code",
   "execution_count": null,
   "metadata": {},
   "outputs": [],
   "source": []
  }
 ],
 "metadata": {
  "kernelspec": {
   "display_name": "Python 3",
   "language": "python",
   "name": "python3"
  },
  "language_info": {
   "codemirror_mode": {
    "name": "ipython",
    "version": 3
   },
   "file_extension": ".py",
   "mimetype": "text/x-python",
   "name": "python",
   "nbconvert_exporter": "python",
   "pygments_lexer": "ipython3",
   "version": "3.7.3"
  }
 },
 "nbformat": 4,
 "nbformat_minor": 4
}
