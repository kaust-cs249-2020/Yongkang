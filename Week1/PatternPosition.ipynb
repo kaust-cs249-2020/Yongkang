{
 "cells": [
  {
   "cell_type": "code",
   "execution_count": 9,
   "metadata": {},
   "outputs": [],
   "source": [
    "sequence='' \n",
    "kmer=''\n",
    "\n",
    "file = open('dataset_369234_5.txt', 'r') \n",
    "for i, line in enumerate(file):\n",
    "    line=line.rstrip('\\n')\n",
    "    if(i==0):\n",
    "        kmer = line\n",
    "    else:\n",
    "        sequence = line"
   ]
  },
  {
   "cell_type": "code",
   "execution_count": 12,
   "metadata": {},
   "outputs": [],
   "source": [
    "def PatternCount(Text, Pattern):\n",
    "    pos = ''\n",
    "    for i in range(len(Text)-len(Pattern)):\n",
    "        if Text[i:i+len(Pattern)] == Pattern:\n",
    "            pos += ' ' + str(i)\n",
    "    return pos"
   ]
  },
  {
   "cell_type": "code",
   "execution_count": 13,
   "metadata": {},
   "outputs": [
    {
     "data": {
      "text/plain": [
       "' 28 43 81 114 191 209 238 261 287 294 307 323 367 383 419 485 650 742 802 809 841 869 944 981 988 1003 1030 1218 1235 1242 1258 1384 1448 1480 1612 1637 1693 1720 1816 1865 1926 1933 1940 1947 1970 2000 2007 2014 2160 2387 2422 2487 2515 2522 2563 2579 2624 2644 2651 2666 2701 2728 2735 2742 2805 2821 2830 2958 2965 2997 3020 3039 3056 3108 3154 3161 3168 3175 3200 3241 3259 3287 3294 3301 3327 3405 3424 3493 3541 3567 3598 3620 3627 3634 3739 3746 3773 3785 3809 3816 3894 3901 3997 4004 4036 4043 4069 4084 4123 4130 4171 4186 4193 4233 4272 4293 4309 4316 4343 4350 4449 4466 4543 4578 4585 4666 4704 4724 4760 4802 4814 4821 4868 4906 4959 5060 5067 5090 5176 5213 5245 5333 5340 5347 5379 5386 5447 5454 5469 5476 5485 5502 5610 5706 5740 5783 5891 5898 5947 5954 6011 6018 6087 6157 6210 6217 6269 6332 6378 6401 6425 6432 6489 6496 6526 6554 6590 6617 6629 6653 6681 6730 6783 6790 6797 6804 6881 6897 6989 6996 7063 7180 7251 7282 7289 7296 7315 7345 7440 7466 7473 7545 7623 7640 7657 7699 7768 7823 7881 7888 7895 7931 7938 7999 8154 8215 8222 8239 8246 8266 8332 8358 8390 8397 8404 8454 8509 8532 8549 8556 8601 8608 8615 8622 8648 8673 8739 8764 8848 8855 8862 8877 8907 8939 9021 9028 9035 9106 9124 9162 9169 9187 9220 9236 9261 9281 9333 9345 9352 9359 9387 9431 9471 9478 9523 9560 9567 9574 9581 9588 9689 9696 9761 9789 9855 9883 9890 9917 9943 9950'"
      ]
     },
     "execution_count": 13,
     "metadata": {},
     "output_type": "execute_result"
    }
   ],
   "source": [
    "PatternCount(sequence,kmer)"
   ]
  },
  {
   "cell_type": "code",
   "execution_count": null,
   "metadata": {},
   "outputs": [],
   "source": []
  },
  {
   "cell_type": "code",
   "execution_count": 4,
   "metadata": {},
   "outputs": [
    {
     "data": {
      "text/plain": [
       "'CGCCCAGCGCGCCCAGACGCGCCCAGGGCGCCCAGCGACACGCCCAGCGCCCAGGCCGCCCAGCGCCCAGGATACGCCCAGGTTAGGCGATCGCCCAGTTATCGCCCAGTACGCCCAGTGGCGCCGCCCAGCGGCGCCCAGTTACGCCCAGTCGCCCAGGCTCGCCCAGCCCGCCCAGGGAACGCCCAGGTGGGCACACGCCCAGCGCCCAGTCGCCCAGACATCGTCAGTTCGCCCAGCGTCGCCCAGCACGCCCAGCCGCCCAGTAAGCCGCCCAGGCGCCCAGCGCCCAGCGCCCAGCGCCCAGTCCGCCCAGCGCCCAGATACGCCCAGACCTGCGCCCAGTTGCGCCCAGCGCCCAGCGCCCAGGCCACGCCCAGTCCGCGCCCAGGCGCCCAGATGCCGCGCCCAGACGCCCAGCGCCCAGAGCGCCCAGCAGGCCACGCCCAGGAGCGCCCAGCGCACCGCCCAGAACGCCCAGCTGCACCCTGTTAGCTCGCCCAGCGCCCAGACCGCGCCCAGGACGCCCAGCGCCCAGCGCCCAGCGCCCAGTATATGCTGTCTCGCCCAGTTGAACGCCCAGCGCCGCCCAGCGCCCAGGCTATCGCCCAGACCGCCCAGCGCCCAGCGCCCAGAAAGTTCGCCCAGCACGCCCAGGGACGCCCAGAACGCCCAGGCCATCACGCCCAGATCGCCCAGTGATGCGCCCAGTCACCCCGCCCAGTGCCAACGCCCAGACGCCCAGAGGCCGCGCCCAGCGCCCAGTGCGCCCAGGTCGCCCAGCGCCCAGTTATTCGCCCAGTCGCCCAGCGCCCAGCGCCCAGACGTCGCCCAGCGCGCCCAGAGGAGCGCCCAGCGCCCAGTGTGCGCTTGAACGCCCAGTCGCCCAGGTTCGCCCAGCGCCCAGGCTTTTCCGCCCAGTCTTGGCGCCCAGATCGCCCAGCGCCCAGCCGCCCAGCCTTATGATGACGCCCAGTCGCCCAGACAGATAAGGCGCCCAGAGTCACGCCCAGACGCCCAGAGTCGT'"
      ]
     },
     "execution_count": 4,
     "metadata": {},
     "output_type": "execute_result"
    }
   ],
   "source": [
    "sequence"
   ]
  },
  {
   "cell_type": "code",
   "execution_count": 5,
   "metadata": {},
   "outputs": [
    {
     "data": {
      "text/plain": [
       "'CGCCCAGCG'"
      ]
     },
     "execution_count": 5,
     "metadata": {},
     "output_type": "execute_result"
    }
   ],
   "source": [
    "kmer"
   ]
  },
  {
   "cell_type": "code",
   "execution_count": 15,
   "metadata": {},
   "outputs": [],
   "source": [
    "genome = ''\n",
    "file = open('Vibrio_cholerae.txt', 'r') \n",
    "for i, line in enumerate(file):\n",
    "    line=line.rstrip('\\n')\n",
    "    genome = line"
   ]
  },
  {
   "cell_type": "code",
   "execution_count": 17,
   "metadata": {},
   "outputs": [
    {
     "data": {
      "text/plain": [
       "' 60039 98409 129189 152283 152354 152411 163207 197028 200160 357976 376771 392723 532935 600085 622755 1065555'"
      ]
     },
     "execution_count": 17,
     "metadata": {},
     "output_type": "execute_result"
    }
   ],
   "source": [
    "PatternCount(genome,'CTTGATCAT')"
   ]
  },
  {
   "cell_type": "code",
   "execution_count": null,
   "metadata": {},
   "outputs": [],
   "source": []
  }
 ],
 "metadata": {
  "kernelspec": {
   "display_name": "Python 3",
   "language": "python",
   "name": "python3"
  },
  "language_info": {
   "codemirror_mode": {
    "name": "ipython",
    "version": 3
   },
   "file_extension": ".py",
   "mimetype": "text/x-python",
   "name": "python",
   "nbconvert_exporter": "python",
   "pygments_lexer": "ipython3",
   "version": "3.7.3"
  }
 },
 "nbformat": 4,
 "nbformat_minor": 4
}
