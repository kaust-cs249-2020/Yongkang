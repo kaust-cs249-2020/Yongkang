{
 "cells": [
  {
   "cell_type": "code",
   "execution_count": 14,
   "metadata": {},
   "outputs": [],
   "source": [
    "def Hamming_distance(Seq1,Seq2):\n",
    "    Distance = 0\n",
    "    for i in range(len(Seq1)):\n",
    "        if(Seq1[i] != Seq2[i]):\n",
    "            Distance += 1\n",
    "    return Distance"
   ]
  },
  {
   "cell_type": "code",
   "execution_count": 15,
   "metadata": {},
   "outputs": [],
   "source": [
    "def ApproximatePatternCount(Text,Pattern,d): \n",
    "        count = 0\n",
    "        k = len(Pattern)\n",
    "        n = len(Text)\n",
    "        for i in range(n-k+1):\n",
    "            Pattern2 =  Text[i:i+k]\n",
    "            if Hamming_distance(Pattern, Pattern2) <= d:\n",
    "                count = count + 1\n",
    "        return count"
   ]
  },
  {
   "cell_type": "code",
   "execution_count": 16,
   "metadata": {},
   "outputs": [],
   "source": [
    "Text = 'TTTAGAGCCTTCAGAGG'\n",
    "Pattern = 'GAGG'\n",
    "d=2"
   ]
  },
  {
   "cell_type": "code",
   "execution_count": 17,
   "metadata": {},
   "outputs": [
    {
     "data": {
      "text/plain": [
       "4"
      ]
     },
     "execution_count": 17,
     "metadata": {},
     "output_type": "execute_result"
    }
   ],
   "source": [
    "ApproximatePatternCount(Text,Pattern,d)"
   ]
  },
  {
   "cell_type": "code",
   "execution_count": 22,
   "metadata": {},
   "outputs": [],
   "source": [
    "Pattern = ''\n",
    "Sequence = ''\n",
    "d = 0\n",
    "file = open('dataset_369239_6.txt', 'r') \n",
    "for i, line in enumerate(file):\n",
    "    line=line.rstrip('\\n')\n",
    "    if(i==0):\n",
    "        Pattern= line\n",
    "    elif(i==1):\n",
    "        Sequence = line\n",
    "    else:\n",
    "        d = int(line)"
   ]
  },
  {
   "cell_type": "code",
   "execution_count": 23,
   "metadata": {},
   "outputs": [
    {
     "data": {
      "text/plain": [
       "134"
      ]
     },
     "execution_count": 23,
     "metadata": {},
     "output_type": "execute_result"
    }
   ],
   "source": [
    "ApproximatePatternCount(Sequence,Pattern,d)"
   ]
  },
  {
   "cell_type": "code",
   "execution_count": null,
   "metadata": {},
   "outputs": [],
   "source": []
  }
 ],
 "metadata": {
  "kernelspec": {
   "display_name": "Python 3",
   "language": "python",
   "name": "python3"
  },
  "language_info": {
   "codemirror_mode": {
    "name": "ipython",
    "version": 3
   },
   "file_extension": ".py",
   "mimetype": "text/x-python",
   "name": "python",
   "nbconvert_exporter": "python",
   "pygments_lexer": "ipython3",
   "version": "3.7.3"
  }
 },
 "nbformat": 4,
 "nbformat_minor": 4
}
