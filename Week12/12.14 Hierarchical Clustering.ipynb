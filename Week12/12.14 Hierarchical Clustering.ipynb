{
 "cells": [
  {
   "cell_type": "raw",
   "metadata": {},
   "source": [
    "HierarchicalClustering(D, n)\n",
    "    Clusters ← n single-element clusters labeled 1, ... , n \n",
    "      ",
    " construct a graph T with n isolated nodes labeled by single elements 1, ... , n \n",
    "    while there is more than one cluster \n",
    "        find the two closest clusters Ci and Cj ",
    " \n",
    "        merge Ci and Cj into a new cluster Cnew with |Ci| + |Cj| elements\n",
    "        add a new node labeled by cluster Cnew to T\n",
    "        connect node Cnew to Ci and Cj by directed edges ",
    "\n",
    "        remove the rows and columns of D corresponding to Ci and Cj ",
    "\n",
    "        remove Ci and Cj from Clusters ",
    "\n",
    "        add a row/column to D for Cnew by computing D(Cnew, C) for each C in Clusters \n",
    "        add Cnew to Clusters \n",
    "    assign root in T as a node with no incoming edges\n",
    "    return T"
   ]
  },
  {
   "cell_type": "code",
   "execution_count": 67,
   "metadata": {},
   "outputs": [],
   "source": [
    "def AddRowColumn(D,D2,Cnew,Cluster):\n",
    "    DistRow = []\n",
    "    for k in range(n):\n",
    "        if(i==k or j==k):\n",
    "            continue\n",
    "        if(D2[i,k] < D2[j,k]):\n",
    "            DistRow.append(D2[i,k])\n",
    "        else:\n",
    "            DistRow.append(D2[j,k])\n",
    "            \n",
    "    D = np.append(D,[DistRow],axis=0)\n",
    "    DistCol  = [[i] for i in DistRow]\n",
    "    DistCol.append([0])\n",
    "    D = np.append(D,DistCol,axis=1)\n",
    "    return D\n",
    "    "
   ]
  },
  {
   "cell_type": "code",
   "execution_count": 124,
   "metadata": {},
   "outputs": [],
   "source": [
    "def AddRowColumn(D,D2,Cnew,Cluster):\n",
    "    DistRow = []\n",
    "    for C in Cluster:\n",
    "        count = 0\n",
    "        distSum = 0\n",
    "        for i in C:\n",
    "            for j in Cnew:\n",
    "                distSum += D2[i][j]\n",
    "                count += 1\n",
    "        DistRow.append(distSum/count)\n",
    "\n",
    "    D = np.append(D,[DistRow],axis=0)\n",
    "    DistCol  = [[i] for i in DistRow]\n",
    "    DistCol.append([0])\n",
    "    D = np.append(D,DistCol,axis=1)\n",
    "    return D\n",
    "    "
   ]
  },
  {
   "cell_type": "code",
   "execution_count": 131,
   "metadata": {},
   "outputs": [],
   "source": [
    "def HierarchicalClustering(D, n):\n",
    "    Cluster = [tuple([i]) for i in range(n)]\n",
    "    D2 = D.copy()\n",
    "    while(n>1):\n",
    "        i,j = np.where(D==np.amin(D[D!=0]))[0]\n",
    "        Ci = Cluster[i]\n",
    "        Cj = Cluster[j]\n",
    "        Cnew = Ci+Cj\n",
    "        #print(\"%d %d\"%(Represent[i],Represent[j]))\n",
    "        for c in Cnew: \n",
    "            print(c+1,end=' ')\n",
    "        print()\n",
    "        Cluster.remove(Ci)\n",
    "        Cluster.remove(Cj)\n",
    "      \n",
    "        D = np.delete(D,[i,j],0)\n",
    "        D = np.delete(D,[i,j],1)\n",
    "        #D = AddRowColumn(D,D2,i,j,n,Represent)\n",
    "        D = AddRowColumn(D,D2,Cnew,Cluster)\n",
    "        Cluster.append(Cnew)\n",
    "        n -= 1\n",
    "        "
   ]
  },
  {
   "cell_type": "raw",
   "metadata": {},
   "source": [
    " Sample Input:\n",
    "\n",
    "7\n",
    "0.00 0.74 0.85 0.54 0.83 0.92 0.89\n",
    "0.74 0.00 1.59 1.35 1.20 1.48 1.55\n",
    "0.85 1.59 0.00 0.63 1.13 0.69 0.73\n",
    "0.54 1.35 0.63 0.00 0.66 0.43 0.88\n",
    "0.83 1.20 1.13 0.66 0.00 0.72 0.55\n",
    "0.92 1.48 0.69 0.43 0.72 0.00 0.80\n",
    "0.89 1.55 0.73 0.88 0.55 0.80 0.00\n",
    "\n",
    "Sample Output:\n",
    "\n",
    "4 6\n",
    "5 7\n",
    "3 4 6\n",
    "1 2\n",
    "5 7 3 4 6\n",
    "1 2 5 7 3 4 6"
   ]
  },
  {
   "cell_type": "code",
   "execution_count": 48,
   "metadata": {},
   "outputs": [],
   "source": [
    "import numpy as np\n",
    "D = np.array([\n",
    "'0.00 0.74 0.85 0.54 0.83 0.92 0.89'.split(' '),\n",
    "'0.74 0.00 1.59 1.35 1.20 1.48 1.55'.split(' '),\n",
    "'0.85 1.59 0.00 0.63 1.13 0.69 0.73'.split(' '),\n",
    "'0.54 1.35 0.63 0.00 0.66 0.43 0.88'.split(' '),\n",
    "'0.83 1.20 1.13 0.66 0.00 0.72 0.55'.split(' '),\n",
    "'0.92 1.48 0.69 0.43 0.72 0.00 0.80'.split(' '),\n",
    "'0.89 1.55 0.73 0.88 0.55 0.80 0.00'.split(' ')\n",
    "]).astype(float)"
   ]
  },
  {
   "cell_type": "code",
   "execution_count": 132,
   "metadata": {},
   "outputs": [
    {
     "name": "stdout",
     "output_type": "stream",
     "text": [
      "4 6 \n",
      "5 7 \n",
      "3 4 6 \n",
      "1 2 \n",
      "5 7 3 4 6 \n",
      "1 2 5 7 3 4 6 \n"
     ]
    }
   ],
   "source": [
    "HierarchicalClustering(D, 7)"
   ]
  },
  {
   "cell_type": "code",
   "execution_count": 134,
   "metadata": {},
   "outputs": [],
   "source": [
    "n = 0\n",
    "D = []\n",
    "file = open('dataset_369379_7.txt', 'r') \n",
    "for i, line in enumerate(file):\n",
    "    line=line.strip()\n",
    "    if(i==0):\n",
    "        n = int(line)\n",
    "    else:\n",
    "        D.append(line.split(' '))\n",
    "D = np.array(D).astype(float)"
   ]
  },
  {
   "cell_type": "code",
   "execution_count": 136,
   "metadata": {},
   "outputs": [
    {
     "name": "stdout",
     "output_type": "stream",
     "text": [
      "6 10 \n",
      "1 8 \n",
      "11 19 \n",
      "9 18 \n",
      "12 14 \n",
      "7 13 \n",
      "5 16 \n",
      "1 8 9 18 \n",
      "20 5 16 \n",
      "4 12 14 \n",
      "11 19 1 8 9 18 \n",
      "15 7 13 \n",
      "17 6 10 \n",
      "2 20 5 16 \n",
      "3 15 7 13 \n",
      "4 12 14 17 6 10 \n",
      "2 20 5 16 4 12 14 17 6 10 \n",
      "11 19 1 8 9 18 3 15 7 13 \n",
      "2 20 5 16 4 12 14 17 6 10 11 19 1 8 9 18 3 15 7 13 \n"
     ]
    }
   ],
   "source": [
    "HierarchicalClustering(D, n)"
   ]
  },
  {
   "cell_type": "code",
   "execution_count": null,
   "metadata": {},
   "outputs": [],
   "source": []
  }
 ],
 "metadata": {
  "kernelspec": {
   "display_name": "Python 3",
   "language": "python",
   "name": "python3"
  },
  "language_info": {
   "codemirror_mode": {
    "name": "ipython",
    "version": 3
   },
   "file_extension": ".py",
   "mimetype": "text/x-python",
   "name": "python",
   "nbconvert_exporter": "python",
   "pygments_lexer": "ipython3",
   "version": "3.7.3"
  }
 },
 "nbformat": 4,
 "nbformat_minor": 4
}
