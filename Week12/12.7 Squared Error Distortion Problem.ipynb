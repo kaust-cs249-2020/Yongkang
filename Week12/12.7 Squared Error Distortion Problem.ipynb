{
 "cells": [
  {
   "cell_type": "raw",
   "metadata": {},
   "source": [
    "Sample Input:\n",
    "2 2\n",
    "2.31 4.55\n",
    "5.96 9.08\n",
    "--------\n",
    "3.42 6.03\n",
    "6.23 8.25\n",
    "4.76 1.64\n",
    "4.47 4.33\n",
    "3.95 7.61\n",
    "8.93 2.97\n",
    "9.74 4.03\n",
    "1.73 1.28\n",
    "9.72 5.01\n",
    "7.27 3.77"
   ]
  },
  {
   "cell_type": "code",
   "execution_count": 16,
   "metadata": {},
   "outputs": [],
   "source": [
    "Data = [(3.42,6.03),(6.23, 8.25),(4.76, 1.64),\n",
    "        (4.47, 4.33),(3.95, 7.61),(8.93, 2.97),\n",
    "        (9.74, 4.03),(1.73, 1.28),(9.72, 5.01),(7.27, 3.77)]"
   ]
  },
  {
   "cell_type": "code",
   "execution_count": 17,
   "metadata": {},
   "outputs": [],
   "source": [
    "Centers = {(2.31, 4.55),\n",
    "(5.96, 9.08)}"
   ]
  },
  {
   "cell_type": "code",
   "execution_count": 18,
   "metadata": {},
   "outputs": [],
   "source": [
    "def euclidean_distance(point1,point2):\n",
    "    return np.sqrt(sum((np.array(point1)-np.array(point2))**2))"
   ]
  },
  {
   "cell_type": "code",
   "execution_count": 19,
   "metadata": {},
   "outputs": [],
   "source": [
    "def min_distance_to_centres(point,Centers):\n",
    "    min_dist = float('inf')\n",
    "    for center in Centers:\n",
    "        dist = euclidean_distance(point,center)\n",
    "        if(min_dist > dist):\n",
    "            min_dist = dist\n",
    "    return min_dist"
   ]
  },
  {
   "cell_type": "code",
   "execution_count": 22,
   "metadata": {},
   "outputs": [],
   "source": [
    "def SquredErrorDistrotion(Data,Centers):\n",
    "    n = len(Data)\n",
    "    distortion = 0\n",
    "    for point in Data:\n",
    "        dist = min_distance_to_centres(point,Centers)\n",
    "        distortion += dist**2\n",
    "    return distortion/n\n",
    "        "
   ]
  },
  {
   "cell_type": "code",
   "execution_count": 23,
   "metadata": {},
   "outputs": [
    {
     "data": {
      "text/plain": [
       "18.24556"
      ]
     },
     "execution_count": 23,
     "metadata": {},
     "output_type": "execute_result"
    }
   ],
   "source": [
    "SquredErrorDistrotion(Data,Centers)"
   ]
  },
  {
   "cell_type": "code",
   "execution_count": 24,
   "metadata": {},
   "outputs": [],
   "source": [
    "Data = []\n",
    "Centers = set()\n",
    "file = open('dataset_369372_3.txt', 'r') \n",
    "for i, line in enumerate(file):\n",
    "    line=line.rstrip('\\n')\n",
    "    if(i>0 and i<7):\n",
    "        Centers.add(tuple(np.array(line.split(' ')).astype(float)))\n",
    "    elif(i>7):\n",
    "        Data.append(tuple(np.array(line.split(' ')).astype(float)))"
   ]
  },
  {
   "cell_type": "code",
   "execution_count": 26,
   "metadata": {},
   "outputs": [
    {
     "data": {
      "text/plain": [
       "30.13823737821083"
      ]
     },
     "execution_count": 26,
     "metadata": {},
     "output_type": "execute_result"
    }
   ],
   "source": [
    "SquredErrorDistrotion(Data,Centers)"
   ]
  },
  {
   "cell_type": "code",
   "execution_count": 25,
   "metadata": {},
   "outputs": [
    {
     "data": {
      "text/plain": [
       "{(1.6, 5.3, 3.6, 5.8, 7.9),\n",
       " (3.0, 0.8, 2.2, 2.7, 4.3),\n",
       " (3.7, 9.7, 6.5, 6.0, 4.4),\n",
       " (4.0, 2.4, 8.1, 9.0, 6.5),\n",
       " (4.6, 5.8, 9.4, 0.7, 8.4),\n",
       " (9.5, 4.3, 0.9, 4.2, 2.8)}"
      ]
     },
     "execution_count": 25,
     "metadata": {},
     "output_type": "execute_result"
    }
   ],
   "source": [
    "Centers"
   ]
  },
  {
   "cell_type": "code",
   "execution_count": null,
   "metadata": {},
   "outputs": [],
   "source": []
  }
 ],
 "metadata": {
  "kernelspec": {
   "display_name": "Python 3",
   "language": "python",
   "name": "python3"
  },
  "language_info": {
   "codemirror_mode": {
    "name": "ipython",
    "version": 3
   },
   "file_extension": ".py",
   "mimetype": "text/x-python",
   "name": "python",
   "nbconvert_exporter": "python",
   "pygments_lexer": "ipython3",
   "version": "3.7.3"
  }
 },
 "nbformat": 4,
 "nbformat_minor": 4
}
