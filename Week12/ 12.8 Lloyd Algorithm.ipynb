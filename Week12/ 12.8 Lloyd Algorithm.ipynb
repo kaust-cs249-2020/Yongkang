{
 "cells": [
  {
   "cell_type": "raw",
   "metadata": {},
   "source": [
    "Sample Input:\n",
    "2 2\n",
    "1.3 1.1\n",
    "1.3 0.2\n",
    "0.6 2.8\n",
    "3.0 3.2\n",
    "1.2 0.7\n",
    "1.4 1.6\n",
    "1.2 1.0\n",
    "1.2 1.1\n",
    "0.6 1.5\n",
    "1.8 2.6\n",
    "1.2 1.3\n",
    "1.2 1.0\n",
    "0.0 1.9\n",
    "Sample Output:\n",
    "1.800 2.867\n",
    "1.060 1.140"
   ]
  },
  {
   "cell_type": "code",
   "execution_count": 1,
   "metadata": {},
   "outputs": [],
   "source": [
    "import numpy as np"
   ]
  },
  {
   "cell_type": "code",
   "execution_count": 2,
   "metadata": {},
   "outputs": [],
   "source": [
    "def euclidean_distance(point1,point2):\n",
    "    return np.sqrt(sum((np.array(point1)-np.array(point2))**2))"
   ]
  },
  {
   "cell_type": "code",
   "execution_count": 3,
   "metadata": {},
   "outputs": [],
   "source": [
    "def min_distance_to_centres(point,Centers):\n",
    "    min_dist = float('inf')\n",
    "    newCenter = ()\n",
    "    for center in Centers:\n",
    "        dist = euclidean_distance(point,center)\n",
    "        if(min_dist > dist):\n",
    "            min_dist = dist\n",
    "            newCenter = center\n",
    "    return min_dist,newCenter"
   ]
  },
  {
   "cell_type": "code",
   "execution_count": 28,
   "metadata": {},
   "outputs": [],
   "source": [
    "def Centers2Clusters(Centers,Data):\n",
    "    Clusters = {center:[] for center in Centers}\n",
    "    for point in Data:\n",
    "        dist,center = min_distance_to_centres(point,Centers)\n",
    "        Clusters[center].append(point)\n",
    "    return Clusters\n",
    "    "
   ]
  },
  {
   "cell_type": "code",
   "execution_count": 29,
   "metadata": {},
   "outputs": [],
   "source": [
    "def Clusters2Center(Clusters):\n",
    "    Centers = set()\n",
    "    for cluster in Clusters.values():\n",
    "        gravity = np.mean([np.array(point) for point in cluster],axis=0)\n",
    "        center = tuple(gravity)\n",
    "        Centers.add(center)\n",
    "    return Centers"
   ]
  },
  {
   "cell_type": "code",
   "execution_count": 30,
   "metadata": {},
   "outputs": [],
   "source": [
    "Data = [(1.3, 1.1),\n",
    "(1.3, 0.2),\n",
    "(0.6 ,2.8),\n",
    "(3.0, 3.2),\n",
    "(1.2, 0.7),\n",
    "(1.4, 1.6),\n",
    "(1.2, 1.0),\n",
    "(1.2, 1.1),\n",
    "(0.6 ,1.5),\n",
    "(1.8 ,2.6),\n",
    "(1.2, 1.3),\n",
    "(1.2 ,1.0),\n",
    "(0.0 ,1.9)]"
   ]
  },
  {
   "cell_type": "code",
   "execution_count": 41,
   "metadata": {},
   "outputs": [],
   "source": [
    "def Lloyd(Data,k):\n",
    "    Centers = {Data[i] for i in range(k)}\n",
    "    #####Should change to converge, but use this for convient\n",
    "    for i in range(200):\n",
    "        Clusters = Centers2Clusters(Centers,Data)\n",
    "        Centers  = Clusters2Center(Clusters)\n",
    "    return Centers"
   ]
  },
  {
   "cell_type": "code",
   "execution_count": 32,
   "metadata": {},
   "outputs": [
    {
     "name": "stdout",
     "output_type": "stream",
     "text": [
      "1.800 2.867 \n",
      "1.060 1.140 \n"
     ]
    }
   ],
   "source": [
    "Centers = Lloyd(Data,2)\n",
    "for center in Centers:\n",
    "    for i in center:\n",
    "        print(\"%.3f \"%i,end='')\n",
    "    print()"
   ]
  },
  {
   "cell_type": "code",
   "execution_count": 33,
   "metadata": {},
   "outputs": [],
   "source": [
    "Data = []\n",
    "file = open('dataset_369373_3.txt', 'r') \n",
    "for i, line in enumerate(file):\n",
    "    line=line.rstrip('\\n')\n",
    "    if(i==0):\n",
    "        #Centers.add(tuple(np.array(line.split(' ')).astype(float)))\n",
    "        continue\n",
    "    else:\n",
    "        Data.append(tuple(np.array(line.split(' ')).astype(float)))"
   ]
  },
  {
   "cell_type": "code",
   "execution_count": 42,
   "metadata": {},
   "outputs": [
    {
     "name": "stdout",
     "output_type": "stream",
     "text": [
      "8.129 13.499 4.555 4.614 \n",
      "6.183 7.030 9.237 21.476 \n",
      "6.573 6.511 17.789 6.714 \n",
      "6.371 19.091 10.829 9.365 \n",
      "5.176 4.377 5.062 3.636 \n",
      "18.810 6.828 7.724 7.961 \n",
      "5.494 5.749 4.662 12.446 \n"
     ]
    }
   ],
   "source": [
    "Centers = Lloyd(Data,7)\n",
    "for center in Centers:\n",
    "    for i in center:\n",
    "        print(\"%.3f \"%i,end='')\n",
    "    print()"
   ]
  },
  {
   "cell_type": "code",
   "execution_count": 40,
   "metadata": {},
   "outputs": [
    {
     "name": "stdout",
     "output_type": "stream",
     "text": [
      "8.129 13.499 4.555 4.614 \n",
      "6.183 7.030 9.237 21.476 \n",
      "6.573 6.511 17.789 6.714 \n",
      "6.371 19.091 10.829 9.365 \n",
      "5.176 4.377 5.062 3.636 \n",
      "18.810 6.828 7.724 7.961 \n",
      "5.494 5.749 4.662 12.446 \n"
     ]
    }
   ],
   "source": [
    "Centers = Lloyd(Data,7)\n",
    "for center in Centers:\n",
    "    for i in center:\n",
    "        print(\"%.3f \"%i,end='')\n",
    "    print()"
   ]
  },
  {
   "cell_type": "code",
   "execution_count": null,
   "metadata": {},
   "outputs": [],
   "source": []
  }
 ],
 "metadata": {
  "kernelspec": {
   "display_name": "Python 3",
   "language": "python",
   "name": "python3"
  },
  "language_info": {
   "codemirror_mode": {
    "name": "ipython",
    "version": 3
   },
   "file_extension": ".py",
   "mimetype": "text/x-python",
   "name": "python",
   "nbconvert_exporter": "python",
   "pygments_lexer": "ipython3",
   "version": "3.7.3"
  }
 },
 "nbformat": 4,
 "nbformat_minor": 4
}
