{
 "cells": [
  {
   "cell_type": "code",
   "execution_count": 1,
   "metadata": {},
   "outputs": [],
   "source": [
    "import numpy as np"
   ]
  },
  {
   "cell_type": "code",
   "execution_count": 61,
   "metadata": {},
   "outputs": [],
   "source": [
    "def euclidean_distance(point1,point2):\n",
    "    return np.sqrt(sum((np.array(point1)-np.array(point2))**2))"
   ]
  },
  {
   "cell_type": "code",
   "execution_count": 42,
   "metadata": {},
   "outputs": [],
   "source": [
    "def min_distance_to_centres(point,Centers):\n",
    "    min_dist = float('inf')\n",
    "    for center in Centers:\n",
    "        dist = euclidean_distance(point,center)\n",
    "        if(min_dist > dist):\n",
    "            min_dist = dist\n",
    "    return min_dist"
   ]
  },
  {
   "cell_type": "code",
   "execution_count": 63,
   "metadata": {},
   "outputs": [],
   "source": [
    "def farthest_point(Data,Centers):\n",
    "    far_dist = -1\n",
    "    farthest_point = Data[0]\n",
    "    for point in Data:\n",
    "        dist = min_distance_to_centres(point,Centers)\n",
    "        if(far_dist < dist):\n",
    "            far_dist = dist\n",
    "            farthest_point = point\n",
    "    return farthest_point\n",
    "            "
   ]
  },
  {
   "cell_type": "code",
   "execution_count": 94,
   "metadata": {},
   "outputs": [],
   "source": [
    "def FarthestFirstTraversal(Data, k):\n",
    "    number = len(Data)\n",
    "    #Centers = the set consisting of a single randomly chosen point from Data\n",
    "    #Centers = {Data[np.random.choice(number)]}\n",
    "    Centers = {Data[0]}\n",
    "    while len(Centers) < k: \n",
    "        #DataPoint ← the point in Data maximizing d(DataPoint, Centers) \n",
    "        DataPoint = farthest_point(Data,Centers)\n",
    "        #add DataPoint to Centers\n",
    "        #if((Centers == DataPoint).all(0)):\n",
    "        Centers.add(DataPoint)\n",
    "    return Centers "
   ]
  },
  {
   "cell_type": "raw",
   "metadata": {},
   "source": [
    "Sample Input:\n",
    "3 2\n",
    "0.0 0.0\n",
    "5.0 5.0\n",
    "0.0 5.0\n",
    "1.0 1.0\n",
    "2.0 2.0\n",
    "3.0 3.0\n",
    "1.0 2.0\n",
    "Sample Output:\n",
    "0.0 0.0\n",
    "5.0 5.0\n",
    "0.0 5.0"
   ]
  },
  {
   "cell_type": "code",
   "execution_count": 95,
   "metadata": {},
   "outputs": [],
   "source": [
    "Data = [(0,0),(5,5),(0,5),(1,1),(2,2),(3,3),(1,2)]"
   ]
  },
  {
   "cell_type": "code",
   "execution_count": 96,
   "metadata": {},
   "outputs": [
    {
     "data": {
      "text/plain": [
       "{(0, 0), (0, 5), (5, 5)}"
      ]
     },
     "execution_count": 96,
     "metadata": {},
     "output_type": "execute_result"
    }
   ],
   "source": [
    "FarthestFirstTraversal(Data, 3)"
   ]
  },
  {
   "cell_type": "code",
   "execution_count": 97,
   "metadata": {},
   "outputs": [],
   "source": [
    "Data = []\n",
    "file = open('dataset_369371_2.txt', 'r') \n",
    "for i, line in enumerate(file):\n",
    "    line=line.rstrip('\\n')\n",
    "    if(i==0):\n",
    "        v= line\n",
    "    else:\n",
    "        Data.append(tuple(np.array(line.split(' ')).astype(float)))"
   ]
  },
  {
   "cell_type": "code",
   "execution_count": 98,
   "metadata": {},
   "outputs": [
    {
     "name": "stdout",
     "output_type": "stream",
     "text": [
      "34.2 0.0 \n",
      "0.2 31.3 \n",
      "0.0 0.2 \n",
      "11.7 14.0 \n"
     ]
    }
   ],
   "source": [
    "Centers = FarthestFirstTraversal(Data, 4)\n",
    "for center in Centers:\n",
    "    for i in center:\n",
    "        print(i,end=' ')\n",
    "    print()"
   ]
  },
  {
   "cell_type": "code",
   "execution_count": 87,
   "metadata": {},
   "outputs": [
    {
     "data": {
      "text/plain": [
       "17.91647286716892"
      ]
     },
     "execution_count": 87,
     "metadata": {},
     "output_type": "execute_result"
    }
   ],
   "source": [
    "euclidean_distance(Data[1],Data[2])"
   ]
  },
  {
   "cell_type": "code",
   "execution_count": 88,
   "metadata": {},
   "outputs": [
    {
     "data": {
      "text/plain": [
       "17.91647286716892"
      ]
     },
     "execution_count": 88,
     "metadata": {},
     "output_type": "execute_result"
    }
   ],
   "source": [
    "np.linalg.norm(np.array(Data[1])-np.array(Data[2]))"
   ]
  },
  {
   "cell_type": "code",
   "execution_count": null,
   "metadata": {},
   "outputs": [],
   "source": []
  }
 ],
 "metadata": {
  "kernelspec": {
   "display_name": "Python 3",
   "language": "python",
   "name": "python3"
  },
  "language_info": {
   "codemirror_mode": {
    "name": "ipython",
    "version": 3
   },
   "file_extension": ".py",
   "mimetype": "text/x-python",
   "name": "python",
   "nbconvert_exporter": "python",
   "pygments_lexer": "ipython3",
   "version": "3.7.3"
  }
 },
 "nbformat": 4,
 "nbformat_minor": 4
}
