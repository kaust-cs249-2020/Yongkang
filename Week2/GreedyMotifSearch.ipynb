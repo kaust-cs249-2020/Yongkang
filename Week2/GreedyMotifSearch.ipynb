{
 "cells": [
  {
   "cell_type": "code",
   "execution_count": 1,
   "metadata": {},
   "outputs": [],
   "source": [
    "import numpy as np"
   ]
  },
  {
   "cell_type": "code",
   "execution_count": 26,
   "metadata": {},
   "outputs": [],
   "source": [
    "def Profile_most_probable_kmer(Text,k,Profile):\n",
    "    max_prob = 0\n",
    "    most_probable_kmer = ''\n",
    "    for i in range(len(Text)-k+1):\n",
    "        kmer = Text[i:i+k]\n",
    "        prob = 1\n",
    "        for j in range(len(kmer)):\n",
    "            base = kmer[j]\n",
    "            prob *= Profile[base][j]\n",
    "        if(max_prob < prob):\n",
    "            max_prob = prob\n",
    "            most_probable_kmer = kmer\n",
    "    return most_probable_kmer"
   ]
  },
  {
   "cell_type": "code",
   "execution_count": 3,
   "metadata": {},
   "outputs": [],
   "source": [
    "def Motif_Matrix(Dna,k):\n",
    "    motif_matrix = np.zeros(len(Dna)).astype('str')\n",
    "    for i in range(len(Dna)):\n",
    "        motif_matrix[i] = Dna[i][0:k]\n",
    "    return motif_matrix\n",
    "        "
   ]
  },
  {
   "cell_type": "code",
   "execution_count": 22,
   "metadata": {},
   "outputs": [],
   "source": [
    "def form_Profile(Motifs,k):\n",
    "    ####Version1\n",
    "    #Frequence = {base:np.zeros(k) for base in ['A','C','G','T']}\n",
    "    #Sum = np.zeros(k)\n",
    "    ####Version 2 with pseudocounts\n",
    "    Frequence = {base:np.ones(k) for base in ['A','C','G','T']}\n",
    "    Sum = np.ones(k)      \n",
    "    for motif in Motifs:\n",
    "        for i in range(len(motif)):\n",
    "            Frequence[motif[i]][i] +=1\n",
    "            Sum[i] += 1\n",
    "    \n",
    "    Profile = {base:np.zeros(k) for base in ['A','C','G','T']}\n",
    "    for base,val in Profile.items():\n",
    "        for i in range(len(val)):\n",
    "            val[i] = Frequence[base][i]/Sum[i]\n",
    "    return Profile\n",
    "        "
   ]
  },
  {
   "cell_type": "code",
   "execution_count": 5,
   "metadata": {},
   "outputs": [],
   "source": [
    "def Score(Motifs,k):\n",
    "    Frequence = {pos:{base:0 for base in ['A','C','G','T']} for pos in range(k)}\n",
    "    Sum = np.zeros(k)\n",
    "    for motif in Motifs:\n",
    "        for i in range(len(motif)):\n",
    "            Frequence[i][motif[i]] +=1\n",
    "            Sum[i] += 1\n",
    "    Score = 0\n",
    "    for i in range(k):\n",
    "        max_base = max(Frequence[i], key=Frequence[i].get)\n",
    "        Score += Sum[i] - Frequence[i][max_base]\n",
    "    return Score"
   ]
  },
  {
   "cell_type": "code",
   "execution_count": 6,
   "metadata": {},
   "outputs": [],
   "source": [
    "def GreedyMotifSearch(Dna, k, t):\n",
    "    BestMotifs =  Motif_Matrix(Dna,k)\n",
    "    Motifs = np.zeros(t).astype('str')\n",
    "    for i in range(len(Dna[0])-k+1):\n",
    "        Motifs[0] = Dna[0][i:i+k]\n",
    "        for j in range(1,t):\n",
    "            Profile = form_Profile(Motifs[0:j],k)\n",
    "            Motifs[j] = Profile_most_probable_kmer(Dna[j],k,Profile)\n",
    "        if (Score(Motifs,k) < Score(BestMotifs,k)):\n",
    "            BestMotifs = Motifs.copy()\n",
    "    return BestMotifs"
   ]
  },
  {
   "cell_type": "code",
   "execution_count": 27,
   "metadata": {},
   "outputs": [],
   "source": [
    "Dna = ['GGCGTTCAGGCA',\n",
    "'AAGAATCAGTCA',\n",
    "'CAAGGAGTTCGC',\n",
    "'CACGTCAATCAC',\n",
    "'CAATAATATTCG']\n",
    "k=3\n",
    "t=5"
   ]
  },
  {
   "cell_type": "code",
   "execution_count": 28,
   "metadata": {},
   "outputs": [
    {
     "data": {
      "text/plain": [
       "array(['TTC', 'ATC', 'TTC', 'ATC', 'TTC'], dtype='<U32')"
      ]
     },
     "execution_count": 28,
     "metadata": {},
     "output_type": "execute_result"
    }
   ],
   "source": [
    "GreedyMotifSearch(Dna, k, t)"
   ]
  },
  {
   "cell_type": "code",
   "execution_count": 9,
   "metadata": {},
   "outputs": [],
   "source": [
    "Dna = []\n",
    "k = 0\n",
    "t = 0\n",
    "file = open('dataset_369253_5.txt', 'r') \n",
    "for i, line in enumerate(file):\n",
    "    line=line.rstrip('\\n')\n",
    "    if(i==0):\n",
    "        (k,t)= line.split(' ')\n",
    "        k = int(k)\n",
    "        t = int(t)\n",
    "    else:\n",
    "        Dna.append(line)"
   ]
  },
  {
   "cell_type": "code",
   "execution_count": 10,
   "metadata": {},
   "outputs": [
    {
     "name": "stdout",
     "output_type": "stream",
     "text": [
      "AGAGCGTAGGGG\n",
      "CCGCAACTCATG\n",
      "AACAATGGTGCG\n",
      "ACTGTCACATTG\n",
      "ACACAATCCACG\n",
      "ACAATTCTAATG\n",
      "ACGGCATCAAGG\n",
      "CCCGCCTGTATG\n",
      "ACTGCATGGATG\n",
      "ACGGAATGCACG\n",
      "AACGCGTGAATG\n",
      "CCGGCCTGATTG\n",
      "AACACATCTAGG\n",
      "CCGGCGACTGTG\n",
      "ACCGTACCATTG\n",
      "ACCGAAGATACG\n",
      "ACGCTATCGTCG\n",
      "ACAGAATCTGGG\n",
      "CAGGATTGTATG\n",
      "ACTGCCATATTG\n",
      "ACGGAAGTTAGG\n",
      "ACGAACTCCGTG\n",
      "CAGAAACATACG\n",
      "CCTGACCCGATG\n",
      "AGTGTGCTATGG\n"
     ]
    }
   ],
   "source": [
    "for kmer in GreedyMotifSearch(Dna, k, t):\n",
    "    print(kmer)"
   ]
  },
  {
   "cell_type": "code",
   "execution_count": 11,
   "metadata": {},
   "outputs": [],
   "source": [
    "Dna = ['GGCGTTCAGGCA',\n",
    "'AAGAATCAGTCA',\n",
    "'CAAGGAGTTCGC',\n",
    "'CACGTCAATCAC',\n",
    "'CAATAATATTCG']\n",
    "k = 3\n",
    "t =5"
   ]
  },
  {
   "cell_type": "code",
   "execution_count": 23,
   "metadata": {},
   "outputs": [
    {
     "data": {
      "text/plain": [
       "array(['TTC', 'ATC', 'TTC', 'ATC', 'TTC'], dtype='<U32')"
      ]
     },
     "execution_count": 23,
     "metadata": {},
     "output_type": "execute_result"
    }
   ],
   "source": [
    "GreedyMotifSearch(Dna, k, t)"
   ]
  },
  {
   "cell_type": "code",
   "execution_count": 24,
   "metadata": {},
   "outputs": [],
   "source": [
    "Dna = []\n",
    "k = 0\n",
    "t = 0\n",
    "file = open('dataset_369254_9.txt', 'r') \n",
    "for i, line in enumerate(file):\n",
    "    line=line.rstrip('\\n')\n",
    "    if(i==0):\n",
    "        (k,t)= line.split(' ')\n",
    "        k = int(k)\n",
    "        t = int(t)\n",
    "    else:\n",
    "        Dna.append(line)"
   ]
  },
  {
   "cell_type": "code",
   "execution_count": 25,
   "metadata": {},
   "outputs": [
    {
     "name": "stdout",
     "output_type": "stream",
     "text": [
      "CTACGGGTGCCC\n",
      "CTCCCGGTGGCC\n",
      "ATCCCGGTGCCC\n",
      "GTGCGGGTGACC\n",
      "CTGCAGGTGACC\n",
      "GTCCCGGTGTCC\n",
      "TTGCAGGTGTCC\n",
      "CTACGGGTGACC\n",
      "TTGCCGGTGTCC\n",
      "CTCCAGGTGGCC\n",
      "ATTCGGGTGCCC\n",
      "CTCCCGGTGCCC\n",
      "TTCCAGGTGGCC\n",
      "GTTCAGGTGACC\n",
      "TTGCGGGTGACC\n",
      "CTCCCGGTGACC\n",
      "ATACCGGTGCCC\n",
      "ATGCAGGTGACC\n",
      "GTCCTGGTGTCC\n",
      "ATCCAGGTGGCC\n",
      "TTGCTGGTGTCC\n",
      "ATTCAGGTGCCC\n",
      "CTGCGGGTGGCC\n",
      "ATACTGGTGGCC\n",
      "CTCCGGGTGACC\n"
     ]
    }
   ],
   "source": [
    "for kmer in GreedyMotifSearch(Dna, k, t):\n",
    "    print(kmer)"
   ]
  },
  {
   "cell_type": "code",
   "execution_count": null,
   "metadata": {},
   "outputs": [],
   "source": []
  }
 ],
 "metadata": {
  "kernelspec": {
   "display_name": "Python 3",
   "language": "python",
   "name": "python3"
  },
  "language_info": {
   "codemirror_mode": {
    "name": "ipython",
    "version": 3
   },
   "file_extension": ".py",
   "mimetype": "text/x-python",
   "name": "python",
   "nbconvert_exporter": "python",
   "pygments_lexer": "ipython3",
   "version": "3.7.3"
  }
 },
 "nbformat": 4,
 "nbformat_minor": 4
}
