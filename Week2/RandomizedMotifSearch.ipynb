{
 "cells": [
  {
   "cell_type": "code",
   "execution_count": null,
   "metadata": {},
   "outputs": [],
   "source": [
    "import numpy as np"
   ]
  },
  {
   "cell_type": "code",
   "execution_count": 51,
   "metadata": {},
   "outputs": [],
   "source": [
    "def Random_Motif_Matrix(Dna,k):\n",
    "    motif_matrix = np.zeros(len(Dna)).astype('str')\n",
    "    for i in range(len(Dna)):\n",
    "        init_pos = np.random.randint(len(Dna[i])-k+1)\n",
    "        motif_matrix[i] = Dna[i][init_pos:init_pos+k]\n",
    "    return motif_matrix"
   ]
  },
  {
   "cell_type": "code",
   "execution_count": 2,
   "metadata": {},
   "outputs": [],
   "source": [
    "def form_Profile(Motifs,k):\n",
    "    ####Version1\n",
    "    #Frequence = {base:np.zeros(k) for base in ['A','C','G','T']}\n",
    "    #Sum = np.zeros(k)\n",
    "    ####Version 2 with pseudocounts\n",
    "    Frequence = {base:np.ones(k) for base in ['A','C','G','T']}\n",
    "    Sum = np.ones(k)      \n",
    "    for motif in Motifs:\n",
    "        for i in range(len(motif)):\n",
    "            Frequence[motif[i]][i] +=1\n",
    "            Sum[i] += 1\n",
    "    \n",
    "    Profile = {base:np.zeros(k) for base in ['A','C','G','T']}\n",
    "    for base,val in Profile.items():\n",
    "        for i in range(len(val)):\n",
    "            val[i] = Frequence[base][i]/Sum[i]\n",
    "    return Profile"
   ]
  },
  {
   "cell_type": "code",
   "execution_count": 3,
   "metadata": {},
   "outputs": [],
   "source": [
    "def Profile_most_probable_kmer(Text,k,Profile):\n",
    "    max_prob = -1\n",
    "    most_probable_kmer = ''\n",
    "    for i in range(len(Text)-k+1):\n",
    "        kmer = Text[i:i+k]\n",
    "        prob = 1\n",
    "        for j in range(len(kmer)):\n",
    "            base = kmer[j]\n",
    "            prob *= Profile[base][j]\n",
    "        if(max_prob < prob):\n",
    "            max_prob = prob\n",
    "            most_probable_kmer = kmer\n",
    "    return most_probable_kmer"
   ]
  },
  {
   "cell_type": "code",
   "execution_count": 15,
   "metadata": {},
   "outputs": [],
   "source": [
    "def Most_Probable_Motifs(Dna,k,Profile):\n",
    "    t = len(Dna)\n",
    "    Motifs = np.zeros(t).astype('str')\n",
    "    for i in range(t):\n",
    "        Motifs[i] = Profile_most_probable_kmer(Dna[i],k,Profile)\n",
    "    return Motifs"
   ]
  },
  {
   "cell_type": "code",
   "execution_count": 5,
   "metadata": {},
   "outputs": [],
   "source": [
    "def Score(Motifs,k):\n",
    "    Frequence = {pos:{base:0 for base in ['A','C','G','T']} for pos in range(k)}\n",
    "    Sum = np.zeros(k)\n",
    "    for motif in Motifs:\n",
    "        for i in range(len(motif)):\n",
    "            Frequence[i][motif[i]] +=1\n",
    "            Sum[i] += 1\n",
    "    Score = 0\n",
    "    for i in range(k):\n",
    "        max_base = max(Frequence[i], key=Frequence[i].get)\n",
    "        Score += Sum[i] - Frequence[i][max_base]\n",
    "    return Score"
   ]
  },
  {
   "cell_type": "code",
   "execution_count": 49,
   "metadata": {},
   "outputs": [],
   "source": [
    "def RandomizedMotifSearch(Dna, k, t):\n",
    "        BestMotifs = Random_Motif_Matrix(Dna,k)\n",
    "        while True:\n",
    "            Profile = form_Profile(BestMotifs,k)\n",
    "            Motifs  = Most_Probable_Motifs(Dna,k,Profile)\n",
    "            if Score(Motifs,k) < Score(BestMotifs,k):\n",
    "                BestMotifs  = Motifs.copy()\n",
    "            else:\n",
    "                return BestMotifs"
   ]
  },
  {
   "cell_type": "code",
   "execution_count": 24,
   "metadata": {},
   "outputs": [],
   "source": [
    "k = 8\n",
    "t = 5\n",
    "Dna = [\n",
    "'CGCCCCTCTCGGGGGTGTTCAGTAAACGGCCA',\n",
    "'GGGCGAGGTATGTGTAAGTGCCAAGGTGCCAG',\n",
    "'TAGTACCGAGACCGAAAGAAGTATACAGGCGT',\n",
    "'TAGATCAAGTTTCAGGTGCACGTCGGTGAACC',\n",
    "'AATCCACCAGCTCCACGTGCAATGTTGGCCTA']"
   ]
  },
  {
   "cell_type": "code",
   "execution_count": 56,
   "metadata": {},
   "outputs": [
    {
     "name": "stdout",
     "output_type": "stream",
     "text": [
      "TCTCGGGG\n",
      "CCAAGGTG\n",
      "TACAGGCG\n",
      "TTCAGGTG\n",
      "TCCACGTG\n"
     ]
    }
   ],
   "source": [
    "BestMotifs = RandomizedMotifSearch(Dna, k, t)\n",
    "for i in range(1000):\n",
    "    Motifs = RandomizedMotifSearch(Dna, k, t)\n",
    "    if Score(Motifs,k) < Score(BestMotifs,k):\n",
    "        BestMotifs  = Motifs.copy()\n",
    "for kmer in BestMotifs:\n",
    "    print(kmer)\n",
    "    "
   ]
  },
  {
   "cell_type": "code",
   "execution_count": 59,
   "metadata": {},
   "outputs": [],
   "source": [
    "Dna = []\n",
    "k = 0\n",
    "t = 0\n",
    "file = open('dataset_369255_5.txt', 'r') \n",
    "for i, line in enumerate(file):\n",
    "    line=line.rstrip('\\n')\n",
    "    if(i==0):\n",
    "        (k,t)= line.split(' ')\n",
    "        k = int(k)\n",
    "        t = int(t)\n",
    "    else:\n",
    "        Dna.append(line)"
   ]
  },
  {
   "cell_type": "code",
   "execution_count": 61,
   "metadata": {},
   "outputs": [
    {
     "name": "stdout",
     "output_type": "stream",
     "text": [
      "CCGTCGCACGGCAAA\n",
      "GCGGAGCTCAGAATA\n",
      "GCGTCTCTTGTAATA\n",
      "GCGTCTTGTAGAATA\n",
      "GCGTCAGACAGAATA\n",
      "GCGTCTCTCAGCGGA\n",
      "GCCGATCTCAGAATA\n",
      "CGGTCTCTCAGAATC\n",
      "CCGTCTCTCAGAAAG\n",
      "GCGTTCATCAGAATA\n",
      "GCGTTGTTCAGAATA\n",
      "GGAGCTCTCAGAATA\n",
      "TTCTCTCTCAGAATA\n",
      "GCGTCGAACAGAATA\n",
      "GCGTCTCTCCCCATA\n",
      "GCGTCTTAGAGAATA\n",
      "GCGTCTCTCAACCTA\n",
      "GCGAAGCTCAGAATA\n",
      "GCGTCTCTCAGATCG\n",
      "GCGTCTCGGGGAATA\n"
     ]
    }
   ],
   "source": [
    "BestMotifs = RandomizedMotifSearch(Dna, k, t)\n",
    "for i in range(1000):\n",
    "    Motifs = RandomizedMotifSearch(Dna, k, t)\n",
    "    if Score(Motifs,k) < Score(BestMotifs,k):\n",
    "        BestMotifs  = Motifs.copy()\n",
    "for kmer in BestMotifs:\n",
    "    print(kmer)"
   ]
  },
  {
   "cell_type": "code",
   "execution_count": null,
   "metadata": {},
   "outputs": [],
   "source": []
  },
  {
   "cell_type": "code",
   "execution_count": null,
   "metadata": {},
   "outputs": [],
   "source": []
  }
 ],
 "metadata": {
  "kernelspec": {
   "display_name": "Python 3",
   "language": "python",
   "name": "python3"
  },
  "language_info": {
   "codemirror_mode": {
    "name": "ipython",
    "version": 3
   },
   "file_extension": ".py",
   "mimetype": "text/x-python",
   "name": "python",
   "nbconvert_exporter": "python",
   "pygments_lexer": "ipython3",
   "version": "3.7.3"
  }
 },
 "nbformat": 4,
 "nbformat_minor": 4
}
