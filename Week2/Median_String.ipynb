{
 "cells": [
  {
   "cell_type": "code",
   "execution_count": 7,
   "metadata": {},
   "outputs": [],
   "source": [
    "import math"
   ]
  },
  {
   "cell_type": "code",
   "execution_count": 21,
   "metadata": {},
   "outputs": [],
   "source": [
    "def entropy(array):\n",
    "    entropy = 0\n",
    "    for ele in array:\n",
    "        entropy += ele*math.log2(ele)\n",
    "    return -entropy"
   ]
  },
  {
   "cell_type": "code",
   "execution_count": 22,
   "metadata": {},
   "outputs": [],
   "source": [
    "array = [0.2,0.6,0.2,0.2,0.1,0.7,.9,.1,.9,.1,.9,.1,.1,.4,.5,.1,.1,.8,.1,.2,.7,.3,.4,.3,.6,.4]"
   ]
  },
  {
   "cell_type": "code",
   "execution_count": 23,
   "metadata": {},
   "outputs": [
    {
     "data": {
      "text/plain": [
       "9.916290005356972"
      ]
     },
     "execution_count": 23,
     "metadata": {},
     "output_type": "execute_result"
    }
   ],
   "source": [
    "entropy(array)"
   ]
  },
  {
   "cell_type": "code",
   "execution_count": 18,
   "metadata": {},
   "outputs": [
    {
     "data": {
      "text/plain": [
       "0.09"
      ]
     },
     "execution_count": 18,
     "metadata": {},
     "output_type": "execute_result"
    }
   ],
   "source": [
    ".09"
   ]
  },
  {
   "cell_type": "code",
   "execution_count": 27,
   "metadata": {},
   "outputs": [],
   "source": [
    "def Hamming_distance(Seq1,Seq2):\n",
    "    Distance = 0\n",
    "    for i in range(len(Seq1)):\n",
    "        if(Seq1[i] != Seq2[i]):\n",
    "            Distance += 1\n",
    "    return Distance"
   ]
  },
  {
   "cell_type": "code",
   "execution_count": 25,
   "metadata": {},
   "outputs": [],
   "source": [
    "def all_kmer(k):\n",
    "    kmers = set()\n",
    "    nucleotides = {'A','C','G','T'}\n",
    "    if k == 1:\n",
    "        return nucleotides\n",
    "    else:\n",
    "        pre_kmers = all_kmer(k-1)\n",
    "        for kmer in pre_kmers:\n",
    "            for base in nucleotides:\n",
    "                kmers.add(kmer+base)\n",
    "        return kmers\n",
    "            "
   ]
  },
  {
   "cell_type": "code",
   "execution_count": 28,
   "metadata": {},
   "outputs": [],
   "source": [
    "def d(Pattern,Dna):\n",
    "    k = len(Pattern)\n",
    "    sum_distance = 0\n",
    "    for dna in Dna:\n",
    "        n = len(dna)\n",
    "        min_distance = 1000000000\n",
    "        for i in range(n-k+1):\n",
    "            Pattern2 = dna[i:i+k]\n",
    "            distance = Hamming_distance(Pattern,Pattern2)\n",
    "            if(min_distance > distance):\n",
    "                min_distance = distance\n",
    "        sum_distance += min_distance\n",
    "    return sum_distance\n",
    "            "
   ]
  },
  {
   "cell_type": "code",
   "execution_count": 29,
   "metadata": {},
   "outputs": [],
   "source": [
    "def MedianString(Dna, k):\n",
    "    distance = 10000000000\n",
    "    for Pattern in all_kmer(k):\n",
    "        if distance > d(Pattern, Dna):\n",
    "            distance = d(Pattern, Dna)\n",
    "            Median = Pattern\n",
    "    return Median"
   ]
  },
  {
   "cell_type": "code",
   "execution_count": 30,
   "metadata": {},
   "outputs": [],
   "source": [
    "Dna = ['AAATTGACGCAT',\n",
    "'GACGACCACGTT',\n",
    "'CGTCAGCGCCTG',\n",
    "'GCTGAGCACCGG',\n",
    "'AGTTCGGGACAG'\n",
    "]\n",
    "k=3"
   ]
  },
  {
   "cell_type": "code",
   "execution_count": 32,
   "metadata": {},
   "outputs": [
    {
     "data": {
      "text/plain": [
       "'GAC'"
      ]
     },
     "execution_count": 32,
     "metadata": {},
     "output_type": "execute_result"
    }
   ],
   "source": [
    "MedianString(Dna, k)"
   ]
  },
  {
   "cell_type": "code",
   "execution_count": 33,
   "metadata": {},
   "outputs": [],
   "source": [
    "Dna = []\n",
    "k = 0\n",
    "file = open('dataset_369252_9.txt', 'r') \n",
    "for i, line in enumerate(file):\n",
    "    line=line.rstrip('\\n')\n",
    "    if(i==0):\n",
    "        k = int(line)\n",
    "    else:\n",
    "        Dna.append(line)"
   ]
  },
  {
   "cell_type": "code",
   "execution_count": 35,
   "metadata": {},
   "outputs": [
    {
     "data": {
      "text/plain": [
       "'ATCAGA'"
      ]
     },
     "execution_count": 35,
     "metadata": {},
     "output_type": "execute_result"
    }
   ],
   "source": [
    "MedianString(Dna, k)"
   ]
  },
  {
   "cell_type": "code",
   "execution_count": null,
   "metadata": {},
   "outputs": [],
   "source": []
  }
 ],
 "metadata": {
  "kernelspec": {
   "display_name": "Python 3",
   "language": "python",
   "name": "python3"
  },
  "language_info": {
   "codemirror_mode": {
    "name": "ipython",
    "version": 3
   },
   "file_extension": ".py",
   "mimetype": "text/x-python",
   "name": "python",
   "nbconvert_exporter": "python",
   "pygments_lexer": "ipython3",
   "version": "3.7.3"
  }
 },
 "nbformat": 4,
 "nbformat_minor": 4
}
