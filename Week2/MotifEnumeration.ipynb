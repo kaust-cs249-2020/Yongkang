{
 "cells": [
  {
   "cell_type": "code",
   "execution_count": 1,
   "metadata": {},
   "outputs": [],
   "source": [
    "def Hamming_distance(Seq1,Seq2):\n",
    "    Distance = 0\n",
    "    for i in range(len(Seq1)):\n",
    "        if(Seq1[i] != Seq2[i]):\n",
    "            Distance += 1\n",
    "    return Distance"
   ]
  },
  {
   "cell_type": "code",
   "execution_count": 2,
   "metadata": {},
   "outputs": [],
   "source": [
    "def Neighbors(Pattern, d):\n",
    "    nucleotides = {'A','C','G','T'}\n",
    "    if d == 0:\n",
    "        return {Pattern}\n",
    "    if len(Pattern) == 1: \n",
    "        return nucleotides\n",
    "    Neighborhood = set()\n",
    "    SuffixNeighbors = Neighbors(Pattern[1:len(Pattern)], d)\n",
    "    for Text in SuffixNeighbors:\n",
    "        if Hamming_distance(Pattern[1:len(Pattern)], Text) < d:\n",
    "            for x in nucleotides:\n",
    "                Neighborhood.add(x+Text)\n",
    "        else:\n",
    "            Neighborhood.add(Pattern[0]+Text)\n",
    "    return Neighborhood"
   ]
  },
  {
   "cell_type": "code",
   "execution_count": 3,
   "metadata": {},
   "outputs": [],
   "source": [
    "def MotifEnumeration(Dna, k, d):\n",
    "    Patterns = set()\n",
    "    firstString = Dna[0]\n",
    "    n = len(firstString)\n",
    "    for i in range(n-k+1):\n",
    "        kmer = firstString[i:i+k]\n",
    "        kmer_patterns =  Neighbors(kmer,d)\n",
    "        Patterns = Patterns.union(kmer_patterns)\n",
    "    for i in range(1,len(Dna)):\n",
    "        string = Dna[i]\n",
    "        n = len(string)\n",
    "        Patterns2 = set()\n",
    "        for j in range(n-k+1):\n",
    "            kmer = string[j:j+k]\n",
    "            kmer_patterns = Neighbors(kmer,d)\n",
    "            Patterns2 = Patterns2.union(kmer_patterns)\n",
    "        Patterns = Patterns.intersection(Patterns2)\n",
    "    return Patterns"
   ]
  },
  {
   "cell_type": "code",
   "execution_count": 4,
   "metadata": {},
   "outputs": [],
   "source": [
    "Dna = ['ATTTGGC','TGCCTTA','CGGTATC','GAAAATT']"
   ]
  },
  {
   "cell_type": "code",
   "execution_count": 5,
   "metadata": {},
   "outputs": [
    {
     "data": {
      "text/plain": [
       "{'ATA', 'ATT', 'GTT', 'TTT'}"
      ]
     },
     "execution_count": 5,
     "metadata": {},
     "output_type": "execute_result"
    }
   ],
   "source": [
    "MotifEnumeration(Dna,3,1)"
   ]
  },
  {
   "cell_type": "code",
   "execution_count": 6,
   "metadata": {},
   "outputs": [],
   "source": [
    "Dna = []\n",
    "k = 0\n",
    "d = 0\n",
    "file = open('dataset_369250_8.txt', 'r') \n",
    "for i, line in enumerate(file):\n",
    "    line=line.rstrip('\\n')\n",
    "    if(i==0):\n",
    "        (k,d)= line.split(' ')\n",
    "        k = int(k)\n",
    "        d = int(d)\n",
    "    else:\n",
    "        Dna.append(line)"
   ]
  },
  {
   "cell_type": "code",
   "execution_count": 7,
   "metadata": {},
   "outputs": [
    {
     "data": {
      "text/plain": [
       "{'ATGAA', 'ATGAC', 'ATGAG', 'ATGAT'}"
      ]
     },
     "execution_count": 7,
     "metadata": {},
     "output_type": "execute_result"
    }
   ],
   "source": [
    "MotifEnumeration(Dna,k,d)"
   ]
  },
  {
   "cell_type": "code",
   "execution_count": null,
   "metadata": {},
   "outputs": [],
   "source": []
  }
 ],
 "metadata": {
  "kernelspec": {
   "display_name": "Python 3",
   "language": "python",
   "name": "python3"
  },
  "language_info": {
   "codemirror_mode": {
    "name": "ipython",
    "version": 3
   },
   "file_extension": ".py",
   "mimetype": "text/x-python",
   "name": "python",
   "nbconvert_exporter": "python",
   "pygments_lexer": "ipython3",
   "version": "3.7.3"
  }
 },
 "nbformat": 4,
 "nbformat_minor": 4
}
