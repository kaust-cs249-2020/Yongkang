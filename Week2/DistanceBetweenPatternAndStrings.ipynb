{
 "cells": [
  {
   "cell_type": "code",
   "execution_count": 4,
   "metadata": {},
   "outputs": [],
   "source": [
    "def Hamming_distance(Seq1,Seq2):\n",
    "    Distance = 0\n",
    "    for i in range(len(Seq1)):\n",
    "        if(Seq1[i] != Seq2[i]):\n",
    "            Distance += 1\n",
    "    return Distance"
   ]
  },
  {
   "cell_type": "code",
   "execution_count": 1,
   "metadata": {},
   "outputs": [],
   "source": [
    "def d(Pattern,Dna):\n",
    "    k = len(Pattern)\n",
    "    sum_distance = 0\n",
    "    for dna in Dna:\n",
    "        n = len(dna)\n",
    "        min_distance = 1000000000\n",
    "        for i in range(n-k+1):\n",
    "            Pattern2 = dna[i:i+k]\n",
    "            distance = Hamming_distance(Pattern,Pattern2)\n",
    "            if(min_distance > distance):\n",
    "                min_distance = distance\n",
    "        sum_distance += min_distance\n",
    "    return sum_distance"
   ]
  },
  {
   "cell_type": "code",
   "execution_count": 2,
   "metadata": {},
   "outputs": [],
   "source": [
    "Pattern  = 'AAA'\n",
    "Dna = ['TTACCTTAAC', 'GATATCTGTC', 'ACGGCGTTCG', 'CCCTAAAGAG', 'CGTCAGAGGT']"
   ]
  },
  {
   "cell_type": "code",
   "execution_count": 5,
   "metadata": {},
   "outputs": [
    {
     "data": {
      "text/plain": [
       "5"
      ]
     },
     "execution_count": 5,
     "metadata": {},
     "output_type": "execute_result"
    }
   ],
   "source": [
    "d(Pattern,Dna)"
   ]
  },
  {
   "cell_type": "code",
   "execution_count": 6,
   "metadata": {},
   "outputs": [],
   "source": [
    "Dna = []\n",
    "file = open('dataset_369260_1.txt', 'r') \n",
    "for i, line in enumerate(file):\n",
    "    line=line.rstrip('\\n')\n",
    "    if(i==0):\n",
    "        Pattern = line\n",
    "    else:\n",
    "        Dna = line.split(' ')"
   ]
  },
  {
   "cell_type": "code",
   "execution_count": 8,
   "metadata": {},
   "outputs": [
    {
     "data": {
      "text/plain": [
       "65"
      ]
     },
     "execution_count": 8,
     "metadata": {},
     "output_type": "execute_result"
    }
   ],
   "source": [
    "d(Pattern,Dna)"
   ]
  },
  {
   "cell_type": "code",
   "execution_count": null,
   "metadata": {},
   "outputs": [],
   "source": []
  }
 ],
 "metadata": {
  "kernelspec": {
   "display_name": "Python 3",
   "language": "python",
   "name": "python3"
  },
  "language_info": {
   "codemirror_mode": {
    "name": "ipython",
    "version": 3
   },
   "file_extension": ".py",
   "mimetype": "text/x-python",
   "name": "python",
   "nbconvert_exporter": "python",
   "pygments_lexer": "ipython3",
   "version": "3.7.3"
  }
 },
 "nbformat": 4,
 "nbformat_minor": 4
}
