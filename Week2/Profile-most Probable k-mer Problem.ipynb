{
 "cells": [
  {
   "cell_type": "code",
   "execution_count": 7,
   "metadata": {},
   "outputs": [],
   "source": [
    "import numpy as np"
   ]
  },
  {
   "cell_type": "code",
   "execution_count": 15,
   "metadata": {},
   "outputs": [],
   "source": [
    "def Profile_most_probable_kmer(Text,k,Profile):\n",
    "    max_prob = 0\n",
    "    most_probable_kmer = ''\n",
    "    for i in range(len(Text)-k+1):\n",
    "        kmer = Text[i:i+k]\n",
    "        prob = 1\n",
    "        for j in range(len(kmer)):\n",
    "            base = kmer[j]\n",
    "            prob *= Profile[base][j]\n",
    "        if(max_prob < prob):\n",
    "            max_prob = prob\n",
    "            most_probable_kmer = kmer\n",
    "    return most_probable_kmer\n",
    "\n",
    "            \n",
    "        "
   ]
  },
  {
   "cell_type": "code",
   "execution_count": 13,
   "metadata": {},
   "outputs": [],
   "source": [
    "Text = 'ACCTGTTTATTGCCTAAGTTCCGAACAAACCCAATATAGCCCGAGGGCCT'\n",
    "k = 5\n",
    "Profile = {'A':[0.2, 0.2, 0.3 ,0.2, 0.30],\n",
    "'C':[0.4, 0.3, 0.1, 0.5, 0.1],\n",
    "'G':[0.3, 0.3, 0.5, 0.2, 0.4],\n",
    "'T':[0.1, 0.2, 0.1, 0.1, 0.2]}"
   ]
  },
  {
   "cell_type": "code",
   "execution_count": 16,
   "metadata": {},
   "outputs": [
    {
     "data": {
      "text/plain": [
       "'CCGAG'"
      ]
     },
     "execution_count": 16,
     "metadata": {},
     "output_type": "execute_result"
    }
   ],
   "source": [
    "Profile_most_probable_kmer(Text,k,Profile)"
   ]
  },
  {
   "cell_type": "code",
   "execution_count": 34,
   "metadata": {},
   "outputs": [],
   "source": [
    "Text = ''\n",
    "k = 0\n",
    "Profile = {}\n",
    "file = open('dataset_369253_3.txt', 'r') \n",
    "for i, line in enumerate(file):\n",
    "    line=line.rstrip('\\n')\n",
    "    if(i==0):\n",
    "        Text = line\n",
    "    elif(i==1):\n",
    "        k = int(line)\n",
    "    elif(i==2):\n",
    "        Profile['A'] = np.array(line.split(' ')).astype('float')\n",
    "    elif(i==3):\n",
    "        Profile['C'] = np.array(line.split(' ')).astype('float')\n",
    "    elif(i==4):\n",
    "        Profile['G'] = np.array(line.split(' ')).astype('float')\n",
    "    elif(i==5):\n",
    "        Profile['T'] = np.array(line.split(' ')).astype('float')"
   ]
  },
  {
   "cell_type": "code",
   "execution_count": 35,
   "metadata": {},
   "outputs": [
    {
     "data": {
      "text/plain": [
       "'CCCCAAAAGCGGGA'"
      ]
     },
     "execution_count": 35,
     "metadata": {},
     "output_type": "execute_result"
    }
   ],
   "source": [
    "Profile_most_probable_kmer(Text,k,Profile)"
   ]
  },
  {
   "cell_type": "code",
   "execution_count": 38,
   "metadata": {},
   "outputs": [],
   "source": []
  },
  {
   "cell_type": "code",
   "execution_count": null,
   "metadata": {},
   "outputs": [],
   "source": []
  }
 ],
 "metadata": {
  "kernelspec": {
   "display_name": "Python 3",
   "language": "python",
   "name": "python3"
  },
  "language_info": {
   "codemirror_mode": {
    "name": "ipython",
    "version": 3
   },
   "file_extension": ".py",
   "mimetype": "text/x-python",
   "name": "python",
   "nbconvert_exporter": "python",
   "pygments_lexer": "ipython3",
   "version": "3.7.3"
  }
 },
 "nbformat": 4,
 "nbformat_minor": 4
}
