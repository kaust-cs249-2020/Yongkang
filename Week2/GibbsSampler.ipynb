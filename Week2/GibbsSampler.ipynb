{
 "cells": [
  {
   "cell_type": "code",
   "execution_count": 12,
   "metadata": {},
   "outputs": [],
   "source": [
    "import numpy as np"
   ]
  },
  {
   "cell_type": "code",
   "execution_count": 1,
   "metadata": {},
   "outputs": [],
   "source": [
    "def Random_Motif_Matrix(Dna,k):\n",
    "    motif_matrix = np.zeros(len(Dna)).astype('str')\n",
    "    for i in range(len(Dna)):\n",
    "        init_pos = np.random.randint(len(Dna[i])-k+1)\n",
    "        motif_matrix[i] = Dna[i][init_pos:init_pos+k]\n",
    "    return motif_matrix"
   ]
  },
  {
   "cell_type": "code",
   "execution_count": 2,
   "metadata": {},
   "outputs": [],
   "source": [
    "def form_Profile(Motifs,k):\n",
    "    ####Version1\n",
    "    #Frequence = {base:np.zeros(k) for base in ['A','C','G','T']}\n",
    "    #Sum = np.zeros(k)\n",
    "    ####Version 2 with pseudocounts\n",
    "    Frequence = {base:np.ones(k) for base in ['A','C','G','T']}\n",
    "    Sum = np.ones(k)      \n",
    "    for motif in Motifs:\n",
    "        for i in range(len(motif)):\n",
    "            Frequence[motif[i]][i] +=1\n",
    "            Sum[i] += 1\n",
    "    \n",
    "    Profile = {base:np.zeros(k) for base in ['A','C','G','T']}\n",
    "    for base,val in Profile.items():\n",
    "        for i in range(len(val)):\n",
    "            val[i] = Frequence[base][i]/Sum[i]\n",
    "    return Profile"
   ]
  },
  {
   "cell_type": "code",
   "execution_count": 98,
   "metadata": {},
   "outputs": [],
   "source": [
    "def Profile_randomly_generated_kmer(Text,k,Profile):\n",
    "    n = len(Text)-k+1\n",
    "    probs = np.ones(n) \n",
    "    Kmers = np.ones(n).astype('str')\n",
    "    for i in range(n):\n",
    "        kmer = Text[i:i+k]\n",
    "        Kmers[i] = kmer\n",
    "        for j in range(len(kmer)):\n",
    "            base = kmer[j]\n",
    "            probs[i] *= Profile[base][j]\n",
    "    kmer = np.random.choice(Kmers,1,p=probs/np.sum(probs))[0]\n",
    "    return kmer"
   ]
  },
  {
   "cell_type": "code",
   "execution_count": 100,
   "metadata": {},
   "outputs": [],
   "source": [
    "def Score(Motifs,k):\n",
    "    Frequence = {pos:{base:0 for base in ['A','C','G','T']} for pos in range(k)}\n",
    "    Sum = np.zeros(k)\n",
    "    for motif in Motifs:\n",
    "        for i in range(len(motif)):\n",
    "            Frequence[i][motif[i]] +=1\n",
    "            Sum[i] += 1\n",
    "    Score = 0\n",
    "    for i in range(k):\n",
    "        max_base = max(Frequence[i], key=Frequence[i].get)\n",
    "        Score += Sum[i] - Frequence[i][max_base]\n",
    "    return Score"
   ]
  },
  {
   "cell_type": "code",
   "execution_count": 108,
   "metadata": {},
   "outputs": [],
   "source": [
    "def GibbsSampler(Dna, k, t, N):\n",
    "    Motifs = Random_Motif_Matrix(Dna,k)\n",
    "    BestMotifs = Motifs.copy()\n",
    "    for j in range(N):\n",
    "        i = np.random.randint(t)\n",
    "        Motifs_except_i = np.delete(Motifs, i)\n",
    "        Profile = form_Profile(Motifs_except_i,k)\n",
    "        Motifs[i]  = Profile_randomly_generated_kmer(Dna[i],k,Profile)\n",
    "        if Score(Motifs,k) < Score(BestMotifs,k):\n",
    "            BestMotifs = Motifs.copy()\n",
    "    return BestMotifs"
   ]
  },
  {
   "cell_type": "code",
   "execution_count": 129,
   "metadata": {},
   "outputs": [],
   "source": [
    "k = 8 \n",
    "t = 5\n",
    "N = 1000\n",
    "Dna = [\n",
    "'CGCCCCTCTCGGGGGTGTTCAGTAACCGGCCA',\n",
    "'GGGCGAGGTATGTGTAAGTGCCAAGGTGCCAG',\n",
    "'TAGTACCGAGACCGAAAGAAGTATACAGGCGT',\n",
    "'TAGATCAAGTTTCAGGTGCACGTCGGTGAACC',\n",
    "'AATCCACCAGCTCCACGTGCAATGTTGGCCTA'\n",
    "]"
   ]
  },
  {
   "cell_type": "code",
   "execution_count": 131,
   "metadata": {},
   "outputs": [
    {
     "name": "stdout",
     "output_type": "stream",
     "text": [
      "TCTCGGGG\n",
      "CCAAGGTG\n",
      "TACAGGCG\n",
      "TTCAGGTG\n",
      "TCCACGTG\n"
     ]
    }
   ],
   "source": [
    "BestMotifs = GibbsSampler(Dna, k, t,N)\n",
    "for i in range(20):\n",
    "    Motifs = GibbsSampler(Dna, k, t,N)\n",
    "    if Score(Motifs,k) < Score(BestMotifs,k):\n",
    "        BestMotifs  = Motifs.copy()\n",
    "for kmer in BestMotifs:\n",
    "    print(kmer)"
   ]
  },
  {
   "cell_type": "code",
   "execution_count": 137,
   "metadata": {},
   "outputs": [],
   "source": [
    "Dna = []\n",
    "k = 0\n",
    "t = 0\n",
    "N = 0\n",
    "file = open('dataset_369257_4.txt', 'r') \n",
    "for i, line in enumerate(file):\n",
    "    line=line.rstrip('\\n')\n",
    "    if(i==0):\n",
    "        (k,t,N)= line.split(' ')\n",
    "        k = int(k)\n",
    "        t = int(t)\n",
    "        N = int(N)\n",
    "    else:\n",
    "        Dna.append(line)"
   ]
  },
  {
   "cell_type": "code",
   "execution_count": 136,
   "metadata": {},
   "outputs": [
    {
     "name": "stdout",
     "output_type": "stream",
     "text": [
      "TACTTTTGGCGGCTT\n",
      "TATAAGATCGAGTTT\n",
      "TATGACATCGAGTTT\n",
      "ACTTTTATCGAGTTC\n",
      "CTGTTTATCGAGTTT\n",
      "TATTTGCCCGAGTTT\n",
      "TATTTTATCGAGGGC\n",
      "TACGATATCGAGTTT\n",
      "TATTTTCCTGAGTTT\n",
      "TATTTGTGCGAGTTT\n",
      "TATTTTAGGCAGTTT\n",
      "TATTTTATGTCGTTT\n",
      "TATTGAGTCGAGTTT\n",
      "AATTTTATCGAGTAG\n",
      "TATTTTATCCTTTTT\n",
      "TTGCTTATCGAGTTT\n",
      "TATTTTATCGTACTT\n",
      "TATTTTCGGGAGTTT\n",
      "TATTCATTCGAGTTT\n",
      "TATTTTATCGATGCT\n"
     ]
    }
   ],
   "source": [
    "BestMotifs = GibbsSampler(Dna, k, t,N)\n",
    "for i in range(20):\n",
    "    Motifs = GibbsSampler(Dna, k, t,N)\n",
    "    if Score(Motifs,k) < Score(BestMotifs,k):\n",
    "        BestMotifs  = Motifs.copy()\n",
    "for kmer in BestMotifs:\n",
    "    print(kmer)"
   ]
  },
  {
   "cell_type": "code",
   "execution_count": null,
   "metadata": {},
   "outputs": [],
   "source": []
  }
 ],
 "metadata": {
  "kernelspec": {
   "display_name": "Python 3",
   "language": "python",
   "name": "python3"
  },
  "language_info": {
   "codemirror_mode": {
    "name": "ipython",
    "version": 3
   },
   "file_extension": ".py",
   "mimetype": "text/x-python",
   "name": "python",
   "nbconvert_exporter": "python",
   "pygments_lexer": "ipython3",
   "version": "3.7.3"
  }
 },
 "nbformat": 4,
 "nbformat_minor": 4
}
