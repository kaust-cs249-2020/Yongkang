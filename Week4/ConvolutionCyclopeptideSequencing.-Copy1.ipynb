{
 "cells": [
  {
   "cell_type": "code",
   "execution_count": 1,
   "metadata": {},
   "outputs": [],
   "source": [
    "import numpy as np"
   ]
  },
  {
   "cell_type": "code",
   "execution_count": 2,
   "metadata": {},
   "outputs": [],
   "source": [
    "def Convolution(Spectrum):\n",
    "    n = len(Spectrum)\n",
    "    Cov_Spectrum = []\n",
    "    for i in range(n-1):\n",
    "        for j in range(i+1,n):\n",
    "            if(Spectrum[j]-Spectrum[i]>0):\n",
    "                Cov_Spectrum.append(Spectrum[j]-Spectrum[i])\n",
    "    return Cov_Spectrum\n",
    "            "
   ]
  },
  {
   "cell_type": "code",
   "execution_count": 3,
   "metadata": {},
   "outputs": [],
   "source": [
    "def Quota(Peptide,mass):\n",
    "    used = 0\n",
    "    PeptideList = Peptide.split('-')\n",
    "    for amino_acid in PeptideList:\n",
    "        if(mass == int(amino_acid)):\n",
    "            used += 1\n",
    "    return Total[mass]-used"
   ]
  },
  {
   "cell_type": "code",
   "execution_count": 4,
   "metadata": {},
   "outputs": [],
   "source": [
    "def SelectMost(Cov_Spectrum,M):\n",
    "    Count = {}\n",
    "    Select_Spectrum = []\n",
    "    for ele in Cov_Spectrum:\n",
    "        if ele in Count.keys():\n",
    "            Count[ele] += 1\n",
    "        else:\n",
    "            Count[ele] = 1\n",
    "    c = 0\n",
    "    pre = -1\n",
    "    for mass,count in sorted(Count.items(), key=lambda item: item[1],reverse=True):\n",
    "        if(c<M or pre == count):\n",
    "            if(mass>=57 and mass<=200):\n",
    "                c +=1\n",
    "                Select_Spectrum += [mass]*count\n",
    "                pre= count\n",
    "        \n",
    "    return np.sort(Select_Spectrum)\n",
    "        "
   ]
  },
  {
   "cell_type": "code",
   "execution_count": 5,
   "metadata": {},
   "outputs": [],
   "source": [
    "def LinearSpectrum(Peptide):\n",
    "    Peptides = Peptide.split('-')\n",
    "    #Peptides = Peptide\n",
    "    n = len(Peptides)\n",
    "    PrefixMass = np.zeros(n+1)\n",
    "    for i in range(0,n):\n",
    "        PrefixMass[i+1] = PrefixMass[i] + int(Peptides[i])\n",
    "    LinearSpectrum = [0]\n",
    "    for i in range(n):\n",
    "        for j in range(i+1,n+1):\n",
    "            #add PrefixMass(j) − PrefixMass(i) to LinearSpectrum\n",
    "            LinearSpectrum.append(PrefixMass[j]-PrefixMass[i])\n",
    "            \n",
    "    return np.sort(LinearSpectrum)"
   ]
  },
  {
   "cell_type": "code",
   "execution_count": 6,
   "metadata": {},
   "outputs": [],
   "source": [
    "def Mass(Peptide):\n",
    "    mass = 0\n",
    "    PeptideList = Peptide.split('-')\n",
    "    #PeptideList = Peptide\n",
    "    for amino_acid in PeptideList:\n",
    "        mass += int(amino_acid)\n",
    "    return mass"
   ]
  },
  {
   "cell_type": "code",
   "execution_count": 7,
   "metadata": {},
   "outputs": [],
   "source": [
    "def Expand(CandidatePeptides):\n",
    "    if (not CandidatePeptides):\n",
    "        #return [[k] for k in set(AminoAcidMass.values())]\n",
    "        #return set(str(k) for k in set(AminoAcidMass.values()))\n",
    "        return [str(k) for k in Alphat]\n",
    "    NewCandidatePeptides = []\n",
    "    for Peptide in CandidatePeptides:\n",
    "        for mass in Alphat:\n",
    "        #for mass in set(AminoAcidMass.values()):\n",
    "            if(Quota(Peptide,mass)>0):\n",
    "            #NewPeptide = Peptide + [mass]\n",
    "                NewPeptide = Peptide + '-'+str(mass)\n",
    "            #if not CheckRepeatPeptide(NewPeptide,NewCandidatePeptides):\n",
    "                NewCandidatePeptides.append(NewPeptide)\n",
    "    return NewCandidatePeptides"
   ]
  },
  {
   "cell_type": "code",
   "execution_count": 8,
   "metadata": {},
   "outputs": [],
   "source": [
    "def Score(Peptide,Experimental):\n",
    "    if(not Peptide):\n",
    "        return 0\n",
    "    Theoretical = LinearSpectrum(Peptide)\n",
    "    Tot = {}\n",
    "    for mass in Theoretical:\n",
    "        if mass in Tot.keys():\n",
    "            Tot[mass] += 1\n",
    "        else:\n",
    "            Tot[mass] = 1\n",
    "    score = 0\n",
    "    for mass in Experimental:\n",
    "        if(mass in Tot.keys() and Tot[mass]>0):\n",
    "            score += 1\n",
    "            Tot[mass] -= 1\n",
    "    return score"
   ]
  },
  {
   "cell_type": "code",
   "execution_count": 9,
   "metadata": {},
   "outputs": [],
   "source": [
    "def Trim(Leaderboard, Spectrum, N):\n",
    "    n = len(Leaderboard)\n",
    "    LinearScores = {}\n",
    "    for Peptide in Leaderboard:\n",
    "        LinearScores[Peptide] =  Score(Peptide, Spectrum)\n",
    "    \n",
    "    count = 0\n",
    "    NewLeaderBoard = []\n",
    "    preScore = -1\n",
    "    for Peptide,score in sorted(LinearScores.items(), key=lambda item: item[1],reverse=True):\n",
    "        #Peptide = Peptide.strip('][').split(', ') \n",
    "        #Peptide = [int(x) for x in Peptide]\n",
    "        #k = len(Peptide)\n",
    "        if(preScore == score or count<N):\n",
    "            NewLeaderBoard.append(Peptide)\n",
    "        else:\n",
    "            break\n",
    "        count += 1\n",
    "        preScore = score\n",
    "    return NewLeaderBoard"
   ]
  },
  {
   "cell_type": "code",
   "execution_count": 25,
   "metadata": {},
   "outputs": [],
   "source": [
    "def LeaderboardCyclopeptideSequencing(Sel_Spectrum,Spectrum, N):\n",
    "    LeaderPeptide = ''\n",
    "    Leaderboard  = []\n",
    "    AllEligiblePep = {}\n",
    "    while True:\n",
    "        Leaderboard = Expand(Leaderboard)\n",
    "        Leaderboard = Trim(Leaderboard, Spectrum, N)\n",
    "        DiscardBoard = []\n",
    "        for Peptide in Leaderboard:\n",
    "            if Mass(Peptide) ==  Spectrum[-1]:\n",
    "                if Score(Peptide, Spectrum) > Score(LeaderPeptide, Spectrum):\n",
    "                    AllEligiblePep[Peptide] = Score(Peptide, Spectrum)\n",
    "                    LeaderPeptide = Peptide\n",
    "                #DiscardBoard.append(Peptide)\n",
    "            elif Mass(Peptide) > Spectrum[-1]:\n",
    "                DiscardBoard.append(Peptide)\n",
    "        Leaderboard = [x for x in Leaderboard if x not in DiscardBoard]\n",
    "        if not Leaderboard:\n",
    "            return AllEligiblePep"
   ]
  },
  {
   "cell_type": "code",
   "execution_count": 26,
   "metadata": {},
   "outputs": [],
   "source": [
    "N = 0\n",
    "Spectrum = []\n",
    "M=0\n",
    "file = open('dataset_369297_8.txt', 'r') \n",
    "for i, line in enumerate(file):\n",
    "    line=line.rstrip('\\n')\n",
    "    if(i==0):\n",
    "        N = int(line)\n",
    "    elif(i==1):\n",
    "        M = int(line)\n",
    "    else:\n",
    "        Spectrum = np.array(line.split(' ')).astype(int)\n"
   ]
  },
  {
   "cell_type": "code",
   "execution_count": 27,
   "metadata": {},
   "outputs": [],
   "source": [
    "Spectrum = np.sort(Spectrum)\n",
    "Cov_Spectrum = Convolution(Spectrum)\n",
    "Sel_Spectrum = SelectMost(Cov_Spectrum,M)\n",
    "Alphat = set(Sel_Spectrum)\n",
    "Sel_Spectrum = np.sort(Sel_Spectrum)\n",
    "Total = {}\n",
    "for mass in Cov_Spectrum:\n",
    "    if mass in Total.keys():\n",
    "        Total[mass] += 1\n",
    "    else:\n",
    "        Total[mass] = 1\n",
    "LeaderPeptide = ''"
   ]
  },
  {
   "cell_type": "code",
   "execution_count": 28,
   "metadata": {},
   "outputs": [],
   "source": [
    "AllPep = LeaderboardCyclopeptideSequencing(Sel_Spectrum, Spectrum,N)"
   ]
  },
  {
   "cell_type": "code",
   "execution_count": 29,
   "metadata": {},
   "outputs": [
    {
     "name": "stdout",
     "output_type": "stream",
     "text": [
      "113-128-99-163-128-114-147-186-97-147 54\n",
      "147-113-128-99-163-128-114-147-97-89-97 56\n"
     ]
    }
   ],
   "source": [
    "for pep,score in AllPep.items():\n",
    "    print(pep,score)"
   ]
  },
  {
   "cell_type": "code",
   "execution_count": 15,
   "metadata": {},
   "outputs": [
    {
     "name": "stdout",
     "output_type": "stream",
     "text": [
      "147-113-128-99-163-128-114-147-97-89-97 113-128-99-163-128-114-147-186-97-147 97-186-147-114-128-163-99-128-113-147 147-113-128-99-163-128-114-147-186-97 186-147-114-128-163-99-128-113-147-97 128-99-163-128-114-147-186-97-147-113 97-147-113-128-99-163-128-114-147-186 99-163-128-114-147-186-97-147-113-128 163-128-114-147-186-97-147-113-128-99 113-128-99-163-128-114-186-147-97-147 "
     ]
    }
   ],
   "source": [
    "i = 0\n",
    "for pep,score in sorted(AllPep.items(), key=lambda item: item[1],reverse=True):\n",
    "    if score>=50:\n",
    "        print(pep,end=' ')\n",
    "    i += 1"
   ]
  },
  {
   "cell_type": "code",
   "execution_count": 24,
   "metadata": {},
   "outputs": [
    {
     "data": {
      "text/plain": [
       "54"
      ]
     },
     "execution_count": 24,
     "metadata": {},
     "output_type": "execute_result"
    }
   ],
   "source": [
    "Score('97-147-113-128-99-163-128-57-57-147-57-129',Spectrum)"
   ]
  },
  {
   "cell_type": "code",
   "execution_count": 48,
   "metadata": {},
   "outputs": [],
   "source": [
    "N = 0\n",
    "Spectrum = []\n",
    "M=34\n",
    "file = open('dataset_369296_2.txt', 'r') \n",
    "for i, line in enumerate(file):\n",
    "    line=line.rstrip('\\n')\n",
    "    if(i==0):\n",
    "        N = int(line)\n",
    "    else:\n",
    "        Spectrum = np.array(line.split()).astype(int)"
   ]
  },
  {
   "cell_type": "code",
   "execution_count": 50,
   "metadata": {},
   "outputs": [],
   "source": [
    "Spectrum = np.sort(Spectrum)\n",
    "Cov_Spectrum = Convolution(Spectrum)\n",
    "Sel_Spectrum = SelectMost(Cov_Spectrum,M)\n",
    "Alphat = set(Sel_Spectrum)\n",
    "Sel_Spectrum = np.sort(Sel_Spectrum)\n",
    "Total = {}\n",
    "for mass in Cov_Spectrum:\n",
    "    if mass in Total.keys():\n",
    "        Total[mass] += 1\n",
    "    else:\n",
    "        Total[mass] = 1\n",
    "LeaderPeptide = ''"
   ]
  },
  {
   "cell_type": "code",
   "execution_count": 51,
   "metadata": {},
   "outputs": [],
   "source": [
    "AllPep = LeaderboardCyclopeptideSequencing(Sel_Spectrum, Spectrum,N)"
   ]
  },
  {
   "cell_type": "code",
   "execution_count": 52,
   "metadata": {},
   "outputs": [
    {
     "name": "stdout",
     "output_type": "stream",
     "text": [
      "128-114-147-186-97-147-146-194-163 40\n",
      "128-99-163-128-114-147-186-97-147-113 54\n",
      "128-99-163-128-114-147-96-90-97-147-113 57\n",
      "128-99-163-128-114-147-96-90-97-57-90-113 60\n"
     ]
    }
   ],
   "source": [
    "for pep,score in AllPep.items():\n",
    "    print(pep,score)"
   ]
  },
  {
   "cell_type": "code",
   "execution_count": null,
   "metadata": {},
   "outputs": [],
   "source": []
  }
 ],
 "metadata": {
  "kernelspec": {
   "display_name": "Python 3",
   "language": "python",
   "name": "python3"
  },
  "language_info": {
   "codemirror_mode": {
    "name": "ipython",
    "version": 3
   },
   "file_extension": ".py",
   "mimetype": "text/x-python",
   "name": "python",
   "nbconvert_exporter": "python",
   "pygments_lexer": "ipython3",
   "version": "3.7.3"
  }
 },
 "nbformat": 4,
 "nbformat_minor": 4
}
