{
 "cells": [
  {
   "cell_type": "code",
   "execution_count": 1,
   "metadata": {},
   "outputs": [],
   "source": [
    "import numpy as np"
   ]
  },
  {
   "cell_type": "code",
   "execution_count": 2,
   "metadata": {},
   "outputs": [],
   "source": [
    "AminoAcidMass = {'G': 57, 'A': 71, 'S': 87, 'P': 97, 'V': 99, 'T': 101, 'C': 103, 'I': 113, \n",
    "                 'L': 113, 'N': 114, 'D': 115, 'K': 128, 'Q': 128, 'E': 129, 'M': 131, \n",
    "                 'H': 137, 'F': 147, 'R': 156, 'Y': 163, 'W': 186}"
   ]
  },
  {
   "cell_type": "code",
   "execution_count": 3,
   "metadata": {},
   "outputs": [],
   "source": [
    "def CyclicSpectrum(Peptide, AminoAcidMass):\n",
    "    n = len(Peptide)\n",
    "    PrefixMass = np.zeros(n+1)\n",
    "    for i in range(0,n):\n",
    "        PrefixMass[i+1] = PrefixMass[i] + AminoAcidMass[Peptide[i]]\n",
    "        \n",
    "    peptideMass = PrefixMass[-1]\n",
    "    CyclicSpectrum  = [0]\n",
    "    for i in range(n):\n",
    "        for j in range(i+1,n+1):\n",
    "            CyclicSpectrum.append(PrefixMass[j]-PrefixMass[i])\n",
    "            if i > 0 and j < n:\n",
    "                CyclicSpectrum.append(peptideMass- PrefixMass[j]+ PrefixMass[i])\n",
    "    return np.sort(CyclicSpectrum)\n"
   ]
  },
  {
   "cell_type": "code",
   "execution_count": 4,
   "metadata": {},
   "outputs": [],
   "source": [
    "def Score(Expreimental,Theoretical):\n",
    "    score = 0\n",
    "    for mass in Experimental:\n",
    "        if(mass in Total.keys() and Total[mass]>0):\n",
    "            score += 1\n",
    "            Total[mass] -= 1\n",
    "    return score\n",
    "            "
   ]
  },
  {
   "cell_type": "code",
   "execution_count": 5,
   "metadata": {},
   "outputs": [
    {
     "name": "stdout",
     "output_type": "stream",
     "text": [
      "0 113 114 128 129 227 242 242 257 355 356 370 371 484 "
     ]
    }
   ],
   "source": [
    "Peptide = 'NQEL'\n",
    "Theoretical =  CyclicSpectrum(Peptide, AminoAcidMass)\n",
    "for i in Theoretical:\n",
    "    print(\"%.f\"%i,end=' ')"
   ]
  },
  {
   "cell_type": "code",
   "execution_count": 6,
   "metadata": {},
   "outputs": [],
   "source": [
    "Experimental = '0 99 113 114 128 227 257 299 355 356 370 371 484'\n",
    "Experimental = np.array(Experimental.split(' ')).astype(int)"
   ]
  },
  {
   "cell_type": "code",
   "execution_count": 7,
   "metadata": {},
   "outputs": [],
   "source": [
    "Total = {}\n",
    "for mass in Theoretical:\n",
    "    if mass in Total.keys():\n",
    "        Total[mass] += 1\n",
    "    else:\n",
    "        Total[mass] = 1"
   ]
  },
  {
   "cell_type": "code",
   "execution_count": 8,
   "metadata": {},
   "outputs": [
    {
     "data": {
      "text/plain": [
       "11"
      ]
     },
     "execution_count": 8,
     "metadata": {},
     "output_type": "execute_result"
    }
   ],
   "source": [
    "Score(Experimental,Theoretical)"
   ]
  },
  {
   "cell_type": "code",
   "execution_count": 9,
   "metadata": {},
   "outputs": [
    {
     "data": {
      "text/plain": [
       "{0.0: 0,\n",
       " 113.0: 0,\n",
       " 114.0: 0,\n",
       " 128.0: 0,\n",
       " 129.0: 1,\n",
       " 227.0: 0,\n",
       " 242.0: 2,\n",
       " 257.0: 0,\n",
       " 355.0: 0,\n",
       " 356.0: 0,\n",
       " 370.0: 0,\n",
       " 371.0: 0,\n",
       " 484.0: 0}"
      ]
     },
     "execution_count": 9,
     "metadata": {},
     "output_type": "execute_result"
    }
   ],
   "source": [
    "Total"
   ]
  },
  {
   "cell_type": "code",
   "execution_count": 10,
   "metadata": {},
   "outputs": [],
   "source": [
    "Peptide = ''\n",
    "Experimental = []\n",
    "file = open('dataset_369295_3.txt', 'r') \n",
    "for i, line in enumerate(file):\n",
    "    line=line.rstrip('\\n')\n",
    "    if(i==0):\n",
    "        Peptide = line\n",
    "    else:\n",
    "        Experimental = np.array(line.split(' ')).astype(int)\n",
    "    "
   ]
  },
  {
   "cell_type": "code",
   "execution_count": 11,
   "metadata": {},
   "outputs": [
    {
     "data": {
      "text/plain": [
       "'WDKYITQNFVLSKVMEPKEFDLNDGTQYDPNEGNVQFMFPE'"
      ]
     },
     "execution_count": 11,
     "metadata": {},
     "output_type": "execute_result"
    }
   ],
   "source": [
    "Peptide"
   ]
  },
  {
   "cell_type": "code",
   "execution_count": 12,
   "metadata": {},
   "outputs": [],
   "source": [
    "Theoretical =  CyclicSpectrum(Peptide, AminoAcidMass)"
   ]
  },
  {
   "cell_type": "code",
   "execution_count": 13,
   "metadata": {},
   "outputs": [],
   "source": [
    "Total = {}\n",
    "for mass in Theoretical:\n",
    "    if mass in Total.keys():\n",
    "        Total[mass] += 1\n",
    "    else:\n",
    "        Total[mass] = 1"
   ]
  },
  {
   "cell_type": "code",
   "execution_count": 14,
   "metadata": {},
   "outputs": [
    {
     "data": {
      "text/plain": [
       "518"
      ]
     },
     "execution_count": 14,
     "metadata": {},
     "output_type": "execute_result"
    }
   ],
   "source": [
    "Score(Experimental,Theoretical)"
   ]
  },
  {
   "cell_type": "code",
   "execution_count": null,
   "metadata": {},
   "outputs": [],
   "source": []
  }
 ],
 "metadata": {
  "kernelspec": {
   "display_name": "Python 3",
   "language": "python",
   "name": "python3"
  },
  "language_info": {
   "codemirror_mode": {
    "name": "ipython",
    "version": 3
   },
   "file_extension": ".py",
   "mimetype": "text/x-python",
   "name": "python",
   "nbconvert_exporter": "python",
   "pygments_lexer": "ipython3",
   "version": "3.7.3"
  }
 },
 "nbformat": 4,
 "nbformat_minor": 4
}
