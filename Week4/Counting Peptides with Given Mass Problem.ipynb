{
 "cells": [
  {
   "cell_type": "code",
   "execution_count": 11,
   "metadata": {},
   "outputs": [],
   "source": [
    "AminoAcidMass = {'G': 57, 'A': 71, 'S': 87, 'P': 97, 'V': 99, 'T': 101, 'C': 103, 'I': 113, \n",
    "                 'L': 113, 'N': 114, 'D': 115, 'K': 128, 'Q': 128, 'E': 129, 'M': 131, \n",
    "                 'H': 137, 'F': 147, 'R': 156, 'Y': 163, 'W': 186}"
   ]
  },
  {
   "cell_type": "code",
   "execution_count": 12,
   "metadata": {},
   "outputs": [],
   "source": [
    "Mass = set(AminoAcidMass.values())"
   ]
  },
  {
   "cell_type": "code",
   "execution_count": 13,
   "metadata": {},
   "outputs": [],
   "source": [
    "def CurrentMass(peptide):\n",
    "    mass = 0\n",
    "    pep = peptide.split('-')\n",
    "    for aa in pep:\n",
    "        mass += int(aa)\n",
    "    return mass"
   ]
  },
  {
   "cell_type": "code",
   "execution_count": 56,
   "metadata": {},
   "outputs": [],
   "source": [
    "def BFCyclopeptideSequencing(Peptides,Targets,parentMass,FinalCount):\n",
    "    if (not Peptides):\n",
    "        Peptides = set()\n",
    "        for mass in Mass:\n",
    "            Peptides.add(str(mass))\n",
    "        BFCyclopeptideSequencing(Peptides,Targets,parentMass,FinalCount)     \n",
    "    else:\n",
    "        NewPeptides = set()\n",
    "        for mass in Mass:\n",
    "            for peptide in Peptides:\n",
    "                if CurrentMass(peptide) + mass < parentMass-57:\n",
    "                    NewPeptides.add(peptide+'-'+str(mass))   \n",
    "                elif(CurrentMass(peptide) + mass == parentMass):\n",
    "                    Targets.add(peptide+'-'+str(mass))\n",
    "                    FinalCount += 1\n",
    "        if (NewPeptides):\n",
    "            BFCyclopeptideSequencing(NewPeptides,Targets,parentMass,FinalCount)\n",
    "        else:\n",
    "            print(len(Targets))"
   ]
  },
  {
   "cell_type": "code",
   "execution_count": 63,
   "metadata": {},
   "outputs": [],
   "source": [
    "parentMass = 57"
   ]
  },
  {
   "cell_type": "code",
   "execution_count": 64,
   "metadata": {},
   "outputs": [],
   "source": [
    "FinalCount = 0"
   ]
  },
  {
   "cell_type": "code",
   "execution_count": 65,
   "metadata": {},
   "outputs": [
    {
     "name": "stdout",
     "output_type": "stream",
     "text": [
      "0\n"
     ]
    }
   ],
   "source": [
    " Peptide = BFCyclopeptideSequencing(set(),set(),parentMass,FinalCount)"
   ]
  },
  {
   "cell_type": "code",
   "execution_count": 47,
   "metadata": {},
   "outputs": [],
   "source": [
    "Peptide"
   ]
  },
  {
   "cell_type": "code",
   "execution_count": null,
   "metadata": {},
   "outputs": [],
   "source": []
  }
 ],
 "metadata": {
  "kernelspec": {
   "display_name": "Python 3",
   "language": "python",
   "name": "python3"
  },
  "language_info": {
   "codemirror_mode": {
    "name": "ipython",
    "version": 3
   },
   "file_extension": ".py",
   "mimetype": "text/x-python",
   "name": "python",
   "nbconvert_exporter": "python",
   "pygments_lexer": "ipython3",
   "version": "3.7.3"
  }
 },
 "nbformat": 4,
 "nbformat_minor": 4
}
