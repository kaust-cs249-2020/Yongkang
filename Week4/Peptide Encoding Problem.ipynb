{
 "cells": [
  {
   "cell_type": "code",
   "execution_count": 1,
   "metadata": {},
   "outputs": [],
   "source": [
    "\n",
    "genetic_code = {\n",
    "    \"AAA\": \"K\",\n",
    "    \"AAC\": \"N\",\n",
    "    \"AAG\": \"K\",\n",
    "    \"AAU\": \"N\",\n",
    "    \"ACA\": \"T\",\n",
    "    \"ACC\": \"T\",\n",
    "    \"ACG\": \"T\",\n",
    "    \"ACU\": \"T\",\n",
    "    \"AGA\": \"R\",\n",
    "    \"AGC\": \"S\",\n",
    "    \"AGG\": \"R\",\n",
    "    \"AGU\": \"S\",\n",
    "    \"AUA\": \"I\",\n",
    "    \"AUC\": \"I\",\n",
    "    \"AUG\": \"M\",\n",
    "    \"AUU\": \"I\",\n",
    "\n",
    "    \"CAA\": \"Q\",\n",
    "    \"CAC\": \"H\",\n",
    "    \"CAG\": \"Q\",\n",
    "    \"CAU\": \"H\",\n",
    "    \"CCA\": \"P\",\n",
    "    \"CCC\": \"P\",\n",
    "    \"CCG\": \"P\",\n",
    "    \"CCU\": \"P\",\n",
    "    \"CGA\": \"R\",\n",
    "    \"CGC\": \"R\",\n",
    "    \"CGG\": \"R\",\n",
    "    \"CGU\": \"R\",\n",
    "    \"CUA\": \"L\",\n",
    "    \"CUC\": \"L\",\n",
    "    \"CUG\": \"L\",\n",
    "    \"CUU\": \"L\",\n",
    "\n",
    "    \"GAA\": \"E\",\n",
    "    \"GAC\": \"D\",\n",
    "    \"GAG\": \"E\",\n",
    "    \"GAU\": \"D\",\n",
    "    \"GCA\": \"A\",\n",
    "    \"GCC\": \"A\",\n",
    "    \"GCG\": \"A\",\n",
    "    \"GCU\": \"A\",\n",
    "    \"GGA\": \"G\",\n",
    "    \"GGC\": \"G\",\n",
    "    \"GGG\": \"G\",\n",
    "    \"GGU\": \"G\",\n",
    "    \"GUA\": \"V\",\n",
    "    \"GUC\": \"V\",\n",
    "    \"GUG\": \"V\",\n",
    "    \"GUU\": \"V\",\n",
    "\n",
    "    \"UAA\": \"*\",\n",
    "    \"UAC\": \"Y\",\n",
    "    \"UAG\": \"*\",\n",
    "    \"UAU\": \"Y\",\n",
    "    \"UCA\": \"S\",\n",
    "    \"UCC\": \"S\",\n",
    "    \"UCG\": \"S\",\n",
    "    \"UCU\": \"S\",\n",
    "    \"UGA\": \"*\",\n",
    "    \"UGC\": \"C\",\n",
    "    \"UGG\": \"W\",\n",
    "    \"UGU\": \"C\",\n",
    "    \"UUA\": \"L\",\n",
    "    \"UUC\": \"F\",\n",
    "    \"UUG\": \"L\",\n",
    "    \"UUU\": \"F\"\n",
    "}"
   ]
  },
  {
   "cell_type": "code",
   "execution_count": 10,
   "metadata": {},
   "outputs": [],
   "source": [
    "def reverse_complement(dna):\n",
    "    rc_rna = ''\n",
    "    complement = {'A':'U','T':'A','C':'G','G':'C'}\n",
    "    for base in dna:\n",
    "        rc_rna = complement[base]+rc_rna\n",
    "    return rc_rna"
   ]
  },
  {
   "cell_type": "code",
   "execution_count": 2,
   "metadata": {},
   "outputs": [],
   "source": [
    "def translate(rna):\n",
    "    n = len(rna)\n",
    "    peptide = ''\n",
    "    for i in range(0,n,3):\n",
    "        code = rna[i:i+3]\n",
    "        amino_acid = genetic_code[code]\n",
    "        if(amino_acid == \"*\"):\n",
    "            return peptide\n",
    "        else:\n",
    "            peptide += amino_acid\n",
    "    return peptide"
   ]
  },
  {
   "cell_type": "code",
   "execution_count": 31,
   "metadata": {},
   "outputs": [],
   "source": [
    "def find_start(dna,peptide):\n",
    "    Sub_Dna = []\n",
    "    rna = dna.replace('T','U')\n",
    "    rc_rna = reverse_complement(dna)\n",
    "    n = len(dna)\n",
    "    k = len(peptide)\n",
    "    for i in range(n-3*k+1):\n",
    "        sub_peptide = ''\n",
    "        for j in range(k):\n",
    "            sub_peptide += genetic_code[rna[i+j*3:i+j*3+3]]\n",
    "        if(sub_peptide == peptide):\n",
    "            Sub_Dna.append(dna[i:i+k*3])\n",
    "        sub_peptide2 = ''\n",
    "        for j in range(k):\n",
    "            sub_peptide2 += genetic_code[rc_rna[i+j*3:i+j*3+3]]\n",
    "        if(sub_peptide2 == peptide):\n",
    "            Sub_Dna.append(dna[n-i-k*3:n-i])\n",
    "    return Sub_Dna\n",
    "        "
   ]
  },
  {
   "cell_type": "raw",
   "metadata": {},
   "source": [
    "# Sample Input:\n",
    "\n",
    "ATGGCCATGGCCCCCAGAACTGAGATCAATAGTACCCGTATTAACGGGTGA\n",
    "MA\n",
    "\n",
    "Sample Output:\n",
    "\n",
    "ATGGCC\n",
    "GGCCAT\n",
    "ATGGCC\n",
    "\n"
   ]
  },
  {
   "cell_type": "code",
   "execution_count": 32,
   "metadata": {},
   "outputs": [
    {
     "name": "stdout",
     "output_type": "stream",
     "text": [
      "ATGGCC\n",
      "ATGGCC\n",
      "GGCCAT\n"
     ]
    }
   ],
   "source": [
    "dna = 'ATGGCCATGGCCCCCAGAACTGAGATCAATAGTACCCGTATTAACGGGTGA'\n",
    "peptide = 'MA'\n",
    "for sub in find_start(dna,peptide):\n",
    "    print(sub)"
   ]
  },
  {
   "cell_type": "code",
   "execution_count": 39,
   "metadata": {},
   "outputs": [],
   "source": [
    "dna = ''\n",
    "peptide = ''\n",
    "file = open('dataset_369290_7.txt', 'r') \n",
    "for i, line in enumerate(file):\n",
    "    line=line.rstrip('\\n')\n",
    "    if(i==0):\n",
    "        dna = line\n",
    "    else:\n",
    "        peptide = line"
   ]
  },
  {
   "cell_type": "code",
   "execution_count": 40,
   "metadata": {},
   "outputs": [
    {
     "data": {
      "text/plain": [
       "'FYWGQMHTR'"
      ]
     },
     "execution_count": 40,
     "metadata": {},
     "output_type": "execute_result"
    }
   ],
   "source": [
    "peptide"
   ]
  },
  {
   "cell_type": "code",
   "execution_count": 41,
   "metadata": {},
   "outputs": [
    {
     "name": "stdout",
     "output_type": "stream",
     "text": [
      "TCTGGTGTGCATTTGACCCCAGTAAAA\n",
      "TTCTACTGGGGACAGATGCACACGCGT\n",
      "TTCTACTGGGGGCAGATGCATACCCGC\n",
      "CCGCGTGTGCATCTGCCCCCAGTAAAA\n",
      "ACGGGTGTGCATCTGCCCCCAATAGAA\n",
      "TCTAGTATGCATCTGTCCCCAGTAGAA\n",
      "TTTTATTGGGGGCAAATGCACACTAGG\n",
      "CCGTGTGTGCATTTGCCCCCAGTAGAA\n",
      "CCGTGTATGCATCTGTCCCCAATAGAA\n",
      "CCTGGTGTGCATCTGCCCCCAATAGAA\n",
      "TTTTACTGGGGGCAGATGCATACAAGA\n",
      "CCGTGTGTGCATCTGTCCCCAGTAAAA\n",
      "TCTTGTGTGCATCTGGCCCCAATAAAA\n",
      "CCTGGTGTGCATTTGACCCCAATAAAA\n",
      "CCGAGTGTGCATCTGGCCCCAATAAAA\n",
      "TTTTACTGGGGACAAATGCATACACGG\n",
      "TTTTATTGGGGCCAGATGCATACGCGG\n",
      "CCTCGTATGCATCTGACCCCAATAAAA\n",
      "GCGCGTGTGCATTTGCCCCCAATAGAA\n"
     ]
    }
   ],
   "source": [
    "for sub in find_start(dna,peptide):\n",
    "    print(sub)"
   ]
  },
  {
   "cell_type": "code",
   "execution_count": 45,
   "metadata": {},
   "outputs": [],
   "source": [
    "import datetime"
   ]
  },
  {
   "cell_type": "code",
   "execution_count": 46,
   "metadata": {},
   "outputs": [],
   "source": [
    "a = datetime.datetime.now()\n",
    "b = datetime.datetime.now()\n",
    "c = b - a"
   ]
  },
  {
   "cell_type": "code",
   "execution_count": 47,
   "metadata": {},
   "outputs": [
    {
     "data": {
      "text/plain": [
       "datetime.timedelta(microseconds=139)"
      ]
     },
     "execution_count": 47,
     "metadata": {},
     "output_type": "execute_result"
    }
   ],
   "source": [
    "c"
   ]
  },
  {
   "cell_type": "code",
   "execution_count": 48,
   "metadata": {},
   "outputs": [],
   "source": [
    "def find_start2(dna,peptide):\n",
    "    Sub_Dna = []\n",
    "    rna = dna.replace('T','U')\n",
    "    rc_rna = reverse_complement(dna)\n",
    "    n = len(dna)\n",
    "    k = len(peptide)\n",
    "    for i in range(n-3*k+1):\n",
    "        sub_peptide = ''\n",
    "        for j in range(k):\n",
    "            code = rna[i+j*3:i+j*3+3]\n",
    "            if(genetic_code[code] == peptide[j]):\n",
    "                sub_peptide += genetic_code[code]\n",
    "            else:\n",
    "                break\n",
    "        if(len(sub_peptide) == k):\n",
    "            Sub_Dna.append(dna[i:i+k*3])\n",
    "        sub_peptide2 = ''\n",
    "        for j in range(k):\n",
    "            code = rc_rna[i+j*3:i+j*3+3]\n",
    "            if(genetic_code[code] == peptide[j]):\n",
    "                sub_peptide2 += genetic_code[code]\n",
    "            else:\n",
    "                break\n",
    "        if(len(sub_peptide2) == k):\n",
    "            Sub_Dna.append(dna[n-i-k*3:n-i])\n",
    "    return Sub_Dna"
   ]
  },
  {
   "cell_type": "code",
   "execution_count": 52,
   "metadata": {},
   "outputs": [
    {
     "data": {
      "text/plain": [
       "datetime.timedelta(microseconds=134564)"
      ]
     },
     "execution_count": 52,
     "metadata": {},
     "output_type": "execute_result"
    }
   ],
   "source": [
    "a = datetime.datetime.now()\n",
    "find_start(dna,peptide)\n",
    "b = datetime.datetime.now()\n",
    "c = b - a\n",
    "c"
   ]
  },
  {
   "cell_type": "code",
   "execution_count": 53,
   "metadata": {},
   "outputs": [
    {
     "data": {
      "text/plain": [
       "datetime.timedelta(microseconds=37348)"
      ]
     },
     "execution_count": 53,
     "metadata": {},
     "output_type": "execute_result"
    }
   ],
   "source": [
    "a = datetime.datetime.now()\n",
    "find_start2(dna,peptide)\n",
    "b = datetime.datetime.now()\n",
    "c = b - a\n",
    "c"
   ]
  },
  {
   "cell_type": "code",
   "execution_count": 54,
   "metadata": {},
   "outputs": [],
   "source": [
    "def find_start3(dna,peptide):\n",
    "    Sub_Dna = []\n",
    "    rna = dna.replace('T','U')\n",
    "    rc_rna = reverse_complement(dna)\n",
    "    n = len(dna)\n",
    "    k = len(peptide)\n",
    "    for i in range(n-3*k+1):\n",
    "        sub_peptide_num = 0\n",
    "        for j in range(k):\n",
    "            code = rna[i+j*3:i+j*3+3]\n",
    "            if(genetic_code[code] == peptide[j]):\n",
    "                sub_peptide_num += 1\n",
    "            else:\n",
    "                break\n",
    "        if(sub_peptide_num == k):\n",
    "            Sub_Dna.append(dna[i:i+k*3])\n",
    "        sub_peptide2_num  = 0\n",
    "        for j in range(k):\n",
    "            code = rc_rna[i+j*3:i+j*3+3]\n",
    "            if(genetic_code[code] == peptide[j]):\n",
    "                sub_peptide2_num += 1\n",
    "            else:\n",
    "                break\n",
    "        if(sub_peptide2_num == k):\n",
    "            Sub_Dna.append(dna[n-i-k*3:n-i])\n",
    "    return Sub_Dna"
   ]
  },
  {
   "cell_type": "code",
   "execution_count": 55,
   "metadata": {},
   "outputs": [
    {
     "data": {
      "text/plain": [
       "datetime.timedelta(microseconds=30413)"
      ]
     },
     "execution_count": 55,
     "metadata": {},
     "output_type": "execute_result"
    }
   ],
   "source": [
    "a = datetime.datetime.now()\n",
    "find_start2(dna,peptide)\n",
    "b = datetime.datetime.now()\n",
    "c = b - a\n",
    "c"
   ]
  }
 ],
 "metadata": {
  "kernelspec": {
   "display_name": "Python 3",
   "language": "python",
   "name": "python3"
  },
  "language_info": {
   "codemirror_mode": {
    "name": "ipython",
    "version": 3
   },
   "file_extension": ".py",
   "mimetype": "text/x-python",
   "name": "python",
   "nbconvert_exporter": "python",
   "pygments_lexer": "ipython3",
   "version": "3.7.3"
  }
 },
 "nbformat": 4,
 "nbformat_minor": 4
}
