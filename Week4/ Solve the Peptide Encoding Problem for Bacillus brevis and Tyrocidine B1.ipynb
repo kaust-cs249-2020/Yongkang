{
 "cells": [
  {
   "cell_type": "code",
   "execution_count": 1,
   "metadata": {},
   "outputs": [],
   "source": [
    "\n",
    "genetic_code = {\n",
    "    \"AAA\": \"K\",\n",
    "    \"AAC\": \"N\",\n",
    "    \"AAG\": \"K\",\n",
    "    \"AAU\": \"N\",\n",
    "    \"ACA\": \"T\",\n",
    "    \"ACC\": \"T\",\n",
    "    \"ACG\": \"T\",\n",
    "    \"ACU\": \"T\",\n",
    "    \"AGA\": \"R\",\n",
    "    \"AGC\": \"S\",\n",
    "    \"AGG\": \"R\",\n",
    "    \"AGU\": \"S\",\n",
    "    \"AUA\": \"I\",\n",
    "    \"AUC\": \"I\",\n",
    "    \"AUG\": \"M\",\n",
    "    \"AUU\": \"I\",\n",
    "\n",
    "    \"CAA\": \"Q\",\n",
    "    \"CAC\": \"H\",\n",
    "    \"CAG\": \"Q\",\n",
    "    \"CAU\": \"H\",\n",
    "    \"CCA\": \"P\",\n",
    "    \"CCC\": \"P\",\n",
    "    \"CCG\": \"P\",\n",
    "    \"CCU\": \"P\",\n",
    "    \"CGA\": \"R\",\n",
    "    \"CGC\": \"R\",\n",
    "    \"CGG\": \"R\",\n",
    "    \"CGU\": \"R\",\n",
    "    \"CUA\": \"L\",\n",
    "    \"CUC\": \"L\",\n",
    "    \"CUG\": \"L\",\n",
    "    \"CUU\": \"L\",\n",
    "\n",
    "    \"GAA\": \"E\",\n",
    "    \"GAC\": \"D\",\n",
    "    \"GAG\": \"E\",\n",
    "    \"GAU\": \"D\",\n",
    "    \"GCA\": \"A\",\n",
    "    \"GCC\": \"A\",\n",
    "    \"GCG\": \"A\",\n",
    "    \"GCU\": \"A\",\n",
    "    \"GGA\": \"G\",\n",
    "    \"GGC\": \"G\",\n",
    "    \"GGG\": \"G\",\n",
    "    \"GGU\": \"G\",\n",
    "    \"GUA\": \"V\",\n",
    "    \"GUC\": \"V\",\n",
    "    \"GUG\": \"V\",\n",
    "    \"GUU\": \"V\",\n",
    "\n",
    "    \"UAA\": \"*\",\n",
    "    \"UAC\": \"Y\",\n",
    "    \"UAG\": \"*\",\n",
    "    \"UAU\": \"Y\",\n",
    "    \"UCA\": \"S\",\n",
    "    \"UCC\": \"S\",\n",
    "    \"UCG\": \"S\",\n",
    "    \"UCU\": \"S\",\n",
    "    \"UGA\": \"*\",\n",
    "    \"UGC\": \"C\",\n",
    "    \"UGG\": \"W\",\n",
    "    \"UGU\": \"C\",\n",
    "    \"UUA\": \"L\",\n",
    "    \"UUC\": \"F\",\n",
    "    \"UUG\": \"L\",\n",
    "    \"UUU\": \"F\"\n",
    "}"
   ]
  },
  {
   "cell_type": "code",
   "execution_count": 2,
   "metadata": {},
   "outputs": [],
   "source": [
    "def reverse_complement(dna):\n",
    "    rc_rna = ''\n",
    "    complement = {'A':'U','T':'A','C':'G','G':'C'}\n",
    "    for base in dna:\n",
    "        rc_rna = complement[base]+rc_rna\n",
    "    return rc_rna"
   ]
  },
  {
   "cell_type": "code",
   "execution_count": 3,
   "metadata": {},
   "outputs": [],
   "source": [
    "def translate(rna):\n",
    "    n = len(rna)\n",
    "    peptide = ''\n",
    "    for i in range(0,n,3):\n",
    "        code = rna[i:i+3]\n",
    "        amino_acid = genetic_code[code]\n",
    "        if(amino_acid == \"*\"):\n",
    "            return peptide\n",
    "        else:\n",
    "            peptide += amino_acid\n",
    "    return peptide"
   ]
  },
  {
   "cell_type": "code",
   "execution_count": 4,
   "metadata": {},
   "outputs": [],
   "source": [
    "def find_start(dna,peptide):\n",
    "    Sub_Dna = []\n",
    "    rna = dna.replace('T','U')\n",
    "    rc_rna = reverse_complement(dna)\n",
    "    n = len(dna)\n",
    "    k = len(peptide)\n",
    "    for i in range(n-3*k+1):\n",
    "        sub_peptide_num = 0\n",
    "        for j in range(k):\n",
    "            code = rna[i+j*3:i+j*3+3]\n",
    "            if(genetic_code[code] == peptide[j]):\n",
    "                sub_peptide_num += 1\n",
    "            else:\n",
    "                break\n",
    "        if(sub_peptide_num == k):\n",
    "            Sub_Dna.append(dna[i:i+k*3])\n",
    "        sub_peptide2_num  = 0\n",
    "        for j in range(k):\n",
    "            code = rc_rna[i+j*3:i+j*3+3]\n",
    "            if(genetic_code[code] == peptide[j]):\n",
    "                sub_peptide2_num += 1\n",
    "            else:\n",
    "                break\n",
    "        if(sub_peptide2_num == k):\n",
    "            Sub_Dna.append(dna[n-i-k*3:n-i])\n",
    "    return Sub_Dna"
   ]
  },
  {
   "cell_type": "code",
   "execution_count": 5,
   "metadata": {},
   "outputs": [],
   "source": [
    "dna = ''\n",
    "file = open('Bacillus_brevis.txt', 'r') \n",
    "for i, line in enumerate(file):\n",
    "    line=line.rstrip('\\n')\n",
    "    dna += line"
   ]
  },
  {
   "cell_type": "code",
   "execution_count": 6,
   "metadata": {},
   "outputs": [],
   "source": [
    "three2one_dict={\n",
    "  'Ala':'A',\n",
    "  'Arg':'R',\n",
    "  'Asn':'N',\n",
    "  'Asp':'D',\n",
    "  'Cys':'C',\n",
    "  'Glu':'E',\n",
    "  'Gln':'Q',\n",
    "  'Gly':'G',\n",
    "  'His':'H',\n",
    "  'Ile':'I',\n",
    "  'Leu':'L',\n",
    "  'Lys':'K',\n",
    "  'Met':'M',\n",
    "  'Phe':'F',\n",
    "  'Pro':'P',\n",
    "  'Ser':'S',\n",
    "  'Thr':'T',\n",
    "  'Trp':'W',\n",
    "  'Tyr':'Y',\n",
    "  'Val':'V',\n",
    "  'Sec':'U',\n",
    "  'Pyl':'O'}\n"
   ]
  },
  {
   "cell_type": "code",
   "execution_count": 7,
   "metadata": {},
   "outputs": [],
   "source": [
    "def three2one(long_peptide):\n",
    "    peptide  = ''\n",
    "    pep = long_peptide.split('-')\n",
    "    for p in pep:\n",
    "        peptide += three2one_dict[p]\n",
    "    return peptide\n",
    "    "
   ]
  },
  {
   "cell_type": "code",
   "execution_count": 8,
   "metadata": {},
   "outputs": [
    {
     "data": {
      "text/plain": [
       "'VKLFPWFNQY'"
      ]
     },
     "execution_count": 8,
     "metadata": {},
     "output_type": "execute_result"
    }
   ],
   "source": [
    "long_peptide = 'Val-Lys-Leu-Phe-Pro-Trp-Phe-Asn-Gln-Tyr'\n",
    "peptide = three2one(long_peptide)\n",
    "peptide"
   ]
  },
  {
   "cell_type": "code",
   "execution_count": 9,
   "metadata": {},
   "outputs": [
    {
     "data": {
      "text/plain": [
       "2953"
      ]
     },
     "execution_count": 9,
     "metadata": {},
     "output_type": "execute_result"
    }
   ],
   "source": [
    "import datetime\n",
    "a = datetime.datetime.now()\n",
    "find_start(dna,peptide)\n",
    "b = datetime.datetime.now()\n",
    "c = b - a\n",
    "c.seconds"
   ]
  },
  {
   "cell_type": "code",
   "execution_count": null,
   "metadata": {},
   "outputs": [],
   "source": []
  }
 ],
 "metadata": {
  "kernelspec": {
   "display_name": "Python 3",
   "language": "python",
   "name": "python3"
  },
  "language_info": {
   "codemirror_mode": {
    "name": "ipython",
    "version": 3
   },
   "file_extension": ".py",
   "mimetype": "text/x-python",
   "name": "python",
   "nbconvert_exporter": "python",
   "pygments_lexer": "ipython3",
   "version": "3.7.3"
  }
 },
 "nbformat": 4,
 "nbformat_minor": 4
}
