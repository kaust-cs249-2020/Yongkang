{
 "cells": [
  {
   "cell_type": "code",
   "execution_count": 1,
   "metadata": {},
   "outputs": [],
   "source": [
    "\n",
    "genetic_code = {\n",
    "    \"AAA\": \"K\",\n",
    "    \"AAC\": \"N\",\n",
    "    \"AAG\": \"K\",\n",
    "    \"AAU\": \"N\",\n",
    "    \"ACA\": \"T\",\n",
    "    \"ACC\": \"T\",\n",
    "    \"ACG\": \"T\",\n",
    "    \"ACU\": \"T\",\n",
    "    \"AGA\": \"R\",\n",
    "    \"AGC\": \"S\",\n",
    "    \"AGG\": \"R\",\n",
    "    \"AGU\": \"S\",\n",
    "    \"AUA\": \"I\",\n",
    "    \"AUC\": \"I\",\n",
    "    \"AUG\": \"M\",\n",
    "    \"AUU\": \"I\",\n",
    "\n",
    "    \"CAA\": \"Q\",\n",
    "    \"CAC\": \"H\",\n",
    "    \"CAG\": \"Q\",\n",
    "    \"CAU\": \"H\",\n",
    "    \"CCA\": \"P\",\n",
    "    \"CCC\": \"P\",\n",
    "    \"CCG\": \"P\",\n",
    "    \"CCU\": \"P\",\n",
    "    \"CGA\": \"R\",\n",
    "    \"CGC\": \"R\",\n",
    "    \"CGG\": \"R\",\n",
    "    \"CGU\": \"R\",\n",
    "    \"CUA\": \"L\",\n",
    "    \"CUC\": \"L\",\n",
    "    \"CUG\": \"L\",\n",
    "    \"CUU\": \"L\",\n",
    "\n",
    "    \"GAA\": \"E\",\n",
    "    \"GAC\": \"D\",\n",
    "    \"GAG\": \"E\",\n",
    "    \"GAU\": \"D\",\n",
    "    \"GCA\": \"A\",\n",
    "    \"GCC\": \"A\",\n",
    "    \"GCG\": \"A\",\n",
    "    \"GCU\": \"A\",\n",
    "    \"GGA\": \"G\",\n",
    "    \"GGC\": \"G\",\n",
    "    \"GGG\": \"G\",\n",
    "    \"GGU\": \"G\",\n",
    "    \"GUA\": \"V\",\n",
    "    \"GUC\": \"V\",\n",
    "    \"GUG\": \"V\",\n",
    "    \"GUU\": \"V\",\n",
    "\n",
    "    \"UAA\": \"*\",\n",
    "    \"UAC\": \"Y\",\n",
    "    \"UAG\": \"*\",\n",
    "    \"UAU\": \"Y\",\n",
    "    \"UCA\": \"S\",\n",
    "    \"UCC\": \"S\",\n",
    "    \"UCG\": \"S\",\n",
    "    \"UCU\": \"S\",\n",
    "    \"UGA\": \"*\",\n",
    "    \"UGC\": \"C\",\n",
    "    \"UGG\": \"W\",\n",
    "    \"UGU\": \"C\",\n",
    "    \"UUA\": \"L\",\n",
    "    \"UUC\": \"F\",\n",
    "    \"UUG\": \"L\",\n",
    "    \"UUU\": \"F\"\n",
    "}\n",
    "\n"
   ]
  },
  {
   "cell_type": "code",
   "execution_count": 10,
   "metadata": {},
   "outputs": [],
   "source": [
    "def translate(rna):\n",
    "    n = len(rna)\n",
    "    peptide = ''\n",
    "    for i in range(0,n,3):\n",
    "        code = rna[i:i+3]\n",
    "        amino_acid = genetic_code[code]\n",
    "        if(amino_acid == \"*\"):\n",
    "            return peptide\n",
    "        else:\n",
    "            peptide += amino_acid\n",
    "    return peptide\n",
    "    "
   ]
  },
  {
   "cell_type": "raw",
   "metadata": {},
   "source": [
    " Sample Input:\n",
    "\n",
    "AUGGCCAUGGCGCCCAGAACUGAGAUCAAUAGUACCCGUAUUAACGGGUGA\n",
    "\n",
    "Sample Output:\n",
    "\n",
    "MAMAPRTEINSTRING"
   ]
  },
  {
   "cell_type": "code",
   "execution_count": 11,
   "metadata": {},
   "outputs": [
    {
     "data": {
      "text/plain": [
       "'MAMAPRTEINSTRING'"
      ]
     },
     "execution_count": 11,
     "metadata": {},
     "output_type": "execute_result"
    }
   ],
   "source": [
    "rna = 'AUGGCCAUGGCGCCCAGAACUGAGAUCAAUAGUACCCGUAUUAACGGGUGA'\n",
    "translate(rna)"
   ]
  },
  {
   "cell_type": "code",
   "execution_count": 12,
   "metadata": {},
   "outputs": [],
   "source": [
    "rna = ''\n",
    "file = open('dataset_369290_4.txt', 'r') \n",
    "for i, line in enumerate(file):\n",
    "    line=line.rstrip('\\n')\n",
    "    rna = line\n",
    "    "
   ]
  },
  {
   "cell_type": "code",
   "execution_count": 13,
   "metadata": {},
   "outputs": [
    {
     "data": {
      "text/plain": [
       "'MQGHLCIRAAVSRAGEIWLNYFILRCRTNNTRIYPLLFVVCRPKINARIAVGKVSARTGRFGMVACAVHKVWSLSILWPLKSCLSVDMYAMYKRPLPTYTGRLPMARTAFRPLKRQVFMYRLEGHDQFASESRSRINMACARCIVCRLTCVRCGIYLTLVAPDFVYHRGTSAISVPEFVQAKSRSYAPAMPQVRTRPSANAYARSRRSDSGVILVAESHRKLLPTGLLTAMLPLYSSSRQRILHDYWALLYGGVMERYLMVRRISPPYTACLNLFGNTASMQYPPRQPCTTWTVNREGQLTSSREPYAKSTRANDNQDVCLRSSASISTRIVDKEQSRWCRLCAASVVNHNKPVGNGLPAGRCPIYRGAWMEQRRLSTKRGFMLSNFFKKTGYAVYTDGGLHPFVAGTGPHEENVCLLLLLRDATVVLIVQHRGNACLPYRAPVNPRGSYTTCDRDPTTPRDFSYRCTLLKQPGLLLISSLLQPRPTEHLTHVDFLITVGFCGGNSGSPPLRCSKTLIRLPTNERPSDIPVNSAHRSCPTISISSKRAGRLYLPWPVLRFSDCLLSRRCKKVLCRKFTYRCAQGGLGLTKTTKHSLSGAQKGFWDAQLPVSKGNAERTLHDGIKVLGRVDDRRVQECGGDVFIISSPKAQWGTCPLGLVEGYREIFWDLLTLQGKALTEYHVQSNYSSCGLCKQPYPDYGRVSLGSADLDNSVAHPDAIEAPSRNCAFSRREVNAARGLETHYCYTVRHNGYRVSLPLVSEQVFIHCPHANGLYGLDFMPQTLFSEHVDSKVPSAMLITLLDFERQVRPNFAQDSMAETCLEGLDTITPQPPMAYYRTAGVARKLRSQCQAALRTLLLSSRQIPCTSGVSPSPMTISQTRKRFSNWIREFPGYVSVPVIRLSRKQMTPGCRYLSQRARQRAKKSPMVTTGPLFSAYPPKRVRKKTALAFHSVWVNVRLETSYRTLRISTAQLCLFNYLSASGVPPLVDGLPESRAEDLTTKPYDVVNNVCWGPMDYSNHSPRQTFCPRQLLGFAILQPITSQTRGRRTSMLFQSRSCFGIRLYHGLSTVCACRHVRASEVSSRSQYRTRLMTLSALSFIVTENSARHLMYYRTHRRVNAVQRGNHDPAALLTIRYRSMRLVNRPPIRHRASNRIRHGTLRAFIEPLEDVVQTSYVRCRTRHCTRRYFGSVTLLPRDSTKGRRATGAVLPVFAYGMLGDETSAGALNRKDMVLTHASRLVLFLAVGSWCTWRRRLITFSGTRWLKLTDPALKQRELGREGLAAAVAANSKLDCIYKSKAVLDPLWEAALAGLAITRDLTRGSSANAQPIVCVVRLCCPEFVAPFSIFDGQLPRGGSPFARTFRVGGNTSLPAFPSHQIRGCVQERHNDDRSRTCITYRLSTARVKVFFRVGKSVKYLVWLDAPIMSGRSRVTHGTPPDGTSTNCYVKNCYHYLLRDSGRPSPLIAEAIFDRARFRYRRVPLCFNVSSAKPSVWVSQNYTRFNNALHKANKALSLFERSTGRDGEEEGQTLFYGTLRTPGRFEFLLASPFSGMREVIPVACPRRIVVHSRLSARSPRSRAELCSNGTPFSQKPFSLEWSSPVRQETGSVSLITTSVFRTRHPYAKARVQLFSSDAASRGASAPVACQRAQRYEIEVSLFVGRKSPQRPTMIRTQRGRRFSHFEGAGCRLDRSYPRHARLSSAFSSGSGWLNGQFQCGAVRLRAPLQDPVVRGFPTHIVSRFKDKEMLHLLSSRRRNRVPMVDTGRYSWDDIEVSLSVNHLTIGTRVPSRFREPSHLAHQKGLATVGALKSVFKDTCASSDRISTVHGFSTRMVCGRQDDSIGCWNFTASPWERLACLIRKIVLTLQFRGLSAVPSKTKDPHCHNLWIGFLKWAGLYGCGRSNSNASNIMLFSTVSIMQDFSLVEVLATYAANGMRGASYLVRATIHGPNARIDFCVSSETLSENIRIHFICRTDLANASSTLMSRVYVMSQIAPAIHSLLFICRYGSKDTKRKRDGAGEVGQSLMPFLYGLMGSNMGQLYVYIYCLMASNRVFAYLKSVLESTAELYCSSGVDDLSSRGARFRPKIQNGPYQKPINSAFATVLAAIQFIGMICTRLRFEVMARSTIFRTSIIPHKGDAVLGYRSDSPRTFLIRAVSRYVLNRCIMQAMPQTVQWISSVIGRASTPLVGVYTDPNYHCNKSHPSKRSYPSTRRGVVPPTLVDVARHGGSTSGEESAGKAQFTVYHGGPILIGISRPYQRVEANCRTENPALTGTNPDWGWMVPNAIKYSSLSIDLQIKLVFVLRRTSRKNPVGGVARTVSLTELPIARVQRPYTTFKPFSKSPGRYFLPMGCRHPISWALHQPNLVFHTRGIRLGAWNTFKDKRHMNDARTFLALIDWLADVPDKYFTDGSLITIRMVKLIEITPAHENWQVVIPTVFGNPADNTKNYRTWGKGSRCQCCNNSAYKVKRGKVVGGYPRALIHPVAQAWIISLMRSWGVPIQTSGRHGGPSYQEVVSAIPLPKIRCHMLLQTVNPPRISALRRGMSCLGGCVGKRPAEADVLPLPARDNIAITLNPVALGNTVLDLTSSLWVLRSHFRTVGKHARRGYTRVGTSLRMGARDILPRPIAQYDGASYAVPPNSRLVGGKSAVPHGLYLAKRADQEDNRHLMSSAALCSPPRAQVGACTCGLRVRLSLFYGRVWNAMPPQIRSFFPKRSSLGRACRVPLHGRTFLVCRALHFWSLANHENNADPVVPCRLRKPGLASEVYLSHNAGASMYLNQYKSLDLGSQLISDYLVHSDPRAFMGVTVCYGRTISSTRRWHFLTYNRCFVSQLHWQMAFKTPTYISPGCRGSSYLISKPRHRATQDINIRFQRFHPVLIHKGQPPSSNHKASKASLIRLDVISSIITGLPRSVPALHRDVHICPSITKQQQRHDRPPIGISIRRKVRTIATAAARALQKLAHRKTTRPSNLYTRGKLILNIPKLSIGREGDRAELRVTVDSTRCYLGSPAHQGPTRRRLIDIRAVDSPPPSSNALITFTMYCTADHFLCHRRESLHTPVRRGSAIVPIYHKSAGSKGGSMCQTVTVQGFDLNRRWHVHPRGKDNTSSAQPSLWHSLLFKLSNRVPGAPLNSWNGTDKVYRAWRHNSRYSRVSDLKTVYTR'"
      ]
     },
     "execution_count": 13,
     "metadata": {},
     "output_type": "execute_result"
    }
   ],
   "source": [
    "translate(rna)"
   ]
  },
  {
   "cell_type": "code",
   "execution_count": null,
   "metadata": {},
   "outputs": [],
   "source": []
  }
 ],
 "metadata": {
  "kernelspec": {
   "display_name": "Python 3",
   "language": "python",
   "name": "python3"
  },
  "language_info": {
   "codemirror_mode": {
    "name": "ipython",
    "version": 3
   },
   "file_extension": ".py",
   "mimetype": "text/x-python",
   "name": "python",
   "nbconvert_exporter": "python",
   "pygments_lexer": "ipython3",
   "version": "3.7.3"
  }
 },
 "nbformat": 4,
 "nbformat_minor": 4
}
