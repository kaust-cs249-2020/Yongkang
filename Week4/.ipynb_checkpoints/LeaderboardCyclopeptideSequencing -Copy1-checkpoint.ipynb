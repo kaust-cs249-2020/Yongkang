{
 "cells": [
  {
   "cell_type": "code",
   "execution_count": 1,
   "metadata": {},
   "outputs": [],
   "source": [
    "import numpy as np\n",
    "from collections import Counter"
   ]
  },
  {
   "cell_type": "code",
   "execution_count": 2,
   "metadata": {},
   "outputs": [],
   "source": [
    "AminoAcidMass = {'G': 57, 'A': 71, 'S': 87, 'P': 97, 'V': 99, 'T': 101, 'C': 103, 'I': 113, \n",
    "                 'L': 113, 'N': 114, 'D': 115, 'K': 128, 'Q': 128, 'E': 129, 'M': 131, \n",
    "                 'H': 137, 'F': 147, 'R': 156, 'Y': 163, 'W': 186}"
   ]
  },
  {
   "cell_type": "code",
   "execution_count": 3,
   "metadata": {},
   "outputs": [],
   "source": [
    "def compare(s, t):\n",
    "    return Counter(s) == Counter(t)"
   ]
  },
  {
   "cell_type": "code",
   "execution_count": 4,
   "metadata": {},
   "outputs": [],
   "source": [
    "def CheckRepeatPeptide(a,b):\n",
    "    for e in b:\n",
    "        if compare(a, e):\n",
    "            return True"
   ]
  },
  {
   "cell_type": "code",
   "execution_count": 5,
   "metadata": {},
   "outputs": [],
   "source": [
    "def LinearSpectrum(Peptide):\n",
    "    #Peptides = Peptide.split('-')\n",
    "    Peptides = Peptide\n",
    "    n = len(Peptides)\n",
    "    PrefixMass = np.zeros(n+1)\n",
    "    for i in range(0,n):\n",
    "        PrefixMass[i+1] = PrefixMass[i] + int(Peptides[i])\n",
    "    LinearSpectrum = [0]\n",
    "    for i in range(n):\n",
    "        for j in range(i+1,n+1):\n",
    "            #add PrefixMass(j) − PrefixMass(i) to LinearSpectrum\n",
    "            LinearSpectrum.append(PrefixMass[j]-PrefixMass[i])\n",
    "            \n",
    "    return np.sort(LinearSpectrum)"
   ]
  },
  {
   "cell_type": "code",
   "execution_count": 6,
   "metadata": {},
   "outputs": [],
   "source": [
    "def Mass(Peptide):\n",
    "    mass = 0\n",
    "    #PeptideList = Peptide.split('-')\n",
    "    PeptideList = Peptide\n",
    "    for amino_acid in PeptideList:\n",
    "        mass += int(amino_acid)\n",
    "    return mass"
   ]
  },
  {
   "cell_type": "code",
   "execution_count": 7,
   "metadata": {},
   "outputs": [],
   "source": [
    "def ParentMass(Spectrum):\n",
    "    mass = 0\n",
    "    minMass = 10000\n",
    "    for amino_acid in Spectrum:\n",
    "        mass += amino_acid\n",
    "        if(minMass > mass):\n",
    "            minMass = mass\n",
    "    return mass,minMass"
   ]
  },
  {
   "cell_type": "code",
   "execution_count": 8,
   "metadata": {},
   "outputs": [],
   "source": [
    "def Expand(CandidatePeptides):\n",
    "    if (not CandidatePeptides):\n",
    "        return [[k] for k in set(AminoAcidMass.values())]\n",
    "    NewCandidatePeptides = []\n",
    "    for Peptide in CandidatePeptides:\n",
    "        for mass in set(AminoAcidMass.values()):\n",
    "            NewPeptide = Peptide + [mass]\n",
    "            if not CheckRepeatPeptide(NewPeptide,NewCandidatePeptides):\n",
    "                NewCandidatePeptides.append(NewPeptide)\n",
    "    return NewCandidatePeptides"
   ]
  },
  {
   "cell_type": "code",
   "execution_count": 9,
   "metadata": {},
   "outputs": [],
   "source": [
    "def Score(Peptide,Experimental):\n",
    "    if(not Peptide):\n",
    "        return 0\n",
    "    Theoretical = LinearSpectrum(Peptide)\n",
    "    Total = {}\n",
    "    for mass in Theoretical:\n",
    "        if mass in Total.keys():\n",
    "            Total[mass] += 1\n",
    "        else:\n",
    "            Total[mass] = 1\n",
    "    score = 0\n",
    "    for mass in Experimental:\n",
    "        if(mass in Total.keys() and Total[mass]>0):\n",
    "            score += 1\n",
    "            Total[mass] -= 1\n",
    "    return score"
   ]
  },
  {
   "cell_type": "code",
   "execution_count": 65,
   "metadata": {},
   "outputs": [],
   "source": [
    "def Trim(Leaderboard, Spectrum, N):\n",
    "    n = len(Leaderboard)\n",
    "    LinearScores = {}\n",
    "    for Peptide in Leaderboard:\n",
    "        LinearScores[str(Peptide)] =  Score(Peptide, Spectrum)\n",
    "    \n",
    "    count = 0\n",
    "    NewLeaderBoard = []\n",
    "    preScore = -1\n",
    "    for Peptide,score in sorted(LinearScores.items(), key=lambda item: item[1],reverse=True):\n",
    "        Peptide = Peptide.strip('][').split(', ') \n",
    "        Peptide = [int(x) for x in Peptide]\n",
    "        k = len(Peptide)\n",
    "        if(preScore == score or count<N/k):\n",
    "            NewLeaderBoard.append(Peptide)\n",
    "        else:\n",
    "            break\n",
    "        count += 1\n",
    "        preScore = score\n",
    "    return NewLeaderBoard"
   ]
  },
  {
   "cell_type": "code",
   "execution_count": 66,
   "metadata": {},
   "outputs": [],
   "source": [
    "def LeaderboardCyclopeptideSequencing(Spectrum, N):\n",
    "        LeaderPeptide = []\n",
    "        Leaderboard  = []\n",
    "        parentMass,minMass = ParentMass(Spectrum[1:])\n",
    "        while True:\n",
    "            Leaderboard = Expand(Leaderboard)\n",
    "            Leaderboard = Trim(Leaderboard, Spectrum, N)\n",
    "            DiscardBoard = []\n",
    "            for Peptide in Leaderboard:\n",
    "                #if Mass(LinearSpectrum(Peptide)) == parentMass:\n",
    "                if Mass(LinearSpectrum(Peptide)) <= parentMass:\n",
    "                    if Score(Peptide, Spectrum) > Score(LeaderPeptide, Spectrum):\n",
    "                        LeaderPeptide = Peptide.copy()\n",
    "                elif Mass(LinearSpectrum(Peptide)) > parentMass-minMass:\n",
    "                    DiscardBoard.append(Peptide)\n",
    "            if len(DiscardBoard) == len(Leaderboard):\n",
    "                break\n",
    "            Leaderboard = [x for x in Leaderboard if x not in DiscardBoard] \n",
    "            Leaderboard = Trim(Leaderboard, Spectrum, N)\n",
    "        return LeaderPeptide"
   ]
  },
  {
   "cell_type": "code",
   "execution_count": 67,
   "metadata": {},
   "outputs": [],
   "source": [
    "Spectrum = '0 71 113 129 147 200 218 260 313 331 347 389 460'\n",
    "Spectrum = np.array(Spectrum.split(' ')).astype(int)\n",
    "N = 10"
   ]
  },
  {
   "cell_type": "code",
   "execution_count": 68,
   "metadata": {},
   "outputs": [
    {
     "data": {
      "text/plain": [
       "[129, 71, 147, 113]"
      ]
     },
     "execution_count": 68,
     "metadata": {},
     "output_type": "execute_result"
    }
   ],
   "source": [
    "LeaderboardCyclopeptideSequencing(Spectrum, N)"
   ]
  },
  {
   "cell_type": "code",
   "execution_count": null,
   "metadata": {},
   "outputs": [],
   "source": []
  },
  {
   "cell_type": "code",
   "execution_count": 59,
   "metadata": {},
   "outputs": [],
   "source": [
    "def CyclicSpectrum(Peptide):\n",
    "    PeptideList = Peptide\n",
    "    n = len(PeptideList)\n",
    "    PrefixMass = np.zeros(n+1)\n",
    "    for i in range(0,n):\n",
    "        PrefixMass[i+1] = PrefixMass[i] + int(PeptideList[i])\n",
    "        \n",
    "    peptideMass = PrefixMass[-1]\n",
    "    CyclicSpectrum  = [0]\n",
    "    for i in range(n):\n",
    "        for j in range(i+1,n+1):\n",
    "            CyclicSpectrum.append(PrefixMass[j]-PrefixMass[i])\n",
    "            if i > 0 and j < n:\n",
    "                CyclicSpectrum.append(peptideMass- PrefixMass[j]+ PrefixMass[i])\n",
    "    return np.sort(CyclicSpectrum).astype(int)\n"
   ]
  }
 ],
 "metadata": {
  "kernelspec": {
   "display_name": "Python 3",
   "language": "python",
   "name": "python3"
  },
  "language_info": {
   "codemirror_mode": {
    "name": "ipython",
    "version": 3
   },
   "file_extension": ".py",
   "mimetype": "text/x-python",
   "name": "python",
   "nbconvert_exporter": "python",
   "pygments_lexer": "ipython3",
   "version": "3.7.3"
  }
 },
 "nbformat": 4,
 "nbformat_minor": 4
}
