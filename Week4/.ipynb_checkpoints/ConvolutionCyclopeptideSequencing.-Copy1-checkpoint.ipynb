{
 "cells": [
  {
   "cell_type": "code",
   "execution_count": 1,
   "metadata": {},
   "outputs": [],
   "source": [
    "import numpy as np"
   ]
  },
  {
   "cell_type": "code",
   "execution_count": 2,
   "metadata": {},
   "outputs": [],
   "source": [
    "def Convolution(Spectrum):\n",
    "    n = len(Spectrum)\n",
    "    Cov_Spectrum = []\n",
    "    for i in range(n-1):\n",
    "        for j in range(i+1,n):\n",
    "            if(Spectrum[j]-Spectrum[i]>0):\n",
    "                Cov_Spectrum.append(Spectrum[j]-Spectrum[i])\n",
    "    return Cov_Spectrum\n",
    "            "
   ]
  },
  {
   "cell_type": "code",
   "execution_count": 3,
   "metadata": {},
   "outputs": [],
   "source": [
    "def Quota(Peptide,mass):\n",
    "    used = 0\n",
    "    PeptideList = Peptide.split('-')\n",
    "    for amino_acid in PeptideList:\n",
    "        if(mass == int(amino_acid)):\n",
    "            used += 1\n",
    "    return Total[mass]-used"
   ]
  },
  {
   "cell_type": "code",
   "execution_count": 4,
   "metadata": {},
   "outputs": [],
   "source": [
    "def SelectMost(Cov_Spectrum,M):\n",
    "    Count = {}\n",
    "    Select_Spectrum = []\n",
    "    for ele in Cov_Spectrum:\n",
    "        if ele in Count.keys():\n",
    "            Count[ele] += 1\n",
    "        else:\n",
    "            Count[ele] = 1\n",
    "    c = 0\n",
    "    pre = -1\n",
    "    for mass,count in sorted(Count.items(), key=lambda item: item[1],reverse=True):\n",
    "        if(c<M or pre == count):\n",
    "            if(mass>=57 and mass<=200):\n",
    "                c +=1\n",
    "                Select_Spectrum += [mass]*count\n",
    "                pre= count\n",
    "        \n",
    "    return np.sort(Select_Spectrum)\n",
    "        "
   ]
  },
  {
   "cell_type": "code",
   "execution_count": 5,
   "metadata": {},
   "outputs": [],
   "source": [
    "def LinearSpectrum(Peptide):\n",
    "    Peptides = Peptide.split('-')\n",
    "    #Peptides = Peptide\n",
    "    n = len(Peptides)\n",
    "    PrefixMass = np.zeros(n+1)\n",
    "    for i in range(0,n):\n",
    "        PrefixMass[i+1] = PrefixMass[i] + int(Peptides[i])\n",
    "    LinearSpectrum = [0]\n",
    "    for i in range(n):\n",
    "        for j in range(i+1,n+1):\n",
    "            #add PrefixMass(j) − PrefixMass(i) to LinearSpectrum\n",
    "            LinearSpectrum.append(PrefixMass[j]-PrefixMass[i])\n",
    "            \n",
    "    return np.sort(LinearSpectrum)"
   ]
  },
  {
   "cell_type": "code",
   "execution_count": 6,
   "metadata": {},
   "outputs": [],
   "source": [
    "def Mass(Peptide):\n",
    "    mass = 0\n",
    "    PeptideList = Peptide.split('-')\n",
    "    #PeptideList = Peptide\n",
    "    for amino_acid in PeptideList:\n",
    "        mass += int(amino_acid)\n",
    "    return mass"
   ]
  },
  {
   "cell_type": "code",
   "execution_count": 34,
   "metadata": {},
   "outputs": [],
   "source": [
    "def Expand(CandidatePeptides):\n",
    "    if (not CandidatePeptides):\n",
    "        #return [[k] for k in set(AminoAcidMass.values())]\n",
    "        #return set(str(k) for k in set(AminoAcidMass.values()))\n",
    "        return [str(k) for k in Alphat]\n",
    "    NewCandidatePeptides = []\n",
    "    for Peptide in CandidatePeptides:\n",
    "        for mass in Alphat:\n",
    "        #for mass in set(AminoAcidMass.values()):\n",
    "            if(Quota(Peptide,mass)>0):\n",
    "            #NewPeptide = Peptide + [mass]\n",
    "                NewPeptide = Peptide + '-'+str(mass)\n",
    "            #if not CheckRepeatPeptide(NewPeptide,NewCandidatePeptides):\n",
    "                NewCandidatePeptides.append(NewPeptide)\n",
    "    return NewCandidatePeptides"
   ]
  },
  {
   "cell_type": "code",
   "execution_count": 8,
   "metadata": {},
   "outputs": [],
   "source": [
    "def Score(Peptide,Experimental):\n",
    "    if(not Peptide):\n",
    "        return 0\n",
    "    Theoretical = LinearSpectrum(Peptide)\n",
    "    Total = {}\n",
    "    for mass in Theoretical:\n",
    "        if mass in Total.keys():\n",
    "            Total[mass] += 1\n",
    "        else:\n",
    "            Total[mass] = 1\n",
    "    score = 0\n",
    "    for mass in Experimental:\n",
    "        if(mass in Total.keys() and Total[mass]>0):\n",
    "            score += 1\n",
    "            Total[mass] -= 1\n",
    "    return score"
   ]
  },
  {
   "cell_type": "code",
   "execution_count": 9,
   "metadata": {},
   "outputs": [],
   "source": [
    "def Trim(Leaderboard, Spectrum, N):\n",
    "    n = len(Leaderboard)\n",
    "    LinearScores = {}\n",
    "    for Peptide in Leaderboard:\n",
    "        LinearScores[Peptide] =  Score(Peptide, Spectrum)\n",
    "    \n",
    "    count = 0\n",
    "    NewLeaderBoard = []\n",
    "    preScore = -1\n",
    "    for Peptide,score in sorted(LinearScores.items(), key=lambda item: item[1],reverse=True):\n",
    "        #Peptide = Peptide.strip('][').split(', ') \n",
    "        #Peptide = [int(x) for x in Peptide]\n",
    "        #k = len(Peptide)\n",
    "        if(preScore == score or count<N):\n",
    "            NewLeaderBoard.append(Peptide)\n",
    "        else:\n",
    "            break\n",
    "        count += 1\n",
    "        preScore = score\n",
    "    return NewLeaderBoard"
   ]
  },
  {
   "cell_type": "code",
   "execution_count": 181,
   "metadata": {},
   "outputs": [],
   "source": [
    "def LeaderboardCyclopeptideSequencing(Sel_Spectrum,Spectrum, N):\n",
    "    LeaderPeptide = ''\n",
    "    Leaderboard  = []\n",
    "    while True:\n",
    "        Leaderboard = Expand(Leaderboard)\n",
    "        Leaderboard = Trim(Leaderboard, Spectrum, N)\n",
    "        DiscardBoard = []\n",
    "        for Peptide in Leaderboard:\n",
    "                #if Mass(LinearSpectrum(Peptide)) == parentMass:\n",
    "            if Mass(Peptide) ==  Spectrum[-1]:\n",
    "                if Score(Peptide, Sel_Spectrum) > Score(LeaderPeptide, Sel_Spectrum):\n",
    "                    LeaderPeptide = Peptide\n",
    "                DiscardBoard.append(Peptide)\n",
    "            elif Mass(Peptide) > Spectrum[-1]:\n",
    "                DiscardBoard.append(Peptide)\n",
    "        Leaderboard = [x for x in Leaderboard if x not in DiscardBoard]\n",
    "        if not Leaderboard:\n",
    "            return LeaderPeptide"
   ]
  },
  {
   "cell_type": "raw",
   "metadata": {},
   "source": [
    " Sample Input:\n",
    "\n",
    "20\n",
    "60\n",
    "57 57 71 99 129 137 170 186 194 208 228 265 285 299 307 323 356 364 394 422 493\n",
    "\n",
    "Sample Output:\n",
    "\n",
    "99-71-137-57-72-57"
   ]
  },
  {
   "cell_type": "code",
   "execution_count": 182,
   "metadata": {},
   "outputs": [],
   "source": [
    "N = 20\n",
    "M = 60\n",
    "Spectrum = '0 57 57 71 99 129 137 170 186 194 208 228 265 285 299 307 323 356 364 394 422 493'\n",
    "Spectrum = np.array(Spectrum.split(' ')).astype(int)\n",
    "Spectrum = np.sort(Spectrum)"
   ]
  },
  {
   "cell_type": "code",
   "execution_count": 183,
   "metadata": {},
   "outputs": [],
   "source": [
    "Cov_Spectrum = Convolution(Spectrum)"
   ]
  },
  {
   "cell_type": "code",
   "execution_count": 184,
   "metadata": {},
   "outputs": [],
   "source": [
    "Sel_Spectrum = SelectMost(Cov_Spectrum,M)\n",
    "Alphat = set(Sel_Spectrum)\n",
    "Sel_Spectrum = np.sort(Sel_Spectrum)\n",
    "Total = {}\n",
    "for mass in Cov_Spectrum:\n",
    "    if mass in Total.keys():\n",
    "        Total[mass] += 1\n",
    "    else:\n",
    "        Total[mass] = 1\n",
    "LeaderPeptide = ''"
   ]
  },
  {
   "cell_type": "code",
   "execution_count": 185,
   "metadata": {},
   "outputs": [
    {
     "data": {
      "text/plain": [
       "'71-99-129-57-79-58'"
      ]
     },
     "execution_count": 185,
     "metadata": {},
     "output_type": "execute_result"
    }
   ],
   "source": [
    "LeaderboardCyclopeptideSequencing(Sel_Spectrum, Spectrum,N)"
   ]
  },
  {
   "cell_type": "code",
   "execution_count": 153,
   "metadata": {},
   "outputs": [],
   "source": [
    "Leaderboard = []"
   ]
  },
  {
   "cell_type": "code",
   "execution_count": 162,
   "metadata": {},
   "outputs": [
    {
     "name": "stdout",
     "output_type": "stream",
     "text": [
      "Stop\n",
      "LeaderBoard: ['57-129-99-71-66-57-71', '57-129-99-71-66-57-200', '57-137-71-99-58-57-71', '57-137-71-99-58-57-129', '57-137-71-99-58-57-109', '57-129-99-71-66-57-129', '57-129-99-71-66-57-151', '57-129-99-71-66-57-170', '57-129-99-71-66-57-113', '57-137-71-99-58-57-186', '57-137-71-99-58-57-72', '57-129-99-71-66-57-128', '57-129-99-71-66-57-136', '57-129-99-71-66-57-137', '57-129-99-71-66-57-148', '57-129-99-71-66-57-153', '57-129-99-71-66-57-156', '57-129-99-71-66-57-157', '57-129-99-71-66-57-162', '57-129-99-71-66-57-166', '57-129-99-71-66-57-171', '57-129-99-71-66-57-178', '57-129-99-71-66-57-57', '57-129-99-71-66-57-58', '57-129-99-71-66-57-186', '57-129-99-71-66-57-65', '57-129-99-71-66-57-66', '57-129-99-71-66-57-194', '57-129-99-71-66-57-72', '57-129-99-71-66-57-77', '57-129-99-71-66-57-79', '57-129-99-71-66-57-80', '57-129-99-71-66-57-87', '57-129-99-71-66-57-91', '57-129-99-71-66-57-95', '57-129-99-71-66-57-99', '57-129-99-71-66-57-105', '57-129-99-71-66-57-109', '57-129-99-71-66-57-115', '57-129-99-71-66-57-121', '57-129-99-71-66-57-123', '57-137-71-99-58-57-128', '57-137-71-99-58-57-136', '57-137-71-99-58-57-137', '57-137-71-99-58-57-148', '57-137-71-99-58-57-151', '57-137-71-99-58-57-153', '57-137-71-99-58-57-156', '57-137-71-99-58-57-157', '57-137-71-99-58-57-162', '57-137-71-99-58-57-166', '57-137-71-99-58-57-170', '57-137-71-99-58-57-171', '57-137-71-99-58-57-178', '57-137-71-99-58-57-57', '57-137-71-99-58-57-58', '57-137-71-99-58-57-65', '57-137-71-99-58-57-66', '57-137-71-99-58-57-194', '57-137-71-99-58-57-200', '57-137-71-99-58-57-77', '57-137-71-99-58-57-79', '57-137-71-99-58-57-80', '57-137-71-99-58-57-87', '57-137-71-99-58-57-91', '57-137-71-99-58-57-95', '57-137-71-99-58-57-99', '57-137-71-99-58-57-105', '57-137-71-99-58-57-113', '57-137-71-99-58-57-115', '57-137-71-99-58-57-121', '57-137-71-99-58-57-123']\n",
      "DiscardBoard: ['57-129-99-71-66-57-71', '57-129-99-71-66-57-200', '57-137-71-99-58-57-71', '57-137-71-99-58-57-129', '57-137-71-99-58-57-109', '57-129-99-71-66-57-129', '57-129-99-71-66-57-151', '57-129-99-71-66-57-170', '57-129-99-71-66-57-113', '57-137-71-99-58-57-186', '57-137-71-99-58-57-72', '57-129-99-71-66-57-128', '57-129-99-71-66-57-136', '57-129-99-71-66-57-137', '57-129-99-71-66-57-148', '57-129-99-71-66-57-153', '57-129-99-71-66-57-156', '57-129-99-71-66-57-157', '57-129-99-71-66-57-162', '57-129-99-71-66-57-166', '57-129-99-71-66-57-171', '57-129-99-71-66-57-178', '57-129-99-71-66-57-57', '57-129-99-71-66-57-58', '57-129-99-71-66-57-186', '57-129-99-71-66-57-65', '57-129-99-71-66-57-66', '57-129-99-71-66-57-194', '57-129-99-71-66-57-72', '57-129-99-71-66-57-77', '57-129-99-71-66-57-79', '57-129-99-71-66-57-80', '57-129-99-71-66-57-87', '57-129-99-71-66-57-91', '57-129-99-71-66-57-95', '57-129-99-71-66-57-99', '57-129-99-71-66-57-105', '57-129-99-71-66-57-109', '57-129-99-71-66-57-115', '57-129-99-71-66-57-121', '57-129-99-71-66-57-123', '57-137-71-99-58-57-128', '57-137-71-99-58-57-136', '57-137-71-99-58-57-137', '57-137-71-99-58-57-148', '57-137-71-99-58-57-151', '57-137-71-99-58-57-153', '57-137-71-99-58-57-156', '57-137-71-99-58-57-157', '57-137-71-99-58-57-162', '57-137-71-99-58-57-166', '57-137-71-99-58-57-170', '57-137-71-99-58-57-171', '57-137-71-99-58-57-178', '57-137-71-99-58-57-57', '57-137-71-99-58-57-58', '57-137-71-99-58-57-65', '57-137-71-99-58-57-66', '57-137-71-99-58-57-194', '57-137-71-99-58-57-200', '57-137-71-99-58-57-77', '57-137-71-99-58-57-79', '57-137-71-99-58-57-80', '57-137-71-99-58-57-87', '57-137-71-99-58-57-91', '57-137-71-99-58-57-95', '57-137-71-99-58-57-99', '57-137-71-99-58-57-105', '57-137-71-99-58-57-113', '57-137-71-99-58-57-115', '57-137-71-99-58-57-121', '57-137-71-99-58-57-123']\n",
      "[]\n"
     ]
    }
   ],
   "source": [
    "Leaderboard = Expand(Leaderboard)\n",
    "Leaderboard = Trim(Leaderboard,Spectrum, N)\n",
    "DiscardBoard = []\n",
    "for Peptide in Leaderboard:\n",
    "    if Mass(Peptide) ==  Spectrum[-1]:\n",
    "        Score1 = Score(Peptide, Spectrum)\n",
    "        Score2 = Score(LeaderPeptide, Spectrum)\n",
    "        print(\"LeaderPeptide:%s\\tScore1: %d\\tScore2: %d\"%(LeaderPeptide,Score1,Score2))\n",
    "        if (Score(Peptide, Spectrum) > Score(LeaderPeptide, Spectrum)):\n",
    "            print(LeaderPeptide,Peptide)\n",
    "            LeaderPeptide = Peptide\n",
    "        DiscardBoard.append(Peptide)\n",
    "    elif Mass(Peptide) > Spectrum[-1]-57:\n",
    "            DiscardBoard.append(Peptide)\n",
    "if len(DiscardBoard) == len(Leaderboard):\n",
    "    print(\"Stop\")\n",
    "\n",
    "print(\"LeaderBoard: %s\"%(str(Leaderboard)))\n",
    "print(\"DiscardBoard: %s\"%(str(DiscardBoard)))\n",
    "Leaderboard = [x for x in Leaderboard if x not in DiscardBoard] \n",
    "print(Leaderboard)"
   ]
  },
  {
   "cell_type": "code",
   "execution_count": 190,
   "metadata": {},
   "outputs": [],
   "source": [
    "N=20\n",
    "M=373\n",
    "line = '853 113 585 796 924 502 423 1210 342 186 761 391 593 1412 1152 1396 260 129 1381 229 242 356 990 1047 57 748 1176 730 990 1038 1119 294 339 114 696 1251 1267 617 567 357 471 163 1266 1281 0 536 1395 454 1104 1362 1039 892 1509 1086 129 649 1095 713 258 777 1394 753 299 599 648 876 414 1249 813 242 859 1305 552 1284 861 650 1249 261 520 470 519 957 1233 405 260 861 762 810 1248 891 916 1346 390 981 147 1323 390 732 618 1380 1038 756 989 225 633 910 204 1452 243 1119 860 1395 129 57 503 1267 1153 276 462 228 1215 114 1170 357 973 388 519 699 131 128 1120 648 1452 1055 632 333 1380 528 747 389 656 97 1167 779 1380 1280 942 115 1121 1152 1007 990 1006 1118 519 877 1378 471'\n",
    "Spectrum = np.array(line.split(' ')).astype(int)"
   ]
  },
  {
   "cell_type": "code",
   "execution_count": 195,
   "metadata": {},
   "outputs": [],
   "source": [
    "N = 0\n",
    "Spectrum = []\n",
    "M=0\n",
    "file = open('dataset_369297_7.txt', 'r') \n",
    "for i, line in enumerate(file):\n",
    "    line=line.rstrip('\\n')\n",
    "    if(i==0):\n",
    "        N = int(line)\n",
    "    elif(i==1):\n",
    "        M = int(line)\n",
    "    else:\n",
    "        Spectrum = np.array(line.split(' ')).astype(int)\n"
   ]
  },
  {
   "cell_type": "code",
   "execution_count": 196,
   "metadata": {},
   "outputs": [],
   "source": [
    "Spectrum = np.sort(Spectrum)\n",
    "Cov_Spectrum = Convolution(Spectrum)\n",
    "Sel_Spectrum = SelectMost(Cov_Spectrum,M)\n",
    "Alphat = set(Sel_Spectrum)\n",
    "Sel_Spectrum = np.sort(Sel_Spectrum)\n",
    "Total = {}\n",
    "for mass in Cov_Spectrum:\n",
    "    if mass in Total.keys():\n",
    "        Total[mass] += 1\n",
    "    else:\n",
    "        Total[mass] = 1\n",
    "LeaderPeptide = ''"
   ]
  },
  {
   "cell_type": "code",
   "execution_count": 197,
   "metadata": {},
   "outputs": [
    {
     "data": {
      "text/plain": [
       "'71-99-113-147-156-103-71-57-57-113-128-137'"
      ]
     },
     "execution_count": 197,
     "metadata": {},
     "output_type": "execute_result"
    }
   ],
   "source": [
    "LeaderboardCyclopeptideSequencing(Sel_Spectrum, Spectrum,N)"
   ]
  },
  {
   "cell_type": "raw",
   "metadata": {},
   "source": [
    "113-115-114-128-97-163-131-129-129-147-57-57-129"
   ]
  },
  {
   "cell_type": "code",
   "execution_count": 193,
   "metadata": {},
   "outputs": [
    {
     "data": {
      "text/plain": [
       "92"
      ]
     },
     "execution_count": 193,
     "metadata": {},
     "output_type": "execute_result"
    }
   ],
   "source": [
    "Score('57-57-129-113-115-114-128-97-163-131-129-129-147',Spectrum)"
   ]
  },
  {
   "cell_type": "code",
   "execution_count": 194,
   "metadata": {},
   "outputs": [
    {
     "data": {
      "text/plain": [
       "92"
      ]
     },
     "execution_count": 194,
     "metadata": {},
     "output_type": "execute_result"
    }
   ],
   "source": [
    "Score('113-115-114-128-97-163-131-129-129-147-57-57-129',Spectrum)"
   ]
  },
  {
   "cell_type": "code",
   "execution_count": null,
   "metadata": {},
   "outputs": [],
   "source": []
  }
 ],
 "metadata": {
  "kernelspec": {
   "display_name": "Python 3",
   "language": "python",
   "name": "python3"
  },
  "language_info": {
   "codemirror_mode": {
    "name": "ipython",
    "version": 3
   },
   "file_extension": ".py",
   "mimetype": "text/x-python",
   "name": "python",
   "nbconvert_exporter": "python",
   "pygments_lexer": "ipython3",
   "version": "3.7.3"
  }
 },
 "nbformat": 4,
 "nbformat_minor": 4
}
