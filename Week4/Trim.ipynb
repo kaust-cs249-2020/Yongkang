{
 "cells": [
  {
   "cell_type": "code",
   "execution_count": 1,
   "metadata": {},
   "outputs": [],
   "source": [
    "import numpy as np"
   ]
  },
  {
   "cell_type": "code",
   "execution_count": 2,
   "metadata": {},
   "outputs": [],
   "source": [
    "AminoAcidMass = {'G': 57, 'A': 71, 'S': 87, 'P': 97, 'V': 99, 'T': 101, 'C': 103, 'I': 113, \n",
    "                 'L': 113, 'N': 114, 'D': 115, 'K': 128, 'Q': 128, 'E': 129, 'M': 131, \n",
    "                 'H': 137, 'F': 147, 'R': 156, 'Y': 163, 'W': 186}"
   ]
  },
  {
   "cell_type": "code",
   "execution_count": 3,
   "metadata": {},
   "outputs": [],
   "source": [
    "def LinearSpectrum(Peptide, AminoAcidMass):\n",
    "    n = len(Peptide)\n",
    "    PrefixMass = np.zeros(n+1)\n",
    "    for i in range(0,n):\n",
    "        PrefixMass[i+1] = PrefixMass[i] + AminoAcidMass[Peptide[i]]\n",
    "    LinearSpectrum = [0]\n",
    "    for i in range(n):\n",
    "        for j in range(i+1,n+1):\n",
    "            #add PrefixMass(j) − PrefixMass(i) to LinearSpectrum\n",
    "            LinearSpectrum.append(PrefixMass[j]-PrefixMass[i])\n",
    "            \n",
    "    return np.sort(LinearSpectrum)"
   ]
  },
  {
   "cell_type": "code",
   "execution_count": 7,
   "metadata": {},
   "outputs": [],
   "source": [
    "def LinearScore(Expreimental,Theoretical):\n",
    "    score = 0\n",
    "    for mass in Experimental:\n",
    "        if(mass in Total.keys() and Total[mass]>0):\n",
    "            score += 1\n",
    "            Total[mass] -= 1\n",
    "    return score\n",
    "            "
   ]
  },
  {
   "cell_type": "code",
   "execution_count": 5,
   "metadata": {},
   "outputs": [],
   "source": [
    "Peptide = 'NQEL'\n",
    "Theoretical = LinearSpectrum(Peptide, AminoAcidMass)"
   ]
  },
  {
   "cell_type": "code",
   "execution_count": 6,
   "metadata": {},
   "outputs": [],
   "source": [
    "Total = {}\n",
    "for mass in Theoretical:\n",
    "    if mass in Total.keys():\n",
    "        Total[mass] += 1\n",
    "    else:\n",
    "        Total[mass] = 1"
   ]
  },
  {
   "cell_type": "code",
   "execution_count": 9,
   "metadata": {},
   "outputs": [],
   "source": [
    "Experimental = '0 99 113 114 128 227 257 299 355 356 370 371 484'\n",
    "Experimental = np.array(Experimental.split(' ')).astype(int)"
   ]
  },
  {
   "cell_type": "code",
   "execution_count": 11,
   "metadata": {},
   "outputs": [
    {
     "data": {
      "text/plain": [
       "8"
      ]
     },
     "execution_count": 11,
     "metadata": {},
     "output_type": "execute_result"
    }
   ],
   "source": [
    "LinearScore(Experimental,Theoretical)"
   ]
  },
  {
   "cell_type": "code",
   "execution_count": 14,
   "metadata": {},
   "outputs": [],
   "source": [
    "Peptide = ''\n",
    "Experimental = []\n",
    "file = open('dataset_369301_1.txt', 'r') \n",
    "for i, line in enumerate(file):\n",
    "    line=line.rstrip('\\n')\n",
    "    if(i==0):\n",
    "        Peptide = line\n",
    "    else:\n",
    "        Experimental = np.array(line.split(' ')).astype(int)"
   ]
  },
  {
   "cell_type": "code",
   "execution_count": 15,
   "metadata": {},
   "outputs": [],
   "source": [
    "Theoretical = LinearSpectrum(Peptide, AminoAcidMass)\n",
    "Total = {}\n",
    "for mass in Theoretical:\n",
    "    if mass in Total.keys():\n",
    "        Total[mass] += 1\n",
    "    else:\n",
    "        Total[mass] = 1"
   ]
  },
  {
   "cell_type": "code",
   "execution_count": 16,
   "metadata": {},
   "outputs": [
    {
     "data": {
      "text/plain": [
       "282"
      ]
     },
     "execution_count": 16,
     "metadata": {},
     "output_type": "execute_result"
    }
   ],
   "source": [
    "LinearScore(Experimental,Theoretical)"
   ]
  },
  {
   "cell_type": "code",
   "execution_count": 17,
   "metadata": {},
   "outputs": [],
   "source": [
    "def LinearScore(Peptide,Experimental,AminoAcidMass):\n",
    "    Theoretical = LinearSpectrum(Peptide, AminoAcidMass)\n",
    "    Total = {}\n",
    "    for mass in Theoretical:\n",
    "        if mass in Total.keys():\n",
    "            Total[mass] += 1\n",
    "        else:\n",
    "            Total[mass] = 1\n",
    "    score = 0\n",
    "    for mass in Experimental:\n",
    "        if(mass in Total.keys() and Total[mass]>0):\n",
    "            score += 1\n",
    "            Total[mass] -= 1\n",
    "    return score"
   ]
  },
  {
   "cell_type": "code",
   "execution_count": 45,
   "metadata": {},
   "outputs": [],
   "source": [
    "def Trim(Leaderboard, Spectrum, N, AminoAcidMass):\n",
    "    n = len(Leaderboard)\n",
    "    LinearScores = {}\n",
    "    for Peptide in Leaderboard:\n",
    "        LinearScores[Peptide] =  LinearScore(Peptide, Spectrum, AminoAcidMass)\n",
    "    \n",
    "    count = 0\n",
    "    NewLeaderBoard = []\n",
    "    preScore = -1\n",
    "    for Peptide,Score in sorted(LinearScores.items(), key=lambda item: item[1],reverse=True):\n",
    "        if(preScore == Score or count<N):\n",
    "            NewLeaderBoard.append(Peptide)\n",
    "        else:\n",
    "            break\n",
    "        count += 1\n",
    "        preScore = Score\n",
    "    return NewLeaderBoard"
   ]
  },
  {
   "cell_type": "raw",
   "metadata": {},
   "source": [
    " Sample Input:\n",
    "\n",
    "LAST ALST TLLT TQAS\n",
    "0 71 87 101 113 158 184 188 259 271 372\n",
    "2\n",
    "\n",
    "Sample Output:\n",
    "\n",
    "LAST ALST\n",
    "\n"
   ]
  },
  {
   "cell_type": "code",
   "execution_count": 42,
   "metadata": {},
   "outputs": [],
   "source": [
    "Leaderboard = 'LAST ALST TLLT TQAS'\n",
    "Leaderboard = Leaderboard.split(' ')\n",
    "Spectrum = '0 71 87 101 113 158 184 188 259 271 372'\n",
    "Spectrum = np.array(Spectrum.split(' ')).astype(int)\n",
    "N = 2"
   ]
  },
  {
   "cell_type": "code",
   "execution_count": 43,
   "metadata": {},
   "outputs": [
    {
     "name": "stdout",
     "output_type": "stream",
     "text": [
      "11 LAST\n",
      "9 ALST\n"
     ]
    },
    {
     "data": {
      "text/plain": [
       "['LAST', 'ALST']"
      ]
     },
     "execution_count": 43,
     "metadata": {},
     "output_type": "execute_result"
    }
   ],
   "source": [
    "Trim(Leaderboard, Spectrum, N, AminoAcidMass)"
   ]
  },
  {
   "cell_type": "code",
   "execution_count": 51,
   "metadata": {},
   "outputs": [],
   "source": [
    "Leaderboard = ''\n",
    "Spectrum = []\n",
    "file = open('dataset_369301_3.txt', 'r') \n",
    "for i, line in enumerate(file):\n",
    "    line=line.rstrip('\\n')\n",
    "    if(i==0):\n",
    "        Leaderboard = line.split(' ')\n",
    "    elif(i==1):\n",
    "        Spectrum = np.array(line.split(' ')).astype(int)\n",
    "    else:\n",
    "        N = int(line)"
   ]
  },
  {
   "cell_type": "code",
   "execution_count": 52,
   "metadata": {},
   "outputs": [
    {
     "name": "stdout",
     "output_type": "stream",
     "text": [
      "SLKANRNGNDQIHFYAQNEFSEDKEHAFTWRSPTKRIIFND QMTINHSMHPIPFYFETNEGNKNVCNWFYWHYTQSLRTLQI AFVHIFYGGFAYPKSDREFHHVCVITEMDWGIFINKTNWSA FTCSCCEHYARRSFEQMDSEPAYCWNTCHIHEAIDTQCDRL FMEFTQYPMMCMLRKVEQMCTSANPIYLCFQISFYKIWMHE "
     ]
    }
   ],
   "source": [
    "for peptide in Trim(Leaderboard, Spectrum, N, AminoAcidMass):\n",
    "    print (peptide,end=' ')"
   ]
  },
  {
   "cell_type": "code",
   "execution_count": 55,
   "metadata": {},
   "outputs": [],
   "source": [
    "a = [3, 4]\n",
    "b = str(a)"
   ]
  },
  {
   "cell_type": "code",
   "execution_count": 61,
   "metadata": {},
   "outputs": [],
   "source": [
    "c = b.strip('][').split(', ') \n",
    "d = [int(x) for x in c]"
   ]
  },
  {
   "cell_type": "code",
   "execution_count": 62,
   "metadata": {},
   "outputs": [
    {
     "data": {
      "text/plain": [
       "[3, 4]"
      ]
     },
     "execution_count": 62,
     "metadata": {},
     "output_type": "execute_result"
    }
   ],
   "source": [
    "d"
   ]
  },
  {
   "cell_type": "code",
   "execution_count": 63,
   "metadata": {},
   "outputs": [
    {
     "data": {
      "text/plain": [
       "[3, 4]"
      ]
     },
     "execution_count": 63,
     "metadata": {},
     "output_type": "execute_result"
    }
   ],
   "source": [
    "a"
   ]
  },
  {
   "cell_type": "code",
   "execution_count": null,
   "metadata": {},
   "outputs": [],
   "source": []
  }
 ],
 "metadata": {
  "kernelspec": {
   "display_name": "Python 3",
   "language": "python",
   "name": "python3"
  },
  "language_info": {
   "codemirror_mode": {
    "name": "ipython",
    "version": 3
   },
   "file_extension": ".py",
   "mimetype": "text/x-python",
   "name": "python",
   "nbconvert_exporter": "python",
   "pygments_lexer": "ipython3",
   "version": "3.7.3"
  }
 },
 "nbformat": 4,
 "nbformat_minor": 4
}
