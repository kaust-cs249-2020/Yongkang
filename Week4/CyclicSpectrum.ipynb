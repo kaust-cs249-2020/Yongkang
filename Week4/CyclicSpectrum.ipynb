{
 "cells": [
  {
   "cell_type": "code",
   "execution_count": 7,
   "metadata": {},
   "outputs": [],
   "source": [
    "import numpy as np"
   ]
  },
  {
   "cell_type": "code",
   "execution_count": 1,
   "metadata": {},
   "outputs": [],
   "source": [
    "AminoAcidMass = {'G': 57, 'A': 71, 'S': 87, 'P': 97, 'V': 99, 'T': 101, 'C': 103, 'I': 113, \n",
    "                 'L': 113, 'N': 114, 'D': 115, 'K': 128, 'Q': 128, 'E': 129, 'M': 131, \n",
    "                 'H': 137, 'F': 147, 'R': 156, 'Y': 163, 'W': 186}"
   ]
  },
  {
   "cell_type": "code",
   "execution_count": 2,
   "metadata": {},
   "outputs": [],
   "source": [
    "def LinearSpectrum(Peptide, AminoAcidMass):\n",
    "    n = len(Peptide)\n",
    "    PrefixMass = np.zeros(n+1)\n",
    "    for i in range(0,n):\n",
    "        PrefixMass[i+1] = PrefixMass[i] + AminoAcidMass[Peptide[i]]\n",
    "    LinearSpectrum = [0]\n",
    "    for i in range(n):\n",
    "        for j in range(i+1,n+1):\n",
    "            #add PrefixMass(j) − PrefixMass(i) to LinearSpectrum\n",
    "            LinearSpectrum.append(PrefixMass[j]-PrefixMass[i])\n",
    "            \n",
    "    return np.sort(LinearSpectrum)"
   ]
  },
  {
   "cell_type": "code",
   "execution_count": 22,
   "metadata": {},
   "outputs": [],
   "source": [
    "def CyclicSpectrum(Peptide, AminoAcidMass):\n",
    "    n = len(Peptide)\n",
    "    PrefixMass = np.zeros(n+1)\n",
    "    for i in range(0,n):\n",
    "        PrefixMass[i+1] = PrefixMass[i] + AminoAcidMass[Peptide[i]]\n",
    "        \n",
    "    peptideMass = PrefixMass[-1]\n",
    "    CyclicSpectrum  = [0]\n",
    "    for i in range(n):\n",
    "        for j in range(i+1,n+1):\n",
    "            CyclicSpectrum.append(PrefixMass[j]-PrefixMass[i])\n",
    "            if i > 0 and j < n:\n",
    "                print()\n",
    "                CyclicSpectrum.append(peptideMass- PrefixMass[j]+ PrefixMass[i])\n",
    "    return np.sort(CyclicSpectrum)\n",
    "\n"
   ]
  },
  {
   "cell_type": "code",
   "execution_count": 23,
   "metadata": {},
   "outputs": [
    {
     "name": "stdout",
     "output_type": "stream",
     "text": [
      "\n",
      "\n",
      "\n"
     ]
    }
   ],
   "source": [
    "Peptide = 'LEQN'\n",
    "a= CyclicSpectrum(Peptide, AminoAcidMass)"
   ]
  },
  {
   "cell_type": "code",
   "execution_count": 24,
   "metadata": {},
   "outputs": [
    {
     "name": "stdout",
     "output_type": "stream",
     "text": [
      "0 113 114 128 129 227 242 242 257 355 356 370 371 484 "
     ]
    }
   ],
   "source": [
    "for i in a:\n",
    "    print(\"%.f\"%i,end=' ')"
   ]
  },
  {
   "cell_type": "code",
   "execution_count": 25,
   "metadata": {},
   "outputs": [
    {
     "name": "stdout",
     "output_type": "stream",
     "text": [
      "\n",
      "\n",
      "\n",
      "\n",
      "\n",
      "\n",
      "\n",
      "\n",
      "\n",
      "\n",
      "\n",
      "\n",
      "\n",
      "\n",
      "\n",
      "\n",
      "\n",
      "\n",
      "\n",
      "\n",
      "\n",
      "\n",
      "\n",
      "\n",
      "\n",
      "\n",
      "\n",
      "\n",
      "\n",
      "\n",
      "\n",
      "\n",
      "\n",
      "\n",
      "\n",
      "\n",
      "\n",
      "\n",
      "\n",
      "\n",
      "\n",
      "\n",
      "\n",
      "\n",
      "\n",
      "\n",
      "\n",
      "\n",
      "\n",
      "\n",
      "\n",
      "\n",
      "\n",
      "\n",
      "\n",
      "0 57 115 115 128 128 128 131 137 163 163 185 186 186 194 243 243 259 278 278 300 300 314 314 317 322 349 357 393 406 406 429 437 445 445 445 463 477 485 486 521 521 543 560 573 578 592 600 600 608 614 631 649 671 671 688 706 707 715 723 745 759 763 786 794 799 802 835 838 843 851 874 878 892 914 922 930 931 949 966 966 988 1006 1023 1029 1037 1037 1045 1059 1064 1077 1094 1116 1116 1151 1152 1160 1174 1192 1192 1192 1200 1208 1231 1231 1244 1280 1288 1315 1320 1323 1323 1337 1337 1359 1359 1378 1394 1394 1443 1451 1451 1452 1474 1474 1500 1506 1509 1509 1509 1522 1522 1580 1637 "
     ]
    }
   ],
   "source": [
    "peptide = 'HYWQMWQDYDQG'\n",
    "a= CyclicSpectrum(peptide, AminoAcidMass)\n",
    "for i in a:\n",
    "    print(\"%.f\"%i,end=' ')"
   ]
  },
  {
   "cell_type": "code",
   "execution_count": null,
   "metadata": {},
   "outputs": [],
   "source": []
  }
 ],
 "metadata": {
  "kernelspec": {
   "display_name": "Python 3",
   "language": "python",
   "name": "python3"
  },
  "language_info": {
   "codemirror_mode": {
    "name": "ipython",
    "version": 3
   },
   "file_extension": ".py",
   "mimetype": "text/x-python",
   "name": "python",
   "nbconvert_exporter": "python",
   "pygments_lexer": "ipython3",
   "version": "3.7.3"
  }
 },
 "nbformat": 4,
 "nbformat_minor": 4
}
