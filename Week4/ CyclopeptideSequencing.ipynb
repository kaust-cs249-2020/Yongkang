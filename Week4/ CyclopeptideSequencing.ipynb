{
 "cells": [
  {
   "cell_type": "code",
   "execution_count": 1,
   "metadata": {},
   "outputs": [],
   "source": [
    "import numpy as np"
   ]
  },
  {
   "cell_type": "code",
   "execution_count": 41,
   "metadata": {},
   "outputs": [],
   "source": [
    "def Quota(Peptide,mass):\n",
    "    used = 0\n",
    "    PeptideList = Peptide.split('-')\n",
    "    for amino_acid in PeptideList:\n",
    "        if(mass == int(amino_acid)):\n",
    "            used += 1\n",
    "    return Total[mass]-used"
   ]
  },
  {
   "cell_type": "code",
   "execution_count": 40,
   "metadata": {},
   "outputs": [],
   "source": [
    "def Expand(CandidatePeptides):\n",
    "    NewCandidatePeptides = set()\n",
    "    for Peptide in CandidatePeptides:\n",
    "        for mass in ParentMass:\n",
    "            if(Mass(Peptide)+mass in ParentMass and Quota(Peptide,mass)>0):\n",
    "            #if(Mass(Peptide)+mass in ParentMass):\n",
    "                NewPeptide = Peptide + '-'+str(mass)\n",
    "                NewCandidatePeptides.add(NewPeptide)\n",
    "    return NewCandidatePeptides"
   ]
  },
  {
   "cell_type": "code",
   "execution_count": 4,
   "metadata": {},
   "outputs": [],
   "source": [
    "def Mass(Peptide):\n",
    "    mass = 0\n",
    "    PeptideList = Peptide.split('-')\n",
    "    for amino_acid in PeptideList:\n",
    "        mass += int(amino_acid)\n",
    "    return mass"
   ]
  },
  {
   "cell_type": "code",
   "execution_count": 5,
   "metadata": {},
   "outputs": [],
   "source": [
    "def CyclicSpectrum(Peptide):\n",
    "    PeptideList = Peptide.split('-')\n",
    "    n = len(PeptideList)\n",
    "    PrefixMass = np.zeros(n+1)\n",
    "    for i in range(0,n):\n",
    "        PrefixMass[i+1] = PrefixMass[i] + int(PeptideList[i])\n",
    "        \n",
    "    peptideMass = PrefixMass[-1]\n",
    "    CyclicSpectrum  = [0]\n",
    "    for i in range(n):\n",
    "        for j in range(i+1,n+1):\n",
    "            CyclicSpectrum.append(PrefixMass[j]-PrefixMass[i])\n",
    "            if i > 0 and j < n:\n",
    "                CyclicSpectrum.append(peptideMass- PrefixMass[j]+ PrefixMass[i])\n",
    "    return np.sort(CyclicSpectrum).astype(int)\n"
   ]
  },
  {
   "cell_type": "code",
   "execution_count": 6,
   "metadata": {},
   "outputs": [],
   "source": [
    "def CyclopeptideSequencing_bk(Spectrum):\n",
    "        #CandidatePeptides  = set(Spectrum)\n",
    "        CandidatePeptides  = set(map(str,ParentMass))\n",
    "        FinalPeptides  = set()\n",
    "        while CandidatePeptides:\n",
    "            CandidatePeptides = Expand(CandidatePeptides)\n",
    "            for Peptide in CandidatePeptides:\n",
    "                if Mass[Peptide] in Spectrum:\n",
    "                    if np.array_equal(CyclicSpectrum(Peptide), Spectrum):\n",
    "                        FinalPeptides.add(Peptide)\n",
    "                    CandidatePeptides.remove(Peptide)\n",
    "                else:\n",
    "                    CandidatePeptides.remove(Peptide)\n",
    "        return FinalPeptides"
   ]
  },
  {
   "cell_type": "code",
   "execution_count": 39,
   "metadata": {},
   "outputs": [],
   "source": [
    "def CyclopeptideSequencing(Spectrum):\n",
    "        #CandidatePeptides  = set(Spectrum)\n",
    "        CandidatePeptides  = set(map(str,ParentMass))\n",
    "        FinalPeptides  = set()\n",
    "        while CandidatePeptides:\n",
    "            CandidatePeptides = Expand(CandidatePeptides)\n",
    "            for Peptide in CandidatePeptides:\n",
    "                if np.array_equal(CyclicSpectrum(Peptide), Spectrum):\n",
    "                    FinalPeptides.add(Peptide)\n",
    "                    CandidatePeptides.remove(Peptide)\n",
    "        return FinalPeptides"
   ]
  },
  {
   "cell_type": "code",
   "execution_count": 8,
   "metadata": {},
   "outputs": [],
   "source": [
    "Spectrum  = np.array([0, 113, 128, 186, 241, 299, 314, 427])\n",
    "ParentMass = Spectrum[1:]"
   ]
  },
  {
   "cell_type": "code",
   "execution_count": 9,
   "metadata": {},
   "outputs": [],
   "source": [
    "FinalPeptides = CyclopeptideSequencing(Spectrum)"
   ]
  },
  {
   "cell_type": "code",
   "execution_count": 10,
   "metadata": {},
   "outputs": [
    {
     "name": "stdout",
     "output_type": "stream",
     "text": [
      "128-113-186\n",
      "113-186-128\n",
      "128-186-113\n",
      "186-113-128\n",
      "186-128-113\n",
      "113-128-186\n"
     ]
    }
   ],
   "source": [
    "for fp in FinalPeptides:\n",
    "    print(fp)"
   ]
  },
  {
   "cell_type": "raw",
   "metadata": {},
   "source": [
    "186-128-113 186-113-128 128-186-113 128-113-186 113-186-128 113-128-186"
   ]
  },
  {
   "cell_type": "code",
   "execution_count": 46,
   "metadata": {},
   "outputs": [],
   "source": [
    "file = open('dataset_369294_6.txt', 'r') \n",
    "for i, line in enumerate(file):\n",
    "    line=line.rstrip('\\n')\n",
    "    Spectrum = line.split(' ')\n",
    "    Spectrum = np.array(Spectrum).astype(int)\n",
    "    "
   ]
  },
  {
   "cell_type": "code",
   "execution_count": 47,
   "metadata": {},
   "outputs": [],
   "source": [
    "ParentMass = set(Spectrum[1:])"
   ]
  },
  {
   "cell_type": "code",
   "execution_count": 48,
   "metadata": {},
   "outputs": [],
   "source": [
    "Total = {}\n",
    "for mass in Spectrum:\n",
    "    if mass in Total.keys():\n",
    "        Total[mass] += 1\n",
    "    else:\n",
    "        Total[mass] = 1"
   ]
  },
  {
   "cell_type": "code",
   "execution_count": 49,
   "metadata": {},
   "outputs": [
    {
     "name": "stdout",
     "output_type": "stream",
     "text": [
      "113-156-97-113-131-131-128-147-147\n",
      "131-131-113-97-156-113-147-147-128\n",
      "113-147-147-128-131-131-113-97-156\n",
      "97-156-113-147-147-128-131-131-113\n",
      "131-128-147-147-113-156-97-113-131\n",
      "147-147-128-131-131-113-97-156-113\n",
      "147-147-113-156-97-113-131-131-128\n",
      "131-113-97-156-113-147-147-128-131\n",
      "97-113-131-131-128-147-147-113-156\n",
      "156-97-113-131-131-128-147-147-113\n",
      "113-131-131-128-147-147-113-156-97\n",
      "156-113-147-147-128-131-131-113-97\n",
      "128-147-147-113-156-97-113-131-131\n",
      "147-128-131-131-113-97-156-113-147\n",
      "147-113-156-97-113-131-131-128-147\n",
      "131-131-128-147-147-113-156-97-113\n",
      "113-97-156-113-147-147-128-131-131\n",
      "128-131-131-113-97-156-113-147-147\n"
     ]
    },
    {
     "data": {
      "text/plain": [
       "8"
      ]
     },
     "execution_count": 49,
     "metadata": {},
     "output_type": "execute_result"
    }
   ],
   "source": [
    "import datetime\n",
    "a = datetime.datetime.now()\n",
    "FinalPeptides = CyclopeptideSequencing(Spectrum)\n",
    "for fp in FinalPeptides:\n",
    "    print(fp)\n",
    "b = datetime.datetime.now()\n",
    "c = b - a\n",
    "c.seconds"
   ]
  },
  {
   "cell_type": "code",
   "execution_count": null,
   "metadata": {},
   "outputs": [],
   "source": []
  }
 ],
 "metadata": {
  "kernelspec": {
   "display_name": "Python 3",
   "language": "python",
   "name": "python3"
  },
  "language_info": {
   "codemirror_mode": {
    "name": "ipython",
    "version": 3
   },
   "file_extension": ".py",
   "mimetype": "text/x-python",
   "name": "python",
   "nbconvert_exporter": "python",
   "pygments_lexer": "ipython3",
   "version": "3.7.3"
  }
 },
 "nbformat": 4,
 "nbformat_minor": 4
}
