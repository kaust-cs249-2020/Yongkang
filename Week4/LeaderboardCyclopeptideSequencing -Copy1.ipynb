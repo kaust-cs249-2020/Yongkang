{
 "cells": [
  {
   "cell_type": "code",
   "execution_count": 1,
   "metadata": {},
   "outputs": [],
   "source": [
    "import numpy as np\n",
    "from collections import Counter"
   ]
  },
  {
   "cell_type": "code",
   "execution_count": 2,
   "metadata": {},
   "outputs": [],
   "source": [
    "AminoAcidMass = {'G': 57, 'A': 71, 'S': 87, 'P': 97, 'V': 99, 'T': 101, 'C': 103, 'I': 113, \n",
    "                 'L': 113, 'N': 114, 'D': 115, 'K': 128, 'Q': 128, 'E': 129, 'M': 131, \n",
    "                 'H': 137, 'F': 147, 'R': 156, 'Y': 163, 'W': 186}"
   ]
  },
  {
   "cell_type": "code",
   "execution_count": 3,
   "metadata": {},
   "outputs": [],
   "source": [
    "def compare(s, t):\n",
    "    return Counter(s) == Counter(t)"
   ]
  },
  {
   "cell_type": "code",
   "execution_count": 4,
   "metadata": {},
   "outputs": [],
   "source": [
    "def CheckRepeatPeptide(a,b):\n",
    "    for e in b:\n",
    "        if compare(a, e):\n",
    "            return True"
   ]
  },
  {
   "cell_type": "code",
   "execution_count": 5,
   "metadata": {},
   "outputs": [],
   "source": [
    "def LinearSpectrum(Peptide):\n",
    "    Peptides = Peptide.split('-')\n",
    "    #Peptides = Peptide\n",
    "    n = len(Peptides)\n",
    "    PrefixMass = np.zeros(n+1)\n",
    "    for i in range(0,n):\n",
    "        PrefixMass[i+1] = PrefixMass[i] + int(Peptides[i])\n",
    "    LinearSpectrum = [0]\n",
    "    for i in range(n):\n",
    "        for j in range(i+1,n+1):\n",
    "            #add PrefixMass(j) − PrefixMass(i) to LinearSpectrum\n",
    "            LinearSpectrum.append(PrefixMass[j]-PrefixMass[i])\n",
    "            \n",
    "    return np.sort(LinearSpectrum)"
   ]
  },
  {
   "cell_type": "code",
   "execution_count": 51,
   "metadata": {},
   "outputs": [],
   "source": [
    "def Mass(Peptide):\n",
    "    mass = 0\n",
    "    PeptideList = Peptide.split('-')\n",
    "    #PeptideList = Peptide\n",
    "    for amino_acid in PeptideList:\n",
    "        mass += int(amino_acid)\n",
    "    return mass"
   ]
  },
  {
   "cell_type": "code",
   "execution_count": 7,
   "metadata": {},
   "outputs": [],
   "source": [
    "def ParentMass(Spectrum):\n",
    "    mass = 0\n",
    "    minMass = 10000\n",
    "    for amino_acid in Spectrum:\n",
    "        mass += amino_acid\n",
    "        if(minMass > mass):\n",
    "            minMass = mass\n",
    "    return mass,minMass"
   ]
  },
  {
   "cell_type": "code",
   "execution_count": 8,
   "metadata": {},
   "outputs": [],
   "source": [
    "def Expand(CandidatePeptides):\n",
    "    if (not CandidatePeptides):\n",
    "        #return [[k] for k in set(AminoAcidMass.values())]\n",
    "        return set(str(k) for k in set(AminoAcidMass.values()))\n",
    "    NewCandidatePeptides = []\n",
    "    for Peptide in CandidatePeptides:\n",
    "        for mass in set(AminoAcidMass.values()):\n",
    "            #NewPeptide = Peptide + [mass]\n",
    "            NewPeptide = Peptide + '-'+str(mass)\n",
    "            #if not CheckRepeatPeptide(NewPeptide,NewCandidatePeptides):\n",
    "            NewCandidatePeptides.append(NewPeptide)\n",
    "    return NewCandidatePeptides"
   ]
  },
  {
   "cell_type": "code",
   "execution_count": 9,
   "metadata": {},
   "outputs": [],
   "source": [
    "def Score(Peptide,Experimental):\n",
    "    if(not Peptide):\n",
    "        return 0\n",
    "    Theoretical = LinearSpectrum(Peptide)\n",
    "    Total = {}\n",
    "    for mass in Theoretical:\n",
    "        if mass in Total.keys():\n",
    "            Total[mass] += 1\n",
    "        else:\n",
    "            Total[mass] = 1\n",
    "    score = 0\n",
    "    for mass in Experimental:\n",
    "        if(mass in Total.keys() and Total[mass]>0):\n",
    "            score += 1\n",
    "            Total[mass] -= 1\n",
    "    return score"
   ]
  },
  {
   "cell_type": "code",
   "execution_count": 10,
   "metadata": {},
   "outputs": [],
   "source": [
    "def Trim(Leaderboard, Spectrum, N):\n",
    "    n = len(Leaderboard)\n",
    "    LinearScores = {}\n",
    "    for Peptide in Leaderboard:\n",
    "        LinearScores[Peptide] =  Score(Peptide, Spectrum)\n",
    "    \n",
    "    count = 0\n",
    "    NewLeaderBoard = []\n",
    "    preScore = -1\n",
    "    for Peptide,score in sorted(LinearScores.items(), key=lambda item: item[1],reverse=True):\n",
    "        #Peptide = Peptide.strip('][').split(', ') \n",
    "        #Peptide = [int(x) for x in Peptide]\n",
    "        #k = len(Peptide)\n",
    "        if(preScore == score or count<N):\n",
    "            NewLeaderBoard.append(Peptide)\n",
    "        else:\n",
    "            break\n",
    "        count += 1\n",
    "        preScore = score\n",
    "    return NewLeaderBoard"
   ]
  },
  {
   "cell_type": "code",
   "execution_count": 54,
   "metadata": {},
   "outputs": [],
   "source": [
    "def LeaderboardCyclopeptideSequencing(Spectrum, N):\n",
    "        LeaderPeptide = ''\n",
    "        Leaderboard  = []\n",
    "        while True:\n",
    "            Leaderboard = Expand(Leaderboard)\n",
    "            Leaderboard = Trim(Leaderboard, Spectrum, N)\n",
    "            DiscardBoard = []\n",
    "            for Peptide in Leaderboard:\n",
    "                #if Mass(LinearSpectrum(Peptide)) == parentMass:\n",
    "                if Mass(Peptide) ==  Spectrum[-1]:\n",
    "                    if Score(Peptide, Spectrum) > Score(LeaderPeptide, Spectrum):\n",
    "                        LeaderPeptide = Peptide\n",
    "                elif Mass(Peptide) > Spectrum[-1]:\n",
    "                    DiscardBoard.append(Peptide)\n",
    "            if len(DiscardBoard) == len(Leaderboard):\n",
    "                break\n",
    "            Leaderboard = [x for x in Leaderboard if x not in DiscardBoard] \n",
    "            Leaderboard = Trim(Leaderboard, Spectrum, N)\n",
    "        return LeaderPeptide"
   ]
  },
  {
   "cell_type": "code",
   "execution_count": 55,
   "metadata": {},
   "outputs": [],
   "source": [
    "Spectrum = '0 71 113 129 147 200 218 260 313 331 347 389 460'\n",
    "Spectrum = np.array(Spectrum.split(' ')).astype(int)\n",
    "N = 10"
   ]
  },
  {
   "cell_type": "code",
   "execution_count": 56,
   "metadata": {},
   "outputs": [
    {
     "data": {
      "text/plain": [
       "'129-71-147-113'"
      ]
     },
     "execution_count": 56,
     "metadata": {},
     "output_type": "execute_result"
    }
   ],
   "source": [
    "LeaderboardCyclopeptideSequencing(Spectrum, N)"
   ]
  },
  {
   "cell_type": "code",
   "execution_count": 67,
   "metadata": {},
   "outputs": [],
   "source": [
    "N = 0\n",
    "Spectrum = []\n",
    "file = open('dataset_369295_8.txt', 'r') \n",
    "for i, line in enumerate(file):\n",
    "    line=line.rstrip('\\n')\n",
    "    if(i==0):\n",
    "         N = int(line)\n",
    "    elif(i==1):\n",
    "        Spectrum = np.array(line.split(' ')).astype(int)\n",
    "       "
   ]
  },
  {
   "cell_type": "code",
   "execution_count": 68,
   "metadata": {},
   "outputs": [
    {
     "data": {
      "text/plain": [
       "23"
      ]
     },
     "execution_count": 68,
     "metadata": {},
     "output_type": "execute_result"
    }
   ],
   "source": [
    "import datetime\n",
    "a = datetime.datetime.now()\n",
    "Lead = LeaderboardCyclopeptideSequencing(Spectrum, N)\n",
    "b = datetime.datetime.now()\n",
    "c = b - a\n",
    "c.seconds"
   ]
  },
  {
   "cell_type": "code",
   "execution_count": 69,
   "metadata": {},
   "outputs": [
    {
     "data": {
      "text/plain": [
       "'113-103-113-137-128-101-103-113-115-101-115-97-128-137-163-113-99-186-128-147-147-137-87-99'"
      ]
     },
     "execution_count": 69,
     "metadata": {},
     "output_type": "execute_result"
    }
   ],
   "source": [
    "Lead"
   ]
  },
  {
   "cell_type": "raw",
   "metadata": {},
   "source": [
    "Input:\n",
    "325\n",
    "0 71 71 71 87 97 97 99 101 103 113 113 114 115 128 128 129 137 147 163 163 170 184 184 186 186 190 211 215 226 226 229 231 238 241 244 246 257 257 276 277 278 299 300 312 316 317 318 318 323 328 340 343 344 347 349 356 366 370 373 374 391 401 414 414 415 419 427 427 431 437 441 446 453 462 462 462 470 472 502 503 503 511 515 529 530 533 533 540 543 547 556 559 569 574 575 584 590 600 600 604 612 616 617 630 640 640 643 646 648 660 671 683 684 687 693 703 703 719 719 719 729 730 731 737 740 741 745 747 754 774 780 784 790 797 800 806 818 826 827 832 833 838 846 846 847 850 868 869 877 884 889 893 897 903 908 913 917 930 940 947 956 960 960 961 964 965 966 983 983 985 1002 1009 1010 1011 1021 1031 1031 1036 1053 1054 1058 1059 1062 1063 1074 1076 1084 1092 1103 1113 1122 1124 1130 1133 1134 1145 1146 1146 1149 1150 1155 1156 1171 1173 1174 1187 1191 1193 1200 1212 1221 1233 1240 1242 1246 1259 1260 1262 1277 1278 1283 1284 1287 1287 1288 1299 1300 1303 1309 1311 1320 1330 1341 1349 1357 1359 1370 1371 1374 1375 1379 1380 1397 1402 1402 1412 1422 1423 1424 1431 1448 1450 1450 1467 1468 1469 1472 1473 1473 1477 1486 1493 1503 1516 1520 1525 1530 1536 1540 1544 1549 1556 1564 1565 1583 1586 1587 1587 1595 1600 1601 1606 1607 1615 1627 1633 1636 1643 1649 1653 1659 1679 1686 1688 1692 1693 1696 1702 1703 1704 1714 1714 1714 1730 1730 1740 1746 1749 1750 1762 1773 1785 1787 1790 1793 1793 1803 1816 1817 1821 1829 1833 1833 1843 1849 1858 1859 1864 1877 1886 1890 1893 1900 1900 1903 1904 1918 1922 1930 1930 1931 1961 1963 1971 1971 1971 1980 1987 1992 1996 2002 2006 2006 2014 2018 2019 2019 2032 2042 2059 2060 2063 2067 2077 2084 2086 2089 2090 2093 2105 2110 2115 2115 2116 2117 2121 2133 2134 2155 2156 2157 2176 2176 2187 2189 2192 2195 2202 2204 2207 2207 2218 2222 2243 2247 2247 2249 2249 2263 2270 2270 2286 2296 2304 2305 2305 2318 2319 2320 2320 2330 2332 2334 2336 2336 2346 2362 2362 2362 2433\n",
    "Output:\n",
    "97-129-97-147-99-71-186-71-113-163-115-71-113-128-103-87-128-101-137-163-114\n"
   ]
  },
  {
   "cell_type": "code",
   "execution_count": 60,
   "metadata": {},
   "outputs": [],
   "source": [
    "N = 325\n",
    "line = '0 71 71 71 87 97 97 99 101 103 113 113 114 115 128 128 129 137 147 163 163 170 184 184 186 186 190 211 215 226 226 229 231 238 241 244 246 257 257 276 277 278 299 300 312 316 317 318 318 323 328 340 343 344 347 349 356 366 370 373 374 391 401 414 414 415 419 427 427 431 437 441 446 453 462 462 462 470 472 502 503 503 511 515 529 530 533 533 540 543 547 556 559 569 574 575 584 590 600 600 604 612 616 617 630 640 640 643 646 648 660 671 683 684 687 693 703 703 719 719 719 729 730 731 737 740 741 745 747 754 774 780 784 790 797 800 806 818 826 827 832 833 838 846 846 847 850 868 869 877 884 889 893 897 903 908 913 917 930 940 947 956 960 960 961 964 965 966 983 983 985 1002 1009 1010 1011 1021 1031 1031 1036 1053 1054 1058 1059 1062 1063 1074 1076 1084 1092 1103 1113 1122 1124 1130 1133 1134 1145 1146 1146 1149 1150 1155 1156 1171 1173 1174 1187 1191 1193 1200 1212 1221 1233 1240 1242 1246 1259 1260 1262 1277 1278 1283 1284 1287 1287 1288 1299 1300 1303 1309 1311 1320 1330 1341 1349 1357 1359 1370 1371 1374 1375 1379 1380 1397 1402 1402 1412 1422 1423 1424 1431 1448 1450 1450 1467 1468 1469 1472 1473 1473 1477 1486 1493 1503 1516 1520 1525 1530 1536 1540 1544 1549 1556 1564 1565 1583 1586 1587 1587 1595 1600 1601 1606 1607 1615 1627 1633 1636 1643 1649 1653 1659 1679 1686 1688 1692 1693 1696 1702 1703 1704 1714 1714 1714 1730 1730 1740 1746 1749 1750 1762 1773 1785 1787 1790 1793 1793 1803 1816 1817 1821 1829 1833 1833 1843 1849 1858 1859 1864 1877 1886 1890 1893 1900 1900 1903 1904 1918 1922 1930 1930 1931 1961 1963 1971 1971 1971 1980 1987 1992 1996 2002 2006 2006 2014 2018 2019 2019 2032 2042 2059 2060 2063 2067 2077 2084 2086 2089 2090 2093 2105 2110 2115 2115 2116 2117 2121 2133 2134 2155 2156 2157 2176 2176 2187 2189 2192 2195 2202 2204 2207 2207 2218 2222 2243 2247 2247 2249 2249 2263 2270 2270 2286 2296 2304 2305 2305 2318 2319 2320 2320 2330 2332 2334 2336 2336 2346 2362 2362 2362 2433'"
   ]
  },
  {
   "cell_type": "code",
   "execution_count": 61,
   "metadata": {},
   "outputs": [],
   "source": [
    "Spectrum = np.array(line.split(' ')).astype(int)"
   ]
  },
  {
   "cell_type": "code",
   "execution_count": 62,
   "metadata": {},
   "outputs": [
    {
     "data": {
      "text/plain": [
       "'99-147-97-129-97-114-163-137-101-128-87-103-71-57-113-71-115-163-113-71-186-71'"
      ]
     },
     "execution_count": 62,
     "metadata": {},
     "output_type": "execute_result"
    }
   ],
   "source": [
    "LeaderboardCyclopeptideSequencing(Spectrum, N)"
   ]
  },
  {
   "cell_type": "code",
   "execution_count": 63,
   "metadata": {},
   "outputs": [],
   "source": [
    "Peptide1 = '97-129-97-147-99-71-186-71-113-163-115-71-113-128-103-87-128-101-137-163-114'\n",
    "Peptide = '99-147-97-129-97-114-163-137-101-128-87-103-71-57-113-71-115-163-113-71-186-71'"
   ]
  },
  {
   "cell_type": "code",
   "execution_count": 64,
   "metadata": {},
   "outputs": [
    {
     "data": {
      "text/plain": [
       "239"
      ]
     },
     "execution_count": 64,
     "metadata": {},
     "output_type": "execute_result"
    }
   ],
   "source": [
    "Score(Peptide, Spectrum)"
   ]
  },
  {
   "cell_type": "code",
   "execution_count": 65,
   "metadata": {},
   "outputs": [
    {
     "data": {
      "text/plain": [
       "2433"
      ]
     },
     "execution_count": 65,
     "metadata": {},
     "output_type": "execute_result"
    }
   ],
   "source": [
    "Mass(Peptide1)"
   ]
  },
  {
   "cell_type": "code",
   "execution_count": 66,
   "metadata": {},
   "outputs": [
    {
     "data": {
      "text/plain": [
       "2433"
      ]
     },
     "execution_count": 66,
     "metadata": {},
     "output_type": "execute_result"
    }
   ],
   "source": [
    "Mass(Peptide)"
   ]
  },
  {
   "cell_type": "code",
   "execution_count": null,
   "metadata": {},
   "outputs": [],
   "source": []
  }
 ],
 "metadata": {
  "kernelspec": {
   "display_name": "Python 3",
   "language": "python",
   "name": "python3"
  },
  "language_info": {
   "codemirror_mode": {
    "name": "ipython",
    "version": 3
   },
   "file_extension": ".py",
   "mimetype": "text/x-python",
   "name": "python",
   "nbconvert_exporter": "python",
   "pygments_lexer": "ipython3",
   "version": "3.7.3"
  }
 },
 "nbformat": 4,
 "nbformat_minor": 4
}
